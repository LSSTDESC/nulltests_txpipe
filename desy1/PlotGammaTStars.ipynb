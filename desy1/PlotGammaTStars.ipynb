{
 "cells": [
  {
   "cell_type": "code",
   "execution_count": 1,
   "id": "7e1c84fb-b1a4-425a-b7af-6ed22eda0ef8",
   "metadata": {
    "tags": []
   },
   "outputs": [],
   "source": [
    "import numpy as np\n",
    "import sacc"
   ]
  },
  {
   "cell_type": "code",
   "execution_count": 14,
   "id": "b5a8ec25-90d7-437f-9bad-c47028138255",
   "metadata": {
    "tags": []
   },
   "outputs": [
    {
     "name": "stderr",
     "output_type": "stream",
     "text": [
      "/opt/conda/lib/python3.9/site-packages/sacc/data_types.py:301: UserWarning: Unknown data_type value galaxyStar_shearDensity_xi_t. If possible use a pre-defined type, or add to the list.\n",
      "  warnings.warn(f\"Unknown data_type value {data_type}. \"\n"
     ]
    }
   ],
   "source": [
    "sb = sacc.Sacc.load_fits('../../TXPipe/data/desy1/outputs/gammat_bright_stars.sacc')\n",
    "sd = sacc.Sacc.load_fits('../../TXPipe/data/desy1/outputs/gammat_dim_stars.sacc')"
   ]
  },
  {
   "cell_type": "code",
   "execution_count": 15,
   "id": "4a7c18f2-2c8b-4fa0-81ba-3611f8134d5f",
   "metadata": {
    "tags": []
   },
   "outputs": [
    {
     "data": {
      "text/plain": [
       "['galaxyStar_shearDensity_xi_t']"
      ]
     },
     "execution_count": 15,
     "metadata": {},
     "output_type": "execute_result"
    }
   ],
   "source": [
    "sb.get_data_types()"
   ]
  },
  {
   "cell_type": "code",
   "execution_count": 16,
   "id": "49cdf4b4-d17b-486a-9267-09e46a62ee39",
   "metadata": {
    "tags": []
   },
   "outputs": [],
   "source": [
    "sb_thetaxi = sb.get_theta_xi('galaxyStar_shearDensity_xi_t','source2d','bright_stars')"
   ]
  },
  {
   "cell_type": "code",
   "execution_count": 17,
   "id": "10085fe4-20f1-44d6-a0ff-3dcf717152e3",
   "metadata": {
    "tags": []
   },
   "outputs": [
    {
     "data": {
      "text/plain": [
       "[('source2d', 'dim_stars')]"
      ]
     },
     "execution_count": 17,
     "metadata": {},
     "output_type": "execute_result"
    }
   ],
   "source": [
    "sd.get_tracer_combinations('galaxyStar_shearDensity_xi_t')"
   ]
  },
  {
   "cell_type": "code",
   "execution_count": 18,
   "id": "31c61d51-b103-4bcf-9b71-e23d0169dc22",
   "metadata": {
    "tags": []
   },
   "outputs": [
    {
     "data": {
      "text/plain": [
       "[2.756900469557764,\n",
       " 3.315207617873442,\n",
       " 3.9867494346308106,\n",
       " 4.794331797548319,\n",
       " 5.765478500644429,\n",
       " 6.933220108838065,\n",
       " 8.337587704949684,\n",
       " 10.026890017266698,\n",
       " 12.056951407062352,\n",
       " 14.499178526865364,\n",
       " 17.43621953744422,\n",
       " 20.96738369733398,\n",
       " 25.214362632091007,\n",
       " 30.320164831811486,\n",
       " 36.46236576696446,\n",
       " 43.846274149653354,\n",
       " 52.72849914483798,\n",
       " 63.40193848814183,\n",
       " 76.24876258621981,\n",
       " 91.68860693159083]"
      ]
     },
     "execution_count": 18,
     "metadata": {},
     "output_type": "execute_result"
    }
   ],
   "source": [
    "sb.get_tag('theta')"
   ]
  },
  {
   "cell_type": "code",
   "execution_count": 19,
   "id": "0b33c149-1e5c-4899-95da-d7c14426c353",
   "metadata": {
    "tags": []
   },
   "outputs": [],
   "source": [
    "sd_thetaxi = sd.get_theta_xi('galaxyStar_shearDensity_xi_t','source2d','dim_stars')"
   ]
  },
  {
   "cell_type": "code",
   "execution_count": 20,
   "id": "cdfeb07e-a95f-4de7-bbb7-df282fe4754a",
   "metadata": {
    "tags": []
   },
   "outputs": [
    {
     "data": {
      "text/plain": [
       "(array([ 2.75690047,  3.31520762,  3.98674943,  4.7943318 ,  5.7654785 ,\n",
       "         6.93322011,  8.3375877 , 10.02689002, 12.05695141, 14.49917853,\n",
       "        17.43621954, 20.9673837 , 25.21436263, 30.32016483, 36.46236577,\n",
       "        43.84627415, 52.72849914, 63.40193849, 76.24876259, 91.68860693]),\n",
       " array([-7.27945690e-06,  4.44832783e-07,  2.65188350e-05,  2.53480703e-06,\n",
       "        -2.12689580e-06,  1.44476018e-05, -6.53945218e-06,  3.19750208e-06,\n",
       "        -3.44206078e-06,  1.91051262e-06,  5.17435758e-06,  5.91827328e-06,\n",
       "         1.14694819e-06, -5.29618072e-07, -1.78844057e-06, -1.38275393e-05,\n",
       "        -1.20994457e-05, -1.49739483e-06, -5.71082067e-06,  4.82209681e-06]))"
      ]
     },
     "execution_count": 20,
     "metadata": {},
     "output_type": "execute_result"
    }
   ],
   "source": [
    "sb_thetaxi"
   ]
  },
  {
   "cell_type": "code",
   "execution_count": 21,
   "id": "b22f6dad-8993-4b48-a762-43ab0b9afefc",
   "metadata": {
    "tags": []
   },
   "outputs": [],
   "source": [
    "sb_err = sb.get_tag('error')"
   ]
  },
  {
   "cell_type": "code",
   "execution_count": 22,
   "id": "d0eebebd-2f2a-4090-b16f-0ebceb3965bc",
   "metadata": {
    "tags": []
   },
   "outputs": [],
   "source": [
    "sb_err=np.array(sb_err)"
   ]
  },
  {
   "cell_type": "code",
   "execution_count": 23,
   "id": "178968fe-a10a-4892-a261-5cda8b5b71fa",
   "metadata": {
    "tags": []
   },
   "outputs": [
    {
     "data": {
      "text/plain": [
       "array([1.83142769e-05, 1.52720705e-05, 1.27364435e-05, 1.06166762e-05,\n",
       "       8.84603013e-06, 7.37055243e-06, 6.14355284e-06, 5.11348868e-06,\n",
       "       4.25982427e-06, 3.55196296e-06, 2.95985554e-06, 2.46649685e-06,\n",
       "       2.05558045e-06, 1.71515476e-06, 1.43170261e-06, 1.19529816e-06,\n",
       "       9.98209095e-07, 8.34661068e-07, 6.99170372e-07, 5.85668223e-07])"
      ]
     },
     "execution_count": 23,
     "metadata": {},
     "output_type": "execute_result"
    }
   ],
   "source": [
    "sb_err"
   ]
  },
  {
   "cell_type": "code",
   "execution_count": 24,
   "id": "d536bbfd-ab9a-4c50-92e2-6b726b6d5a4a",
   "metadata": {
    "tags": []
   },
   "outputs": [],
   "source": [
    "sd_err = np.array(sd.get_tag('error'))"
   ]
  },
  {
   "cell_type": "code",
   "execution_count": 25,
   "id": "d7f6069d-014e-4467-8724-7b1dadfc7b88",
   "metadata": {
    "tags": []
   },
   "outputs": [
    {
     "data": {
      "image/png": "[encoded data removed]",
      "text/plain": [
       "<Figure size 640x480 with 1 Axes>"
      ]
     },
     "metadata": {},
     "output_type": "display_data"
    }
   ],
   "source": [
    "import matplotlib.pyplot as plt\n",
    "plt.errorbar(sb_thetaxi[0],sb_thetaxi[1],sb_err,marker='x',linestyle='None',label='bright')\n",
    "plt.errorbar(sd_thetaxi[0],sd_thetaxi[1],sd_err,marker='_',linestyle='None',label='faint')\n",
    "plt.xscale('log')\n",
    "plt.legend()\n",
    "plt.ticklabel_format(style='sci', axis='y', scilimits=(-2e-4,2e-4))\n",
    "plt.ylim([-2e-4,2e-4])\n",
    "plt.xlabel(r'$\\theta$ [arcmin]')\n",
    "plt.ylabel(r'$\\gamma_t$')\n",
    "plt.title('txpipe gammaT stars results, DESY1')\n",
    "plt.savefig('../plots/desy1_gammaTstars.png')"
   ]
  },
  {
   "cell_type": "raw",
   "id": "b5f15070-d86b-4ef4-9575-197e27a8484e",
   "metadata": {},
   "source": []
  }
 ],
 "metadata": {
  "kernelspec": {
   "display_name": "TXPipe",
   "language": "python",
   "name": "txpipe"
  },
  "language_info": {
   "codemirror_mode": {
    "name": "ipython",
    "version": 3
   },
   "file_extension": ".py",
   "mimetype": "text/x-python",
   "name": "python",
   "nbconvert_exporter": "python",
   "pygments_lexer": "ipython3",
   "version": "3.9.16"
  }
 },
 "nbformat": 4,
 "nbformat_minor": 5
}

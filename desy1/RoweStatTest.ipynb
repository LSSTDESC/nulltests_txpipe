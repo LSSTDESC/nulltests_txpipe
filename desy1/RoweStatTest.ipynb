{
 "cells": [
  {
   "cell_type": "code",
   "execution_count": 1,
   "id": "2eda3878-05f9-4a37-9f39-ad549b6becff",
   "metadata": {},
   "outputs": [
    {
     "name": "stdout",
     "output_type": "stream",
     "text": [
      "%pylab is deprecated, use %matplotlib inline and import the required libraries.\n",
      "Populating the interactive namespace from numpy and matplotlib\n"
     ]
    }
   ],
   "source": [
    "import numpy as np\n",
    "import h5py\n",
    "import treecorr\n",
    "import pandas as pd\n",
    "import pylab as mplot\n",
    "%pylab inline"
   ]
  },
  {
   "cell_type": "code",
   "execution_count": null,
   "id": "2251c518-b8f0-4cce-bc26-5422429891cb",
   "metadata": {},
   "outputs": [],
   "source": [
    "## data in LSST WL folder\n",
    "data = pd.DataFrame()\n",
    "with h5py.File('/global/cfs/cdirs/lsst/groups/WL/projects/txpipe-sys-tests/des-y1/DES_psf_catalog.hdf5','r') as f:\n",
    "    g = f[\"stars\"]\n",
    "    data['ra'] = g[\"ra\"][:]\n",
    "    data['dec'] = g[\"dec\"][:]\n",
    "    data['e1'] = g[\"measured_e1\"][:]\n",
    "    data['e2'] = g[\"measured_e2\"][:]\n",
    "    data['e1_model'] = g[\"model_e1\"][:]\n",
    "    data['e2_model'] = g[\"model_e2\"][:]\n",
    "    \n",
    "    data['de1'] = data['e1'] - g[\"model_e1\"][:]\n",
    "    data['de2'] = data['e2'] - g[\"model_e2\"][:]\n",
    "    #T_frac = (g[\"measured_T\"][:] - g[\"model_T\"][:]) / g[\"measured_T\"][:]\n",
    "    data['T_frac'] = (g[\"measured_T\"][:] ** 2 - g[\"model_T\"][:] ** 2) / g[\"measured_T\"][:] ** 2\n",
    "    data['calib_psf_reserved'] = np.array(g[\"calib_psf_reserved\"][:])\n",
    "    data['calib_psf_used'] = np.array(g[\"calib_psf_used\"][:])"
   ]
  },
  {
   "cell_type": "code",
   "execution_count": null,
   "id": "bd5ab498-53fe-47d9-be70-a7609dd1a7f5",
   "metadata": {},
   "outputs": [],
   "source": [
    "data"
   ]
  },
  {
   "cell_type": "code",
   "execution_count": null,
   "id": "b128215a-87e3-4b56-9f6d-8dc9fdc451b8",
   "metadata": {
    "jupyter": {
     "source_hidden": true
    },
    "tags": []
   },
   "outputs": [],
   "source": [
    "data_reserved= data.loc[data['calib_psf_reserved']==1]\n",
    "data_reserved"
   ]
  },
  {
   "cell_type": "code",
   "execution_count": null,
   "id": "5bc1dbd1-ab13-4493-a716-153691aebff9",
   "metadata": {
    "jupyter": {
     "source_hidden": true
    },
    "tags": []
   },
   "outputs": [],
   "source": [
    "data_used=data.loc[data['calib_psf_used']==0]\n",
    "data_used"
   ]
  },
  {
   "cell_type": "code",
   "execution_count": 2,
   "id": "18696028-9e56-4966-b0df-f27d0fc38b65",
   "metadata": {},
   "outputs": [],
   "source": [
    "##checking with DES public download\n",
    "from astropy.table import Table\n",
    "data = Table.read('psf_y1a1-v13-jj.fits', format='fits')"
   ]
  },
  {
   "cell_type": "code",
   "execution_count": 7,
   "id": "2f9ce3fc-f00d-442f-bf51-200705529459",
   "metadata": {},
   "outputs": [
    {
     "data": {
      "text/html": [
       "<div><i>Table length=14468770</i>\n",
       "<table id=\"table140171852868400\" class=\"table-striped table-bordered table-condensed\">\n",
       "<thead><tr><th>ra</th><th>dec</th><th>x</th><th>y</th><th>e1</th><th>e2</th><th>size</th><th>psf_e1</th><th>psf_e2</th><th>psf_size</th><th>exp</th><th>ccd</th><th>fov_x</th><th>fov_y</th><th>filter</th><th>tiling</th></tr></thead>\n",
       "<thead><tr><th>float64</th><th>float64</th><th>float64</th><th>float64</th><th>float64</th><th>float64</th><th>float64</th><th>float64</th><th>float64</th><th>float64</th><th>float64</th><th>float64</th><th>float64</th><th>float64</th><th>bytes1</th><th>int16</th></tr></thead>\n",
       "<tr><td>-35.0833740234375</td><td>-51.4946174621582</td><td>1385.0888671875</td><td>289.1025695800781</td><td>-0.026112141087651253</td><td>-0.01467164047062397</td><td>0.4950573742389679</td><td>-0.01641884073615074</td><td>0.007252953015267849</td><td>0.4982171952724457</td><td>228725.0</td><td>1.0</td><td>-3166.0232306050625</td><td>-1582.7946948801678</td><td>g</td><td>4</td></tr>\n",
       "<tr><td>-35.07847595214844</td><td>-51.47761917114258</td><td>1151.427734375</td><td>327.7016296386719</td><td>-0.026058707386255264</td><td>0.01991906575858593</td><td>0.508821964263916</td><td>-0.01618172787129879</td><td>0.008198064751923084</td><td>0.4987098276615143</td><td>228725.0</td><td>1.0</td><td>-3227.476111210124</td><td>-1572.6431374028525</td><td>g</td><td>4</td></tr>\n",
       "<tr><td>-35.062530517578125</td><td>-51.522212982177734</td><td>1761.6644287109375</td><td>471.9386901855469</td><td>-0.01253590453416109</td><td>0.004537064582109451</td><td>0.5017954707145691</td><td>-0.01815333031117916</td><td>0.004876724909991026</td><td>0.500004231929779</td><td>228725.0</td><td>1.0</td><td>-3066.9838820027676</td><td>-1534.7087954953513</td><td>g</td><td>4</td></tr>\n",
       "<tr><td>-34.96010208129883</td><td>-51.518062591552734</td><td>1695.4520263671875</td><td>1343.9967041015625</td><td>-0.018433665856719017</td><td>0.0073102801106870174</td><td>0.49760177731513977</td><td>-0.020236916840076447</td><td>0.005128225777298212</td><td>0.5036634206771851</td><td>228725.0</td><td>1.0</td><td>-3084.3977264292403</td><td>-1305.3575388387046</td><td>g</td><td>4</td></tr>\n",
       "<tr><td>-34.95635223388672</td><td>-51.404014587402344</td><td>130.62265014648438</td><td>1357.517578125</td><td>-0.04054722934961319</td><td>-0.019233662635087967</td><td>0.5076663494110107</td><td>-0.01984431967139244</td><td>0.007709133438766003</td><td>0.5130198001861572</td><td>228725.0</td><td>1.0</td><td>-3495.9478432622914</td><td>-1301.8015650227865</td><td>g</td><td>4</td></tr>\n",
       "<tr><td>-34.950782775878906</td><td>-51.417930603027344</td><td>320.92840576171875</td><td>1407.2703857421875</td><td>-0.019807474687695503</td><td>0.008375069126486778</td><td>0.5031841993331909</td><td>-0.01899109035730362</td><td>0.008055000565946102</td><td>0.5109618306159973</td><td>228725.0</td><td>1.0</td><td>-3445.897435304261</td><td>-1288.716543177287</td><td>g</td><td>4</td></tr>\n",
       "<tr><td>-34.94122314453125</td><td>-51.527347564697266</td><td>1821.33935546875</td><td>1506.3699951171875</td><td>-0.04304871708154678</td><td>0.024985209107398987</td><td>0.5079672336578369</td><td>-0.021632498130202293</td><td>0.004381798207759857</td><td>0.5040193796157837</td><td>228725.0</td><td>1.0</td><td>-3051.2893669016526</td><td>-1262.6533806915284</td><td>g</td><td>4</td></tr>\n",
       "<tr><td>-34.93510055541992</td><td>-51.45646286010742</td><td>848.0923461914062</td><td>1547.2144775390625</td><td>-0.0174381323158741</td><td>0.0073209600523114204</td><td>0.5098611116409302</td><td>-0.01816648617386818</td><td>0.008096745237708092</td><td>0.506793200969696</td><td>228725.0</td><td>1.0</td><td>-3307.2533162958784</td><td>-1251.9112844899496</td><td>g</td><td>4</td></tr>\n",
       "<tr><td>-34.92000961303711</td><td>-51.483848571777344</td><td>1222.60791015625</td><td>1680.218017578125</td><td>-0.029829636216163635</td><td>0.02738025411963463</td><td>0.49603331089019775</td><td>-0.01906139776110649</td><td>0.007289195898920298</td><td>0.5050904750823975</td><td>228725.0</td><td>1.0</td><td>-3208.7557477203372</td><td>-1216.931366836548</td><td>g</td><td>4</td></tr>\n",
       "<tr><td>-34.91024398803711</td><td>-51.46894073486328</td><td>1017.24755859375</td><td>1761.1856689453125</td><td>0.02626567892730236</td><td>0.017187191173434258</td><td>0.4931927025318146</td><td>-0.01877751760184765</td><td>0.0078050242736935616</td><td>0.5061970949172974</td><td>228725.0</td><td>1.0</td><td>-3262.7655027913415</td><td>-1195.6368584747315</td><td>g</td><td>4</td></tr>\n",
       "<tr><td>...</td><td>...</td><td>...</td><td>...</td><td>...</td><td>...</td><td>...</td><td>...</td><td>...</td><td>...</td><td>...</td><td>...</td><td>...</td><td>...</td><td>...</td><td>...</td></tr>\n",
       "<tr><td>89.39141845703125</td><td>-40.732139587402344</td><td>1672.91455078125</td><td>3723.57275390625</td><td>-0.047781262546777725</td><td>0.040686845779418945</td><td>0.3684636056423187</td><td>-0.04763352870941162</td><td>0.03663603216409683</td><td>0.3637356460094452</td><td>283856.0</td><td>62.0</td><td>3431.654114816284</td><td>1560.880311645508</td><td>z</td><td>3</td></tr>\n",
       "<tr><td>89.381591796875</td><td>-40.682899475097656</td><td>996.4705200195312</td><td>3625.23291015625</td><td>-0.024745268747210503</td><td>0.03786860406398773</td><td>0.3504256308078766</td><td>-0.03334931656718254</td><td>0.0340891107916832</td><td>0.35218730568885803</td><td>283856.0</td><td>62.0</td><td>3253.7493454274495</td><td>1535.0168658548992</td><td>z</td><td>3</td></tr>\n",
       "<tr><td>89.41416931152344</td><td>-40.7498893737793</td><td>1918.124755859375</td><td>3958.272705078125</td><td>-0.04928373917937279</td><td>0.026347311213612556</td><td>0.3759215772151947</td><td>-0.05778192728757858</td><td>0.04200777783989906</td><td>0.37085050344467163</td><td>283856.0</td><td>62.0</td><td>3496.144381361898</td><td>1622.6064148559572</td><td>z</td><td>3</td></tr>\n",
       "<tr><td>89.35110473632812</td><td>-40.6160774230957</td><td>76.93121337890625</td><td>3313.005615234375</td><td>-0.03977731987833977</td><td>0.05054851248860359</td><td>0.3381466269493103</td><td>-0.023738007992506027</td><td>0.03671087697148323</td><td>0.345482736825943</td><td>283856.0</td><td>62.0</td><td>3011.910509369469</td><td>1452.9011327718101</td><td>z</td><td>3</td></tr>\n",
       "<tr><td>89.35826873779297</td><td>-40.631107330322266</td><td>283.78436279296875</td><td>3386.476318359375</td><td>-0.012994498014450073</td><td>0.016719363629817963</td><td>0.35122397541999817</td><td>-0.024692082777619362</td><td>0.03534694388508797</td><td>0.34605351090431213</td><td>283856.0</td><td>62.0</td><td>3066.312886076864</td><td>1472.2238902384443</td><td>z</td><td>3</td></tr>\n",
       "<tr><td>89.34965515136719</td><td>-40.74953079223633</td><td>1908.400634765625</td><td>3288.893310546875</td><td>-0.05852307379245758</td><td>0.019930599257349968</td><td>0.37951692938804626</td><td>-0.047207605093717575</td><td>0.032001934945583344</td><td>0.36582469940185547</td><td>283856.0</td><td>62.0</td><td>3493.58692413737</td><td>1446.5595591837566</td><td>z</td><td>3</td></tr>\n",
       "<tr><td>89.3438720703125</td><td>-40.64191818237305</td><td>431.0824279785156</td><td>3236.202392578125</td><td>-0.0419970341026783</td><td>0.03719920665025711</td><td>0.352324515581131</td><td>-0.024507541209459305</td><td>0.03263647109270096</td><td>0.3463754951953888</td><td>283856.0</td><td>62.0</td><td>3105.0522815681456</td><td>1432.7019226684572</td><td>z</td><td>3</td></tr>\n",
       "<tr><td>89.40039825439453</td><td>-40.72007369995117</td><td>1508.0618896484375</td><td>3817.70703125</td><td>-0.05702760070562363</td><td>0.06596171110868454</td><td>0.3730300962924957</td><td>-0.045246489346027374</td><td>0.037283070385456085</td><td>0.36104339361190796</td><td>283856.0</td><td>62.0</td><td>3388.297867613729</td><td>1585.63762391154</td><td>z</td><td>3</td></tr>\n",
       "<tr><td>89.33240509033203</td><td>-40.66453170776367</td><td>740.6363525390625</td><td>3115.569580078125</td><td>-0.02036898583173752</td><td>0.05031852796673775</td><td>0.34564656019210815</td><td>-0.025989672169089317</td><td>0.029435737058520317</td><td>0.34798139333724976</td><td>283856.0</td><td>62.0</td><td>3186.4649513539634</td><td>1400.975460876465</td><td>z</td><td>3</td></tr>\n",
       "<tr><td>89.42132568359375</td><td>-40.62299728393555</td><td>177.6090850830078</td><td>4042.5498046875</td><td>-0.02570987492799759</td><td>0.06171068921685219</td><td>0.3450157344341278</td><td>-0.029346970841288567</td><td>0.04377324879169464</td><td>0.3466663658618927</td><td>283856.0</td><td>62.0</td><td>3038.3887875375112</td><td>1644.7712224934899</td><td>z</td><td>3</td></tr>\n",
       "</table></div>"
      ],
      "text/plain": [
       "<Table length=14468770>\n",
       "         ra                 dec                 x          ... filter tiling\n",
       "      float64             float64            float64       ... bytes1 int16 \n",
       "------------------- ------------------- ------------------ ... ------ ------\n",
       "  -35.0833740234375   -51.4946174621582    1385.0888671875 ...      g      4\n",
       " -35.07847595214844  -51.47761917114258     1151.427734375 ...      g      4\n",
       "-35.062530517578125 -51.522212982177734 1761.6644287109375 ...      g      4\n",
       " -34.96010208129883 -51.518062591552734 1695.4520263671875 ...      g      4\n",
       " -34.95635223388672 -51.404014587402344 130.62265014648438 ...      g      4\n",
       "-34.950782775878906 -51.417930603027344 320.92840576171875 ...      g      4\n",
       " -34.94122314453125 -51.527347564697266   1821.33935546875 ...      g      4\n",
       " -34.93510055541992  -51.45646286010742  848.0923461914062 ...      g      4\n",
       " -34.92000961303711 -51.483848571777344   1222.60791015625 ...      g      4\n",
       " -34.91024398803711  -51.46894073486328   1017.24755859375 ...      g      4\n",
       "                ...                 ...                ... ...    ...    ...\n",
       "  89.39141845703125 -40.732139587402344   1672.91455078125 ...      z      3\n",
       "    89.381591796875 -40.682899475097656  996.4705200195312 ...      z      3\n",
       "  89.41416931152344   -40.7498893737793  1918.124755859375 ...      z      3\n",
       "  89.35110473632812   -40.6160774230957  76.93121337890625 ...      z      3\n",
       "  89.35826873779297 -40.631107330322266 283.78436279296875 ...      z      3\n",
       "  89.34965515136719  -40.74953079223633  1908.400634765625 ...      z      3\n",
       "   89.3438720703125  -40.64191818237305  431.0824279785156 ...      z      3\n",
       "  89.40039825439453  -40.72007369995117 1508.0618896484375 ...      z      3\n",
       "  89.33240509033203  -40.66453170776367  740.6363525390625 ...      z      3\n",
       "  89.42132568359375  -40.62299728393555  177.6090850830078 ...      z      3"
      ]
     },
     "execution_count": 7,
     "metadata": {},
     "output_type": "execute_result"
    }
   ],
   "source": [
    "data"
   ]
  },
  {
   "cell_type": "code",
   "execution_count": 4,
   "id": "373dfc85-5808-4557-b06d-5e575c1967e6",
   "metadata": {},
   "outputs": [
    {
     "data": {
      "text/html": [
       "&lt;Column name=&apos;ra&apos; dtype=&apos;float64&apos; length=14468770&gt;\n",
       "<table>\n",
       "<tr><td>-35.0833740234375</td></tr>\n",
       "<tr><td>-35.07847595214844</td></tr>\n",
       "<tr><td>-35.062530517578125</td></tr>\n",
       "<tr><td>-34.96010208129883</td></tr>\n",
       "<tr><td>-34.95635223388672</td></tr>\n",
       "<tr><td>-34.950782775878906</td></tr>\n",
       "<tr><td>-34.94122314453125</td></tr>\n",
       "<tr><td>-34.93510055541992</td></tr>\n",
       "<tr><td>-34.92000961303711</td></tr>\n",
       "<tr><td>-34.91024398803711</td></tr>\n",
       "<tr><td>-34.90132522583008</td></tr>\n",
       "<tr><td>-34.89860916137695</td></tr>\n",
       "<tr><td>...</td></tr>\n",
       "<tr><td>89.39258575439453</td></tr>\n",
       "<tr><td>89.38993072509766</td></tr>\n",
       "<tr><td>89.39141845703125</td></tr>\n",
       "<tr><td>89.381591796875</td></tr>\n",
       "<tr><td>89.41416931152344</td></tr>\n",
       "<tr><td>89.35110473632812</td></tr>\n",
       "<tr><td>89.35826873779297</td></tr>\n",
       "<tr><td>89.34965515136719</td></tr>\n",
       "<tr><td>89.3438720703125</td></tr>\n",
       "<tr><td>89.40039825439453</td></tr>\n",
       "<tr><td>89.33240509033203</td></tr>\n",
       "<tr><td>89.42132568359375</td></tr>\n",
       "</table>"
      ],
      "text/plain": [
       "<Column name='ra' dtype='float64' length=14468770>\n",
       "  -35.0833740234375\n",
       " -35.07847595214844\n",
       "-35.062530517578125\n",
       " -34.96010208129883\n",
       " -34.95635223388672\n",
       "-34.950782775878906\n",
       " -34.94122314453125\n",
       " -34.93510055541992\n",
       " -34.92000961303711\n",
       " -34.91024398803711\n",
       " -34.90132522583008\n",
       " -34.89860916137695\n",
       "                ...\n",
       "  89.39258575439453\n",
       "  89.38993072509766\n",
       "  89.39141845703125\n",
       "    89.381591796875\n",
       "  89.41416931152344\n",
       "  89.35110473632812\n",
       "  89.35826873779297\n",
       "  89.34965515136719\n",
       "   89.3438720703125\n",
       "  89.40039825439453\n",
       "  89.33240509033203\n",
       "  89.42132568359375"
      ]
     },
     "execution_count": 4,
     "metadata": {},
     "output_type": "execute_result"
    }
   ],
   "source": [
    "data['ra']"
   ]
  },
  {
   "cell_type": "code",
   "execution_count": 8,
   "id": "896d587b-9e23-42e2-ba3e-a5ccc0a9910d",
   "metadata": {},
   "outputs": [
    {
     "name": "stdout",
     "output_type": "stream",
     "text": [
      "[  0.55708523   0.68038546   0.83086378   1.01463025   1.23917636\n",
      "   1.51342132   1.84836785   2.25731992   2.75686078   3.3669325\n",
      "   4.11207611   5.0220396    6.13350193   7.49080768   9.15048811\n",
      "  11.17243062  13.64529977  16.66480282  20.35390253  24.85522413\n",
      "  30.35833892  37.07382923  45.27345537  55.2885965   67.51969991\n",
      "  82.45245564 100.68958006 122.96433062 150.15157332 183.352424\n",
      " 223.88817458 273.39230698]\n",
      "[ 2.86097478e-06  2.67627855e-06  2.74480922e-06  2.24582819e-06\n",
      "  2.13571106e-06  1.93509738e-06  1.60255746e-06  1.29917162e-06\n",
      "  7.99540457e-07  5.07944118e-07  2.58178163e-07  7.25060023e-08\n",
      " -8.84638100e-09  3.51784299e-08  6.23620245e-08  7.19577692e-08\n",
      "  5.54161322e-08  5.16115509e-08  5.56584699e-08  5.11151626e-08\n",
      "  5.48549668e-08  4.91828941e-08  5.86449799e-08  5.81048338e-08\n",
      "  5.56740150e-08  5.42955197e-08  5.39122075e-08  5.32553276e-08\n",
      "  5.31629834e-08  5.21557655e-08  5.04699259e-08  5.00434339e-08]\n",
      "[1.40266591e-07 1.15119900e-07 9.45575621e-08 7.77342551e-08\n",
      " 6.38808131e-08 5.24550460e-08 4.30732461e-08 3.53521977e-08\n",
      " 2.90139030e-08 2.38216422e-08 1.95507591e-08 1.60562600e-08\n",
      " 1.31817158e-08 1.08255095e-08 8.87012551e-09 7.25771610e-09\n",
      " 5.96427219e-09 4.89969120e-09 4.01280529e-09 3.29830108e-09\n",
      " 2.70740679e-09 2.22574081e-09 1.83231452e-09 1.51092751e-09\n",
      " 1.24922517e-09 1.03610431e-09 8.61702606e-10 7.18504160e-10\n",
      " 6.02020210e-10 5.07029095e-10 4.29672612e-10 3.66595754e-10]\n"
     ]
    }
   ],
   "source": [
    "#rho 1 \n",
    "corr = treecorr.GGCorrelation(bin_size=0.2,min_sep= 0.5,max_sep= 300.0, sep_units=\"arcmin\", bin_slop=0.1)\n",
    "cat1 = treecorr.Catalog(ra=data['ra'], dec=data['dec'], g1=data['e1']-data['psf_e1'], g2=data['e2']-data['psf_e2'], ra_units=\"deg\", dec_units=\"deg\")\n",
    "corr.process(cat1)\n",
    "print(corr.meanr)\n",
    "print(corr.xip)\n",
    "print(corr.varxip**0.5)\n"
   ]
  },
  {
   "cell_type": "code",
   "execution_count": 10,
   "id": "84fd3810-0b78-4b31-8725-2d3c5ea16ef1",
   "metadata": {},
   "outputs": [
    {
     "data": {
      "text/plain": [
       "[<matplotlib.lines.Line2D at 0x7f7b1ebacaf0>]"
      ]
     },
     "execution_count": 10,
     "metadata": {},
     "output_type": "execute_result"
    },
    {
     "data": {
      "image/png": "[encoded data removed]",
      "text/plain": [
       "<Figure size 640x480 with 1 Axes>"
      ]
     },
     "metadata": {},
     "output_type": "display_data"
    }
   ],
   "source": [
    "mplot.loglog(np.exp(corr.meanlogr), corr.xip)"
   ]
  },
  {
   "cell_type": "code",
   "execution_count": 11,
   "id": "c193fdd7-21de-4637-9284-bd98022ab2d1",
   "metadata": {},
   "outputs": [
    {
     "name": "stdout",
     "output_type": "stream",
     "text": [
      "[  0.55708523   0.68038546   0.83086378   1.01463025   1.23917636\n",
      "   1.51342132   1.84836785   2.25731992   2.75686078   3.3669325\n",
      "   4.11207611   5.0220396    6.13350193   7.49080768   9.15048811\n",
      "  11.17243062  13.64529977  16.66480282  20.35390253  24.85522413\n",
      "  30.35833892  37.07382923  45.27345537  55.2885965   67.51969991\n",
      "  82.45245564 100.68958006 122.96433062 150.15157331 183.35242399\n",
      " 223.88817458 273.39230698]\n",
      "[1.56772140e-06 1.60460233e-06 1.63482875e-06 1.04560909e-06\n",
      " 1.25054584e-06 1.09777128e-06 8.35945520e-07 8.15159555e-07\n",
      " 2.90972297e-07 2.13408212e-07 1.92825790e-07 1.90251113e-07\n",
      " 2.48748588e-07 3.40132198e-07 4.18592838e-07 4.47005816e-07\n",
      " 4.61233464e-07 5.20996542e-07 5.53213657e-07 5.96625066e-07\n",
      " 5.77789347e-07 5.77601411e-07 5.71073164e-07 6.05883799e-07\n",
      " 6.58584075e-07 6.66740409e-07 7.16648124e-07 6.98187487e-07\n",
      " 7.21927933e-07 6.99254018e-07 7.04899940e-07 7.33772830e-07]\n",
      "[1.91319918e-07 1.57020497e-07 1.28974012e-07 1.06027467e-07\n",
      " 8.71317384e-08 7.15472944e-08 5.87507677e-08 4.82194620e-08\n",
      " 3.95741957e-08 3.24920895e-08 2.66667179e-08 2.19003137e-08\n",
      " 1.79795114e-08 1.47657085e-08 1.20986164e-08 9.89933267e-09\n",
      " 8.13510941e-09 6.68304912e-09 5.47336020e-09 4.49879538e-09\n",
      " 3.69283121e-09 3.03585155e-09 2.49922851e-09 2.06086513e-09\n",
      " 1.70391007e-09 1.41321886e-09 1.17533955e-09 9.80020657e-10\n",
      " 8.21139634e-10 6.91574266e-10 5.86062071e-10 5.00026905e-10]\n"
     ]
    }
   ],
   "source": [
    "#rho 2 \n",
    "corr = treecorr.GGCorrelation(bin_size=0.2,min_sep= 0.5,max_sep= 300.0, sep_units=\"arcmin\", bin_slop=0.1)\n",
    "cat1 = treecorr.Catalog(ra=data['ra'], dec=data['dec'], g1=data['e1'], g2=data['e2'], ra_units=\"deg\", dec_units=\"deg\")\n",
    "cat2 = treecorr.Catalog(ra=data['ra'], dec=data['dec'], g1=data['e1']-data['psf_e1'], g2=data['e2']-data['psf_e2'], ra_units=\"deg\", dec_units=\"deg\")\n",
    "corr.process(cat1, cat2)\n",
    "print(corr.meanr)\n",
    "print(corr.xip)\n",
    "print(corr.varxip**0.5)"
   ]
  },
  {
   "cell_type": "code",
   "execution_count": 12,
   "id": "2a2b8513-2730-4045-ace9-94550add125a",
   "metadata": {},
   "outputs": [
    {
     "data": {
      "text/plain": [
       "[<matplotlib.lines.Line2D at 0x7f7bea377520>]"
      ]
     },
     "execution_count": 12,
     "metadata": {},
     "output_type": "execute_result"
    },
    {
     "data": {
      "image/png": "[encoded data removed]",
      "text/plain": [
       "<Figure size 640x480 with 1 Axes>"
      ]
     },
     "metadata": {},
     "output_type": "display_data"
    }
   ],
   "source": [
    "mplot.loglog(np.exp(corr.meanlogr), corr.xip)"
   ]
  },
  {
   "cell_type": "code",
   "execution_count": null,
   "id": "4aa51cfe-21dc-4dcb-b0a9-6e1eb41824be",
   "metadata": {},
   "outputs": [],
   "source": [
    "dat"
   ]
  },
  {
   "cell_type": "code",
   "execution_count": null,
   "id": "184a4ecb-32b3-4b1a-b103-167c069efca5",
   "metadata": {},
   "outputs": [],
   "source": [
    "dat[0][1]"
   ]
  },
  {
   "cell_type": "code",
   "execution_count": null,
   "id": "80fa7073-a284-444c-87a3-0194c9cc8ba0",
   "metadata": {},
   "outputs": [],
   "source": []
  }
 ],
 "metadata": {
  "kernelspec": {
   "display_name": "desc-python",
   "language": "python",
   "name": "desc-python"
  },
  "language_info": {
   "codemirror_mode": {
    "name": "ipython",
    "version": 3
   },
   "file_extension": ".py",
   "mimetype": "text/x-python",
   "name": "python",
   "nbconvert_exporter": "python",
   "pygments_lexer": "ipython3",
   "version": "3.10.10"
  }
 },
 "nbformat": 4,
 "nbformat_minor": 5
}

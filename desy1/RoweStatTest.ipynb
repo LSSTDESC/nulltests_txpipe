{
 "cells": [
  {
   "cell_type": "code",
   "execution_count": 1,
   "id": "2eda3878-05f9-4a37-9f39-ad549b6becff",
   "metadata": {},
   "outputs": [
    {
     "name": "stdout",
     "output_type": "stream",
     "text": [
      "%pylab is deprecated, use %matplotlib inline and import the required libraries.\n",
      "Populating the interactive namespace from numpy and matplotlib\n"
     ]
    }
   ],
   "source": [
    "import numpy as np\n",
    "import h5py\n",
    "import treecorr\n",
    "import pandas as pd\n",
    "import pylab as mplot\n",
    "%pylab inline"
   ]
  },
  {
   "cell_type": "code",
   "execution_count": 2,
   "id": "18696028-9e56-4966-b0df-f27d0fc38b65",
   "metadata": {},
   "outputs": [],
   "source": [
    "## DES Y1 public download\n",
    "from astropy.table import Table\n",
    "data = Table.read('psf_y1a1-v13-jj.fits', format='fits')"
   ]
  },
  {
   "cell_type": "code",
   "execution_count": 3,
   "id": "bb869eed-cd36-4135-9132-8143e5366bff",
   "metadata": {},
   "outputs": [
    {
     "data": {
      "text/html": [
       "<div><i>Table length=14468770</i>\n",
       "<table id=\"table139712433121472\" class=\"table-striped table-bordered table-condensed\">\n",
       "<thead><tr><th>ra</th><th>dec</th><th>x</th><th>y</th><th>e1</th><th>e2</th><th>size</th><th>psf_e1</th><th>psf_e2</th><th>psf_size</th><th>exp</th><th>ccd</th><th>fov_x</th><th>fov_y</th><th>filter</th><th>tiling</th></tr></thead>\n",
       "<thead><tr><th>float64</th><th>float64</th><th>float64</th><th>float64</th><th>float64</th><th>float64</th><th>float64</th><th>float64</th><th>float64</th><th>float64</th><th>float64</th><th>float64</th><th>float64</th><th>float64</th><th>bytes1</th><th>int16</th></tr></thead>\n",
       "<tr><td>-35.0833740234375</td><td>-51.4946174621582</td><td>1385.0888671875</td><td>289.1025695800781</td><td>-0.026112141087651253</td><td>-0.01467164047062397</td><td>0.4950573742389679</td><td>-0.01641884073615074</td><td>0.007252953015267849</td><td>0.4982171952724457</td><td>228725.0</td><td>1.0</td><td>-3166.0232306050625</td><td>-1582.7946948801678</td><td>g</td><td>4</td></tr>\n",
       "<tr><td>-35.07847595214844</td><td>-51.47761917114258</td><td>1151.427734375</td><td>327.7016296386719</td><td>-0.026058707386255264</td><td>0.01991906575858593</td><td>0.508821964263916</td><td>-0.01618172787129879</td><td>0.008198064751923084</td><td>0.4987098276615143</td><td>228725.0</td><td>1.0</td><td>-3227.476111210124</td><td>-1572.6431374028525</td><td>g</td><td>4</td></tr>\n",
       "<tr><td>-35.062530517578125</td><td>-51.522212982177734</td><td>1761.6644287109375</td><td>471.9386901855469</td><td>-0.01253590453416109</td><td>0.004537064582109451</td><td>0.5017954707145691</td><td>-0.01815333031117916</td><td>0.004876724909991026</td><td>0.500004231929779</td><td>228725.0</td><td>1.0</td><td>-3066.9838820027676</td><td>-1534.7087954953513</td><td>g</td><td>4</td></tr>\n",
       "<tr><td>-34.96010208129883</td><td>-51.518062591552734</td><td>1695.4520263671875</td><td>1343.9967041015625</td><td>-0.018433665856719017</td><td>0.0073102801106870174</td><td>0.49760177731513977</td><td>-0.020236916840076447</td><td>0.005128225777298212</td><td>0.5036634206771851</td><td>228725.0</td><td>1.0</td><td>-3084.3977264292403</td><td>-1305.3575388387046</td><td>g</td><td>4</td></tr>\n",
       "<tr><td>-34.95635223388672</td><td>-51.404014587402344</td><td>130.62265014648438</td><td>1357.517578125</td><td>-0.04054722934961319</td><td>-0.019233662635087967</td><td>0.5076663494110107</td><td>-0.01984431967139244</td><td>0.007709133438766003</td><td>0.5130198001861572</td><td>228725.0</td><td>1.0</td><td>-3495.9478432622914</td><td>-1301.8015650227865</td><td>g</td><td>4</td></tr>\n",
       "<tr><td>-34.950782775878906</td><td>-51.417930603027344</td><td>320.92840576171875</td><td>1407.2703857421875</td><td>-0.019807474687695503</td><td>0.008375069126486778</td><td>0.5031841993331909</td><td>-0.01899109035730362</td><td>0.008055000565946102</td><td>0.5109618306159973</td><td>228725.0</td><td>1.0</td><td>-3445.897435304261</td><td>-1288.716543177287</td><td>g</td><td>4</td></tr>\n",
       "<tr><td>-34.94122314453125</td><td>-51.527347564697266</td><td>1821.33935546875</td><td>1506.3699951171875</td><td>-0.04304871708154678</td><td>0.024985209107398987</td><td>0.5079672336578369</td><td>-0.021632498130202293</td><td>0.004381798207759857</td><td>0.5040193796157837</td><td>228725.0</td><td>1.0</td><td>-3051.2893669016526</td><td>-1262.6533806915284</td><td>g</td><td>4</td></tr>\n",
       "<tr><td>-34.93510055541992</td><td>-51.45646286010742</td><td>848.0923461914062</td><td>1547.2144775390625</td><td>-0.0174381323158741</td><td>0.0073209600523114204</td><td>0.5098611116409302</td><td>-0.01816648617386818</td><td>0.008096745237708092</td><td>0.506793200969696</td><td>228725.0</td><td>1.0</td><td>-3307.2533162958784</td><td>-1251.9112844899496</td><td>g</td><td>4</td></tr>\n",
       "<tr><td>-34.92000961303711</td><td>-51.483848571777344</td><td>1222.60791015625</td><td>1680.218017578125</td><td>-0.029829636216163635</td><td>0.02738025411963463</td><td>0.49603331089019775</td><td>-0.01906139776110649</td><td>0.007289195898920298</td><td>0.5050904750823975</td><td>228725.0</td><td>1.0</td><td>-3208.7557477203372</td><td>-1216.931366836548</td><td>g</td><td>4</td></tr>\n",
       "<tr><td>-34.91024398803711</td><td>-51.46894073486328</td><td>1017.24755859375</td><td>1761.1856689453125</td><td>0.02626567892730236</td><td>0.017187191173434258</td><td>0.4931927025318146</td><td>-0.01877751760184765</td><td>0.0078050242736935616</td><td>0.5061970949172974</td><td>228725.0</td><td>1.0</td><td>-3262.7655027913415</td><td>-1195.6368584747315</td><td>g</td><td>4</td></tr>\n",
       "<tr><td>...</td><td>...</td><td>...</td><td>...</td><td>...</td><td>...</td><td>...</td><td>...</td><td>...</td><td>...</td><td>...</td><td>...</td><td>...</td><td>...</td><td>...</td><td>...</td></tr>\n",
       "<tr><td>89.39141845703125</td><td>-40.732139587402344</td><td>1672.91455078125</td><td>3723.57275390625</td><td>-0.047781262546777725</td><td>0.040686845779418945</td><td>0.3684636056423187</td><td>-0.04763352870941162</td><td>0.03663603216409683</td><td>0.3637356460094452</td><td>283856.0</td><td>62.0</td><td>3431.654114816284</td><td>1560.880311645508</td><td>z</td><td>3</td></tr>\n",
       "<tr><td>89.381591796875</td><td>-40.682899475097656</td><td>996.4705200195312</td><td>3625.23291015625</td><td>-0.024745268747210503</td><td>0.03786860406398773</td><td>0.3504256308078766</td><td>-0.03334931656718254</td><td>0.0340891107916832</td><td>0.35218730568885803</td><td>283856.0</td><td>62.0</td><td>3253.7493454274495</td><td>1535.0168658548992</td><td>z</td><td>3</td></tr>\n",
       "<tr><td>89.41416931152344</td><td>-40.7498893737793</td><td>1918.124755859375</td><td>3958.272705078125</td><td>-0.04928373917937279</td><td>0.026347311213612556</td><td>0.3759215772151947</td><td>-0.05778192728757858</td><td>0.04200777783989906</td><td>0.37085050344467163</td><td>283856.0</td><td>62.0</td><td>3496.144381361898</td><td>1622.6064148559572</td><td>z</td><td>3</td></tr>\n",
       "<tr><td>89.35110473632812</td><td>-40.6160774230957</td><td>76.93121337890625</td><td>3313.005615234375</td><td>-0.03977731987833977</td><td>0.05054851248860359</td><td>0.3381466269493103</td><td>-0.023738007992506027</td><td>0.03671087697148323</td><td>0.345482736825943</td><td>283856.0</td><td>62.0</td><td>3011.910509369469</td><td>1452.9011327718101</td><td>z</td><td>3</td></tr>\n",
       "<tr><td>89.35826873779297</td><td>-40.631107330322266</td><td>283.78436279296875</td><td>3386.476318359375</td><td>-0.012994498014450073</td><td>0.016719363629817963</td><td>0.35122397541999817</td><td>-0.024692082777619362</td><td>0.03534694388508797</td><td>0.34605351090431213</td><td>283856.0</td><td>62.0</td><td>3066.312886076864</td><td>1472.2238902384443</td><td>z</td><td>3</td></tr>\n",
       "<tr><td>89.34965515136719</td><td>-40.74953079223633</td><td>1908.400634765625</td><td>3288.893310546875</td><td>-0.05852307379245758</td><td>0.019930599257349968</td><td>0.37951692938804626</td><td>-0.047207605093717575</td><td>0.032001934945583344</td><td>0.36582469940185547</td><td>283856.0</td><td>62.0</td><td>3493.58692413737</td><td>1446.5595591837566</td><td>z</td><td>3</td></tr>\n",
       "<tr><td>89.3438720703125</td><td>-40.64191818237305</td><td>431.0824279785156</td><td>3236.202392578125</td><td>-0.0419970341026783</td><td>0.03719920665025711</td><td>0.352324515581131</td><td>-0.024507541209459305</td><td>0.03263647109270096</td><td>0.3463754951953888</td><td>283856.0</td><td>62.0</td><td>3105.0522815681456</td><td>1432.7019226684572</td><td>z</td><td>3</td></tr>\n",
       "<tr><td>89.40039825439453</td><td>-40.72007369995117</td><td>1508.0618896484375</td><td>3817.70703125</td><td>-0.05702760070562363</td><td>0.06596171110868454</td><td>0.3730300962924957</td><td>-0.045246489346027374</td><td>0.037283070385456085</td><td>0.36104339361190796</td><td>283856.0</td><td>62.0</td><td>3388.297867613729</td><td>1585.63762391154</td><td>z</td><td>3</td></tr>\n",
       "<tr><td>89.33240509033203</td><td>-40.66453170776367</td><td>740.6363525390625</td><td>3115.569580078125</td><td>-0.02036898583173752</td><td>0.05031852796673775</td><td>0.34564656019210815</td><td>-0.025989672169089317</td><td>0.029435737058520317</td><td>0.34798139333724976</td><td>283856.0</td><td>62.0</td><td>3186.4649513539634</td><td>1400.975460876465</td><td>z</td><td>3</td></tr>\n",
       "<tr><td>89.42132568359375</td><td>-40.62299728393555</td><td>177.6090850830078</td><td>4042.5498046875</td><td>-0.02570987492799759</td><td>0.06171068921685219</td><td>0.3450157344341278</td><td>-0.029346970841288567</td><td>0.04377324879169464</td><td>0.3466663658618927</td><td>283856.0</td><td>62.0</td><td>3038.3887875375112</td><td>1644.7712224934899</td><td>z</td><td>3</td></tr>\n",
       "</table></div>"
      ],
      "text/plain": [
       "<Table length=14468770>\n",
       "         ra                 dec                 x          ... filter tiling\n",
       "      float64             float64            float64       ... bytes1 int16 \n",
       "------------------- ------------------- ------------------ ... ------ ------\n",
       "  -35.0833740234375   -51.4946174621582    1385.0888671875 ...      g      4\n",
       " -35.07847595214844  -51.47761917114258     1151.427734375 ...      g      4\n",
       "-35.062530517578125 -51.522212982177734 1761.6644287109375 ...      g      4\n",
       " -34.96010208129883 -51.518062591552734 1695.4520263671875 ...      g      4\n",
       " -34.95635223388672 -51.404014587402344 130.62265014648438 ...      g      4\n",
       "-34.950782775878906 -51.417930603027344 320.92840576171875 ...      g      4\n",
       " -34.94122314453125 -51.527347564697266   1821.33935546875 ...      g      4\n",
       " -34.93510055541992  -51.45646286010742  848.0923461914062 ...      g      4\n",
       " -34.92000961303711 -51.483848571777344   1222.60791015625 ...      g      4\n",
       " -34.91024398803711  -51.46894073486328   1017.24755859375 ...      g      4\n",
       "                ...                 ...                ... ...    ...    ...\n",
       "  89.39141845703125 -40.732139587402344   1672.91455078125 ...      z      3\n",
       "    89.381591796875 -40.682899475097656  996.4705200195312 ...      z      3\n",
       "  89.41416931152344   -40.7498893737793  1918.124755859375 ...      z      3\n",
       "  89.35110473632812   -40.6160774230957  76.93121337890625 ...      z      3\n",
       "  89.35826873779297 -40.631107330322266 283.78436279296875 ...      z      3\n",
       "  89.34965515136719  -40.74953079223633  1908.400634765625 ...      z      3\n",
       "   89.3438720703125  -40.64191818237305  431.0824279785156 ...      z      3\n",
       "  89.40039825439453  -40.72007369995117 1508.0618896484375 ...      z      3\n",
       "  89.33240509033203  -40.66453170776367  740.6363525390625 ...      z      3\n",
       "  89.42132568359375  -40.62299728393555  177.6090850830078 ...      z      3"
      ]
     },
     "execution_count": 3,
     "metadata": {},
     "output_type": "execute_result"
    }
   ],
   "source": [
    "data"
   ]
  },
  {
   "cell_type": "code",
   "execution_count": 5,
   "id": "7fe0ec21-79ac-4b64-aa98-3f812d8bcf76",
   "metadata": {},
   "outputs": [],
   "source": [
    "## data yuuki cross-matched using ra/dec with Y3\n",
    "## successfully matched 76% of sources to within <0.25\"\n",
    "\n",
    "data_matched= np.load('/global/cfs/cdirs/lsst/groups/WL/users/yomori/scratch/psf_y1a1-v13_matchedY3mags.npz')"
   ]
  },
  {
   "cell_type": "code",
   "execution_count": 6,
   "id": "2f9ce3fc-f00d-442f-bf51-200705529459",
   "metadata": {},
   "outputs": [],
   "source": [
    "idx = np.where(data_matched['match_mag']<20)[0]"
   ]
  },
  {
   "cell_type": "code",
   "execution_count": 9,
   "id": "e4c90a73-854c-4f90-8a86-64d7f6c1c6d8",
   "metadata": {},
   "outputs": [
    {
     "data": {
      "text/plain": [
       "6450157"
      ]
     },
     "execution_count": 9,
     "metadata": {},
     "output_type": "execute_result"
    }
   ],
   "source": [
    "np.size(idx)"
   ]
  },
  {
   "cell_type": "code",
   "execution_count": 10,
   "id": "896d587b-9e23-42e2-ba3e-a5ccc0a9910d",
   "metadata": {},
   "outputs": [
    {
     "name": "stdout",
     "output_type": "stream",
     "text": [
      "[  0.55708426   0.68041535   0.83083348   1.0146554    1.23922187\n",
      "   1.51344453   1.84837807   2.25736128   2.75676082   3.36680641\n",
      "   4.11175357   5.02175888   6.13318604   7.49054886   9.15064187\n",
      "  11.17199272  13.64514708  16.66472739  20.35419755  24.85475158\n",
      "  30.358949    37.07400996  45.27312145  55.28846784  67.5206764\n",
      "  82.45330965 100.69112394 122.96809003 150.15588216 183.35851391\n",
      " 223.90082854 273.40606515]\n",
      "[2.30895796e-06 2.34183439e-06 2.34753420e-06 2.07642171e-06\n",
      " 1.88249398e-06 1.68409752e-06 1.30195688e-06 1.14561278e-06\n",
      " 7.54309555e-07 5.26653067e-07 2.42751886e-07 5.87748102e-08\n",
      " 2.31370313e-09 6.01937965e-08 7.71200300e-08 9.37462697e-08\n",
      " 7.04448960e-08 6.93712675e-08 6.70582522e-08 7.20353563e-08\n",
      " 7.47602138e-08 6.22430277e-08 6.55984999e-08 6.53871451e-08\n",
      " 6.29844763e-08 6.23320730e-08 6.29961858e-08 6.03117752e-08\n",
      " 5.75594194e-08 5.39358123e-08 5.05135224e-08 4.68871754e-08]\n",
      "[1.80845986e-07 1.48234400e-07 1.21996680e-07 1.00207650e-07\n",
      " 8.24605952e-08 6.77818969e-08 5.56753948e-08 4.56908131e-08\n",
      " 3.75421714e-08 3.08285097e-08 2.53081340e-08 2.08037520e-08\n",
      " 1.70902554e-08 1.40435215e-08 1.15038547e-08 9.41002816e-09\n",
      " 7.73709628e-09 6.35855809e-09 5.20408250e-09 4.27897471e-09\n",
      " 3.51112612e-09 2.88626820e-09 2.37577682e-09 1.95822915e-09\n",
      " 1.61810099e-09 1.34117647e-09 1.11448280e-09 9.28345242e-10\n",
      " 7.77072187e-10 6.53602365e-10 5.52895472e-10 4.70946778e-10]\n"
     ]
    }
   ],
   "source": [
    "#rho 1 \n",
    "corr = treecorr.GGCorrelation(bin_size=0.2,min_sep= 0.5,max_sep= 300.0, sep_units=\"arcmin\", bin_slop=0.1)\n",
    "cat1 = treecorr.Catalog(ra=data['ra'][idx], dec=data['dec'][idx], g1=data['e1'][idx]-data['psf_e1'][idx], g2=data['e2'][idx]-data['psf_e2'][idx], ra_units=\"deg\", dec_units=\"deg\")\n",
    "corr.process(cat1)\n",
    "print(corr.meanr)\n",
    "print(corr.xip)\n",
    "print(corr.varxip**0.5)\n"
   ]
  },
  {
   "cell_type": "code",
   "execution_count": 11,
   "id": "84fd3810-0b78-4b31-8725-2d3c5ea16ef1",
   "metadata": {},
   "outputs": [
    {
     "data": {
      "text/plain": [
       "[<matplotlib.lines.Line2D at 0x7f10f2bbb5e0>]"
      ]
     },
     "execution_count": 11,
     "metadata": {},
     "output_type": "execute_result"
    },
    {
     "data": {
      "image/png": "[encoded data removed]",
      "text/plain": [
       "<Figure size 640x480 with 1 Axes>"
      ]
     },
     "metadata": {},
     "output_type": "display_data"
    }
   ],
   "source": [
    "mplot.loglog(np.exp(corr.meanlogr), corr.xip)"
   ]
  },
  {
   "cell_type": "code",
   "execution_count": 12,
   "id": "c193fdd7-21de-4637-9284-bd98022ab2d1",
   "metadata": {},
   "outputs": [
    {
     "name": "stdout",
     "output_type": "stream",
     "text": [
      "[  0.55708426   0.68041535   0.83083348   1.0146554    1.23922187\n",
      "   1.51344453   1.84837807   2.25736128   2.75676082   3.36680641\n",
      "   4.11175357   5.02175888   6.13318604   7.49054886   9.15064187\n",
      "  11.17199272  13.64514708  16.66472739  20.35419755  24.85475158\n",
      "  30.358949    37.07400996  45.27312145  55.28846784  67.5206764\n",
      "  82.45330965 100.69112394 122.96809003 150.15588216 183.35851392\n",
      " 223.90082854 273.40606515]\n",
      "[-1.17415764e-06 -1.04986022e-06 -7.76958487e-07 -9.17034049e-07\n",
      " -1.00525374e-06 -1.07153472e-06 -1.68533751e-06 -1.47430552e-06\n",
      " -1.76650820e-06 -1.76632563e-06 -1.80611614e-06 -1.71958658e-06\n",
      " -1.60924104e-06 -1.48511072e-06 -1.40062901e-06 -1.35511938e-06\n",
      " -1.25942057e-06 -1.11755315e-06 -1.01913320e-06 -9.43334544e-07\n",
      " -9.04350432e-07 -9.01056612e-07 -9.18323742e-07 -8.51105352e-07\n",
      " -7.46703938e-07 -7.31840210e-07 -7.55224468e-07 -7.41288578e-07\n",
      " -6.72551021e-07 -6.68451663e-07 -6.51080286e-07 -6.03963938e-07]\n",
      "[3.03966409e-07 2.49152770e-07 2.05052342e-07 1.68429282e-07\n",
      " 1.38599986e-07 1.13927991e-07 9.35793504e-08 7.67972392e-08\n",
      " 6.31009807e-08 5.18166404e-08 4.25379783e-08 3.49670012e-08\n",
      " 2.87253464e-08 2.36043879e-08 1.93357093e-08 1.58164001e-08\n",
      " 1.30045318e-08 1.06874812e-08 8.74703559e-09 7.19211198e-09\n",
      " 5.90151004e-09 4.85124720e-09 3.99321194e-09 3.29139672e-09\n",
      " 2.71970841e-09 2.25425295e-09 1.87322563e-09 1.56036513e-09\n",
      " 1.30610498e-09 1.09857658e-09 9.29308168e-10 7.91568586e-10]\n"
     ]
    }
   ],
   "source": [
    "#rho 2 \n",
    "corr = treecorr.GGCorrelation(bin_size=0.2,min_sep= 0.5,max_sep= 300.0, sep_units=\"arcmin\", bin_slop=0.1)\n",
    "cat1 = treecorr.Catalog(ra=data['ra'][idx], dec=data['dec'][idx], g1=data['e1'][idx], g2=data['e2'][idx], ra_units=\"deg\", dec_units=\"deg\")\n",
    "cat2 = treecorr.Catalog(ra=data['ra'][idx], dec=data['dec'][idx], g1=data['e1'][idx]-data['psf_e1'][idx], g2=data['e2'][idx]-data['psf_e2'][idx], ra_units=\"deg\", dec_units=\"deg\")\n",
    "corr.process(cat1, cat2)\n",
    "print(corr.meanr)\n",
    "print(corr.xip)\n",
    "print(corr.varxip**0.5)"
   ]
  },
  {
   "cell_type": "code",
   "execution_count": 15,
   "id": "2a2b8513-2730-4045-ace9-94550add125a",
   "metadata": {},
   "outputs": [
    {
     "data": {
      "text/plain": [
       "[<matplotlib.lines.Line2D at 0x7f10ee138cd0>]"
      ]
     },
     "execution_count": 15,
     "metadata": {},
     "output_type": "execute_result"
    },
    {
     "data": {
      "image/png": "[encoded data removed]",
      "text/plain": [
       "<Figure size 640x480 with 1 Axes>"
      ]
     },
     "metadata": {},
     "output_type": "display_data"
    }
   ],
   "source": [
    "mplot.loglog(np.exp(corr.meanlogr), np.abs(corr.xip))"
   ]
  },
  {
   "cell_type": "code",
   "execution_count": null,
   "id": "6d34eae0-fbfc-403e-9233-b52a94175005",
   "metadata": {},
   "outputs": [],
   "source": []
  }
 ],
 "metadata": {
  "kernelspec": {
   "display_name": "desc-python",
   "language": "python",
   "name": "desc-python"
  },
  "language_info": {
   "codemirror_mode": {
    "name": "ipython",
    "version": 3
   },
   "file_extension": ".py",
   "mimetype": "text/x-python",
   "name": "python",
   "nbconvert_exporter": "python",
   "pygments_lexer": "ipython3",
   "version": "3.10.10"
  }
 },
 "nbformat": 4,
 "nbformat_minor": 5
}

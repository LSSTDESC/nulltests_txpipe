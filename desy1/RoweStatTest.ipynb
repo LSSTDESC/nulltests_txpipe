{
 "cells": [
  {
   "cell_type": "code",
   "execution_count": 3,
   "id": "2eda3878-05f9-4a37-9f39-ad549b6becff",
   "metadata": {},
   "outputs": [
    {
     "name": "stdout",
     "output_type": "stream",
     "text": [
      "%pylab is deprecated, use %matplotlib inline and import the required libraries.\n",
      "Populating the interactive namespace from numpy and matplotlib\n"
     ]
    },
    {
     "name": "stderr",
     "output_type": "stream",
     "text": [
      "/global/common/software/lsst/gitlab/desc-python-prod/84904/py/lib/python3.10/site-packages/IPython/core/magics/pylab.py:162: UserWarning: pylab import has clobbered these variables: ['f']\n",
      "`%matplotlib` prevents importing * from pylab and numpy\n",
      "  warn(\"pylab import has clobbered these variables: %s\"  % clobbered +\n"
     ]
    }
   ],
   "source": [
    "import numpy as np\n",
    "import h5py\n",
    "import treecorr\n",
    "import pandas as pd\n",
    "import pylab as mplot\n",
    "%pylab inline"
   ]
  },
  {
   "cell_type": "code",
   "execution_count": 20,
   "id": "2251c518-b8f0-4cce-bc26-5422429891cb",
   "metadata": {},
   "outputs": [],
   "source": [
    "data = pd.DataFrame()\n",
    "with h5py.File('/global/cfs/cdirs/lsst/groups/WL/projects/txpipe-sys-tests/des-y1/DES_psf_catalog.hdf5','r') as f:\n",
    "    g = f[\"stars\"]\n",
    "    data['ra'] = g[\"ra\"][:]\n",
    "    data['dec'] = g[\"dec\"][:]\n",
    "    data['e1'] = g[\"measured_e1\"][:]\n",
    "    data['e2'] = g[\"measured_e2\"][:]\n",
    "    data['e1_model'] = g[\"model_e1\"][:]\n",
    "    data['e2_model'] = g[\"model_e2\"][:]\n",
    "    \n",
    "    data['de1'] = data['e1'] - g[\"model_e1\"][:]\n",
    "    data['de2'] = data['e2'] - g[\"model_e2\"][:]\n",
    "    #T_frac = (g[\"measured_T\"][:] - g[\"model_T\"][:]) / g[\"measured_T\"][:]\n",
    "    data['T_frac'] = (g[\"measured_T\"][:] ** 2 - g[\"model_T\"][:] ** 2) / g[\"measured_T\"][:] ** 2\n",
    "    data['calib_psf_reserved'] = np.array(g[\"calib_psf_reserved\"][:])\n",
    "    data['calib_psf_used'] = np.array(g[\"calib_psf_used\"][:])"
   ]
  },
  {
   "cell_type": "code",
   "execution_count": 4,
   "id": "bd5ab498-53fe-47d9-be70-a7609dd1a7f5",
   "metadata": {},
   "outputs": [
    {
     "data": {
      "text/html": [
       "<div>\n",
       "<style scoped>\n",
       "    .dataframe tbody tr th:only-of-type {\n",
       "        vertical-align: middle;\n",
       "    }\n",
       "\n",
       "    .dataframe tbody tr th {\n",
       "        vertical-align: top;\n",
       "    }\n",
       "\n",
       "    .dataframe thead th {\n",
       "        text-align: right;\n",
       "    }\n",
       "</style>\n",
       "<table border=\"1\" class=\"dataframe\">\n",
       "  <thead>\n",
       "    <tr style=\"text-align: right;\">\n",
       "      <th></th>\n",
       "      <th>ra</th>\n",
       "      <th>dec</th>\n",
       "      <th>e1</th>\n",
       "      <th>e2</th>\n",
       "      <th>de1</th>\n",
       "      <th>de2</th>\n",
       "      <th>T_frac</th>\n",
       "      <th>calib_psf_reserved</th>\n",
       "      <th>calib_psf_used</th>\n",
       "    </tr>\n",
       "  </thead>\n",
       "  <tbody>\n",
       "    <tr>\n",
       "      <th>0</th>\n",
       "      <td>-35.083374</td>\n",
       "      <td>-51.494617</td>\n",
       "      <td>-0.026112</td>\n",
       "      <td>-0.014672</td>\n",
       "      <td>-0.009693</td>\n",
       "      <td>-0.021925</td>\n",
       "      <td>-0.012806</td>\n",
       "      <td>1</td>\n",
       "      <td>0</td>\n",
       "    </tr>\n",
       "    <tr>\n",
       "      <th>1</th>\n",
       "      <td>-35.078476</td>\n",
       "      <td>-51.477619</td>\n",
       "      <td>-0.026059</td>\n",
       "      <td>0.019919</td>\n",
       "      <td>-0.009877</td>\n",
       "      <td>0.011721</td>\n",
       "      <td>0.039352</td>\n",
       "      <td>1</td>\n",
       "      <td>0</td>\n",
       "    </tr>\n",
       "    <tr>\n",
       "      <th>2</th>\n",
       "      <td>-35.062531</td>\n",
       "      <td>-51.522213</td>\n",
       "      <td>-0.012536</td>\n",
       "      <td>0.004537</td>\n",
       "      <td>0.005617</td>\n",
       "      <td>-0.000340</td>\n",
       "      <td>0.007127</td>\n",
       "      <td>1</td>\n",
       "      <td>0</td>\n",
       "    </tr>\n",
       "    <tr>\n",
       "      <th>3</th>\n",
       "      <td>-34.960102</td>\n",
       "      <td>-51.518063</td>\n",
       "      <td>-0.018434</td>\n",
       "      <td>0.007310</td>\n",
       "      <td>0.001803</td>\n",
       "      <td>0.002182</td>\n",
       "      <td>-0.024512</td>\n",
       "      <td>1</td>\n",
       "      <td>0</td>\n",
       "    </tr>\n",
       "    <tr>\n",
       "      <th>4</th>\n",
       "      <td>-34.956352</td>\n",
       "      <td>-51.404015</td>\n",
       "      <td>-0.040547</td>\n",
       "      <td>-0.019234</td>\n",
       "      <td>-0.020703</td>\n",
       "      <td>-0.026943</td>\n",
       "      <td>-0.021202</td>\n",
       "      <td>1</td>\n",
       "      <td>0</td>\n",
       "    </tr>\n",
       "    <tr>\n",
       "      <th>...</th>\n",
       "      <td>...</td>\n",
       "      <td>...</td>\n",
       "      <td>...</td>\n",
       "      <td>...</td>\n",
       "      <td>...</td>\n",
       "      <td>...</td>\n",
       "      <td>...</td>\n",
       "      <td>...</td>\n",
       "      <td>...</td>\n",
       "    </tr>\n",
       "    <tr>\n",
       "      <th>14468765</th>\n",
       "      <td>89.349655</td>\n",
       "      <td>-40.749531</td>\n",
       "      <td>-0.058523</td>\n",
       "      <td>0.019931</td>\n",
       "      <td>-0.011315</td>\n",
       "      <td>-0.012071</td>\n",
       "      <td>0.070854</td>\n",
       "      <td>1</td>\n",
       "      <td>0</td>\n",
       "    </tr>\n",
       "    <tr>\n",
       "      <th>14468766</th>\n",
       "      <td>89.343872</td>\n",
       "      <td>-40.641918</td>\n",
       "      <td>-0.041997</td>\n",
       "      <td>0.037199</td>\n",
       "      <td>-0.017489</td>\n",
       "      <td>0.004563</td>\n",
       "      <td>0.033485</td>\n",
       "      <td>1</td>\n",
       "      <td>0</td>\n",
       "    </tr>\n",
       "    <tr>\n",
       "      <th>14468767</th>\n",
       "      <td>89.400398</td>\n",
       "      <td>-40.720074</td>\n",
       "      <td>-0.057028</td>\n",
       "      <td>0.065962</td>\n",
       "      <td>-0.011781</td>\n",
       "      <td>0.028679</td>\n",
       "      <td>0.063234</td>\n",
       "      <td>1</td>\n",
       "      <td>0</td>\n",
       "    </tr>\n",
       "    <tr>\n",
       "      <th>14468768</th>\n",
       "      <td>89.332405</td>\n",
       "      <td>-40.664532</td>\n",
       "      <td>-0.020369</td>\n",
       "      <td>0.050319</td>\n",
       "      <td>0.005621</td>\n",
       "      <td>0.020883</td>\n",
       "      <td>-0.013556</td>\n",
       "      <td>1</td>\n",
       "      <td>0</td>\n",
       "    </tr>\n",
       "    <tr>\n",
       "      <th>14468769</th>\n",
       "      <td>89.421326</td>\n",
       "      <td>-40.622997</td>\n",
       "      <td>-0.025710</td>\n",
       "      <td>0.061711</td>\n",
       "      <td>0.003637</td>\n",
       "      <td>0.017937</td>\n",
       "      <td>-0.009591</td>\n",
       "      <td>1</td>\n",
       "      <td>0</td>\n",
       "    </tr>\n",
       "  </tbody>\n",
       "</table>\n",
       "<p>14468770 rows × 9 columns</p>\n",
       "</div>"
      ],
      "text/plain": [
       "                 ra        dec        e1        e2       de1       de2   \n",
       "0        -35.083374 -51.494617 -0.026112 -0.014672 -0.009693 -0.021925  \\\n",
       "1        -35.078476 -51.477619 -0.026059  0.019919 -0.009877  0.011721   \n",
       "2        -35.062531 -51.522213 -0.012536  0.004537  0.005617 -0.000340   \n",
       "3        -34.960102 -51.518063 -0.018434  0.007310  0.001803  0.002182   \n",
       "4        -34.956352 -51.404015 -0.040547 -0.019234 -0.020703 -0.026943   \n",
       "...             ...        ...       ...       ...       ...       ...   \n",
       "14468765  89.349655 -40.749531 -0.058523  0.019931 -0.011315 -0.012071   \n",
       "14468766  89.343872 -40.641918 -0.041997  0.037199 -0.017489  0.004563   \n",
       "14468767  89.400398 -40.720074 -0.057028  0.065962 -0.011781  0.028679   \n",
       "14468768  89.332405 -40.664532 -0.020369  0.050319  0.005621  0.020883   \n",
       "14468769  89.421326 -40.622997 -0.025710  0.061711  0.003637  0.017937   \n",
       "\n",
       "            T_frac  calib_psf_reserved  calib_psf_used  \n",
       "0        -0.012806                   1               0  \n",
       "1         0.039352                   1               0  \n",
       "2         0.007127                   1               0  \n",
       "3        -0.024512                   1               0  \n",
       "4        -0.021202                   1               0  \n",
       "...            ...                 ...             ...  \n",
       "14468765  0.070854                   1               0  \n",
       "14468766  0.033485                   1               0  \n",
       "14468767  0.063234                   1               0  \n",
       "14468768 -0.013556                   1               0  \n",
       "14468769 -0.009591                   1               0  \n",
       "\n",
       "[14468770 rows x 9 columns]"
      ]
     },
     "execution_count": 4,
     "metadata": {},
     "output_type": "execute_result"
    }
   ],
   "source": [
    "data"
   ]
  },
  {
   "cell_type": "code",
   "execution_count": 5,
   "id": "b128215a-87e3-4b56-9f6d-8dc9fdc451b8",
   "metadata": {},
   "outputs": [
    {
     "data": {
      "text/html": [
       "<div>\n",
       "<style scoped>\n",
       "    .dataframe tbody tr th:only-of-type {\n",
       "        vertical-align: middle;\n",
       "    }\n",
       "\n",
       "    .dataframe tbody tr th {\n",
       "        vertical-align: top;\n",
       "    }\n",
       "\n",
       "    .dataframe thead th {\n",
       "        text-align: right;\n",
       "    }\n",
       "</style>\n",
       "<table border=\"1\" class=\"dataframe\">\n",
       "  <thead>\n",
       "    <tr style=\"text-align: right;\">\n",
       "      <th></th>\n",
       "      <th>ra</th>\n",
       "      <th>dec</th>\n",
       "      <th>e1</th>\n",
       "      <th>e2</th>\n",
       "      <th>de1</th>\n",
       "      <th>de2</th>\n",
       "      <th>T_frac</th>\n",
       "      <th>calib_psf_reserved</th>\n",
       "      <th>calib_psf_used</th>\n",
       "    </tr>\n",
       "  </thead>\n",
       "  <tbody>\n",
       "    <tr>\n",
       "      <th>0</th>\n",
       "      <td>-35.083374</td>\n",
       "      <td>-51.494617</td>\n",
       "      <td>-0.026112</td>\n",
       "      <td>-0.014672</td>\n",
       "      <td>-0.009693</td>\n",
       "      <td>-0.021925</td>\n",
       "      <td>-0.012806</td>\n",
       "      <td>1</td>\n",
       "      <td>0</td>\n",
       "    </tr>\n",
       "    <tr>\n",
       "      <th>1</th>\n",
       "      <td>-35.078476</td>\n",
       "      <td>-51.477619</td>\n",
       "      <td>-0.026059</td>\n",
       "      <td>0.019919</td>\n",
       "      <td>-0.009877</td>\n",
       "      <td>0.011721</td>\n",
       "      <td>0.039352</td>\n",
       "      <td>1</td>\n",
       "      <td>0</td>\n",
       "    </tr>\n",
       "    <tr>\n",
       "      <th>2</th>\n",
       "      <td>-35.062531</td>\n",
       "      <td>-51.522213</td>\n",
       "      <td>-0.012536</td>\n",
       "      <td>0.004537</td>\n",
       "      <td>0.005617</td>\n",
       "      <td>-0.000340</td>\n",
       "      <td>0.007127</td>\n",
       "      <td>1</td>\n",
       "      <td>0</td>\n",
       "    </tr>\n",
       "    <tr>\n",
       "      <th>3</th>\n",
       "      <td>-34.960102</td>\n",
       "      <td>-51.518063</td>\n",
       "      <td>-0.018434</td>\n",
       "      <td>0.007310</td>\n",
       "      <td>0.001803</td>\n",
       "      <td>0.002182</td>\n",
       "      <td>-0.024512</td>\n",
       "      <td>1</td>\n",
       "      <td>0</td>\n",
       "    </tr>\n",
       "    <tr>\n",
       "      <th>4</th>\n",
       "      <td>-34.956352</td>\n",
       "      <td>-51.404015</td>\n",
       "      <td>-0.040547</td>\n",
       "      <td>-0.019234</td>\n",
       "      <td>-0.020703</td>\n",
       "      <td>-0.026943</td>\n",
       "      <td>-0.021202</td>\n",
       "      <td>1</td>\n",
       "      <td>0</td>\n",
       "    </tr>\n",
       "    <tr>\n",
       "      <th>...</th>\n",
       "      <td>...</td>\n",
       "      <td>...</td>\n",
       "      <td>...</td>\n",
       "      <td>...</td>\n",
       "      <td>...</td>\n",
       "      <td>...</td>\n",
       "      <td>...</td>\n",
       "      <td>...</td>\n",
       "      <td>...</td>\n",
       "    </tr>\n",
       "    <tr>\n",
       "      <th>14468765</th>\n",
       "      <td>89.349655</td>\n",
       "      <td>-40.749531</td>\n",
       "      <td>-0.058523</td>\n",
       "      <td>0.019931</td>\n",
       "      <td>-0.011315</td>\n",
       "      <td>-0.012071</td>\n",
       "      <td>0.070854</td>\n",
       "      <td>1</td>\n",
       "      <td>0</td>\n",
       "    </tr>\n",
       "    <tr>\n",
       "      <th>14468766</th>\n",
       "      <td>89.343872</td>\n",
       "      <td>-40.641918</td>\n",
       "      <td>-0.041997</td>\n",
       "      <td>0.037199</td>\n",
       "      <td>-0.017489</td>\n",
       "      <td>0.004563</td>\n",
       "      <td>0.033485</td>\n",
       "      <td>1</td>\n",
       "      <td>0</td>\n",
       "    </tr>\n",
       "    <tr>\n",
       "      <th>14468767</th>\n",
       "      <td>89.400398</td>\n",
       "      <td>-40.720074</td>\n",
       "      <td>-0.057028</td>\n",
       "      <td>0.065962</td>\n",
       "      <td>-0.011781</td>\n",
       "      <td>0.028679</td>\n",
       "      <td>0.063234</td>\n",
       "      <td>1</td>\n",
       "      <td>0</td>\n",
       "    </tr>\n",
       "    <tr>\n",
       "      <th>14468768</th>\n",
       "      <td>89.332405</td>\n",
       "      <td>-40.664532</td>\n",
       "      <td>-0.020369</td>\n",
       "      <td>0.050319</td>\n",
       "      <td>0.005621</td>\n",
       "      <td>0.020883</td>\n",
       "      <td>-0.013556</td>\n",
       "      <td>1</td>\n",
       "      <td>0</td>\n",
       "    </tr>\n",
       "    <tr>\n",
       "      <th>14468769</th>\n",
       "      <td>89.421326</td>\n",
       "      <td>-40.622997</td>\n",
       "      <td>-0.025710</td>\n",
       "      <td>0.061711</td>\n",
       "      <td>0.003637</td>\n",
       "      <td>0.017937</td>\n",
       "      <td>-0.009591</td>\n",
       "      <td>1</td>\n",
       "      <td>0</td>\n",
       "    </tr>\n",
       "  </tbody>\n",
       "</table>\n",
       "<p>14468770 rows × 9 columns</p>\n",
       "</div>"
      ],
      "text/plain": [
       "                 ra        dec        e1        e2       de1       de2   \n",
       "0        -35.083374 -51.494617 -0.026112 -0.014672 -0.009693 -0.021925  \\\n",
       "1        -35.078476 -51.477619 -0.026059  0.019919 -0.009877  0.011721   \n",
       "2        -35.062531 -51.522213 -0.012536  0.004537  0.005617 -0.000340   \n",
       "3        -34.960102 -51.518063 -0.018434  0.007310  0.001803  0.002182   \n",
       "4        -34.956352 -51.404015 -0.040547 -0.019234 -0.020703 -0.026943   \n",
       "...             ...        ...       ...       ...       ...       ...   \n",
       "14468765  89.349655 -40.749531 -0.058523  0.019931 -0.011315 -0.012071   \n",
       "14468766  89.343872 -40.641918 -0.041997  0.037199 -0.017489  0.004563   \n",
       "14468767  89.400398 -40.720074 -0.057028  0.065962 -0.011781  0.028679   \n",
       "14468768  89.332405 -40.664532 -0.020369  0.050319  0.005621  0.020883   \n",
       "14468769  89.421326 -40.622997 -0.025710  0.061711  0.003637  0.017937   \n",
       "\n",
       "            T_frac  calib_psf_reserved  calib_psf_used  \n",
       "0        -0.012806                   1               0  \n",
       "1         0.039352                   1               0  \n",
       "2         0.007127                   1               0  \n",
       "3        -0.024512                   1               0  \n",
       "4        -0.021202                   1               0  \n",
       "...            ...                 ...             ...  \n",
       "14468765  0.070854                   1               0  \n",
       "14468766  0.033485                   1               0  \n",
       "14468767  0.063234                   1               0  \n",
       "14468768 -0.013556                   1               0  \n",
       "14468769 -0.009591                   1               0  \n",
       "\n",
       "[14468770 rows x 9 columns]"
      ]
     },
     "execution_count": 5,
     "metadata": {},
     "output_type": "execute_result"
    }
   ],
   "source": [
    "data_reserved= data.loc[data['calib_psf_reserved']==1]\n",
    "data_reserved"
   ]
  },
  {
   "cell_type": "code",
   "execution_count": null,
   "id": "5bc1dbd1-ab13-4493-a716-153691aebff9",
   "metadata": {},
   "outputs": [],
   "source": [
    "data_used=data.loc[data['calib_psf_used']==0]\n",
    "data_used"
   ]
  },
  {
   "cell_type": "code",
   "execution_count": 6,
   "id": "15ab4ffe-0a98-499b-8ad5-8dae2e8a1377",
   "metadata": {},
   "outputs": [
    {
     "ename": "NameError",
     "evalue": "name 'data_reserved' is not defined",
     "output_type": "error",
     "traceback": [
      "\u001b[0;31m---------------------------------------------------------------------------\u001b[0m",
      "\u001b[0;31mNameError\u001b[0m                                 Traceback (most recent call last)",
      "Cell \u001b[0;32mIn[6], line 3\u001b[0m\n\u001b[1;32m      1\u001b[0m \u001b[38;5;66;03m#rho 2\u001b[39;00m\n\u001b[1;32m      2\u001b[0m corr \u001b[38;5;241m=\u001b[39m treecorr\u001b[38;5;241m.\u001b[39mGGCorrelation(nbins\u001b[38;5;241m=\u001b[39m\u001b[38;5;241m20\u001b[39m,min_sep\u001b[38;5;241m=\u001b[39m \u001b[38;5;241m0.5\u001b[39m,max_sep\u001b[38;5;241m=\u001b[39m \u001b[38;5;241m250.0\u001b[39m, sep_units\u001b[38;5;241m=\u001b[39m\u001b[38;5;124m\"\u001b[39m\u001b[38;5;124marcmin\u001b[39m\u001b[38;5;124m\"\u001b[39m)\n\u001b[0;32m----> 3\u001b[0m cat1 \u001b[38;5;241m=\u001b[39m treecorr\u001b[38;5;241m.\u001b[39mCatalog(ra\u001b[38;5;241m=\u001b[39m\u001b[43mdata_reserved\u001b[49m[\u001b[38;5;124m'\u001b[39m\u001b[38;5;124mra\u001b[39m\u001b[38;5;124m'\u001b[39m], dec\u001b[38;5;241m=\u001b[39mdata_reserved[\u001b[38;5;124m'\u001b[39m\u001b[38;5;124mdec\u001b[39m\u001b[38;5;124m'\u001b[39m], g1\u001b[38;5;241m=\u001b[39mdata_reserved[\u001b[38;5;124m'\u001b[39m\u001b[38;5;124me1\u001b[39m\u001b[38;5;124m'\u001b[39m], g2\u001b[38;5;241m=\u001b[39mdata_reserved[\u001b[38;5;124m'\u001b[39m\u001b[38;5;124me2\u001b[39m\u001b[38;5;124m'\u001b[39m], ra_units\u001b[38;5;241m=\u001b[39m\u001b[38;5;124m\"\u001b[39m\u001b[38;5;124mdeg\u001b[39m\u001b[38;5;124m\"\u001b[39m, dec_units\u001b[38;5;241m=\u001b[39m\u001b[38;5;124m\"\u001b[39m\u001b[38;5;124mdeg\u001b[39m\u001b[38;5;124m\"\u001b[39m)\n\u001b[1;32m      4\u001b[0m cat2 \u001b[38;5;241m=\u001b[39m treecorr\u001b[38;5;241m.\u001b[39mCatalog(ra\u001b[38;5;241m=\u001b[39mdata_reserved[\u001b[38;5;124m'\u001b[39m\u001b[38;5;124mra\u001b[39m\u001b[38;5;124m'\u001b[39m], dec\u001b[38;5;241m=\u001b[39mdata_reserved[\u001b[38;5;124m'\u001b[39m\u001b[38;5;124mdec\u001b[39m\u001b[38;5;124m'\u001b[39m], g1\u001b[38;5;241m=\u001b[39mdata_reserved[\u001b[38;5;124m'\u001b[39m\u001b[38;5;124mde1\u001b[39m\u001b[38;5;124m'\u001b[39m], g2\u001b[38;5;241m=\u001b[39mdata_reserved[\u001b[38;5;124m'\u001b[39m\u001b[38;5;124mde2\u001b[39m\u001b[38;5;124m'\u001b[39m], ra_units\u001b[38;5;241m=\u001b[39m\u001b[38;5;124m\"\u001b[39m\u001b[38;5;124mdeg\u001b[39m\u001b[38;5;124m\"\u001b[39m, dec_units\u001b[38;5;241m=\u001b[39m\u001b[38;5;124m\"\u001b[39m\u001b[38;5;124mdeg\u001b[39m\u001b[38;5;124m\"\u001b[39m)\n\u001b[1;32m      5\u001b[0m corr\u001b[38;5;241m.\u001b[39mprocess(cat1, cat2)\n",
      "\u001b[0;31mNameError\u001b[0m: name 'data_reserved' is not defined"
     ]
    }
   ],
   "source": [
    "\n",
    "#rho 2\n",
    "corr = treecorr.GGCorrelation(nbins=20,min_sep= 0.5,max_sep= 250.0)\n",
    "cat1 = treecorr.Catalog(ra=data_reserved['ra'], dec=data_reserved['dec'], g1=data_reserved['e1'], g2=data_reserved['e2'], ra_units=\"deg\", dec_units=\"deg\")\n",
    "cat2 = treecorr.Catalog(ra=data_reserved['ra'], dec=data_reserved['dec'], g1=data_reserved['de1'], g2=data_reserved['de2'], ra_units=\"deg\", dec_units=\"deg\")\n",
    "corr.process(cat1, cat2)\n",
    "print(corr.meanr)\n",
    "print(corr.xip)\n",
    "print(corr.varxip**0.5)"
   ]
  },
  {
   "cell_type": "code",
   "execution_count": null,
   "id": "e5766f0f-13f0-432c-b4ee-776720a66e92",
   "metadata": {},
   "outputs": [],
   "source": []
  },
  {
   "cell_type": "code",
   "execution_count": 13,
   "id": "896d587b-9e23-42e2-ba3e-a5ccc0a9910d",
   "metadata": {},
   "outputs": [
    {
     "name": "stdout",
     "output_type": "stream",
     "text": [
      "[  0.59563868   0.81259341   1.1086517    1.51272069   2.06399727\n",
      "   2.81606181   3.84231785   5.24234135   7.15269267   9.76343815\n",
      "  13.31552423  18.17278161  24.78687654  33.81952214  46.13782524\n",
      "  62.93466188  85.83729161 117.08588566 159.65910437 217.6970272 ]\n",
      "[2.72463660e-06 2.73653894e-06 2.24346627e-06 1.92135229e-06\n",
      " 1.43156060e-06 7.88311733e-07 3.30841923e-07 6.40664516e-08\n",
      " 1.72819611e-08 6.80926380e-08 5.94137517e-08 5.09561501e-08\n",
      " 5.35205376e-08 5.17682819e-08 5.75868003e-08 5.60311319e-08\n",
      " 5.45084390e-08 5.35475890e-08 5.32942321e-08 5.04370417e-08]\n",
      "[1.06029899e-07 7.80311769e-08 5.75311416e-08 4.23794930e-08\n",
      " 3.11844079e-08 2.29427377e-08 1.68815147e-08 1.24266473e-08\n",
      " 9.14727700e-09 6.70852604e-09 4.93282327e-09 3.62870821e-09\n",
      " 2.66996830e-09 1.96609939e-09 1.45221043e-09 1.07800986e-09\n",
      " 8.05519703e-10 6.06013378e-10 4.60404911e-10 3.54461518e-10]\n"
     ]
    }
   ],
   "source": [
    "#rho 1 CC\n",
    "corr = treecorr.GGCorrelation(nbins=20,min_sep= 0.5,max_sep= 250.0, sep_units=\"arcmin\", bin_slop=0.01)\n",
    "cat1 = treecorr.Catalog(ra=data['ra'], dec=data['dec'], g1=data['de1'], g2=data['de2'], ra_units=\"deg\", dec_units=\"deg\")\n",
    "corr.process(cat1)\n",
    "print(corr.meanr)\n",
    "print(corr.xip)\n",
    "print(corr.varxip**0.5)\n"
   ]
  },
  {
   "cell_type": "code",
   "execution_count": 14,
   "id": "84fd3810-0b78-4b31-8725-2d3c5ea16ef1",
   "metadata": {},
   "outputs": [
    {
     "data": {
      "text/plain": [
       "[<matplotlib.lines.Line2D at 0x7f859c2b54b0>]"
      ]
     },
     "execution_count": 14,
     "metadata": {},
     "output_type": "execute_result"
    },
    {
     "data": {
      "image/png": "[encoded data removed]",
      "text/plain": [
       "<Figure size 640x480 with 1 Axes>"
      ]
     },
     "metadata": {},
     "output_type": "display_data"
    }
   ],
   "source": [
    "mplot.loglog(corr.meanr, corr.xip)"
   ]
  },
  {
   "cell_type": "code",
   "execution_count": 15,
   "id": "2988328f-b6d9-4637-9ea4-212fd945b65b",
   "metadata": {},
   "outputs": [
    {
     "name": "stdout",
     "output_type": "stream",
     "text": [
      "[  0.59563868   0.81259341   1.1086517    1.51272069   2.06399727\n",
      "   2.81606181   3.84231785   5.24234135   7.15269267   9.76343815\n",
      "  13.31552423  18.17278161  24.78687654  33.81952214  46.13782524\n",
      "  62.93466188  85.83729161 117.08588566 159.65910437 217.6970272 ]\n",
      "[1.52032234e-06 1.61022776e-06 1.16218009e-06 1.09605162e-06\n",
      " 8.46461580e-07 3.32374834e-07 1.73873197e-07 2.19898958e-07\n",
      " 3.08499975e-07 4.35250567e-07 4.58324106e-07 5.28594490e-07\n",
      " 5.88984471e-07 5.78348527e-07 5.71526163e-07 6.44869959e-07\n",
      " 6.78935951e-07 7.05726517e-07 7.08580093e-07 7.07051800e-07]\n",
      "[1.44621975e-07 1.06432460e-07 7.84709544e-08 5.78045068e-08\n",
      " 4.25347070e-08 3.12932870e-08 2.30259393e-08 1.69496180e-08\n",
      " 1.24766437e-08 9.15025196e-09 6.72824039e-09 4.94946196e-09\n",
      " 3.64176609e-09 2.68170753e-09 1.98077659e-09 1.47037691e-09\n",
      " 1.09870755e-09 8.26586208e-10 6.27980113e-10 4.83476128e-10]\n"
     ]
    }
   ],
   "source": [
    "#rho 2 CC\n",
    "corr = treecorr.GGCorrelation(nbins=20,min_sep= 0.5,max_sep= 250.0, sep_units=\"arcmin\", bin_slop=0.1)\n",
    "cat1 = treecorr.Catalog(ra=data['ra'], dec=data['dec'], g1=data['de1'], g2=data['de2'], ra_units=\"deg\", dec_units=\"deg\")\n",
    "cat2 = treecorr.Catalog(ra=data['ra'], dec=data['dec'], g1=data['e1'], g2=data['e2'], ra_units=\"deg\", dec_units=\"deg\")\n",
    "\n",
    "corr.process(cat1, cat2)\n",
    "print(corr.meanr)\n",
    "print(corr.xip)\n",
    "print(corr.varxip**0.5)"
   ]
  },
  {
   "cell_type": "code",
   "execution_count": 17,
   "id": "730f1b8d-0a20-422a-adf3-3cd6e0349c9f",
   "metadata": {},
   "outputs": [
    {
     "data": {
      "text/plain": [
       "(1e-09, 1e-05)"
      ]
     },
     "execution_count": 17,
     "metadata": {},
     "output_type": "execute_result"
    },
    {
     "data": {
      "image/png": "[encoded data removed]",
      "text/plain": [
       "<Figure size 640x480 with 1 Axes>"
      ]
     },
     "metadata": {},
     "output_type": "display_data"
    }
   ],
   "source": [
    "mplot.loglog(corr.meanr, corr.xip)\n",
    "mplot.ylim(1e-9, 1e-5)"
   ]
  },
  {
   "cell_type": "code",
   "execution_count": 18,
   "id": "c193fdd7-21de-4637-9284-bd98022ab2d1",
   "metadata": {},
   "outputs": [
    {
     "name": "stdout",
     "output_type": "stream",
     "text": [
      "[  0.59549652   0.81242703   1.10841995   1.51246004   2.06375658\n",
      "   2.81594173   3.84241845   5.24269856   7.15333031   9.76440525\n",
      "  13.31683957  18.17477326  24.78972197  33.8238866   46.14484866\n",
      "  62.9444865   85.8530983  117.10934247 159.69159517 217.74483827]\n",
      "[ 6.20639323e-07  6.54472689e-07  3.07500153e-07  1.58611030e-07\n",
      " -9.88550939e-08 -6.30463786e-07 -7.99627802e-07 -7.84048263e-07\n",
      " -7.03696801e-07 -5.79842040e-07 -5.40126176e-07 -4.88188585e-07\n",
      " -4.34419147e-07 -4.45014493e-07 -4.61155601e-07 -4.12800565e-07\n",
      " -3.97752260e-07 -3.87601375e-07 -3.90913446e-07 -3.91821958e-07]\n",
      "[1.40812920e-07 1.03648683e-07 7.64181823e-08 5.62868698e-08\n",
      " 4.14166674e-08 3.04675173e-08 2.24176993e-08 1.65016446e-08\n",
      " 1.21466968e-08 8.90817340e-09 6.55024319e-09 4.81841499e-09\n",
      " 3.54531934e-09 2.61062660e-09 1.92820794e-09 1.43136925e-09\n",
      " 1.06951921e-09 8.04616543e-10 6.11312336e-10 4.70619776e-10]\n"
     ]
    }
   ],
   "source": [
    "#rho 2 CC mean subtraction\n",
    "corr = treecorr.GGCorrelation(nbins=20,min_sep= 0.5,max_sep= 250.0, sep_units=\"arcmin\", bin_slop=0.1)\n",
    "cat1 = treecorr.Catalog(ra=data['ra'], dec=data['dec'], g1=data['de1'], g2=data['de2'], ra_units=\"deg\", dec_units=\"deg\")\n",
    "cat2 = treecorr.Catalog(ra=data['ra'], dec=data['dec'], g1=data['e1']-np.mean(data['e1']), g2=data['e2']-np.mean(data['e2']), ra_units=\"deg\", dec_units=\"deg\")\n",
    "\n",
    "corr.process(cat1, cat2)\n",
    "print(corr.meanr)\n",
    "print(corr.xip)\n",
    "print(corr.varxip**0.5)"
   ]
  },
  {
   "cell_type": "code",
   "execution_count": 19,
   "id": "2a2b8513-2730-4045-ace9-94550add125a",
   "metadata": {},
   "outputs": [
    {
     "data": {
      "text/plain": [
       "(1e-09, 1e-05)"
      ]
     },
     "execution_count": 19,
     "metadata": {},
     "output_type": "execute_result"
    },
    {
     "data": {
      "image/png": "[encoded data removed]",
      "text/plain": [
       "<Figure size 640x480 with 1 Axes>"
      ]
     },
     "metadata": {},
     "output_type": "display_data"
    }
   ],
   "source": [
    "mplot.loglog(corr.meanr, corr.xip)"
   ]
  },
  {
   "cell_type": "code",
   "execution_count": null,
   "id": "ce98b5d0-cad7-415a-b29e-5c2fa0326b13",
   "metadata": {},
   "outputs": [],
   "source": []
  },
  {
   "cell_type": "code",
   "execution_count": 25,
   "id": "ed80025d-7a23-40bc-a378-d31910ef0e3e",
   "metadata": {},
   "outputs": [
    {
     "name": "stdout",
     "output_type": "stream",
     "text": [
      "[  0.59563868   0.81259341   1.1086517    1.51272069   2.06399727\n",
      "   2.81606181   3.84231785   5.24234135   7.15269267   9.76343815\n",
      "  13.31552423  18.17278161  24.78687654  33.81952214  46.13782524\n",
      "  62.93466188  85.83729161 117.08588566 159.65910437 217.6970272 ]\n",
      "[-3.92895084e-06 -3.86285012e-06 -3.32475246e-06 -2.74665295e-06\n",
      " -2.01665963e-06 -1.24424863e-06 -4.87810649e-07  9.17660549e-08\n",
      "  2.73936052e-07  2.99065291e-07  3.39496602e-07  4.26682190e-07\n",
      "  4.81943395e-07  4.74811963e-07  4.56352562e-07  5.32807695e-07\n",
      "  5.69919072e-07  5.98631339e-07  6.01991629e-07  6.06177716e-07]\n",
      "[1.49868673e-07 1.10293692e-07 8.13177790e-08 5.99015794e-08\n",
      " 4.40778110e-08 3.24285669e-08 2.38612906e-08 1.75645282e-08\n",
      " 1.29292802e-08 9.48221125e-09 6.97233223e-09 5.12902203e-09\n",
      " 3.77388465e-09 2.77899640e-09 2.05263660e-09 1.52372028e-09\n",
      " 1.13856724e-09 8.56573685e-10 6.50762418e-10 5.01016016e-10]\n"
     ]
    }
   ],
   "source": [
    "#rho 2 CC mean flip e1 model vs. e1 star\n",
    "corr = treecorr.GGCorrelation(nbins=20,min_sep= 0.5,max_sep= 250.0, sep_units=\"arcmin\", bin_slop=0.01)\n",
    "cat1 = treecorr.Catalog(ra=data['ra'], dec=data['dec'], g1=data['de1'], g2=data['de2'], ra_units=\"deg\", dec_units=\"deg\")\n",
    "cat2 = treecorr.Catalog(ra=data['ra'], dec=data['dec'], g1=data['e1_model']-data['de1'], g2=data['e2_model']-data['de2'], ra_units=\"deg\", dec_units=\"deg\")\n",
    "\n",
    "corr.process(cat1, cat2)\n",
    "print(corr.meanr)\n",
    "print(corr.xip)\n",
    "print(corr.varxip**0.5)"
   ]
  },
  {
   "cell_type": "code",
   "execution_count": 26,
   "id": "93773659-d932-41fe-a088-0285f274c3c5",
   "metadata": {},
   "outputs": [
    {
     "data": {
      "text/plain": [
       "[<matplotlib.lines.Line2D at 0x7f857529c070>]"
      ]
     },
     "execution_count": 26,
     "metadata": {},
     "output_type": "execute_result"
    },
    {
     "data": {
      "image/png": "[encoded data removed]",
      "text/plain": [
       "<Figure size 640x480 with 1 Axes>"
      ]
     },
     "metadata": {},
     "output_type": "display_data"
    }
   ],
   "source": [
    "mplot.semilogx(corr.meanr, corr.xip)"
   ]
  },
  {
   "cell_type": "code",
   "execution_count": 28,
   "id": "0d56a30e-d20c-43ee-bfb3-c160a9a1448e",
   "metadata": {},
   "outputs": [
    {
     "data": {
      "text/plain": [
       "[<matplotlib.lines.Line2D at 0x7f84bc923c70>]"
      ]
     },
     "execution_count": 28,
     "metadata": {},
     "output_type": "execute_result"
    },
    {
     "data": {
      "image/png": "[encoded data removed]",
      "text/plain": [
       "<Figure size 640x480 with 1 Axes>"
      ]
     },
     "metadata": {},
     "output_type": "display_data"
    }
   ],
   "source": [
    "mplot.loglog(corr.meanr, np.abs(corr.xip))"
   ]
  },
  {
   "cell_type": "code",
   "execution_count": null,
   "id": "e281726f-a18f-4a8d-96d8-651981715cf1",
   "metadata": {},
   "outputs": [],
   "source": []
  },
  {
   "cell_type": "code",
   "execution_count": null,
   "id": "e4b344b6-29e3-4ec8-953c-9e21d7d0ca33",
   "metadata": {},
   "outputs": [],
   "source": []
  },
  {
   "cell_type": "code",
   "execution_count": null,
   "id": "83311225-f532-42ae-80f6-096b2de2bede",
   "metadata": {},
   "outputs": [],
   "source": [
    "\n",
    "#rho 2\n",
    "corr = treecorr.GGCorrelation(nbins=20,min_sep= 0.5,max_sep= 250.0)\n",
    "cat1 = treecorr.Catalog(ra=data_used['ra'], dec=data_used['dec'], g1=data_used['e1'], g2=data_used['e2'], ra_units=\"deg\", dec_units=\"deg\")\n",
    "cat2 = treecorr.Catalog(ra=data_used['ra'], dec=data_used['dec'], g1=data_used['de1'], g2=data_used['de2'], ra_units=\"deg\", dec_units=\"deg\")\n",
    "corr.process(cat1, cat2)\n",
    "print(corr.meanr)\n",
    "print(corr.xip)\n",
    "print(corr.varxip**0.5)"
   ]
  },
  {
   "cell_type": "code",
   "execution_count": null,
   "id": "88b76650-7b93-4c07-b344-da6a40c3109e",
   "metadata": {},
   "outputs": [],
   "source": []
  }
 ],
 "metadata": {
  "kernelspec": {
   "display_name": "desc-python",
   "language": "python",
   "name": "desc-python"
  },
  "language_info": {
   "codemirror_mode": {
    "name": "ipython",
    "version": 3
   },
   "file_extension": ".py",
   "mimetype": "text/x-python",
   "name": "python",
   "nbconvert_exporter": "python",
   "pygments_lexer": "ipython3",
   "version": "3.10.10"
  }
 },
 "nbformat": 4,
 "nbformat_minor": 5
}

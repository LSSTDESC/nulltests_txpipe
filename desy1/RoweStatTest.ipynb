{
 "cells": [
  {
   "cell_type": "code",
   "execution_count": 1,
   "id": "2eda3878-05f9-4a37-9f39-ad549b6becff",
   "metadata": {},
   "outputs": [
    {
     "name": "stdout",
     "output_type": "stream",
     "text": [
      "%pylab is deprecated, use %matplotlib inline and import the required libraries.\n",
      "Populating the interactive namespace from numpy and matplotlib\n"
     ]
    }
   ],
   "source": [
    "import numpy as np\n",
    "import h5py\n",
    "import treecorr\n",
    "import pandas as pd\n",
    "import pylab as mplot\n",
    "%pylab inline"
   ]
  },
  {
   "cell_type": "code",
   "execution_count": 2,
   "id": "2251c518-b8f0-4cce-bc26-5422429891cb",
   "metadata": {},
   "outputs": [],
   "source": [
    "data = pd.DataFrame()\n",
    "with h5py.File('/global/cfs/cdirs/lsst/groups/WL/projects/txpipe-sys-tests/des-y1/DES_psf_catalog.hdf5','r') as f:\n",
    "    g = f[\"stars\"]\n",
    "    data['ra'] = g[\"ra\"][:]\n",
    "    data['dec'] = g[\"dec\"][:]\n",
    "    data['e1'] = g[\"measured_e1\"][:]\n",
    "    data['e2'] = g[\"measured_e2\"][:]\n",
    "    data['e1_model'] = g[\"model_e1\"][:]\n",
    "    data['e2_model'] = g[\"model_e2\"][:]\n",
    "    \n",
    "    data['de1'] = data['e1'] - g[\"model_e1\"][:]\n",
    "    data['de2'] = data['e2'] - g[\"model_e2\"][:]\n",
    "    #T_frac = (g[\"measured_T\"][:] - g[\"model_T\"][:]) / g[\"measured_T\"][:]\n",
    "    data['T_frac'] = (g[\"measured_T\"][:] ** 2 - g[\"model_T\"][:] ** 2) / g[\"measured_T\"][:] ** 2\n",
    "    data['calib_psf_reserved'] = np.array(g[\"calib_psf_reserved\"][:])\n",
    "    data['calib_psf_used'] = np.array(g[\"calib_psf_used\"][:])"
   ]
  },
  {
   "cell_type": "code",
   "execution_count": 3,
   "id": "bd5ab498-53fe-47d9-be70-a7609dd1a7f5",
   "metadata": {},
   "outputs": [
    {
     "data": {
      "text/html": [
       "<div>\n",
       "<style scoped>\n",
       "    .dataframe tbody tr th:only-of-type {\n",
       "        vertical-align: middle;\n",
       "    }\n",
       "\n",
       "    .dataframe tbody tr th {\n",
       "        vertical-align: top;\n",
       "    }\n",
       "\n",
       "    .dataframe thead th {\n",
       "        text-align: right;\n",
       "    }\n",
       "</style>\n",
       "<table border=\"1\" class=\"dataframe\">\n",
       "  <thead>\n",
       "    <tr style=\"text-align: right;\">\n",
       "      <th></th>\n",
       "      <th>ra</th>\n",
       "      <th>dec</th>\n",
       "      <th>e1</th>\n",
       "      <th>e2</th>\n",
       "      <th>e1_model</th>\n",
       "      <th>e2_model</th>\n",
       "      <th>de1</th>\n",
       "      <th>de2</th>\n",
       "      <th>T_frac</th>\n",
       "      <th>calib_psf_reserved</th>\n",
       "      <th>calib_psf_used</th>\n",
       "    </tr>\n",
       "  </thead>\n",
       "  <tbody>\n",
       "    <tr>\n",
       "      <th>0</th>\n",
       "      <td>-35.083374</td>\n",
       "      <td>-51.494617</td>\n",
       "      <td>-0.026112</td>\n",
       "      <td>-0.014672</td>\n",
       "      <td>-0.016419</td>\n",
       "      <td>0.007253</td>\n",
       "      <td>-0.009693</td>\n",
       "      <td>-0.021925</td>\n",
       "      <td>-0.012806</td>\n",
       "      <td>1</td>\n",
       "      <td>0</td>\n",
       "    </tr>\n",
       "    <tr>\n",
       "      <th>1</th>\n",
       "      <td>-35.078476</td>\n",
       "      <td>-51.477619</td>\n",
       "      <td>-0.026059</td>\n",
       "      <td>0.019919</td>\n",
       "      <td>-0.016182</td>\n",
       "      <td>0.008198</td>\n",
       "      <td>-0.009877</td>\n",
       "      <td>0.011721</td>\n",
       "      <td>0.039352</td>\n",
       "      <td>1</td>\n",
       "      <td>0</td>\n",
       "    </tr>\n",
       "    <tr>\n",
       "      <th>2</th>\n",
       "      <td>-35.062531</td>\n",
       "      <td>-51.522213</td>\n",
       "      <td>-0.012536</td>\n",
       "      <td>0.004537</td>\n",
       "      <td>-0.018153</td>\n",
       "      <td>0.004877</td>\n",
       "      <td>0.005617</td>\n",
       "      <td>-0.000340</td>\n",
       "      <td>0.007127</td>\n",
       "      <td>1</td>\n",
       "      <td>0</td>\n",
       "    </tr>\n",
       "    <tr>\n",
       "      <th>3</th>\n",
       "      <td>-34.960102</td>\n",
       "      <td>-51.518063</td>\n",
       "      <td>-0.018434</td>\n",
       "      <td>0.007310</td>\n",
       "      <td>-0.020237</td>\n",
       "      <td>0.005128</td>\n",
       "      <td>0.001803</td>\n",
       "      <td>0.002182</td>\n",
       "      <td>-0.024512</td>\n",
       "      <td>1</td>\n",
       "      <td>0</td>\n",
       "    </tr>\n",
       "    <tr>\n",
       "      <th>4</th>\n",
       "      <td>-34.956352</td>\n",
       "      <td>-51.404015</td>\n",
       "      <td>-0.040547</td>\n",
       "      <td>-0.019234</td>\n",
       "      <td>-0.019844</td>\n",
       "      <td>0.007709</td>\n",
       "      <td>-0.020703</td>\n",
       "      <td>-0.026943</td>\n",
       "      <td>-0.021202</td>\n",
       "      <td>1</td>\n",
       "      <td>0</td>\n",
       "    </tr>\n",
       "    <tr>\n",
       "      <th>...</th>\n",
       "      <td>...</td>\n",
       "      <td>...</td>\n",
       "      <td>...</td>\n",
       "      <td>...</td>\n",
       "      <td>...</td>\n",
       "      <td>...</td>\n",
       "      <td>...</td>\n",
       "      <td>...</td>\n",
       "      <td>...</td>\n",
       "      <td>...</td>\n",
       "      <td>...</td>\n",
       "    </tr>\n",
       "    <tr>\n",
       "      <th>14468765</th>\n",
       "      <td>89.349655</td>\n",
       "      <td>-40.749531</td>\n",
       "      <td>-0.058523</td>\n",
       "      <td>0.019931</td>\n",
       "      <td>-0.047208</td>\n",
       "      <td>0.032002</td>\n",
       "      <td>-0.011315</td>\n",
       "      <td>-0.012071</td>\n",
       "      <td>0.070854</td>\n",
       "      <td>1</td>\n",
       "      <td>0</td>\n",
       "    </tr>\n",
       "    <tr>\n",
       "      <th>14468766</th>\n",
       "      <td>89.343872</td>\n",
       "      <td>-40.641918</td>\n",
       "      <td>-0.041997</td>\n",
       "      <td>0.037199</td>\n",
       "      <td>-0.024508</td>\n",
       "      <td>0.032636</td>\n",
       "      <td>-0.017489</td>\n",
       "      <td>0.004563</td>\n",
       "      <td>0.033485</td>\n",
       "      <td>1</td>\n",
       "      <td>0</td>\n",
       "    </tr>\n",
       "    <tr>\n",
       "      <th>14468767</th>\n",
       "      <td>89.400398</td>\n",
       "      <td>-40.720074</td>\n",
       "      <td>-0.057028</td>\n",
       "      <td>0.065962</td>\n",
       "      <td>-0.045246</td>\n",
       "      <td>0.037283</td>\n",
       "      <td>-0.011781</td>\n",
       "      <td>0.028679</td>\n",
       "      <td>0.063234</td>\n",
       "      <td>1</td>\n",
       "      <td>0</td>\n",
       "    </tr>\n",
       "    <tr>\n",
       "      <th>14468768</th>\n",
       "      <td>89.332405</td>\n",
       "      <td>-40.664532</td>\n",
       "      <td>-0.020369</td>\n",
       "      <td>0.050319</td>\n",
       "      <td>-0.025990</td>\n",
       "      <td>0.029436</td>\n",
       "      <td>0.005621</td>\n",
       "      <td>0.020883</td>\n",
       "      <td>-0.013556</td>\n",
       "      <td>1</td>\n",
       "      <td>0</td>\n",
       "    </tr>\n",
       "    <tr>\n",
       "      <th>14468769</th>\n",
       "      <td>89.421326</td>\n",
       "      <td>-40.622997</td>\n",
       "      <td>-0.025710</td>\n",
       "      <td>0.061711</td>\n",
       "      <td>-0.029347</td>\n",
       "      <td>0.043773</td>\n",
       "      <td>0.003637</td>\n",
       "      <td>0.017937</td>\n",
       "      <td>-0.009591</td>\n",
       "      <td>1</td>\n",
       "      <td>0</td>\n",
       "    </tr>\n",
       "  </tbody>\n",
       "</table>\n",
       "<p>14468770 rows × 11 columns</p>\n",
       "</div>"
      ],
      "text/plain": [
       "                 ra        dec        e1        e2  e1_model  e2_model   \n",
       "0        -35.083374 -51.494617 -0.026112 -0.014672 -0.016419  0.007253  \\\n",
       "1        -35.078476 -51.477619 -0.026059  0.019919 -0.016182  0.008198   \n",
       "2        -35.062531 -51.522213 -0.012536  0.004537 -0.018153  0.004877   \n",
       "3        -34.960102 -51.518063 -0.018434  0.007310 -0.020237  0.005128   \n",
       "4        -34.956352 -51.404015 -0.040547 -0.019234 -0.019844  0.007709   \n",
       "...             ...        ...       ...       ...       ...       ...   \n",
       "14468765  89.349655 -40.749531 -0.058523  0.019931 -0.047208  0.032002   \n",
       "14468766  89.343872 -40.641918 -0.041997  0.037199 -0.024508  0.032636   \n",
       "14468767  89.400398 -40.720074 -0.057028  0.065962 -0.045246  0.037283   \n",
       "14468768  89.332405 -40.664532 -0.020369  0.050319 -0.025990  0.029436   \n",
       "14468769  89.421326 -40.622997 -0.025710  0.061711 -0.029347  0.043773   \n",
       "\n",
       "               de1       de2    T_frac  calib_psf_reserved  calib_psf_used  \n",
       "0        -0.009693 -0.021925 -0.012806                   1               0  \n",
       "1        -0.009877  0.011721  0.039352                   1               0  \n",
       "2         0.005617 -0.000340  0.007127                   1               0  \n",
       "3         0.001803  0.002182 -0.024512                   1               0  \n",
       "4        -0.020703 -0.026943 -0.021202                   1               0  \n",
       "...            ...       ...       ...                 ...             ...  \n",
       "14468765 -0.011315 -0.012071  0.070854                   1               0  \n",
       "14468766 -0.017489  0.004563  0.033485                   1               0  \n",
       "14468767 -0.011781  0.028679  0.063234                   1               0  \n",
       "14468768  0.005621  0.020883 -0.013556                   1               0  \n",
       "14468769  0.003637  0.017937 -0.009591                   1               0  \n",
       "\n",
       "[14468770 rows x 11 columns]"
      ]
     },
     "execution_count": 3,
     "metadata": {},
     "output_type": "execute_result"
    }
   ],
   "source": [
    "data"
   ]
  },
  {
   "cell_type": "code",
   "execution_count": null,
   "id": "b128215a-87e3-4b56-9f6d-8dc9fdc451b8",
   "metadata": {
    "jupyter": {
     "source_hidden": true
    },
    "tags": []
   },
   "outputs": [],
   "source": [
    "data_reserved= data.loc[data['calib_psf_reserved']==1]\n",
    "data_reserved"
   ]
  },
  {
   "cell_type": "code",
   "execution_count": null,
   "id": "5bc1dbd1-ab13-4493-a716-153691aebff9",
   "metadata": {
    "jupyter": {
     "source_hidden": true
    },
    "tags": []
   },
   "outputs": [],
   "source": [
    "data_used=data.loc[data['calib_psf_used']==0]\n",
    "data_used"
   ]
  },
  {
   "cell_type": "code",
   "execution_count": 4,
   "id": "896d587b-9e23-42e2-ba3e-a5ccc0a9910d",
   "metadata": {},
   "outputs": [
    {
     "name": "stdout",
     "output_type": "stream",
     "text": [
      "[  0.59563868   0.81259341   1.1086517    1.51272069   2.06399727\n",
      "   2.81606181   3.84231785   5.24234135   7.15269267   9.76343815\n",
      "  13.31552423  18.17278161  24.78687654  33.81952214  46.13782524\n",
      "  62.93466188  85.83729161 117.08588566 159.65910437 217.6970272 ]\n",
      "[2.72463660e-06 2.73653894e-06 2.24346627e-06 1.92135229e-06\n",
      " 1.43156060e-06 7.88311733e-07 3.30841923e-07 6.40664516e-08\n",
      " 1.72819611e-08 6.80926380e-08 5.94137517e-08 5.09561501e-08\n",
      " 5.35205376e-08 5.17682819e-08 5.75868003e-08 5.60311319e-08\n",
      " 5.45084390e-08 5.35475890e-08 5.32942321e-08 5.04370417e-08]\n",
      "[1.06029899e-07 7.80311769e-08 5.75311416e-08 4.23794930e-08\n",
      " 3.11844079e-08 2.29427377e-08 1.68815147e-08 1.24266473e-08\n",
      " 9.14727700e-09 6.70852604e-09 4.93282327e-09 3.62870821e-09\n",
      " 2.66996830e-09 1.96609939e-09 1.45221043e-09 1.07800986e-09\n",
      " 8.05519703e-10 6.06013378e-10 4.60404911e-10 3.54461518e-10]\n"
     ]
    }
   ],
   "source": [
    "#rho 1 \n",
    "corr = treecorr.GGCorrelation(nbins=20,min_sep= 0.5,max_sep= 250.0, sep_units=\"arcmin\", bin_slop=0.01)\n",
    "cat1 = treecorr.Catalog(ra=data['ra'], dec=data['dec'], g1=data['de1'], g2=data['de2'], ra_units=\"deg\", dec_units=\"deg\")\n",
    "corr.process(cat1)\n",
    "print(corr.meanr)\n",
    "print(corr.xip)\n",
    "print(corr.varxip**0.5)\n"
   ]
  },
  {
   "cell_type": "code",
   "execution_count": 5,
   "id": "84fd3810-0b78-4b31-8725-2d3c5ea16ef1",
   "metadata": {},
   "outputs": [
    {
     "data": {
      "text/plain": [
       "[<matplotlib.lines.Line2D at 0x7f0a9c6bdf60>]"
      ]
     },
     "execution_count": 5,
     "metadata": {},
     "output_type": "execute_result"
    },
    {
     "data": {
      "image/png": "[encoded data removed]",
      "text/plain": [
       "<Figure size 640x480 with 1 Axes>"
      ]
     },
     "metadata": {},
     "output_type": "display_data"
    }
   ],
   "source": [
    "mplot.loglog(corr.meanr, corr.xip)"
   ]
  },
  {
   "cell_type": "code",
   "execution_count": 7,
   "id": "c193fdd7-21de-4637-9284-bd98022ab2d1",
   "metadata": {},
   "outputs": [
    {
     "name": "stdout",
     "output_type": "stream",
     "text": [
      "[  0.59549652   0.81242703   1.10841995   1.51246004   2.06375658\n",
      "   2.81594173   3.84241845   5.24269856   7.15333031   9.76440525\n",
      "  13.31683957  18.17477326  24.78972197  33.8238866   46.14484866\n",
      "  62.9444865   85.8530983  117.10934247 159.69159517 217.74483827]\n",
      "[1.51010564e-06 1.61643795e-06 1.16668594e-06 1.08484281e-06\n",
      " 8.61386104e-07 3.31300361e-07 1.73194279e-07 2.19077615e-07\n",
      " 3.12690231e-07 4.31562541e-07 4.55942002e-07 5.29093266e-07\n",
      " 5.89774765e-07 5.78574702e-07 5.70937640e-07 6.44890924e-07\n",
      " 6.78594996e-07 7.05829726e-07 7.07601645e-07 7.07814640e-07]\n",
      "[1.44623897e-07 1.06453842e-07 7.84863727e-08 5.78102241e-08\n",
      " 4.25375728e-08 3.12920937e-08 2.30244145e-08 1.69482470e-08\n",
      " 1.24754364e-08 9.14926523e-09 6.72751972e-09 4.94882112e-09\n",
      " 3.64127027e-09 2.68128090e-09 1.98039318e-09 1.47010799e-09\n",
      " 1.09846480e-09 8.26392777e-10 6.27856963e-10 4.83356684e-10]\n"
     ]
    }
   ],
   "source": [
    "#rho 2 \n",
    "corr = treecorr.GGCorrelation(nbins=20,min_sep= 0.5,max_sep= 250.0,sep_units=\"arcmin\", bin_slop=0.1)\n",
    "cat1 = treecorr.Catalog(ra=data['ra'], dec=data['dec'], g1=data['e1'], g2=data['e2'], ra_units=\"deg\", dec_units=\"deg\")\n",
    "cat2 = treecorr.Catalog(ra=data['ra'], dec=data['dec'], g1=data['de1'], g2=data['de2'], ra_units=\"deg\", dec_units=\"deg\")\n",
    "corr.process(cat1, cat2)\n",
    "print(corr.meanr)\n",
    "print(corr.xip)\n",
    "print(corr.varxip**0.5)"
   ]
  },
  {
   "cell_type": "code",
   "execution_count": 8,
   "id": "2a2b8513-2730-4045-ace9-94550add125a",
   "metadata": {},
   "outputs": [
    {
     "data": {
      "text/plain": [
       "[<matplotlib.lines.Line2D at 0x7f0a9c229360>]"
      ]
     },
     "execution_count": 8,
     "metadata": {},
     "output_type": "execute_result"
    },
    {
     "data": {
      "image/png": "[encoded data removed]",
      "text/plain": [
       "<Figure size 640x480 with 1 Axes>"
      ]
     },
     "metadata": {},
     "output_type": "display_data"
    }
   ],
   "source": [
    "mplot.loglog(corr.meanr, corr.xip)"
   ]
  },
  {
   "cell_type": "code",
   "execution_count": null,
   "id": "18696028-9e56-4966-b0df-f27d0fc38b65",
   "metadata": {},
   "outputs": [],
   "source": []
  }
 ],
 "metadata": {
  "kernelspec": {
   "display_name": "desc-python",
   "language": "python",
   "name": "desc-python"
  },
  "language_info": {
   "codemirror_mode": {
    "name": "ipython",
    "version": 3
   },
   "file_extension": ".py",
   "mimetype": "text/x-python",
   "name": "python",
   "nbconvert_exporter": "python",
   "pygments_lexer": "ipython3",
   "version": "3.10.10"
  }
 },
 "nbformat": 4,
 "nbformat_minor": 5
}

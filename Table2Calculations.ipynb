{
 "cells": [
  {
   "cell_type": "code",
   "execution_count": 1,
   "id": "9a43ce8f-ceaf-40f5-9193-62a8b095e079",
   "metadata": {
    "tags": []
   },
   "outputs": [],
   "source": [
    "import h5py\n",
    "import numpy as np\n",
    "from astropy.io import fits"
   ]
  },
  {
   "cell_type": "code",
   "execution_count": 2,
   "id": "b816c441-2f83-4491-af07-8b2cf3a04d56",
   "metadata": {
    "tags": []
   },
   "outputs": [],
   "source": [
    "# We want the average, calibrated shear measurements for each survey\n",
    "# TXPipe outputs a calibrated, shear catalog (binned_shear_catalog.hdf5)\n",
    "# Note: we used the config subtract_mean_shear = False in the TXShearCalibration stage"
   ]
  },
  {
   "cell_type": "code",
   "execution_count": 3,
   "id": "fa8dfaaf-728f-4419-b695-acc2481cfcfc",
   "metadata": {
    "tags": []
   },
   "outputs": [],
   "source": [
    "txpath = '/pscratch/sd/j/jjeffers/temp/TXPipe/data/'\n",
    "datpath = '/global/cfs/cdirs/lsst/groups/WL/projects/txpipe-sys-tests/'"
   ]
  },
  {
   "cell_type": "markdown",
   "id": "9cd1218b-631d-4e50-8a7e-ad12b157f139",
   "metadata": {},
   "source": [
    "DES-Y3"
   ]
  },
  {
   "cell_type": "code",
   "execution_count": 5,
   "id": "916e6278-ae29-4fbc-ab24-3f9035685fef",
   "metadata": {
    "tags": []
   },
   "outputs": [
    {
     "name": "stdout",
     "output_type": "stream",
     "text": [
      "0.0004971728124430973\n",
      "unweighted:  0.0005463475784292157\n",
      "8.404160445745847e-05\n",
      "unweighted:  9.10371899788566e-05\n",
      "100204026\n"
     ]
    }
   ],
   "source": [
    "#non-tomographic = bin_all\n",
    "\n",
    "with h5py.File(txpath+'desy3/TABLE2/binned_shear_catalog.hdf5','r') as f:\n",
    "    print(np.average(f['shear/bin_all/g1'][:],weights=f['shear/bin_all/weight'][:]))\n",
    "    print(\"unweighted: \",np.mean(f['shear/bin_all/g1'][:]))\n",
    "    print(np.average(f['shear/bin_all/g2'][:],weights=f['shear/bin_all/weight'][:]))\n",
    "    print(\"unweighted: \",np.mean(f['shear/bin_all/g2'][:]))\n",
    "    print(len(f['shear/bin_all/g2'][:]))"
   ]
  },
  {
   "cell_type": "code",
   "execution_count": 6,
   "id": "574203ac-5f52-498c-a087-dc5968369986",
   "metadata": {
    "tags": []
   },
   "outputs": [
    {
     "name": "stdout",
     "output_type": "stream",
     "text": [
      "0.00035588725132367616\n",
      "unweighted:  0.0003924394377486362\n",
      "5.9469129003053495e-05\n",
      "unweighted:  6.556670170768782e-05\n"
     ]
    }
   ],
   "source": [
    "#checking uncalibrated shear catalog for good measure:\n",
    "\n",
    "with h5py.File(datpath+'des-y3/shear_catalog_desy3_unmasked_withfakez_v2.h5','r') as f:\n",
    "    print(np.average(f['shear/mcal_g1'][:],weights=f['shear/weight'][:]))\n",
    "    print(\"unweighted: \",np.mean(f['shear/mcal_g1'][:]))\n",
    "    print(np.average(f['shear/mcal_g2'][:],weights=f['shear/weight'][:]))\n",
    "    print(\"unweighted: \",np.mean(f['shear/mcal_g2'][:]))\n"
   ]
  },
  {
   "cell_type": "markdown",
   "id": "03cd662a-c14d-43ec-8636-65651ce4e755",
   "metadata": {},
   "source": [
    "KiDS-1000"
   ]
  },
  {
   "cell_type": "code",
   "execution_count": 7,
   "id": "0f935ed9-1eb3-4156-b478-8d7d1a9e4b43",
   "metadata": {
    "tags": []
   },
   "outputs": [
    {
     "name": "stdout",
     "output_type": "stream",
     "text": [
      "0.0003292200830319268\n",
      "0.0008266333013998106\n",
      "9863348\n",
      "-0.00010985927605516346\n",
      "0.0003968082636412022\n",
      "11298657\n"
     ]
    }
   ],
   "source": [
    "with h5py.File(txpath+'kids/TABLE2/binned_shear_catalog.hdf5','r') as f:\n",
    "    Nmask = f['shear/bin_all/dec'][:] > -25.0\n",
    "    Smask = f['shear/bin_all/dec'][:] < -25.0\n",
    "\n",
    "    print(np.average(f['shear/bin_all/g1'][:][Nmask],weights=f['shear/bin_all/weight'][:][Nmask]))\n",
    "    print(np.average(f['shear/bin_all/g2'][:][Nmask],weights=f['shear/bin_all/weight'][:][Nmask]))\n",
    "    print(len(f['shear/bin_all/g2'][:][Nmask]))\n",
    "    \n",
    "    print(np.average(f['shear/bin_all/g1'][:][Smask],weights=f['shear/bin_all/weight'][:][Smask]))\n",
    "    print(np.average(f['shear/bin_all/g2'][:][Smask],weights=f['shear/bin_all/weight'][:][Smask]))\n",
    "    print(len(f['shear/bin_all/g2'][:][Smask]))"
   ]
  },
  {
   "cell_type": "markdown",
   "id": "8e251d95-a819-4141-b0cc-55aa62a1a3b4",
   "metadata": {},
   "source": [
    "HSC-Y3\n"
   ]
  },
  {
   "cell_type": "code",
   "execution_count": 8,
   "id": "2930a281-6c44-4e88-9644-ce5d0950af31",
   "metadata": {
    "tags": []
   },
   "outputs": [],
   "source": [
    "def rd2tp(ra,dec):\n",
    "    \"\"\"Convert ra,dec -> tht,phi\"\"\"\n",
    "    tht = (-dec+90.0)/180.0*np.pi\n",
    "    phi = ra/180.0*np.pi\n",
    "    return tht,phi\n",
    "\n",
    "def tp2rd(tht,phi):\n",
    "    \"\"\"Convert tht,phi -> ra,dec\"\"\"\n",
    "    ra  = phi/np.pi*180.0\n",
    "    dec = -1*(tht/np.pi*180.0-90.0)\n",
    "    return ra,dec\n",
    "\n",
    "def pointpick(ra,dec,mask,g1,g2,w):\n",
    "    nside        = hp.npix2nside(mask.shape[0])\n",
    "    tht,phi = rd2tp(ra,dec)\n",
    "    pix = hp.ang2pix(nside,tht,phi)\n",
    "    idx = np.where(mask[pix]>0)[0]\n",
    "    #ra,dec = tp2rd(tht[idx],phi[idx]) \n",
    "    g1 = g1[idx]\n",
    "    g2 = g2[idx]\n",
    "    w = w[idx]\n",
    "    return g1,g2,w"
   ]
  },
  {
   "cell_type": "code",
   "execution_count": 9,
   "id": "d027a266-0883-4883-aef5-4a3b5f8f30c2",
   "metadata": {
    "tags": []
   },
   "outputs": [],
   "source": [
    "import healpy as hp"
   ]
  },
  {
   "cell_type": "code",
   "execution_count": 10,
   "id": "48ca6240-8fa5-4144-ba90-cf3702528067",
   "metadata": {
    "tags": []
   },
   "outputs": [
    {
     "name": "stdout",
     "output_type": "stream",
     "text": [
      "GAMA09H:\n",
      "-0.0007092703835266758\n",
      "0.0007127208883628244\n",
      "4866052\n",
      "GAMA15H:\n",
      "-0.0003166599128251405\n",
      "-0.0008001954884802261\n",
      "2573846\n",
      "HECTOMAP:\n",
      "-0.001222656622589358\n",
      "-0.0006032714562021774\n",
      "2650556\n",
      "WIDE12H:\n",
      "0.0009136226139817571\n",
      "0.00021395515807269327\n",
      "7278683\n",
      "VVDS:\n",
      "0.00026588117760655954\n",
      "-0.00028226680603456086\n",
      "6014925\n",
      "XMM:\n",
      "-0.0009855226860588742\n",
      "-0.0007210579224415984\n",
      "1875168\n"
     ]
    }
   ],
   "source": [
    "fields = ['GAMA09H','GAMA15H','HECTOMAP','WIDE12H','VVDS','XMM']\n",
    "\n",
    "for field in fields:\n",
    "    print(f'{field}:')\n",
    "    #make mask for the subfield:\n",
    "    g = fits.open(datpath+f'hsc-y3/shear/{field}_calibrated.fits')\n",
    "    tht,phi = rd2tp(np.asarray(g[1].data['i_ra']), np.asarray(g[1].data['i_dec']))\n",
    "    pix     = hp.ang2pix(1024,tht,phi)\n",
    "    mask= np.bincount(pix,minlength=hp.nside2npix(1024))\n",
    "    mask[mask>0]=1\n",
    "    #open calibrated shear catalog\n",
    "    with h5py.File(txpath+'hsc-y3/outputs/shearsys/TABLE2/binned_shear_catalog.hdf5','r') as h:\n",
    "        #mask the data and find the objects within the subfield\n",
    "        g1,g2,weight = pointpick(h['shear/bin_all/ra'][:],h['shear/bin_all/dec'][:],mask,\n",
    "                                 h['shear/bin_all/g1'][:],h['shear/bin_all/g2'][:],\n",
    "                                 h['shear/bin_all/weight'][:])\n",
    "        print(np.average(g1,weights=weight))\n",
    "        print(np.average(g2,weights=weight))\n",
    "        print(len(g1))"
   ]
  },
  {
   "cell_type": "code",
   "execution_count": null,
   "id": "018d6883-812f-4cc7-b3d1-e19d1d2eb742",
   "metadata": {},
   "outputs": [],
   "source": []
  }
 ],
 "metadata": {
  "kernelspec": {
   "display_name": "desc-python",
   "language": "python",
   "name": "desc-python"
  },
  "language_info": {
   "codemirror_mode": {
    "name": "ipython",
    "version": 3
   },
   "file_extension": ".py",
   "mimetype": "text/x-python",
   "name": "python",
   "nbconvert_exporter": "python",
   "pygments_lexer": "ipython3",
   "version": "3.10.13"
  }
 },
 "nbformat": 4,
 "nbformat_minor": 5
}

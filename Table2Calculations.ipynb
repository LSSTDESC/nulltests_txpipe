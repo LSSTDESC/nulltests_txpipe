{
 "cells": [
  {
   "cell_type": "code",
   "execution_count": 1,
   "id": "9a43ce8f-ceaf-40f5-9193-62a8b095e079",
   "metadata": {
    "tags": []
   },
   "outputs": [],
   "source": [
    "import h5py\n",
    "import numpy as np"
   ]
  },
  {
   "cell_type": "code",
   "execution_count": 2,
   "id": "9427fe0c-8af7-4773-a663-0ed5965331be",
   "metadata": {
    "tags": []
   },
   "outputs": [],
   "source": [
    "from astropy.io import fits"
   ]
  },
  {
   "cell_type": "markdown",
   "id": "9cd1218b-631d-4e50-8a7e-ad12b157f139",
   "metadata": {},
   "source": [
    "DES-Y3"
   ]
  },
  {
   "cell_type": "code",
   "execution_count": 5,
   "id": "916e6278-ae29-4fbc-ab24-3f9035685fef",
   "metadata": {
    "tags": []
   },
   "outputs": [
    {
     "name": "stdout",
     "output_type": "stream",
     "text": [
      "-7.0073987065087775e-12\n",
      "1.1986475849103899e-12\n",
      "100204026\n"
     ]
    }
   ],
   "source": [
    "with h5py.File('/pscratch/sd/j/jjeffers/temp/TXPipe/data/desy3/FINALRUN/binned_shear_catalog.hdf5','r') as f:\n",
    "    print(np.average(f['shear/bin_all/g1'][:],weights=f['shear/bin_all/weight'][:]))\n",
    "    print(np.average(f['shear/bin_all/g2'][:],weights=f['shear/bin_all/weight'][:]))\n",
    "    print(len(f['shear/bin_all/g2'][:]))"
   ]
  },
  {
   "cell_type": "markdown",
   "id": "03cd662a-c14d-43ec-8636-65651ce4e755",
   "metadata": {},
   "source": [
    "KiDS-1000"
   ]
  },
  {
   "cell_type": "code",
   "execution_count": 9,
   "id": "0f935ed9-1eb3-4156-b478-8d7d1a9e4b43",
   "metadata": {
    "tags": []
   },
   "outputs": [
    {
     "name": "stdout",
     "output_type": "stream",
     "text": [
      "-9.52258767442577e-10\n",
      "1.0358985455429282e-09\n",
      "9863348\n",
      "-1.0475637139720932e-09\n",
      "2.4188100940327516e-10\n",
      "11298657\n"
     ]
    }
   ],
   "source": [
    "with h5py.File('/pscratch/sd/j/jjeffers/temp/TXPipe/data/kids/FINALRUN/binned_shear_catalog.hdf5','r') as f:\n",
    "    Nmask = f['shear/bin_all/dec'][:] > -25.0\n",
    "    Smask = f['shear/bin_all/dec'][:] < -25.0\n",
    "\n",
    "    print(np.average(f['shear/bin_all/g1'][:][Nmask],weights=f['shear/bin_all/weight'][:][Nmask]))\n",
    "    print(np.average(f['shear/bin_all/g2'][:][Nmask],weights=f['shear/bin_all/weight'][:][Nmask]))\n",
    "    print(len(f['shear/bin_all/g2'][:][Nmask]))\n",
    "    \n",
    "    print(np.average(f['shear/bin_all/g1'][:][Smask],weights=f['shear/bin_all/weight'][:][Smask]))\n",
    "    print(np.average(f['shear/bin_all/g2'][:][Smask],weights=f['shear/bin_all/weight'][:][Smask]))\n",
    "    print(len(f['shear/bin_all/g2'][:][Smask]))"
   ]
  },
  {
   "cell_type": "markdown",
   "id": "8e251d95-a819-4141-b0cc-55aa62a1a3b4",
   "metadata": {},
   "source": [
    "HSC-Y3\n"
   ]
  },
  {
   "cell_type": "code",
   "execution_count": 20,
   "id": "2930a281-6c44-4e88-9644-ce5d0950af31",
   "metadata": {
    "tags": []
   },
   "outputs": [],
   "source": [
    "def rd2tp(ra,dec):\n",
    "    \"\"\"Convert ra,dec -> tht,phi\"\"\"\n",
    "    tht = (-dec+90.0)/180.0*np.pi\n",
    "    phi = ra/180.0*np.pi\n",
    "    return tht,phi\n",
    "\n",
    "def tp2rd(tht,phi):\n",
    "    \"\"\"Convert tht,phi -> ra,dec\"\"\"\n",
    "    ra  = phi/np.pi*180.0\n",
    "    dec = -1*(tht/np.pi*180.0-90.0)\n",
    "    return ra,dec\n",
    "\n",
    "def pointpick(ra,dec,mask,g1,g2,w):\n",
    "    nside        = hp.npix2nside(mask.shape[0])\n",
    "    tht,phi = rd2tp(ra,dec)\n",
    "    pix = hp.ang2pix(nside,tht,phi)\n",
    "    idx = np.where(mask[pix]>0)[0]\n",
    "    #ra,dec = tp2rd(tht[idx],phi[idx]) \n",
    "    g1 = g1[idx]\n",
    "    g2 = g2[idx]\n",
    "    w = w[idx]\n",
    "    return g1,g2,w"
   ]
  },
  {
   "cell_type": "code",
   "execution_count": 21,
   "id": "d027a266-0883-4883-aef5-4a3b5f8f30c2",
   "metadata": {
    "tags": []
   },
   "outputs": [],
   "source": [
    "import healpy as hp"
   ]
  },
  {
   "cell_type": "code",
   "execution_count": 22,
   "id": "48ca6240-8fa5-4144-ba90-cf3702528067",
   "metadata": {
    "tags": []
   },
   "outputs": [
    {
     "name": "stdout",
     "output_type": "stream",
     "text": [
      "GAMA09H:\n",
      "-0.0012003017742054437\n",
      "0.0010092385147866013\n",
      "4866360\n",
      "GAMA15H:\n",
      "-0.0007990328855668942\n",
      "-0.0012249324414537197\n",
      "2573993\n",
      "HECTOMAP:\n",
      "-0.0018714264488715524\n",
      "-0.0007864205066788969\n",
      "2650656\n",
      "WIDE12H:\n",
      "0.00118017920431754\n",
      "0.00023965347279769674\n",
      "7279084\n",
      "VVDS:\n",
      "3.689602068764318e-05\n",
      "-0.0009752990378493198\n",
      "6015472\n",
      "XMM:\n",
      "-0.0015366043247956838\n",
      "-0.0011481756876606723\n",
      "1875312\n"
     ]
    }
   ],
   "source": [
    "fields = ['GAMA09H','GAMA15H','HECTOMAP','WIDE12H','VVDS','XMM']\n",
    "path = '/global/cfs/cdirs/lsst/groups/WL/projects/txpipe-sys-tests/hsc-y3/shear/'\n",
    "\n",
    "for field in fields:\n",
    "    print(f'{field}:')\n",
    "    #make mask for the subfield:\n",
    "    g = fits.open(path+f'{field}_calibrated.fits')\n",
    "    tht,phi = rd2tp(np.asarray(g[1].data['i_ra']), np.asarray(g[1].data['i_dec']))\n",
    "    pix     = hp.ang2pix(1024,tht,phi)\n",
    "    mask= np.bincount(pix,minlength=hp.nside2npix(1024))\n",
    "    mask[mask>0]=1\n",
    "    #open precalibrated shear catalog\n",
    "    with h5py.File(path+'txpipe_allfield_shear.h5','r') as h:\n",
    "        #mask the data and find the objects within the subfield\n",
    "        g1,g2,weight = pointpick(h['shear/ra'][:],h['shear/dec'][:],mask,h['shear/g1'][:],h['shear/g2'][:],h['shear/weight'][:])\n",
    "        print(np.average(g1,weights=weight))\n",
    "        print(np.average(g2,weights=weight))\n",
    "        print(len(g1))"
   ]
  },
  {
   "cell_type": "code",
   "execution_count": null,
   "id": "6e05cd3a-e9ad-4936-ae0d-d24472d86f17",
   "metadata": {},
   "outputs": [],
   "source": []
  }
 ],
 "metadata": {
  "kernelspec": {
   "display_name": "desc-python",
   "language": "python",
   "name": "desc-python"
  },
  "language_info": {
   "codemirror_mode": {
    "name": "ipython",
    "version": 3
   },
   "file_extension": ".py",
   "mimetype": "text/x-python",
   "name": "python",
   "nbconvert_exporter": "python",
   "pygments_lexer": "ipython3",
   "version": "3.10.13"
  }
 },
 "nbformat": 4,
 "nbformat_minor": 5
}

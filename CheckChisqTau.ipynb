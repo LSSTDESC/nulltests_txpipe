{
 "cells": [
  {
   "cell_type": "code",
   "execution_count": 1,
   "id": "152794d3-645d-4007-8cc6-37d29814d891",
   "metadata": {},
   "outputs": [],
   "source": [
    "import numpy as np\n",
    "import h5py"
   ]
  },
  {
   "cell_type": "code",
   "execution_count": 2,
   "id": "8eb86165-08d7-4117-99ae-96015249098b",
   "metadata": {
    "tags": []
   },
   "outputs": [],
   "source": [
    "\n",
    "def calc_chi2(y, err, yfit , v = True):\n",
    "    \"\"\"\n",
    "    Compute chi2 between data and fitted curve\n",
    "\n",
    "    Parameters\n",
    "    ----------\n",
    "    y: array\n",
    "        y values of data\n",
    "    err: array (1D or 2D)\n",
    "        either error bars (if independent data points)\n",
    "        or covariance matrix\n",
    "    yfit: array\n",
    "        fitted values of data\n",
    "    v: bool\n",
    "        verbose output\n",
    "\n",
    "    Returns\n",
    "    -------\n",
    "    chi2: float\n",
    "    \"\"\"\n",
    "    if err.shape == (len(y),len(y)):\n",
    "        #use full covariance\n",
    "        if v:\n",
    "            print('cov_mat chi2')\n",
    "        inv_cov = np.linalg.inv( np.matrix(err) )\n",
    "        chi2 = 0\n",
    "        for i in range(len(y)):\n",
    "            for j in range(len(y)):\n",
    "                chi2 = chi2 + (y[i]-yfit[i])*inv_cov[i,j]*(y[j]-yfit[j])\n",
    "        return chi2\n",
    "        \n",
    "    elif err.shape == (len(y),):\n",
    "        if v:\n",
    "            print('diagonal chi2')\n",
    "        return sum(((y-yfit)**2.)/(err**2.))\n",
    "    else:\n",
    "        raise IOError('error in err or cov_mat input shape')"
   ]
  },
  {
   "cell_type": "markdown",
   "id": "c508346f-cd18-4fec-9554-c47de44fa4ff",
   "metadata": {},
   "source": [
    "collapsed cells below are desy1:"
   ]
  },
  {
   "cell_type": "code",
   "execution_count": 3,
   "id": "009fd262-6f20-481d-b71d-63f453d6ad8e",
   "metadata": {
    "jupyter": {
     "source_hidden": true
    },
    "tags": []
   },
   "outputs": [],
   "source": [
    "desy1t = h5py.File('../TXPipe/data/desy1/outputs/tau_stats.hdf5','r')\n",
    "desy1r = h5py.File('../TXPipe/data/desy1/outputs/rowe_stats.hdf5','r')\n",
    "desy1_tau = np.append(desy1t['tau_statistics/tau_PSF-reserved/tau0'][:],\n",
    "                      [desy1t['tau_statistics/tau_PSF-reserved/tau2'][:],\n",
    "                      desy1t['tau_statistics/tau_PSF-reserved/tau5'][:]])\n",
    "\n",
    "desy1_cov = desy1t['tau_statistics/tau_PSF-reserved/cov'][:]\n",
    "desy1_cov_diag = desy1t['tau_statistics/tau_PSF-reserved/cov'][:]\n",
    "desy1_fit = np.append(desy1t['tau_statistics/bestfits_PSF-reserved/alpha']*desy1r['rowe_statistics/rowe_0_PSF-reserved/xi_plus'][:]\n",
    "                      + desy1t['tau_statistics/bestfits_PSF-reserved/beta']*desy1r['rowe_statistics/rowe_2_PSF-reserved/xi_plus'][:]\n",
    "                      + desy1t['tau_statistics/bestfits_PSF-reserved/eta']*desy1r['rowe_statistics/rowe_5_PSF-reserved/xi_plus'][:],\n",
    "                      [desy1t['tau_statistics/bestfits_PSF-reserved/alpha']*desy1r['rowe_statistics/rowe_2_PSF-reserved/xi_plus'][:]\n",
    "                      + desy1t['tau_statistics/bestfits_PSF-reserved/beta']*desy1r['rowe_statistics/rowe_1_PSF-reserved/xi_plus'][:]\n",
    "                      + desy1t['tau_statistics/bestfits_PSF-reserved/eta']*desy1r['rowe_statistics/rowe_4_PSF-reserved/xi_plus'][:],\n",
    "                      desy1t['tau_statistics/bestfits_PSF-reserved/alpha']*desy1r['rowe_statistics/rowe_5_PSF-reserved/xi_plus'][:]\n",
    "                      + desy1t['tau_statistics/bestfits_PSF-reserved/beta']*desy1r['rowe_statistics/rowe_4_PSF-reserved/xi_plus'][:]\n",
    "                      + desy1t['tau_statistics/bestfits_PSF-reserved/eta']*desy1r['rowe_statistics/rowe_3_PSF-reserved/xi_plus'][:]])\n",
    "desy1t.close()\n",
    "desy1r.close()\n"
   ]
  },
  {
   "cell_type": "code",
   "execution_count": 4,
   "id": "4e7cc82f-f072-4f08-9f14-d51295d1958e",
   "metadata": {
    "collapsed": true,
    "jupyter": {
     "outputs_hidden": true,
     "source_hidden": true
    },
    "tags": []
   },
   "outputs": [
    {
     "name": "stdout",
     "output_type": "stream",
     "text": [
      "(60, 60)\n",
      "(60,)\n",
      "(60,)\n"
     ]
    }
   ],
   "source": [
    "print(np.shape(desy1_cov))\n",
    "print(np.shape(desy1_tau))\n",
    "print(np.shape(desy1_fit))"
   ]
  },
  {
   "cell_type": "code",
   "execution_count": 5,
   "id": "4c86bfe7-3342-45b8-a20f-f61913f31e0f",
   "metadata": {
    "collapsed": true,
    "jupyter": {
     "outputs_hidden": true,
     "source_hidden": true
    },
    "tags": []
   },
   "outputs": [
    {
     "name": "stdout",
     "output_type": "stream",
     "text": [
      "cov_mat chi2\n",
      "24.40873888534674\n"
     ]
    }
   ],
   "source": [
    "desy1_chisq = calc_chi2(desy1_tau,desy1_cov,desy1_fit)\n",
    "print(desy1_chisq/(60))"
   ]
  },
  {
   "cell_type": "markdown",
   "id": "7a281512-36c9-4c1f-9aaf-80dd1b070c90",
   "metadata": {},
   "source": [
    "desy3 bootstrap:"
   ]
  },
  {
   "cell_type": "code",
   "execution_count": 6,
   "id": "7ea7016e-5388-44f4-a403-fd49457f955b",
   "metadata": {
    "tags": []
   },
   "outputs": [],
   "source": [
    "desy3t = h5py.File('../TXPipe/data/desy3/outputs/tau_stats.hdf5','r')\n",
    "desy3r = h5py.File('../TXPipe/data/desy3/outputs/rowe_stats.hdf5','r')\n",
    "desy3_tau = np.append(desy3t['tau_statistics/tau_PSF-reserved/tau0'][:],\n",
    "                      [desy3t['tau_statistics/tau_PSF-reserved/tau2'][:],\n",
    "                      desy3t['tau_statistics/tau_PSF-reserved/tau5'][:]])\n",
    "\n",
    "desy3_cov = desy3t['tau_statistics/tau_PSF-reserved/cov'][:]\n",
    "desy3_fit = np.append(desy3t['tau_statistics/bestfits_PSF-reserved/alpha']*desy3r['rowe_statistics/rowe_0_PSF-reserved/xi_plus'][:]\n",
    "                      + desy3t['tau_statistics/bestfits_PSF-reserved/beta']*desy3r['rowe_statistics/rowe_2_PSF-reserved/xi_plus'][:]\n",
    "                      + desy3t['tau_statistics/bestfits_PSF-reserved/eta']*desy3r['rowe_statistics/rowe_5_PSF-reserved/xi_plus'][:],\n",
    "                      [desy3t['tau_statistics/bestfits_PSF-reserved/alpha']*desy3r['rowe_statistics/rowe_2_PSF-reserved/xi_plus'][:]\n",
    "                      + desy3t['tau_statistics/bestfits_PSF-reserved/beta']*desy3r['rowe_statistics/rowe_1_PSF-reserved/xi_plus'][:]\n",
    "                      + desy3t['tau_statistics/bestfits_PSF-reserved/eta']*desy3r['rowe_statistics/rowe_4_PSF-reserved/xi_plus'][:],\n",
    "                      desy3t['tau_statistics/bestfits_PSF-reserved/alpha']*desy3r['rowe_statistics/rowe_5_PSF-reserved/xi_plus'][:]\n",
    "                      + desy3t['tau_statistics/bestfits_PSF-reserved/beta']*desy3r['rowe_statistics/rowe_4_PSF-reserved/xi_plus'][:]\n",
    "                      + desy3t['tau_statistics/bestfits_PSF-reserved/eta']*desy3r['rowe_statistics/rowe_3_PSF-reserved/xi_plus'][:]])\n",
    "#desy3t.close()\n",
    "#desy3r.close()"
   ]
  },
  {
   "cell_type": "code",
   "execution_count": 7,
   "id": "ac6bb1d6-43ba-43dc-be78-cdfd2309d010",
   "metadata": {
    "tags": []
   },
   "outputs": [
    {
     "name": "stdout",
     "output_type": "stream",
     "text": [
      "cov_mat chi2\n",
      "18.765127002888857\n"
     ]
    }
   ],
   "source": [
    "desy3_chisq = calc_chi2(desy3_tau,desy3_cov,desy3_fit)\n",
    "print(desy3_chisq/(60))"
   ]
  },
  {
   "cell_type": "markdown",
   "id": "4ed1d0eb-48dc-497e-a662-c87c90bf2d18",
   "metadata": {
    "tags": []
   },
   "source": [
    "checking jackknife cov:"
   ]
  },
  {
   "cell_type": "code",
   "execution_count": 10,
   "id": "77128311-f9a6-4157-beb1-a85c49c0d2db",
   "metadata": {
    "tags": []
   },
   "outputs": [],
   "source": [
    "desy3tjk = h5py.File('../TXPipe/data/desy3/outputs_jkknife/tau_stats-1.hdf5','r')\n",
    "desy3rjk = h5py.File('../TXPipe/data/desy3/outputs_jkknife/rowe_stats.hdf5','r')\n",
    "desy3_taujk = np.append(desy3tjk['tau_statistics/tau_PSF-reserved/tau0'][:],\n",
    "                      [desy3tjk['tau_statistics/tau_PSF-reserved/tau2'][:],\n",
    "                      desy3tjk['tau_statistics/tau_PSF-reserved/tau5'][:]])\n",
    "\n",
    "desy3_covjk = desy3tjk['tau_statistics/tau_PSF-reserved/cov'][:]\n",
    "desy3_fitjk = np.append(desy3tjk['tau_statistics/bestfits_PSF-reserved/alpha']*desy3rjk['rowe_statistics/rowe_0_PSF-reserved/xi_plus'][:]\n",
    "                      + desy3tjk['tau_statistics/bestfits_PSF-reserved/beta']*desy3rjk['rowe_statistics/rowe_2_PSF-reserved/xi_plus'][:]\n",
    "                      + desy3tjk['tau_statistics/bestfits_PSF-reserved/eta']*desy3rjk['rowe_statistics/rowe_5_PSF-reserved/xi_plus'][:],\n",
    "                      [desy3tjk['tau_statistics/bestfits_PSF-reserved/alpha']*desy3rjk['rowe_statistics/rowe_2_PSF-reserved/xi_plus'][:]\n",
    "                      + desy3tjk['tau_statistics/bestfits_PSF-reserved/beta']*desy3rjk['rowe_statistics/rowe_1_PSF-reserved/xi_plus'][:]\n",
    "                      + desy3tjk['tau_statistics/bestfits_PSF-reserved/eta']*desy3rjk['rowe_statistics/rowe_4_PSF-reserved/xi_plus'][:],\n",
    "                      desy3tjk['tau_statistics/bestfits_PSF-reserved/alpha']*desy3rjk['rowe_statistics/rowe_5_PSF-reserved/xi_plus'][:]\n",
    "                      + desy3tjk['tau_statistics/bestfits_PSF-reserved/beta']*desy3rjk['rowe_statistics/rowe_4_PSF-reserved/xi_plus'][:]\n",
    "                      + desy3tjk['tau_statistics/bestfits_PSF-reserved/eta']*desy3rjk['rowe_statistics/rowe_3_PSF-reserved/xi_plus'][:]])\n"
   ]
  },
  {
   "cell_type": "code",
   "execution_count": 11,
   "id": "bd38a3d1-1ead-471f-b44e-1e15220e945d",
   "metadata": {
    "tags": []
   },
   "outputs": [
    {
     "name": "stdout",
     "output_type": "stream",
     "text": [
      "cov_mat chi2\n",
      "1.8701220776489756e+16\n"
     ]
    }
   ],
   "source": [
    "desy3jk_chisq = calc_chi2(desy3_taujk,desy3_covjk,desy3_fitjk)\n",
    "print(desy3jk_chisq/(60))"
   ]
  },
  {
   "cell_type": "code",
   "execution_count": 12,
   "id": "a2085eab-e854-4bfc-b598-44b0351080b0",
   "metadata": {
    "tags": []
   },
   "outputs": [
    {
     "data": {
      "text/plain": [
       "(60, 60)"
      ]
     },
     "execution_count": 12,
     "metadata": {},
     "output_type": "execute_result"
    }
   ],
   "source": [
    "np.shape(desy3_covjk)"
   ]
  },
  {
   "cell_type": "code",
   "execution_count": 13,
   "id": "652532e6-4d94-4003-b740-2f2ea2b0b25c",
   "metadata": {
    "tags": []
   },
   "outputs": [
    {
     "data": {
      "text/plain": [
       "array([ 8.04537738e-12,  2.26093515e-11,  1.51208732e-12,  2.62889021e-12,\n",
       "        1.43838073e-12,  2.61328622e-12,  9.52275436e-13,  8.21375414e-13,\n",
       "        1.49428301e-12,  1.43513218e-12,  1.38355010e-12,  1.28460110e-12,\n",
       "        1.19625896e-12,  1.10148752e-12,  1.14360684e-12,  1.00876656e-12,\n",
       "        6.08924228e-13,  5.07706301e-13,  5.51454849e-13,  7.26518246e-13,\n",
       "        1.74358633e-12, -2.73455301e-12,  6.14827018e-13, -8.24933635e-13,\n",
       "        4.81777813e-13,  1.44408942e-13,  2.62659058e-14, -3.04819958e-14,\n",
       "       -4.83142222e-14,  4.90184378e-14,  1.58535108e-14,  4.06008231e-14,\n",
       "       -1.33161452e-14,  2.01858030e-14,  4.76532711e-15, -1.50322432e-15,\n",
       "        5.34761666e-15,  2.97821759e-15,  1.90029464e-15,  6.22160552e-15,\n",
       "        1.40239835e-13, -2.00051841e-13,  9.82074753e-14,  4.27911354e-14,\n",
       "        1.42166796e-14, -4.02371271e-14, -1.80384138e-14,  9.47593131e-15,\n",
       "       -8.68097567e-15, -1.01988559e-15,  1.49721443e-15,  6.40527370e-17,\n",
       "        2.86344851e-16, -1.94069882e-15, -2.13284097e-16, -1.81447476e-15,\n",
       "       -5.80246902e-16, -1.43459948e-15, -1.54367369e-15, -2.11258612e-15])"
      ]
     },
     "execution_count": 13,
     "metadata": {},
     "output_type": "execute_result"
    }
   ],
   "source": [
    "desy3_covjk[1]"
   ]
  },
  {
   "cell_type": "code",
   "execution_count": 14,
   "id": "9eabf2a7-7e40-4c58-bafc-adf8aff9d45a",
   "metadata": {},
   "outputs": [],
   "source": [
    "lst = range(10)\n",
    "cov_sum = np.zeros((60,60))\n",
    "for i in lst:\n",
    "    with h5py.File(f'../TXPipe/data/desy3/outputs_jkknife/tau_stats-{i+1}.hdf5') as f:\n",
    "        cov_sum = cov_sum+f['tau_statistics/tau_PSF-reserved/cov'][:] \n",
    "    cov_avg = cov_sum/10"
   ]
  },
  {
   "cell_type": "code",
   "execution_count": 15,
   "id": "78bdff53-075d-415e-a747-1ef15aa11acb",
   "metadata": {
    "tags": []
   },
   "outputs": [
    {
     "name": "stdout",
     "output_type": "stream",
     "text": [
      "cov_mat chi2\n",
      "13995.84952691346\n"
     ]
    }
   ],
   "source": [
    "print(calc_chi2(desy3_taujk,cov_avg,desy3_fitjk))"
   ]
  },
  {
   "cell_type": "code",
   "execution_count": 16,
   "id": "39c47554-2e06-4af5-baab-521c1e8cd50b",
   "metadata": {
    "tags": []
   },
   "outputs": [
    {
     "data": {
      "image/png": "[encoded data removed]",
      "text/plain": [
       "<Figure size 640x480 with 2 Axes>"
      ]
     },
     "metadata": {},
     "output_type": "display_data"
    }
   ],
   "source": [
    "import matplotlib.pyplot as plt\n",
    "import seaborn as sns\n",
    "\n",
    "def norm_cov(cov):\n",
    "    norm = cov.copy()\n",
    "    for i in range(len(cov)):\n",
    "        for j in range(len(cov)):\n",
    "            norm[i][j] /= np.sqrt(cov[i][i]*cov[j][j])\n",
    "    return norm\n",
    "\n",
    "ax = sns.heatmap(norm_cov(cov_avg),cmap='viridis')\n",
    "plt.show()"
   ]
  }
 ],
 "metadata": {
  "kernelspec": {
   "display_name": "desc-python",
   "language": "python",
   "name": "desc-python"
  },
  "language_info": {
   "codemirror_mode": {
    "name": "ipython",
    "version": 3
   },
   "file_extension": ".py",
   "mimetype": "text/x-python",
   "name": "python",
   "nbconvert_exporter": "python",
   "pygments_lexer": "ipython3",
   "version": "3.10.10"
  }
 },
 "nbformat": 4,
 "nbformat_minor": 5
}

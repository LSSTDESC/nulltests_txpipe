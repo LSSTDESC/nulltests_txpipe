{
 "cells": [
  {
   "cell_type": "code",
   "execution_count": 2,
   "id": "152794d3-645d-4007-8cc6-37d29814d891",
   "metadata": {},
   "outputs": [],
   "source": [
    "import numpy as np\n",
    "import h5py"
   ]
  },
  {
   "cell_type": "code",
   "execution_count": 3,
   "id": "8eb86165-08d7-4117-99ae-96015249098b",
   "metadata": {
    "tags": []
   },
   "outputs": [],
   "source": [
    "\n",
    "def calc_chi2(y, err, yfit , v = True):\n",
    "    \"\"\"\n",
    "    Compute chi2 between data and fitted curve\n",
    "\n",
    "    Parameters\n",
    "    ----------\n",
    "    y: array\n",
    "        y values of data\n",
    "    err: array (1D or 2D)\n",
    "        either error bars (if independent data points)\n",
    "        or covariance matrix\n",
    "    yfit: array\n",
    "        fitted values of data\n",
    "    v: bool\n",
    "        verbose output\n",
    "\n",
    "    Returns\n",
    "    -------\n",
    "    chi2: float\n",
    "    \"\"\"\n",
    "    if err.shape == (len(y),len(y)):\n",
    "        #use full covariance\n",
    "        if v:\n",
    "            print('cov_mat chi2')\n",
    "        inv_cov = np.linalg.inv( np.matrix(err) )\n",
    "        chi2 = 0\n",
    "        for i in range(len(y)):\n",
    "            for j in range(len(y)):\n",
    "                chi2 = chi2 + (y[i]-yfit[i])*inv_cov[i,j]*(y[j]-yfit[j])\n",
    "        return chi2\n",
    "        \n",
    "    elif err.shape == (len(y),):\n",
    "        if v:\n",
    "            print('diagonal chi2')\n",
    "        return sum(((y-yfit)**2.)/(err**2.))\n",
    "    else:\n",
    "        raise IOError('error in err or cov_mat input shape')"
   ]
  },
  {
   "cell_type": "code",
   "execution_count": 3,
   "id": "009fd262-6f20-481d-b71d-63f453d6ad8e",
   "metadata": {
    "tags": []
   },
   "outputs": [],
   "source": [
    "desy1t = h5py.File('../TXPipe/data/desy1/outputs/tau_stats.hdf5','r')\n",
    "desy1r = h5py.File('../TXPipe/data/desy1/outputs/rowe_stats.hdf5','r')\n",
    "desy1_tau = np.append(desy1t['tau_statistics/tau_PSF-reserved/tau0'][:],\n",
    "                      [desy1t['tau_statistics/tau_PSF-reserved/tau2'][:],\n",
    "                      desy1t['tau_statistics/tau_PSF-reserved/tau5'][:]])\n",
    "\n",
    "desy1_cov = desy1t['tau_statistics/tau_PSF-reserved/cov'][:]\n",
    "desy1_cov_diag = desy1t['tau_statistics/tau_PSF-reserved/cov'][:]\n",
    "desy1_fit = np.append(desy1t['tau_statistics/bestfits_PSF-reserved/alpha']*desy1r['rowe_statistics/rowe_0_PSF-reserved/xi_plus'][:]\n",
    "                      + desy1t['tau_statistics/bestfits_PSF-reserved/beta']*desy1r['rowe_statistics/rowe_2_PSF-reserved/xi_plus'][:]\n",
    "                      + desy1t['tau_statistics/bestfits_PSF-reserved/eta']*desy1r['rowe_statistics/rowe_5_PSF-reserved/xi_plus'][:],\n",
    "                      [desy1t['tau_statistics/bestfits_PSF-reserved/alpha']*desy1r['rowe_statistics/rowe_2_PSF-reserved/xi_plus'][:]\n",
    "                      + desy1t['tau_statistics/bestfits_PSF-reserved/beta']*desy1r['rowe_statistics/rowe_1_PSF-reserved/xi_plus'][:]\n",
    "                      + desy1t['tau_statistics/bestfits_PSF-reserved/eta']*desy1r['rowe_statistics/rowe_4_PSF-reserved/xi_plus'][:],\n",
    "                      desy1t['tau_statistics/bestfits_PSF-reserved/alpha']*desy1r['rowe_statistics/rowe_5_PSF-reserved/xi_plus'][:]\n",
    "                      + desy1t['tau_statistics/bestfits_PSF-reserved/beta']*desy1r['rowe_statistics/rowe_4_PSF-reserved/xi_plus'][:]\n",
    "                      + desy1t['tau_statistics/bestfits_PSF-reserved/eta']*desy1r['rowe_statistics/rowe_3_PSF-reserved/xi_plus'][:]])\n",
    "desy1t.close()\n",
    "desy1r.close()\n"
   ]
  },
  {
   "cell_type": "code",
   "execution_count": 4,
   "id": "4e7cc82f-f072-4f08-9f14-d51295d1958e",
   "metadata": {
    "tags": []
   },
   "outputs": [
    {
     "name": "stdout",
     "output_type": "stream",
     "text": [
      "(60, 60)\n",
      "(60,)\n",
      "(60,)\n"
     ]
    }
   ],
   "source": [
    "print(np.shape(desy1_cov))\n",
    "print(np.shape(desy1_tau))\n",
    "print(np.shape(desy1_fit))"
   ]
  },
  {
   "cell_type": "code",
   "execution_count": 8,
   "id": "4c86bfe7-3342-45b8-a20f-f61913f31e0f",
   "metadata": {
    "tags": []
   },
   "outputs": [
    {
     "name": "stdout",
     "output_type": "stream",
     "text": [
      "cov_mat chi2\n",
      "24.408738885346676\n"
     ]
    }
   ],
   "source": [
    "desy1_chisq = calc_chi2(desy1_tau,desy1_cov,desy1_fit)\n",
    "print(desy1_chisq/(60))"
   ]
  },
  {
   "cell_type": "code",
   "execution_count": 6,
   "id": "7ea7016e-5388-44f4-a403-fd49457f955b",
   "metadata": {
    "tags": []
   },
   "outputs": [],
   "source": [
    "desy3t = h5py.File('../TXPipe/data/desy3/outputs/tau_stats.hdf5','r')\n",
    "desy3r = h5py.File('../TXPipe/data/desy3/outputs/rowe_stats.hdf5','r')\n",
    "desy3_tau = np.append(desy3t['tau_statistics/tau_PSF-reserved/tau0'][:],\n",
    "                      [desy3t['tau_statistics/tau_PSF-reserved/tau2'][:],\n",
    "                      desy3t['tau_statistics/tau_PSF-reserved/tau5'][:]])\n",
    "\n",
    "desy3_cov = desy3t['tau_statistics/tau_PSF-reserved/cov'][:]\n",
    "desy3_fit = np.append(desy3t['tau_statistics/bestfits_PSF-reserved/alpha']*desy3r['rowe_statistics/rowe_0_PSF-reserved/xi_plus'][:]\n",
    "                      + desy3t['tau_statistics/bestfits_PSF-reserved/beta']*desy3r['rowe_statistics/rowe_2_PSF-reserved/xi_plus'][:]\n",
    "                      + desy3t['tau_statistics/bestfits_PSF-reserved/eta']*desy3r['rowe_statistics/rowe_5_PSF-reserved/xi_plus'][:],\n",
    "                      [desy3t['tau_statistics/bestfits_PSF-reserved/alpha']*desy3r['rowe_statistics/rowe_2_PSF-reserved/xi_plus'][:]\n",
    "                      + desy3t['tau_statistics/bestfits_PSF-reserved/beta']*desy3r['rowe_statistics/rowe_1_PSF-reserved/xi_plus'][:]\n",
    "                      + desy3t['tau_statistics/bestfits_PSF-reserved/eta']*desy3r['rowe_statistics/rowe_4_PSF-reserved/xi_plus'][:],\n",
    "                      desy3t['tau_statistics/bestfits_PSF-reserved/alpha']*desy3r['rowe_statistics/rowe_5_PSF-reserved/xi_plus'][:]\n",
    "                      + desy3t['tau_statistics/bestfits_PSF-reserved/beta']*desy3r['rowe_statistics/rowe_4_PSF-reserved/xi_plus'][:]\n",
    "                      + desy3t['tau_statistics/bestfits_PSF-reserved/eta']*desy3r['rowe_statistics/rowe_3_PSF-reserved/xi_plus'][:]])\n",
    "#desy3t.close()\n",
    "#desy3r.close()"
   ]
  },
  {
   "cell_type": "code",
   "execution_count": 7,
   "id": "ac6bb1d6-43ba-43dc-be78-cdfd2309d010",
   "metadata": {
    "tags": []
   },
   "outputs": [
    {
     "name": "stdout",
     "output_type": "stream",
     "text": [
      "cov_mat chi2\n",
      "18.765127002888757\n"
     ]
    }
   ],
   "source": [
    "desy3_chisq = calc_chi2(desy3_tau,desy3_cov,desy3_fit)\n",
    "print(desy3_chisq/(60))"
   ]
  },
  {
   "cell_type": "code",
   "execution_count": 1,
   "id": "f970fbde-c4d5-49d4-9969-82a769300492",
   "metadata": {
    "tags": []
   },
   "outputs": [],
   "source": [
    "#checking jackknife cov:"
   ]
  },
  {
   "cell_type": "code",
   "execution_count": 8,
   "id": "77128311-f9a6-4157-beb1-a85c49c0d2db",
   "metadata": {
    "tags": []
   },
   "outputs": [],
   "source": [
    "desy3tjk = h5py.File('../TXPipe/data/desy3/outputs_jkknife/tau_stats.hdf5','r')\n",
    "desy3rjk = h5py.File('../TXPipe/data/desy3/outputs_jkknife/rowe_stats.hdf5','r')\n",
    "desy3_taujk = np.append(desy3tjk['tau_statistics/tau_PSF-reserved/tau0'][:],\n",
    "                      [desy3tjk['tau_statistics/tau_PSF-reserved/tau2'][:],\n",
    "                      desy3tjk['tau_statistics/tau_PSF-reserved/tau5'][:]])\n",
    "\n",
    "desy3_covjk = desy3tjk['tau_statistics/tau_PSF-reserved/cov'][:]\n",
    "desy3_fitjk = np.append(desy3tjk['tau_statistics/bestfits_PSF-reserved/alpha']*desy3rjk['rowe_statistics/rowe_0_PSF-reserved/xi_plus'][:]\n",
    "                      + desy3tjk['tau_statistics/bestfits_PSF-reserved/beta']*desy3rjk['rowe_statistics/rowe_2_PSF-reserved/xi_plus'][:]\n",
    "                      + desy3tjk['tau_statistics/bestfits_PSF-reserved/eta']*desy3rjk['rowe_statistics/rowe_5_PSF-reserved/xi_plus'][:],\n",
    "                      [desy3tjk['tau_statistics/bestfits_PSF-reserved/alpha']*desy3rjk['rowe_statistics/rowe_2_PSF-reserved/xi_plus'][:]\n",
    "                      + desy3tjk['tau_statistics/bestfits_PSF-reserved/beta']*desy3rjk['rowe_statistics/rowe_1_PSF-reserved/xi_plus'][:]\n",
    "                      + desy3tjk['tau_statistics/bestfits_PSF-reserved/eta']*desy3rjk['rowe_statistics/rowe_4_PSF-reserved/xi_plus'][:],\n",
    "                      desy3tjk['tau_statistics/bestfits_PSF-reserved/alpha']*desy3rjk['rowe_statistics/rowe_5_PSF-reserved/xi_plus'][:]\n",
    "                      + desy3tjk['tau_statistics/bestfits_PSF-reserved/beta']*desy3rjk['rowe_statistics/rowe_4_PSF-reserved/xi_plus'][:]\n",
    "                      + desy3tjk['tau_statistics/bestfits_PSF-reserved/eta']*desy3rjk['rowe_statistics/rowe_3_PSF-reserved/xi_plus'][:]])\n"
   ]
  },
  {
   "cell_type": "code",
   "execution_count": 9,
   "id": "bd38a3d1-1ead-471f-b44e-1e15220e945d",
   "metadata": {
    "tags": []
   },
   "outputs": [
    {
     "name": "stdout",
     "output_type": "stream",
     "text": [
      "cov_mat chi2\n",
      "-1551122677719156.2\n"
     ]
    }
   ],
   "source": [
    "desy3jk_chisq = calc_chi2(desy3_taujk,desy3_covjk,desy3_fitjk)\n",
    "print(desy3jk_chisq/(60))"
   ]
  },
  {
   "cell_type": "code",
   "execution_count": null,
   "id": "4f552dc2-607e-44fb-a573-b637d5399bce",
   "metadata": {},
   "outputs": [],
   "source": []
  }
 ],
 "metadata": {
  "kernelspec": {
   "display_name": "desc-python",
   "language": "python",
   "name": "desc-python"
  },
  "language_info": {
   "codemirror_mode": {
    "name": "ipython",
    "version": 3
   },
   "file_extension": ".py",
   "mimetype": "text/x-python",
   "name": "python",
   "nbconvert_exporter": "python",
   "pygments_lexer": "ipython3",
   "version": "3.10.10"
  }
 },
 "nbformat": 4,
 "nbformat_minor": 5
}

{
 "cells": [
  {
   "cell_type": "code",
   "execution_count": 1,
   "id": "b465f699-33d5-47dd-87bb-d48740f7afea",
   "metadata": {
    "tags": []
   },
   "outputs": [
    {
     "name": "stderr",
     "output_type": "stream",
     "text": [
      "Lmod has detected the following error: The following module(s) are unknown:\n",
      "\"texlive/2022\"\n",
      "\n",
      "Please check the spelling or version number. Also try \"module spider ...\"\n",
      "It is also possible your cache file is out-of-date; it may help to try:\n",
      "  $ module --ignore_cache load \"texlive/2022\"\n",
      "\n",
      "Also make sure that all modulefiles written in TCL start with the string\n",
      "#%Module\n",
      "\n",
      "\n",
      "\n"
     ]
    }
   ],
   "source": [
    "import os, sys\n",
    "import numpy as np\n",
    "import healpy as hp\n",
    "import pandas as pd\n",
    "import h5py\n",
    "import matplotlib \n",
    "import matplotlib.pyplot as plt\n",
    "import matplotlib.gridspec as gridspec\n",
    "\n",
    "os.system('module load texlive/2022')\n",
    "\n",
    "plt.rcParams.update({\n",
    "    \"text.usetex\": True,\n",
    "    \"font.family\": \"Times\",\n",
    "    \"font.size\"  : 13\n",
    "})\n",
    "\n",
    "matplotlib.rcParams.update({'font.size': 15})\n",
    "\n",
    "matplotlib.rcParams['mathtext.fontset'] = 'stix'\n",
    "plt.rc('text.latex', preamble=r'\\usepackage{/global/cfs/cdirs/lsst/groups/WL/users/yomori/repo/nulltests_txpipe/apjfonts}')\n",
    "        \n",
    "#plt.rcParams[\"font.family\"] = \"Times New Roman\"\n",
    "\n",
    "plt.rcParams['axes.facecolor']   = 'w'\n",
    "plt.rcParams['figure.facecolor'] = 'w'\n",
    "\n",
    "\n",
    "kidscol = '#9CC363'    # light olive\n",
    "descol  = 'chocolate'  # dark orange\n",
    "hsccol  = '#5A8BAF'    # lightpurple"
   ]
  },
  {
   "cell_type": "code",
   "execution_count": 2,
   "id": "7c1b4129-3860-41ae-b60c-b217ccaa6cb2",
   "metadata": {
    "tags": []
   },
   "outputs": [
    {
     "name": "stdout",
     "output_type": "stream",
     "text": [
      "<KeysViewHDF5 ['bin_0', 'bin_1', 'bin_2', 'bin_3', 'bin_all']>\n",
      "<KeysViewHDF5 ['bin_0', 'bin_1', 'bin_2', 'bin_3', 'bin_4', 'bin_all']>\n",
      "<KeysViewHDF5 ['bin_0', 'bin_1', 'bin_2', 'bin_3', 'bin_all']>\n"
     ]
    }
   ],
   "source": [
    "import h5py\n",
    "b = b2 = 'all'\n",
    "\n",
    "des={}\n",
    "with h5py.File(\"/pscratch/sd/j/jjeffers/temp/TXPipe/data/desy3/YOCALIB-1000JK-catms/tau_stats-nosw.hdf5\", \"r\") as f:\n",
    "    print(f['tau_statistics']['bestfits_PSF-reserved'].keys())\n",
    "    if b == 4:\n",
    "        print('FIFTH tomographic bin. switching to non-tomographic for DES, HSC')\n",
    "        b2 = 'all'\n",
    "        \n",
    "    des['cov']  = f['tau_statistics']['tau_PSF-reserved'][f'bin_{b2}']['cov'][:]\n",
    "    des['tht']  = f['tau_statistics']['tau_PSF-reserved'][f'bin_{b2}']['theta'][:]\n",
    "    des['tau0'] = f['tau_statistics']['tau_PSF-reserved'][f'bin_{b2}']['tau0p'][:]\n",
    "    des['tau2'] = f['tau_statistics']['tau_PSF-reserved'][f'bin_{b2}']['tau2p'][:]\n",
    "    des['tau5'] = f['tau_statistics']['tau_PSF-reserved'][f'bin_{b2}']['tau5p'][:]\n",
    "    des['tau0m'] = f['tau_statistics']['tau_PSF-reserved'][f'bin_{b2}']['tau0m'][:]\n",
    "    des['tau2m'] = f['tau_statistics']['tau_PSF-reserved'][f'bin_{b2}']['tau2m'][:]\n",
    "    des['tau5m'] = f['tau_statistics']['tau_PSF-reserved'][f'bin_{b2}']['tau5m'][:]\n",
    "kids={}\n",
    "with h5py.File(\"/pscratch/sd/j/jjeffers/temp/TXPipe/data/kids/TAU_catms/tau_stats.hdf5\", \"r\") as f:\n",
    "    print(f['tau_statistics']['bestfits_PSF-reserved'].keys())\n",
    "    kids['cov']  = f['tau_statistics']['tau_PSF-reserved'][f'bin_{b}']['cov'][:]\n",
    "    kids['tht']  = f['tau_statistics']['tau_PSF-reserved'][f'bin_{b}']['theta'][:]\n",
    "    kids['tau0'] = f['tau_statistics']['tau_PSF-reserved'][f'bin_{b}']['tau0p'][:]\n",
    "    kids['tau2'] = f['tau_statistics']['tau_PSF-reserved'][f'bin_{b}']['tau2p'][:]\n",
    "    kids['tau5'] = f['tau_statistics']['tau_PSF-reserved'][f'bin_{b}']['tau5p'][:]\n",
    "    kids['tau0m'] = f['tau_statistics']['tau_PSF-reserved'][f'bin_{b}']['tau0m'][:]\n",
    "    kids['tau2m'] = f['tau_statistics']['tau_PSF-reserved'][f'bin_{b}']['tau2m'][:]\n",
    "    kids['tau5m'] = f['tau_statistics']['tau_PSF-reserved'][f'bin_{b}']['tau5m'][:]    \n",
    "hsc={}\n",
    "with h5py.File(\"/pscratch/sd/j/jjeffers/temp/TXPipe/data/hsc-y3/outputs/TAU_150JK-catms/tau_stats.hdf5\", \"r\") as f:\n",
    "    print(f['tau_statistics']['bestfits_PSF-reserved'].keys())\n",
    "    \n",
    "    hsc['cov']  = f['tau_statistics']['tau_PSF-reserved'][f'bin_{b2}']['cov'][:]\n",
    "    hsc['tht']  = f['tau_statistics']['tau_PSF-reserved'][f'bin_{b2}']['theta'][:]\n",
    "    hsc['tau0'] = f['tau_statistics']['tau_PSF-reserved'][f'bin_{b2}']['tau0p'][:]\n",
    "    hsc['tau2'] = f['tau_statistics']['tau_PSF-reserved'][f'bin_{b2}']['tau2p'][:]\n",
    "    hsc['tau5'] = f['tau_statistics']['tau_PSF-reserved'][f'bin_{b2}']['tau5p'][:]\n",
    "    hsc['tau0m'] = f['tau_statistics']['tau_PSF-reserved'][f'bin_{b2}']['tau0m'][:]\n",
    "    hsc['tau2m'] = f['tau_statistics']['tau_PSF-reserved'][f'bin_{b2}']['tau2m'][:]\n",
    "    hsc['tau5m'] = f['tau_statistics']['tau_PSF-reserved'][f'bin_{b2}']['tau5m'][:]\n",
    "    \n",
    "    hsc['cov']  = f['tau_statistics']['tau_PSF-reserved'][f'bin_{b2}']['cov'][:]\n",
    "    hsc['tht']  = f['tau_statistics']['tau_PSF-reserved'][f'bin_{b2}']['theta'][:]\n",
    "    hsc['tau0'] = f['tau_statistics']['tau_PSF-reserved'][f'bin_{b2}']['tau0p'][:]\n",
    "    hsc['tau2'] = f['tau_statistics']['tau_PSF-reserved'][f'bin_{b2}']['tau2p'][:]\n",
    "    hsc['tau5'] = f['tau_statistics']['tau_PSF-reserved'][f'bin_{b2}']['tau5p'][:]\n",
    "    hsc['tau0m'] = f['tau_statistics']['tau_PSF-reserved'][f'bin_{b2}']['tau0m'][:]\n",
    "    hsc['tau2m'] = f['tau_statistics']['tau_PSF-reserved'][f'bin_{b2}']['tau2m'][:]\n",
    "    hsc['tau5m'] = f['tau_statistics']['tau_PSF-reserved'][f'bin_{b2}']['tau5m'][:]\n"
   ]
  },
  {
   "cell_type": "code",
   "execution_count": 23,
   "id": "91bd2355-67c2-4ae1-afbd-0cfd6c77be3b",
   "metadata": {
    "tags": []
   },
   "outputs": [
    {
     "data": {
      "text/plain": [
       "<Figure size 640x480 with 0 Axes>"
      ]
     },
     "metadata": {},
     "output_type": "display_data"
    },
    {
     "data": {
      "image/png": "[encoded data removed]",
      "text/plain": [
       "<Figure size 500x400 with 3 Axes>"
      ]
     },
     "metadata": {},
     "output_type": "display_data"
    }
   ],
   "source": [
    "%matplotlib inline\n",
    "matplotlib.rcParams.update({'font.size': 13})\n",
    "\n",
    "# CHECK COVARIANCE INDICES AGAIN\n",
    "\n",
    "plt.clf()\n",
    "fig = plt.figure(figsize=(5,4),dpi=100)\n",
    "\n",
    "gs  = gridspec.GridSpec(3, 1, top=0.98, right=0.96, left=0.16, bottom=0.1,hspace=0.05,wspace=0.15)\n",
    "\n",
    "ax0 = plt.subplot(gs[0])\n",
    "ax0.set_ylabel(r'$\\tau_{0}$',size=14,labelpad=10)\n",
    "##\n",
    "ax0.errorbar(10**(np.log10(kids['tht'][kids['tau0']>0])+0.02),kids['tau0'][kids['tau0']>0],yerr=(np.diag(kids['cov'])**0.5)[:20][kids['tau0']>0],marker='o',ls='None',ms=4.5,elinewidth=1.2,color=kidscol,label=r'KiDS-1000')\n",
    "ax0.errorbar(10**(np.log10(des['tht'][des['tau0']>0])+0.00) ,des['tau0'][des['tau0']>0] ,yerr=(np.diag(des['cov'])**0.5)[:20][des['tau0']>0],marker='o',ls='None',ms=4.5,elinewidth=1.2,color=descol,label=r'DES-Y3')\n",
    "ax0.errorbar(10**(np.log10(hsc['tht'][hsc['tau0']>0])+0.00) ,hsc['tau0'][hsc['tau0']>0] ,yerr=(np.diag(hsc['cov'])**0.5)[:20][hsc['tau0']>0],marker='o',ls='None',ms=4.5,elinewidth=1.2,color=hsccol,label=r'HSC-Y3')\n",
    "\n",
    "ax0.errorbar(10**(np.log10(kids['tht'][kids['tau0']<0])+0.02),np.abs(kids['tau0'][kids['tau0']<0]),yerr=(np.diag(kids['cov'])**0.5)[:20][kids['tau0']<0],marker='o',mfc='None',ls='None',ms=4.5,elinewidth=1.2,color=kidscol,)\n",
    "ax0.errorbar(10**(np.log10(des['tht'][des['tau0']<0])+0.00) ,np.abs(des['tau0'][des['tau0']<0]),yerr=(np.diag(des['cov'])**0.5)[:20][des['tau0']<0],marker='o',mfc='None',ls='None',ms=4.5,elinewidth=1.2,color=descol,)\n",
    "ax0.errorbar(10**(np.log10(hsc['tht'][hsc['tau0']<0])+0.00) ,np.abs(hsc['tau0'][hsc['tau0']<0]),yerr=(np.diag(hsc['cov'])**0.5)[:20][hsc['tau0']<0],marker='o',mfc='None',ls='None',ms=4.5,elinewidth=1.2,color=hsccol,)\n",
    "\n",
    "##\n",
    "ax0.set_yscale('log')\n",
    "ax0.set_xscale('log')\n",
    "#ax0.semilogx(np.arange(300),np.zeros(300),color='dimgray',ls='--',lw=0.7,dashes=(5,4))\n",
    "ax0.tick_params(axis=\"both\",which='both',direction=\"in\")\n",
    "plt.setp(ax0.get_xticklabels(), visible=False)\n",
    "ax0.set_xlim(0.08,300)\n",
    "#------------------------------------------------------------------------------------------\n",
    "ax1 = plt.subplot(gs[1])\n",
    "ax1.set_ylabel(r'$\\tau_{2}$',size=14,labelpad=10)\n",
    "##\n",
    "ax1.errorbar(10**(np.log10(kids['tht'][kids['tau2']>0])+0.02),kids['tau2'][kids['tau2']>0],yerr=(np.diag(kids['cov'])**0.5)[40:60][kids['tau2']>0],marker='o',ls='None',ms=4.5,elinewidth=1.2,color=kidscol,label=r'KiDS-1000')\n",
    "ax1.errorbar(10**(np.log10(des['tht'][des['tau2']>0])+0.00) ,des['tau2'][des['tau2']>0] ,yerr=(np.diag(des['cov'])**0.5)[40:60][des['tau2']>0],marker='o',ls='None',ms=4.5,elinewidth=1.2,color=descol,label=r'DES-Y3')\n",
    "ax1.errorbar(10**(np.log10(hsc['tht'][hsc['tau2']>0])+0.00) ,hsc['tau2'][hsc['tau2']>0] ,yerr=(np.diag(hsc['cov'])**0.5)[40:60][hsc['tau2']>0],marker='o',ls='None',ms=4.5,elinewidth=1.2,color=hsccol,label=r'HSC-Y3')\n",
    "\n",
    "ax1.errorbar(10**(np.log10(kids['tht'][kids['tau2']<0])+0.02),np.abs(kids['tau2'][kids['tau2']<0]),yerr=(np.diag(kids['cov'])**0.5)[40:60][kids['tau2']<0],marker='o',mfc='None',ls='None',ms=4.5,elinewidth=1.2,color=kidscol,)\n",
    "ax1.errorbar(10**(np.log10(des['tht'][des['tau2']<0])+0.00) ,np.abs(des['tau2'][des['tau2']<0]),yerr=(np.diag(des['cov'])**0.5)[40:60][des['tau2']<0],marker='o',mfc='None',ls='None',ms=4.5,elinewidth=1.2,color=descol,)\n",
    "ax1.errorbar(10**(np.log10(hsc['tht'][hsc['tau2']<0])+0.00) ,np.abs(hsc['tau2'][hsc['tau2']<0]),yerr=(np.diag(hsc['cov'])**0.5)[40:60][hsc['tau2']<0],marker='o',mfc='None',ls='None',ms=4.5,elinewidth=1.2,color=hsccol,)\n",
    "##\n",
    "ax1.set_yscale('log')\n",
    "ax1.set_xscale('log')\n",
    "#ax1.semilogx(np.arange(300),np.zeros(300),color='dimgray',ls='--',lw=0.7,dashes=(5,4))\n",
    "ax1.tick_params(axis=\"both\",which='both',direction=\"in\")\n",
    "plt.setp(ax1.get_xticklabels(), visible=False)\n",
    "ax1.set_xlim(0.08,300)\n",
    "#------------------------------------------------------------------------------------------\n",
    "ax2 = plt.subplot(gs[2])\n",
    "ax2.set_ylabel(r'$\\tau_{5}$',size=14,labelpad=10)\n",
    "##\n",
    "ax2.errorbar(10**(np.log10(kids['tht'][kids['tau5']>0])+0.02),kids['tau5'][kids['tau5']>0],yerr=(np.diag(kids['cov'])**0.5)[80:100][kids['tau5']>0],marker='o',ls='None',ms=4.5,elinewidth=1.2,color=kidscol,label=r'KiDS-1000')\n",
    "ax2.errorbar(10**(np.log10(des['tht'][des['tau5']>0])+0.00) ,des['tau5'][des['tau5']>0] ,yerr=(np.diag(des['cov'])**0.5)[80:100][des['tau5']>0],marker='o',ls='None',ms=4.5,elinewidth=1.2,color=descol,label=r'DES-Y3')\n",
    "ax2.errorbar(10**(np.log10(hsc['tht'][hsc['tau5']>0])+0.00) ,hsc['tau5'][hsc['tau5']>0] ,yerr=(np.diag(hsc['cov'])**0.5)[80:100][hsc['tau5']>0],marker='o',ls='None',ms=4.5,elinewidth=1.2,color=hsccol,label=r'HSC-Y3')\n",
    "\n",
    "ax2.errorbar(10**(np.log10(kids['tht'][kids['tau5']<0])+0.02),np.abs(kids['tau5'][kids['tau5']<0]),yerr=(np.diag(kids['cov'])**0.5)[80:100][kids['tau5']<0],marker='o',mfc='None',ls='None',ms=4.5,elinewidth=1.2,color=kidscol,)\n",
    "ax2.errorbar(10**(np.log10(des['tht'][des['tau5']<0])+0.00) ,np.abs(des['tau5'][des['tau5']<0]),yerr=(np.diag(des['cov'])**0.5)[80:100][des['tau5']<0],marker='o',mfc='None',ls='None',ms=4.5,elinewidth=1.2,color=descol,)\n",
    "ax2.errorbar(10**(np.log10(hsc['tht'][hsc['tau5']<0])+0.00) ,np.abs(hsc['tau5'][hsc['tau5']<0]),yerr=(np.diag(hsc['cov'])**0.5)[80:100][hsc['tau5']<0],marker='o',mfc='None',ls='None',ms=4.5,elinewidth=1.2,color=hsccol,)\n",
    "##\n",
    "ax2.set_yscale('log')\n",
    "ax2.set_xscale('log')\n",
    "#ax2.semilogx(np.arange(300),np.zeros(300),color='dimgray',ls='--',lw=0.7,dashes=(5,4))\n",
    "ax2.tick_params(axis=\"both\",which='both',direction=\"in\")\n",
    "ax2.set_xlabel(r'$\\theta\\ [{\\rm arcmin}]$',size=14)\n",
    "ax2.set_xlim(0.08,300)\n",
    "\n",
    "ax2.get_xaxis().set_major_formatter(matplotlib.ticker.NullFormatter())\n",
    "ax2.get_xaxis().set_minor_formatter(matplotlib.ticker.NullFormatter())\n",
    "ax2.set_xticks([0.1,1,10,100])\n",
    "ax2.legend(frameon=False,labelspacing=0.05,ncol=3,handletextpad=-0.2,columnspacing=0.2,loc='upper right',borderpad=0)\n",
    "\n",
    "from matplotlib.ticker import ScalarFormatter\n",
    "for axis in [ax2.xaxis]:\n",
    "    axis.set_major_formatter(ScalarFormatter())\n",
    "    \n",
    "for axis in ['top','bottom','left','right']:\n",
    "    ax0.spines[axis].set_linewidth(1.2)\n",
    "    ax1.spines[axis].set_linewidth(1.2)\n",
    "    ax2.spines[axis].set_linewidth(1.2)\n",
    "    \n",
    "plt.savefig('taustats.pdf',dpi=200,bbox_inches='tight')\n"
   ]
  },
  {
   "cell_type": "markdown",
   "id": "a9c1fc6f-9455-49bf-9e58-06f0c00264c5",
   "metadata": {},
   "source": [
    "# checking fit\n",
    "This plot does not go into the paper."
   ]
  },
  {
   "cell_type": "code",
   "execution_count": 70,
   "id": "acfbc787-4693-4620-9d26-09c2babb67a6",
   "metadata": {
    "tags": []
   },
   "outputs": [],
   "source": [
    "params = {}\n",
    "params['des'] = {}\n",
    "plist = ['alpha','beta','eta']\n",
    "\n",
    "with h5py.File(\"/pscratch/sd/j/jjeffers/temp/TXPipe/data/desy3/YOCALIB-1000JK-catms/tau_stats-nosw.hdf5\", \"r\") as f:\n",
    "    for p in plist:\n",
    "        params['des'][f'{p}'] = np.asarray(f['tau_statistics']['bestfits_PSF-reserved'][f'bin_{b2}'][f'{p}'])\n",
    "params['hsc'] = {}\n",
    "with h5py.File(\"/pscratch/sd/j/jjeffers/temp/TXPipe/data/hsc-y3/outputs/TAU_150JK-catms/tau_stats.hdf5\", \"r\") as f:\n",
    "    for p in plist:\n",
    "        params['hsc'][f'{p}'] = np.asarray(f['tau_statistics']['bestfits_PSF-reserved'][f'bin_{b2}'][f'{p}'])\n",
    "\n",
    "params['kids'] = {}\n",
    "with h5py.File(\"/pscratch/sd/j/jjeffers/temp/TXPipe/data/kids/TAU_catms/tau_stats.hdf5\", \"r\") as f:\n",
    "    for p in plist:\n",
    "        params['kids'][f'{p}'] = np.asarray(f['tau_statistics']['bestfits_PSF-reserved'][f'bin_{b}'][f'{p}'])\n"
   ]
  },
  {
   "cell_type": "code",
   "execution_count": 71,
   "id": "98bb70ae-6816-4096-b5b5-c7c1ca361ebf",
   "metadata": {
    "tags": []
   },
   "outputs": [],
   "source": [
    "rowes = {}\n",
    "\n",
    "rowes['des'] = {}\n",
    "with h5py.File('/pscratch/sd/j/jjeffers/temp/TXPipe/data/desy3/YOCALIB-1000JK-catms/rowe_stats.hdf5','r') as f:\n",
    "    for i in range(6):\n",
    "        rowes['des'][f'rho{i}'] = f['rowe_statistics'][f'rowe_{i}_PSF-reserved']['xi_plus'][:]\n",
    "        rowes['des'][f'rho{i}m'] = f['rowe_statistics'][f'rowe_{i}_PSF-reserved']['xi_minus'][:]\n",
    "        \n",
    "rowes['hsc'] = {}\n",
    "with h5py.File('/pscratch/sd/j/jjeffers/temp/TXPipe/data/hsc-y3/outputs/TAU_1000JK-catms/rowe_stats.hdf5','r') as f:\n",
    "    for i in range(6):\n",
    "        rowes['hsc'][f'rho{i}'] = f['rowe_statistics'][f'rowe_{i}_PSF-reserved']['xi_plus'][:]\n",
    "        rowes['hsc'][f'rho{i}m'] = f['rowe_statistics'][f'rowe_{i}_PSF-reserved']['xi_minus'][:]\n",
    "\n",
    "    \n",
    "rowes['kids'] = {}\n",
    "with h5py.File('/pscratch/sd/j/jjeffers/temp/TXPipe/data/kids/TAU_catms/rowe_stats.hdf5','r') as f:\n",
    "    for i in range(6):\n",
    "        rowes['kids'][f'rho{i}'] = f['rowe_statistics'][f'rowe_{i}_PSF-reserved']['xi_plus'][:]\n",
    "        rowes['kids'][f'rho{i}m'] = f['rowe_statistics'][f'rowe_{i}_PSF-reserved']['xi_minus'][:]"
   ]
  },
  {
   "cell_type": "code",
   "execution_count": 72,
   "id": "8fcb4bab-464c-4061-8a9d-32caf306aac8",
   "metadata": {
    "tags": []
   },
   "outputs": [],
   "source": [
    "fits = {}\n",
    "fits['des'] = {}\n",
    "fits['hsc'] = {}\n",
    "fits['kids'] = {}\n",
    "\n",
    "surveys = ['des','hsc','kids']\n",
    "#surveys=['kids']\n",
    "\n",
    "for s in surveys:\n",
    "    fits[f'{s}']['tau0'] = params[f'{s}']['alpha']*rowes[f'{s}']['rho0'] + params[f'{s}']['beta']*rowes[f'{s}']['rho2'] + params[f'{s}']['eta']*rowes[f'{s}']['rho5']\n",
    "    fits[f'{s}']['tau2'] = params[f'{s}']['alpha']*rowes[f'{s}']['rho2'] + params[f'{s}']['beta']*rowes[f'{s}']['rho1'] + params[f'{s}']['eta']*rowes[f'{s}']['rho4']\n",
    "    fits[f'{s}']['tau5'] = params[f'{s}']['alpha']*rowes[f'{s}']['rho5'] + params[f'{s}']['beta']*rowes[f'{s}']['rho4'] + params[f'{s}']['eta']*rowes[f'{s}']['rho3']\n",
    "    fits[f'{s}']['tau0m'] = params[f'{s}']['alpha']*rowes[f'{s}']['rho0m'] + params[f'{s}']['beta']*rowes[f'{s}']['rho2m'] + params[f'{s}']['eta']*rowes[f'{s}']['rho5m']\n",
    "    fits[f'{s}']['tau2m'] = params[f'{s}']['alpha']*rowes[f'{s}']['rho2m'] + params[f'{s}']['beta']*rowes[f'{s}']['rho1m'] + params[f'{s}']['eta']*rowes[f'{s}']['rho4m']\n",
    "    fits[f'{s}']['tau5m'] = params[f'{s}']['alpha']*rowes[f'{s}']['rho5m'] + params[f'{s}']['beta']*rowes[f'{s}']['rho4m'] + params[f'{s}']['eta']*rowes[f'{s}']['rho3m']\n"
   ]
  },
  {
   "cell_type": "code",
   "execution_count": null,
   "id": "4447fb39-5884-4976-b451-896003760d4b",
   "metadata": {
    "tags": []
   },
   "outputs": [],
   "source": [
    "plt.plot(des['tht'],fits['des']['tau0']/1e-5,color=descol,label = 'DES-Y3')\n",
    "plt.plot(hsc['tht'],fits['hsc']['tau0']/1e-5,color=hsccol,label='HSC-Y3')\n",
    "plt.plot(kids['tht'],fits['kids']['tau0']/1e-5,color=kidscol,label='KiDS-1000')\n",
    "plt.errorbar(10**(np.log10(des['tht'])+0.00) ,des['tau0']/1e-5   ,yerr=(np.diag(des['cov'])**0.5)[:20]/1e-5     ,marker='o',ls='None',ms=4.5,elinewidth=1.2,color=descol)\n",
    "plt.errorbar(10**(np.log10(kids['tht'])+0.02),kids['tau0']/1e-5  ,yerr=(np.diag(kids['cov'])**0.5)[:20]/1e-5    ,marker='o',ls='None',ms=4.5,elinewidth=1.2,color=kidscol)\n",
    "plt.errorbar(10**(np.log10(hsc['tht'])+0.04) ,hsc['tau0']/1e-5   ,yerr=(np.diag(hsc['cov'])**0.5)[:20]/1e-5 ,marker='o',ls='None',ms=4.5,elinewidth=1.2,color=hsccol)\n",
    "plt.xscale('log')\n",
    "plt.ylabel(r'$\\tau_0+$')\n",
    "plt.xlabel(r'$\\theta$')\n",
    "plt.legend(loc = 'lower right')"
   ]
  },
  {
   "cell_type": "code",
   "execution_count": null,
   "id": "ff49222c-c5ca-4f82-9b1d-0b6d6a6a563b",
   "metadata": {
    "jupyter": {
     "source_hidden": true
    },
    "tags": []
   },
   "outputs": [],
   "source": [
    "plt.plot(des['tht'],des['tht']*fits['des']['tau2']/1e-5,color=descol,label = 'DES-Y3')\n",
    "plt.plot(hsc['tht'],hsc['tht']*fits['hsc']['tau2']/1e-5,color=hsccol,label='HSC-Y3')\n",
    "plt.plot(kids['tht'],kids['tht']*fits['kids']['tau2']/1e-5,color=kidscol,label='KiDS-1000')\n",
    "plt.errorbar(10**(np.log10(des['tht'])+0.00) ,des['tht']*des['tau2']/1e-5  ,yerr=des['tht']*(np.diag(des['cov'])**0.5)[40:60]/1e-5  ,marker='o',ls='None',ms=4.5,elinewidth=1.2,color=descol)\n",
    "plt.errorbar(10**(np.log10(kids['tht'])+0.02),kids['tht']*kids['tau2']/1e-5,yerr=kids['tht']*(np.diag(kids['cov'])**0.5)[40:60]/1e-5,marker='o',ls='None',ms=4.5,elinewidth=1.2,color=kidscol)\n",
    "plt.errorbar(10**(np.log10(hsc['tht'])+0.04) ,hsc['tht']*hsc['tau2']/1e-5  ,yerr=hsc['tht']*(np.diag(hsc['cov'])**0.5)[40:60]/1e-5  ,marker='o',ls='None',ms=4.5,elinewidth=1.2,color=hsccol)\n",
    "\n",
    "plt.xscale('log')\n",
    "plt.ylabel(r'$\\theta \\tau_2+$')\n",
    "plt.xlabel(r'$\\theta$')\n",
    "\n",
    "plt.legend(loc='upper left')"
   ]
  },
  {
   "cell_type": "code",
   "execution_count": null,
   "id": "659e7f52-1d06-4c02-98da-306bc7f3cb12",
   "metadata": {
    "jupyter": {
     "source_hidden": true
    },
    "tags": []
   },
   "outputs": [],
   "source": [
    "plt.plot(des['tht'],des['tht']*fits['des']['tau5']/1e-6 ,color=descol,label = 'DES-Y3')\n",
    "plt.plot(hsc['tht'],hsc['tht']*fits['hsc']['tau5']/1e-6 ,color=hsccol,label='HSC-Y3')\n",
    "plt.plot(kids['tht'],kids['tht']*fits['kids']['tau5']/1e-6 ,color=kidscol,label='KiDS-1000')\n",
    "plt.errorbar(10**(np.log10(des['tht'])+0.00) ,des['tht']*des['tau5']/1e-6      ,yerr=des['tht']*(np.diag(des['cov'])**0.5)[80:100]/1e-6     ,marker='o',ls='None',ms=4.5,elinewidth=1.2,color=descol)\n",
    "plt.errorbar(10**(np.log10(kids['tht'])+0.02),kids['tht']*kids['tau5']/1e-6,yerr=kids['tht']*(np.diag(kids['cov'])**0.5)[80:100]/1e-6,marker='o',ls='None',ms=4.5,elinewidth=1.2,color=kidscol)\n",
    "plt.errorbar(10**(np.log10(hsc['tht'])+0.04) ,hsc['tht']*hsc['tau5']/1e-6      ,yerr=hsc['tht']*(np.diag(hsc['cov'])**0.5)[80:100]/1e-6      ,marker='o',ls='None',ms=4.5,elinewidth=1.2,color=hsccol)\n",
    "plt.xscale('log')\n",
    "plt.ylabel(r'$\\theta \\tau_5+$')\n",
    "plt.xlabel(r'$\\theta$')\n",
    "\n",
    "plt.legend(loc='lower left')"
   ]
  },
  {
   "cell_type": "code",
   "execution_count": 6,
   "id": "92b60ab3-ca15-458a-8c59-76fd112218ee",
   "metadata": {},
   "outputs": [],
   "source": [
    "def chi2(cov,Njk,Tall,Xall):\n",
    "    mask   = cov.diagonal() > 0\n",
    "    cov    = cov[mask][:, mask]\n",
    "    # We debias the covariance with two correction factors from Hartlap et. al 2006 eq. 17 and Dodelson & Schneider 2013 eq. 28\n",
    "    ndim = 3\n",
    "    Ndv    = 6*20\n",
    "    if not Ndv < Njk - 2:\n",
    "        raise ValueError(\"Hartlap correction only valid for N data vector elements < N jackknife patches - 2\")\n",
    "    f_H    = 1.*(Njk-(Ndv-ndim)-2)/(Njk-1)\n",
    "    f_DS   = 1/(1+(Ndv-ndim)*(Njk-Ndv-2)/(Njk-Ndv-1)/(Njk-Ndv-4))\n",
    "    cov    = cov / f_H / f_DS \n",
    "    Tall  = Tall[mask]\n",
    "    Xall  = Xall[mask]\n",
    "    dof  = Ndv - ndim\n",
    "    return np.dot(Xall-Tall,np.dot(Xall-Tall,np.linalg.inv(cov)))/dof"
   ]
  },
  {
   "cell_type": "code",
   "execution_count": 73,
   "id": "10a1860f-c7be-4a2f-b86d-0c6d7850b64e",
   "metadata": {
    "tags": []
   },
   "outputs": [],
   "source": [
    "\n",
    "dTall = np.concatenate([fits['des']['tau0'], fits['des']['tau0m'],\n",
    "                           fits['des']['tau2'], fits['des']['tau2m'],\n",
    "                           fits['des']['tau5'], fits['des']['tau5m']])\n",
    "dXall = np.concatenate([des['tau0'],des['tau0m'],\n",
    "                           des['tau2'],des['tau2m'],\n",
    "                           des['tau5'],des['tau5m']])\n",
    "\n",
    "\n",
    "hTall = np.concatenate([fits['hsc']['tau0'], fits['hsc']['tau0m'],\n",
    "                           fits['hsc']['tau2'], fits['hsc']['tau2m'],\n",
    "                           fits['hsc']['tau5'], fits['hsc']['tau5m']])\n",
    "hXall = np.concatenate([hsc['tau0'],hsc['tau0m'],\n",
    "                           hsc['tau2'],hsc['tau2m'],\n",
    "                           hsc['tau5'],hsc['tau5m']])\n",
    "\n",
    "\n",
    "kTall = np.concatenate([fits['kids']['tau0'], fits['kids']['tau0m'],\n",
    "                           fits['kids']['tau2'], fits['kids']['tau2m'],\n",
    "                           fits['kids']['tau5'], fits['kids']['tau5m']])\n",
    "kXall = np.concatenate([kids['tau0'],kids['tau0m'],\n",
    "                           kids['tau2'],kids['tau2m'],\n",
    "                           kids['tau5'],kids['tau5m']])"
   ]
  },
  {
   "cell_type": "code",
   "execution_count": 76,
   "id": "0ff9ca2c-f855-4efa-9a21-a1d37b8298a2",
   "metadata": {
    "tags": []
   },
   "outputs": [
    {
     "data": {
      "text/plain": [
       "0.9667772878240595"
      ]
     },
     "execution_count": 76,
     "metadata": {},
     "output_type": "execute_result"
    }
   ],
   "source": [
    "chi2(des['cov'],1000,dTall,dXall)"
   ]
  },
  {
   "cell_type": "code",
   "execution_count": 74,
   "id": "f08fb070-6114-4b54-b920-08cd0cf0d575",
   "metadata": {
    "tags": []
   },
   "outputs": [
    {
     "data": {
      "text/plain": [
       "0.3890603713512507"
      ]
     },
     "execution_count": 74,
     "metadata": {},
     "output_type": "execute_result"
    }
   ],
   "source": [
    "chi2(hsc['cov'],150,hTall,hXall)"
   ]
  },
  {
   "cell_type": "code",
   "execution_count": 75,
   "id": "455bc98c-63c5-42b2-aaff-af8dceb35582",
   "metadata": {
    "tags": []
   },
   "outputs": [
    {
     "data": {
      "text/plain": [
       "0.7841415433075155"
      ]
     },
     "execution_count": 75,
     "metadata": {},
     "output_type": "execute_result"
    }
   ],
   "source": [
    "chi2(kids['cov'],250,kTall,kXall)"
   ]
  }
 ],
 "metadata": {
  "kernelspec": {
   "display_name": "desc-python",
   "language": "python",
   "name": "desc-python"
  },
  "language_info": {
   "codemirror_mode": {
    "name": "ipython",
    "version": 3
   },
   "file_extension": ".py",
   "mimetype": "text/x-python",
   "name": "python",
   "nbconvert_exporter": "python",
   "pygments_lexer": "ipython3",
   "version": "3.10.13"
  }
 },
 "nbformat": 4,
 "nbformat_minor": 5
}

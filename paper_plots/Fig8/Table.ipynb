{
 "cells": [
  {
   "cell_type": "code",
   "execution_count": 1,
   "id": "b465f699-33d5-47dd-87bb-d48740f7afea",
   "metadata": {
    "tags": []
   },
   "outputs": [],
   "source": [
    "import os, sys\n",
    "import numpy as np\n",
    "import healpy as hp\n",
    "import pandas as pd\n",
    "import h5py\n",
    "import matplotlib \n",
    "import matplotlib.pyplot as plt\n",
    "import matplotlib.gridspec as gridspec\n"
   ]
  },
  {
   "cell_type": "code",
   "execution_count": 2,
   "id": "acfbc787-4693-4620-9d26-09c2babb67a6",
   "metadata": {
    "tags": []
   },
   "outputs": [],
   "source": [
    "params = {}\n",
    "params['des'] = {}\n",
    "plist = ['alpha','alpha_err','beta','beta_err','eta','eta_err']\n",
    "\n",
    "with h5py.File(\"/pscratch/sd/j/jjeffers/temp/TXPipe/data/desy3/YOCALIB-1000JK-catms/tau_stats-nosw.hdf5\", \"r\") as f:\n",
    "    for b in [0,1,2,3,'all']:\n",
    "        params['des'][f'bin_{b}'] = {}\n",
    "        for p in plist:\n",
    "            params['des'][f'bin_{b}'][f'{p}'] = np.asarray(f['tau_statistics']['bestfits_PSF-reserved'][f'bin_{b}'][f'{p}'])\n",
    "\n",
    "params['hsc'] = {}\n",
    "with h5py.File(\"/pscratch/sd/j/jjeffers/temp/TXPipe/data/hsc-y3/outputs/TAU_150JK-catms/tau_stats.hdf5\", \"r\") as f:\n",
    "    for b in [0,1,2,3,'all']:\n",
    "        params['hsc'][f'bin_{b}'] = {}\n",
    "        for p in plist:\n",
    "            params['hsc'][f'bin_{b}'][f'{p}'] = np.asarray(f['tau_statistics']['bestfits_PSF-reserved'][f'bin_{b}'][f'{p}'])\n",
    "\n",
    "params['kids'] = {}\n",
    "with h5py.File(\"/pscratch/sd/j/jjeffers/temp/TXPipe/data/kids/TAU_catms/tau_stats.hdf5\", \"r\") as f:\n",
    "    for b in [0,1,2,3,4,'all']:\n",
    "        params['kids'][f'bin_{b}'] = {}\n",
    "        for p in plist:\n",
    "            params['kids'][f'bin_{b}'][f'{p}'] = np.asarray(f['tau_statistics']['bestfits_PSF-reserved'][f'bin_{b}'][f'{p}'])\n"
   ]
  },
  {
   "cell_type": "code",
   "execution_count": 5,
   "id": "92b60ab3-ca15-458a-8c59-76fd112218ee",
   "metadata": {},
   "outputs": [
    {
     "name": "stdout",
     "output_type": "stream",
     "text": [
      "bin_0\n",
      "bin_1\n",
      "bin_2\n",
      "bin_3\n",
      "bin_all\n",
      "$14 \\pm 7.98$ & $-0.0503 \\pm 0.228$ & $1.76 \\pm 2.1$ \\\\\n",
      "$10 \\pm 6.48$ & $0.414 \\pm 0.199$ & $0.444 \\pm 1.52$ \\\\\n",
      "$-7.49 \\pm 11.5$ & $0.0102 \\pm 0.23$ & $-0.275 \\pm 1.9$ \\\\\n",
      "$-2.01 \\pm 13.7$ & $-0.514 \\pm 0.424$ & $-6.03 \\pm 2.59$ \\\\\n",
      "$19 \\pm 4.68$ & $0.197 \\pm 0.111$ & $1.5 \\pm 0.811$ \\\\\n",
      "\n"
     ]
    }
   ],
   "source": [
    "def format_parameters(bin_data):\n",
    "    formatted_str = ''\n",
    "    for bin_name, pms in bin_data.items():\n",
    "        print(bin_name)\n",
    "        alpha = f\"{pms['alpha']* 1000:.3g}\"\n",
    "        alpha_err = f\"{pms['alpha_err']* 1000:.3g}\"\n",
    "        beta = f\"{pms['beta']:.3g}\"\n",
    "        beta_err = f\"{pms['beta_err']:.3g}\"\n",
    "        eta = f\"{pms['eta']:.3g}\"\n",
    "        eta_err = f\"{pms['eta_err']:.3g}\"\n",
    "        \n",
    "        formatted_str += f\"${alpha} \\\\pm {alpha_err}$ & ${beta} \\\\pm {beta_err}$ & ${eta} \\\\pm {eta_err}$ \\\\\\\\\\n\"\n",
    "    \n",
    "    return formatted_str\n",
    "\n",
    "# Print the formatted string\n",
    "print(format_parameters(params['hsc']))"
   ]
  },
  {
   "cell_type": "code",
   "execution_count": null,
   "id": "7a61819c-1dbc-4f2d-b406-fcc2a9134844",
   "metadata": {},
   "outputs": [],
   "source": []
  }
 ],
 "metadata": {
  "kernelspec": {
   "display_name": "desc-python",
   "language": "python",
   "name": "desc-python"
  },
  "language_info": {
   "codemirror_mode": {
    "name": "ipython",
    "version": 3
   },
   "file_extension": ".py",
   "mimetype": "text/x-python",
   "name": "python",
   "nbconvert_exporter": "python",
   "pygments_lexer": "ipython3",
   "version": "3.10.13"
  }
 },
 "nbformat": 4,
 "nbformat_minor": 5
}

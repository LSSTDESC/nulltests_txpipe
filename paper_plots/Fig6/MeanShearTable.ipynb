{
 "cells": [
  {
   "cell_type": "code",
   "execution_count": 5,
   "id": "e4c3357d-3b94-43a5-9212-8479d4ad0bf0",
   "metadata": {
    "tags": []
   },
   "outputs": [
    {
     "name": "stderr",
     "output_type": "stream",
     "text": [
      "Lmod has detected the following error: The following module(s) are unknown:\n",
      "\"texlive/2022\"\n",
      "\n",
      "Please check the spelling or version number. Also try \"module spider ...\"\n",
      "It is also possible your cache file is out-of-date; it may help to try:\n",
      "  $ module --ignore_cache load \"texlive/2022\"\n",
      "\n",
      "Also make sure that all modulefiles written in TCL start with the string\n",
      "#%Module\n",
      "\n",
      "\n",
      "\n"
     ]
    }
   ],
   "source": [
    "import os, sys\n",
    "import numpy as np\n",
    "import healpy as hp\n",
    "import pandas as pd\n",
    "import h5py\n",
    "import matplotlib \n",
    "import matplotlib.pyplot as plt\n",
    "import matplotlib.gridspec as gridspec\n",
    "\n",
    "os.system('module load texlive/2022')\n",
    "\n",
    "plt.rcParams.update({\n",
    "    \"text.usetex\": True,\n",
    "    \"font.family\": \"Times\",\n",
    "    \"font.size\"  : 13\n",
    "})\n",
    "\n",
    "matplotlib.rcParams.update({'font.size': 15})\n",
    "\n",
    "matplotlib.rcParams['mathtext.fontset'] = 'stix'\n",
    "plt.rc('text.latex', preamble=r'\\usepackage{/global/cfs/cdirs/lsst/groups/WL/users/yomori/repo/nulltests_txpipe/apjfonts}')\n",
    "        \n",
    "#plt.rcParams[\"font.family\"] = \"Times New Roman\"\n",
    "\n",
    "plt.rcParams['axes.facecolor']   = 'w'\n",
    "plt.rcParams['figure.facecolor'] = 'w'\n",
    "\n",
    "\n",
    "kidscol = '#9CC363'    # light olive\n",
    "descol  = 'chocolate'  # dark orange\n",
    "hsccol  = '#5A8BAF'    # lightpurple"
   ]
  },
  {
   "cell_type": "code",
   "execution_count": 6,
   "id": "c6c8e211-c0da-4b42-bddd-fe2895256839",
   "metadata": {},
   "outputs": [],
   "source": [
    "from scipy.optimize import curve_fit\n",
    "import numpy as np\n",
    "import warnings\n",
    "\n",
    "def fit_straight_line(x, y, y_err=None):\n",
    "    \"\"\"\n",
    "    Use scipy to fit a straight line, with errors bars in y.\n",
    "\n",
    "    Parameters\n",
    "    ----------\n",
    "    x: array\n",
    "        x-coordinate\n",
    "    y: array\n",
    "        y-coordinate\n",
    "    y_err: array/float\n",
    "        optional, default=None, errors are 1D std. dev.\n",
    "\n",
    "\n",
    "    Returns\n",
    "    -------\n",
    "    m: float\n",
    "        gradient\n",
    "\n",
    "    c: float\n",
    "        intercept\n",
    "    \"\"\"\n",
    "    if x.size == 0:\n",
    "        print(\"ERROR: No data for straight line fit. Returning m=0 c=0\")\n",
    "        return 0.0, 0.0, np.array([[1.0, 0.0], [0.0, 1.0]])\n",
    "    \n",
    "    if x.size != y.size:\n",
    "        raise ValueError(\"x and y must have the same length\")\n",
    "\n",
    "    try:\n",
    "        popt, cov = curve_fit(line, x, y, sigma=y_err)\n",
    "    except RuntimeError:\n",
    "        print(\"ERROR: Straight line fit failed. Returning m=0 c=0\")\n",
    "        return 0.0, 0.0, np.array([[1.0, 0.0], [0.0, 1.0]])\n",
    "    m = popt[0]\n",
    "    c = popt[1]\n",
    "    return m,c, cov\n",
    "\n",
    "def line(slp,vrbl,intcpt):\n",
    "    return slp * vrbl + intcpt\n",
    "\n",
    "def calc_chi2(y, err, yfit , v = False):\n",
    "    \"\"\"\n",
    "    Compute chi2 between data and fitted curve\n",
    "\n",
    "    Parameters\n",
    "    ----------\n",
    "    y: array\n",
    "        y values of data\n",
    "    err: array (1D or 2D)\n",
    "        either error bars (if independent data points)\n",
    "        or covariance matrix\n",
    "    yfit: array\n",
    "        fitted values of data\n",
    "    v: bool\n",
    "        verbose output\n",
    "\n",
    "    Returns\n",
    "    -------\n",
    "    chi2: float\n",
    "    \"\"\"\n",
    "    if err.shape == (len(y),len(y)):\n",
    "        #use full covariance\n",
    "        if v:\n",
    "            print('cov_mat chi2')\n",
    "        inv_cov = np.linalg.inv( np.matrix(err) )\n",
    "        chi2 = 0\n",
    "        for i in range(len(y)):\n",
    "            for j in range(len(y)):\n",
    "                chi2 = chi2 + (y[i]-yfit[i])*inv_cov[i,j]*(y[j]-yfit[j])\n",
    "        return chi2\n",
    "        \n",
    "    elif err.shape == (len(y),):\n",
    "        if v:\n",
    "            print('diagonal chi2')\n",
    "        return sum(((y-yfit)**2.)/(err**2.))\n",
    "    else:\n",
    "        raise IOError('error in err or cov_mat input shape')\n",
    "    \n"
   ]
  },
  {
   "cell_type": "code",
   "execution_count": 7,
   "id": "06694f75-7ce6-4589-8d14-f79b317ef31a",
   "metadata": {},
   "outputs": [],
   "source": [
    "import pickle\n",
    "with open(\"meanshear.pkl\",'rb') as file:\n",
    "    dic = pickle.load(file)"
   ]
  },
  {
   "cell_type": "code",
   "execution_count": 8,
   "id": "a43a998a-8c82-4269-80f9-96606cbd9d19",
   "metadata": {},
   "outputs": [
    {
     "name": "stdout",
     "output_type": "stream",
     "text": [
      "0.00980770762773485 0.003588493942531237\n",
      "0.005716697535565843 0.003620480126323612\n",
      "-0.0024935185832704455 0.004041713576354446\n",
      "0.006622368390388903 0.006770671479971271\n"
     ]
    }
   ],
   "source": [
    "idx = np.where(np.isfinite(dic['KiDS-1000']['g_psfg']['mu1']))[0]\n",
    "        \n",
    "slope11, intercept11, mc_cov11 = fit_straight_line(dic['KiDS-1000']['g_psfg']['mu1'][idx], dic['KiDS-1000']['g_psfg']['meang1_psfg1'][idx]-np.mean(dic['KiDS-1000']['g_psfg']['meang1_psfg1'][idx]), dic['KiDS-1000']['g_psfg']['stdg1_psfg1'][idx])\n",
    "slope12, intercept12, mc_cov12 = fit_straight_line(dic['KiDS-1000']['g_psfg']['mu2'][idx], dic['KiDS-1000']['g_psfg']['meang1_psfg2'][idx]-np.mean(dic['KiDS-1000']['g_psfg']['meang1_psfg2'][idx]), dic['KiDS-1000']['g_psfg']['stdg1_psfg2'][idx])\n",
    "slope21, intercept21, mc_cov21 = fit_straight_line(dic['KiDS-1000']['g_psfg']['mu1'][idx], dic['KiDS-1000']['g_psfg']['meang2_psfg1'][idx]-np.mean(dic['KiDS-1000']['g_psfg']['meang2_psfg1'][idx]), dic['KiDS-1000']['g_psfg']['stdg2_psfg1'][idx])\n",
    "slope22, intercept22, mc_cov22 = fit_straight_line(dic['KiDS-1000']['g_psfg']['mu2'][idx], dic['KiDS-1000']['g_psfg']['meang2_psfg2'][idx]-np.mean(dic['KiDS-1000']['g_psfg']['meang2_psfg2'][idx]), dic['KiDS-1000']['g_psfg']['stdg2_psfg2'][idx])\n",
    "\n",
    "print(slope11, np.sqrt(np.diag(mc_cov11)[0]))\n",
    "print(slope12, np.sqrt(np.diag(mc_cov12)[0]))\n",
    "print(slope21, np.sqrt(np.diag(mc_cov21)[0]))\n",
    "print(slope22, np.sqrt(np.diag(mc_cov22)[0]))"
   ]
  },
  {
   "cell_type": "code",
   "execution_count": 9,
   "id": "292706e5-dc54-4d1a-a64c-f04afed6855d",
   "metadata": {},
   "outputs": [
    {
     "name": "stdout",
     "output_type": "stream",
     "text": [
      "-0.00758397932591841 0.0023839883994455358\n",
      "0.0036138100516336096 0.0016496594432807757\n"
     ]
    }
   ],
   "source": [
    "idx = np.where(np.isfinite(dic['KiDS-1000']['g_psfT']['mu']))[0]\n",
    "\n",
    "slope1, intercept1, mc_cov1 = fit_straight_line(dic['KiDS-1000']['g_psfT']['mu'][idx], dic['KiDS-1000']['g_psfT']['meang1'][idx]-np.mean(dic['KiDS-1000']['g_psfT']['meang1'][idx]), dic['KiDS-1000']['g_psfT']['stdg1'][idx])\n",
    "slope2, intercept2, mc_cov2 = fit_straight_line(dic['KiDS-1000']['g_psfT']['mu'][idx], dic['KiDS-1000']['g_psfT']['meang2'][idx]-np.mean(dic['KiDS-1000']['g_psfT']['meang2'][idx]), dic['KiDS-1000']['g_psfT']['stdg2'][idx])\n",
    "\n",
    "print(slope1,np.sqrt(np.diag(mc_cov1)[0]))\n",
    "print(slope2,np.sqrt(np.diag(mc_cov2)[0]))"
   ]
  },
  {
   "cell_type": "code",
   "execution_count": 10,
   "id": "ffe79c9e-5246-415f-85ca-a0a7aef4614f",
   "metadata": {},
   "outputs": [
    {
     "name": "stdout",
     "output_type": "stream",
     "text": [
      "-0.003257755466639441 0.00038672731882865224\n",
      "-8.304928377539656e-05 0.0004133477450395128\n"
     ]
    }
   ],
   "source": [
    "idx = np.where(np.isfinite(dic['KiDS-1000']['g_T']['mu']))[0]\n",
    "\n",
    "slope1, intercept1, mc_cov1 = fit_straight_line(dic['KiDS-1000']['g_T']['mu'][idx], dic['KiDS-1000']['g_T']['meang1'][idx]-np.mean(dic['KiDS-1000']['g_T']['meang1'][idx]), dic['KiDS-1000']['g_T']['stdg1'][idx])\n",
    "slope2, intercept2, mc_cov2 = fit_straight_line(dic['KiDS-1000']['g_T']['mu'][idx], dic['KiDS-1000']['g_T']['meang2'][idx]-np.mean(dic['KiDS-1000']['g_T']['meang2'][idx]), dic['KiDS-1000']['g_T']['stdg2'][idx])\n",
    "\n",
    "print(slope1,np.sqrt(np.diag(mc_cov1)[0]))\n",
    "print(slope2,np.sqrt(np.diag(mc_cov2)[0]))"
   ]
  },
  {
   "cell_type": "code",
   "execution_count": 12,
   "id": "a6793397-18c4-4f84-a9e1-71151c1430a6",
   "metadata": {},
   "outputs": [
    {
     "name": "stdout",
     "output_type": "stream",
     "text": [
      "1.0782017765610275e-05 7.446081310820361e-06\n",
      "-1.3329141412286788e-05 5.708239171226594e-06\n"
     ]
    }
   ],
   "source": [
    "idx = np.where(np.isfinite(dic['KiDS-1000']['g_snr']['mu']))[0]\n",
    "\n",
    "slope1, intercept1, mc_cov1 = fit_straight_line(dic['KiDS-1000']['g_snr']['mu'][idx], dic['KiDS-1000']['g_snr']['meang1'][idx]-np.mean(dic['KiDS-1000']['g_snr']['meang1'][idx]), dic['KiDS-1000']['g_snr']['stdg1'][idx])\n",
    "slope2, intercept2, mc_cov2 = fit_straight_line(dic['KiDS-1000']['g_snr']['mu'][idx], dic['KiDS-1000']['g_snr']['meang2'][idx]-np.mean(dic['KiDS-1000']['g_snr']['meang2'][idx]), dic['KiDS-1000']['g_snr']['stdg2'][idx])\n",
    "\n",
    "print(slope1,np.sqrt(np.diag(mc_cov1)[0]))\n",
    "print(slope2,np.sqrt(np.diag(mc_cov2)[0]))"
   ]
  },
  {
   "cell_type": "code",
   "execution_count": null,
   "id": "9b94c428-d8a0-4b2b-a8f7-0ca67f8151c2",
   "metadata": {},
   "outputs": [],
   "source": [
    "#################################################"
   ]
  },
  {
   "cell_type": "code",
   "execution_count": 13,
   "id": "0a97c813-0790-4bdc-a0d6-c49b660fbb2d",
   "metadata": {
    "scrolled": true
   },
   "outputs": [
    {
     "name": "stdout",
     "output_type": "stream",
     "text": [
      "3.7970726958254455e-05 0.0030069361199564324\n",
      "-0.002421975120217709 0.0020013977843730732\n",
      "-0.0046549544317699 0.002859669952127049\n",
      "-0.0036280017946138253 0.0028005655392911617\n"
     ]
    }
   ],
   "source": [
    "idx = np.where(np.isfinite(dic['DES-Y3']['g_psfg']['mu1']))[0]\n",
    "        \n",
    "slope11, intercept11, mc_cov11 = fit_straight_line(dic['DES-Y3']['g_psfg']['mu1'][idx], dic['DES-Y3']['g_psfg']['meang1_psfg1'][idx]-np.mean(dic['DES-Y3']['g_psfg']['meang1_psfg1'][idx]), dic['DES-Y3']['g_psfg']['stdg1_psfg1'][idx])\n",
    "slope12, intercept12, mc_cov12 = fit_straight_line(dic['DES-Y3']['g_psfg']['mu2'][idx], dic['DES-Y3']['g_psfg']['meang1_psfg2'][idx]-np.mean(dic['DES-Y3']['g_psfg']['meang1_psfg2'][idx]), dic['DES-Y3']['g_psfg']['stdg1_psfg2'][idx])\n",
    "slope21, intercept21, mc_cov21 = fit_straight_line(dic['DES-Y3']['g_psfg']['mu1'][idx], dic['DES-Y3']['g_psfg']['meang2_psfg1'][idx]-np.mean(dic['DES-Y3']['g_psfg']['meang2_psfg1'][idx]), dic['DES-Y3']['g_psfg']['stdg2_psfg1'][idx])\n",
    "slope22, intercept22, mc_cov22 = fit_straight_line(dic['DES-Y3']['g_psfg']['mu2'][idx], dic['DES-Y3']['g_psfg']['meang2_psfg2'][idx]-np.mean(dic['DES-Y3']['g_psfg']['meang2_psfg2'][idx]), dic['DES-Y3']['g_psfg']['stdg2_psfg2'][idx])\n",
    "\n",
    "print(slope11, np.sqrt(np.diag(mc_cov11)[0]))\n",
    "print(slope12, np.sqrt(np.diag(mc_cov12)[0]))\n",
    "print(slope21, np.sqrt(np.diag(mc_cov21)[0]))\n",
    "print(slope22, np.sqrt(np.diag(mc_cov22)[0]))"
   ]
  },
  {
   "cell_type": "code",
   "execution_count": 9,
   "id": "985820ab-4067-4461-a742-6cdd519a6e00",
   "metadata": {
    "collapsed": true,
    "jupyter": {
     "outputs_hidden": true
    }
   },
   "outputs": [
    {
     "name": "stdout",
     "output_type": "stream",
     "text": [
      "0.00040635228267147023 0.0002477457869727419\n",
      "7.745841401753567e-05 0.0004264537259936164\n"
     ]
    }
   ],
   "source": [
    "idx = np.where(np.isfinite(dic['DES-Y3']['g_psfT']['mu']))[0]\n",
    "\n",
    "slope1, intercept1, mc_cov1 = fit_straight_line(dic['DES-Y3']['g_psfT']['mu'][idx], dic['DES-Y3']['g_psfT']['meang1'][idx]-np.mean(dic['DES-Y3']['g_psfT']['meang1'][idx]), dic['DES-Y3']['g_psfT']['stdg1'][idx])\n",
    "slope2, intercept2, mc_cov2 = fit_straight_line(dic['DES-Y3']['g_psfT']['mu'][idx], dic['DES-Y3']['g_psfT']['meang2'][idx]-np.mean(dic['DES-Y3']['g_psfT']['meang2'][idx]), dic['DES-Y3']['g_psfT']['stdg2'][idx])\n",
    "\n",
    "print(slope1,np.sqrt(np.diag(mc_cov1)[0]))\n",
    "print(slope2,np.sqrt(np.diag(mc_cov2)[0]))"
   ]
  },
  {
   "cell_type": "code",
   "execution_count": 10,
   "id": "180ca836-5d2b-4a3e-9c77-fff2513e313c",
   "metadata": {
    "collapsed": true,
    "jupyter": {
     "outputs_hidden": true
    }
   },
   "outputs": [
    {
     "name": "stdout",
     "output_type": "stream",
     "text": [
      "-0.001028458911876278 0.00018134676671109187\n",
      "9.49478598752113e-05 0.00011997884801148157\n"
     ]
    }
   ],
   "source": [
    "idx = np.where(np.isfinite(dic['DES-Y3']['g_T']['mu']))[0]\n",
    "\n",
    "slope1, intercept1, mc_cov1 = fit_straight_line(dic['DES-Y3']['g_T']['mu'][idx], dic['DES-Y3']['g_T']['meang1'][idx]-np.mean(dic['DES-Y3']['g_T']['meang1'][idx]), dic['DES-Y3']['g_T']['stdg1'][idx])\n",
    "slope2, intercept2, mc_cov2 = fit_straight_line(dic['DES-Y3']['g_T']['mu'][idx], dic['DES-Y3']['g_T']['meang2'][idx]-np.mean(dic['DES-Y3']['g_T']['meang2'][idx]), dic['DES-Y3']['g_T']['stdg2'][idx])\n",
    "\n",
    "print(slope1,np.sqrt(np.diag(mc_cov1)[0]))\n",
    "print(slope2,np.sqrt(np.diag(mc_cov2)[0]))"
   ]
  },
  {
   "cell_type": "code",
   "execution_count": 11,
   "id": "96bbca21-1996-4253-ba1c-9049c6aac9a8",
   "metadata": {
    "scrolled": true
   },
   "outputs": [
    {
     "name": "stdout",
     "output_type": "stream",
     "text": [
      "-2.0208688691144363e-06 7.241457880313813e-07\n",
      "4.6288462058821055e-07 5.969537655348139e-07\n"
     ]
    }
   ],
   "source": [
    "idx = np.where(np.isfinite(dic['DES-Y3']['g_snr']['mu']))[0]\n",
    "\n",
    "slope1, intercept1, mc_cov1 = fit_straight_line(dic['DES-Y3']['g_snr']['mu'][idx], dic['DES-Y3']['g_snr']['meang1'][idx]-np.mean(dic['DES-Y3']['g_snr']['meang1'][idx]), dic['DES-Y3']['g_snr']['stdg1'][idx])\n",
    "slope2, intercept2, mc_cov2 = fit_straight_line(dic['DES-Y3']['g_snr']['mu'][idx], dic['DES-Y3']['g_snr']['meang2'][idx]-np.mean(dic['DES-Y3']['g_snr']['meang2'][idx]), dic['DES-Y3']['g_snr']['stdg2'][idx])\n",
    "\n",
    "print(slope1,np.sqrt(np.diag(mc_cov1)[0]))\n",
    "print(slope2,np.sqrt(np.diag(mc_cov2)[0]))"
   ]
  },
  {
   "cell_type": "code",
   "execution_count": null,
   "id": "1c4ab78c-4f24-43af-adde-85e4ad3566d0",
   "metadata": {},
   "outputs": [],
   "source": [
    "#####################################################"
   ]
  },
  {
   "cell_type": "code",
   "execution_count": 14,
   "id": "03e905e8-5ef1-43e7-9cad-f0ef68e38200",
   "metadata": {},
   "outputs": [
    {
     "name": "stdout",
     "output_type": "stream",
     "text": [
      "0.0025589386555993363 0.0038605700064791785\n",
      "-0.0019495062338309057 0.003515536540160969\n",
      "0.0022363440669734705 0.00397629759428652\n",
      "0.01677240444138269 0.0033036569415903147\n"
     ]
    }
   ],
   "source": [
    "idx = np.where(np.isfinite(dic['HSC-Y3']['g_psfg']['mu1']))[0]\n",
    "        \n",
    "slope11, intercept11, mc_cov11 = fit_straight_line(dic['HSC-Y3']['g_psfg']['mu1'][idx], dic['HSC-Y3']['g_psfg']['meang1_psfg1'][idx]-np.mean(dic['HSC-Y3']['g_psfg']['meang1_psfg1'][idx]), dic['HSC-Y3']['g_psfg']['stdg1_psfg1'][idx])\n",
    "slope12, intercept12, mc_cov12 = fit_straight_line(dic['HSC-Y3']['g_psfg']['mu2'][idx], dic['HSC-Y3']['g_psfg']['meang1_psfg2'][idx]-np.mean(dic['HSC-Y3']['g_psfg']['meang1_psfg2'][idx]), dic['HSC-Y3']['g_psfg']['stdg1_psfg2'][idx])\n",
    "slope21, intercept21, mc_cov21 = fit_straight_line(dic['HSC-Y3']['g_psfg']['mu1'][idx], dic['HSC-Y3']['g_psfg']['meang2_psfg1'][idx]-np.mean(dic['HSC-Y3']['g_psfg']['meang2_psfg1'][idx]), dic['HSC-Y3']['g_psfg']['stdg2_psfg1'][idx])\n",
    "slope22, intercept22, mc_cov22 = fit_straight_line(dic['HSC-Y3']['g_psfg']['mu2'][idx], dic['HSC-Y3']['g_psfg']['meang2_psfg2'][idx]-np.mean(dic['HSC-Y3']['g_psfg']['meang2_psfg2'][idx]), dic['HSC-Y3']['g_psfg']['stdg2_psfg2'][idx])\n",
    "\n",
    "print(slope11, np.sqrt(np.diag(mc_cov11)[0]))\n",
    "print(slope12, np.sqrt(np.diag(mc_cov12)[0]))\n",
    "print(slope21, np.sqrt(np.diag(mc_cov21)[0]))\n",
    "print(slope22, np.sqrt(np.diag(mc_cov22)[0]))"
   ]
  },
  {
   "cell_type": "code",
   "execution_count": 15,
   "id": "f92ce0b0-571f-44f8-8cbe-df12e529d144",
   "metadata": {
    "scrolled": true
   },
   "outputs": [
    {
     "name": "stdout",
     "output_type": "stream",
     "text": [
      "0.004117116068562921 0.002485058824227244\n",
      "-0.00021560661947545793 0.0020538172691511526\n"
     ]
    }
   ],
   "source": [
    "idx = np.where(np.isfinite(dic['HSC-Y3']['g_psfT']['mu']))[0]\n",
    "\n",
    "slope1, intercept1, mc_cov1 = fit_straight_line(dic['HSC-Y3']['g_psfT']['mu'][idx], dic['HSC-Y3']['g_psfT']['meang1'][idx]-np.mean(dic['HSC-Y3']['g_psfT']['meang1'][idx]), dic['HSC-Y3']['g_psfT']['stdg1'][idx])\n",
    "slope2, intercept2, mc_cov2 = fit_straight_line(dic['HSC-Y3']['g_psfT']['mu'][idx], dic['HSC-Y3']['g_psfT']['meang2'][idx]-np.mean(dic['HSC-Y3']['g_psfT']['meang2'][idx]), dic['HSC-Y3']['g_psfT']['stdg2'][idx])\n",
    "\n",
    "print(slope1,np.sqrt(np.diag(mc_cov1)[0]))\n",
    "print(slope2,np.sqrt(np.diag(mc_cov2)[0]))"
   ]
  },
  {
   "cell_type": "code",
   "execution_count": 14,
   "id": "5e9a6353-4a10-460f-8988-7ab411b285b3",
   "metadata": {
    "collapsed": true,
    "jupyter": {
     "outputs_hidden": true
    },
    "scrolled": true
   },
   "outputs": [
    {
     "name": "stdout",
     "output_type": "stream",
     "text": [
      "0.002144107608190472 0.00040116786312237253\n",
      "-0.00023839664432874277 0.000331485293330499\n"
     ]
    }
   ],
   "source": [
    "idx = np.where(np.isfinite(dic['HSC-Y3']['g_T']['mu']))[0]\n",
    "\n",
    "slope1, intercept1, mc_cov1 = fit_straight_line(dic['HSC-Y3']['g_T']['mu'][idx], dic['HSC-Y3']['g_T']['meang1'][idx]-np.mean(dic['HSC-Y3']['g_T']['meang1'][idx]), dic['HSC-Y3']['g_T']['stdg1'][idx])\n",
    "slope2, intercept2, mc_cov2 = fit_straight_line(dic['HSC-Y3']['g_T']['mu'][idx], dic['HSC-Y3']['g_T']['meang2'][idx]-np.mean(dic['HSC-Y3']['g_T']['meang2'][idx]), dic['HSC-Y3']['g_T']['stdg2'][idx])\n",
    "\n",
    "print(slope1,np.sqrt(np.diag(mc_cov1)[0]))\n",
    "print(slope2,np.sqrt(np.diag(mc_cov2)[0]))"
   ]
  },
  {
   "cell_type": "code",
   "execution_count": 15,
   "id": "b67cad08-63f4-4e9c-80e5-0304f9dc4fe4",
   "metadata": {
    "collapsed": true,
    "jupyter": {
     "outputs_hidden": true
    }
   },
   "outputs": [
    {
     "name": "stdout",
     "output_type": "stream",
     "text": [
      "-1.406905586600798e-06 1.583435233070325e-06\n",
      "-1.7426583151384545e-06 1.2941899862738107e-06\n"
     ]
    }
   ],
   "source": [
    "idx = np.where(np.isfinite(dic['HSC-Y3']['g_snr']['mu']))[0]\n",
    "\n",
    "slope1, intercept1, mc_cov1 = fit_straight_line(dic['HSC-Y3']['g_snr']['mu'][idx], dic['HSC-Y3']['g_snr']['meang1'][idx]-np.mean(dic['HSC-Y3']['g_snr']['meang1'][idx]), dic['HSC-Y3']['g_snr']['stdg1'][idx])\n",
    "slope2, intercept2, mc_cov2 = fit_straight_line(dic['HSC-Y3']['g_snr']['mu'][idx], dic['HSC-Y3']['g_snr']['meang2'][idx]-np.mean(dic['HSC-Y3']['g_snr']['meang2'][idx]), dic['HSC-Y3']['g_snr']['stdg2'][idx])\n",
    "\n",
    "print(slope1,np.sqrt(np.diag(mc_cov1)[0]))\n",
    "print(slope2,np.sqrt(np.diag(mc_cov2)[0]))"
   ]
  },
  {
   "cell_type": "code",
   "execution_count": null,
   "id": "7d444877-35f1-490e-b1a7-13a8c131d72b",
   "metadata": {},
   "outputs": [],
   "source": []
  }
 ],
 "metadata": {
  "kernelspec": {
   "display_name": "desc-python",
   "language": "python",
   "name": "desc-python"
  },
  "language_info": {
   "codemirror_mode": {
    "name": "ipython",
    "version": 3
   },
   "file_extension": ".py",
   "mimetype": "text/x-python",
   "name": "python",
   "nbconvert_exporter": "python",
   "pygments_lexer": "ipython3",
   "version": "3.10.13"
  }
 },
 "nbformat": 4,
 "nbformat_minor": 5
}

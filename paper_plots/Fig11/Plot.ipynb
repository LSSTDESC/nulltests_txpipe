{
 "cells": [
  {
   "cell_type": "code",
   "execution_count": 5,
   "id": "3dc594c7-d5f7-4f5e-b039-599ec855e5f5",
   "metadata": {
    "tags": []
   },
   "outputs": [
    {
     "name": "stderr",
     "output_type": "stream",
     "text": [
      "Lmod has detected the following error: The following module(s) are unknown:\n",
      "\"texlive/2022\"\n",
      "\n",
      "Please check the spelling or version number. Also try \"module spider ...\"\n",
      "It is also possible your cache file is out-of-date; it may help to try:\n",
      "  $ module --ignore_cache load \"texlive/2022\"\n",
      "\n",
      "Also make sure that all modulefiles written in TCL start with the string\n",
      "#%Module\n",
      "\n",
      "\n",
      "\n"
     ]
    }
   ],
   "source": [
    "import matplotlib \n",
    "import matplotlib.pyplot as plt\n",
    "import matplotlib.gridspec as gridspec\n",
    "import os\n",
    "import sacc\n",
    "import numpy as np\n",
    "\n",
    "os.system('module load texlive/2022')\n",
    "\n",
    "plt.rcParams.update({\n",
    "    \"text.usetex\": True,\n",
    "    \"font.family\": \"Times\",\n",
    "    \"font.size\"  : 13\n",
    "})\n",
    "\n",
    "matplotlib.rcParams.update({'font.size': 17})\n",
    "\n",
    "matplotlib.rcParams['mathtext.fontset'] = 'stix'\n",
    "plt.rc('text.latex', preamble=r'\\usepackage{/global/cfs/cdirs/lsst/groups/WL/users/yomori/repo/nulltests_txpipe/apjfonts}')\n",
    "        \n",
    "#plt.rcParams[\"font.family\"] = \"Times New Roman\"\n",
    "\n",
    "plt.rcParams['axes.facecolor']   = 'w'\n",
    "plt.rcParams['figure.facecolor'] = 'w'\n",
    "\n",
    "\n",
    "kidscol = '#9CC363'    # light olive\n",
    "descol  = 'chocolate'  # dark orange\n",
    "hsccol  = '#5A8BAF'    # lightpurple"
   ]
  },
  {
   "cell_type": "code",
   "execution_count": null,
   "id": "f3dea42c-67e6-441f-9e2c-24cde4fc04d5",
   "metadata": {
    "jupyter": {
     "source_hidden": true
    },
    "tags": []
   },
   "outputs": [],
   "source": [
    "# gamma t stars as calculated by Mgatti\n",
    "\n",
    "#hscy3b = sacc.Sacc.load_fits('../../../TXPipe/data/hsc-y3/outputs/GTSTARS/gammat_bright_stars.sacc')\n",
    "#hscy3f = sacc.Sacc.load_fits('../../../TXPipe/data/hsc-y3/outputs/GTSTARS/gammat_dim_stars.sacc')\n",
    "#hy3btx = hscy3b.get_theta_xi('galaxyStar_shearDensity_xi_t','source2d','bright_stars')\n",
    "#hy3ftx = hscy3f.get_theta_xi('galaxyStar_shearDensity_xi_t','source2d','dim_stars')\n",
    "\n",
    "#kidsb = sacc.Sacc.load_fits('../../../TXPipe/data/kids/FINALRUN_v2/gammat_bright_stars.sacc')\n",
    "#kidsf = sacc.Sacc.load_fits('../../../TXPipe/data/kids/FINALRUN_v2/gammat_dim_stars.sacc')\n",
    "#kbtx = kidsb.get_theta_xi('galaxyStar_shearDensity_xi_t','source2d','bright_stars')\n",
    "#kftx = kidsf.get_theta_xi('galaxyStar_shearDensity_xi_t','source2d','dim_stars')\n"
   ]
  },
  {
   "cell_type": "code",
   "execution_count": 6,
   "id": "74a06cb2-c998-4b78-bf90-36aa3201e11a",
   "metadata": {
    "tags": []
   },
   "outputs": [],
   "source": [
    "#read bright and faint data\n",
    "desy3b = sacc.Sacc.load_fits('../../../TXPipe/data/desy3/YOCALIB-scdiag-gtstar/gammat_bright_stars.sacc')\n",
    "desy3f = sacc.Sacc.load_fits('../../../TXPipe/data/desy3/YOCALIB-scdiag-gtstar/gammat_dim_stars.sacc')\n",
    "dy3btx = desy3b.get_theta_xi('galaxyStar_shearDensity_xi_t','source2d','bright_stars')\n",
    "dy3ftx = desy3f.get_theta_xi('galaxyStar_shearDensity_xi_t','source2d','dim_stars')\n",
    "derrb = np.array(desy3b.get_tag('error'))\n",
    "derrf = np.array(desy3f.get_tag('error'))\n"
   ]
  },
  {
   "cell_type": "code",
   "execution_count": 7,
   "id": "628984c9-62cf-476b-8fe1-025ee8e5ece5",
   "metadata": {
    "tags": []
   },
   "outputs": [],
   "source": [
    "kidsb = sacc.Sacc.load_fits('../../../TXPipe/data/kids/GTStar/gammat_bright_stars.sacc')\n",
    "kidsf = sacc.Sacc.load_fits('../../../TXPipe/data/kids/GTStar/gammat_dim_stars.sacc')\n",
    "kbtx = kidsb.get_theta_xi('galaxyStar_shearDensity_xi_t','source2d','bright_stars')\n",
    "kftx = kidsf.get_theta_xi('galaxyStar_shearDensity_xi_t','source2d','dim_stars')\n",
    "kerrb = np.array(kidsb.get_tag('error'))\n",
    "kerrf = np.array(kidsf.get_tag('error'))\n",
    "\n",
    "#kidsbN = sacc.Sacc.load_fits('../../../TXPipe/data/kids/GTStarN/gammat_bright_stars.sacc')\n",
    "#kidsfN = sacc.Sacc.load_fits('../../../TXPipe/data/kids/GTStarN/gammat_dim_stars.sacc')\n",
    "#kbtxN = kidsb.get_theta_xi('galaxyStar_shearDensity_xi_t','source2d','bright_stars')\n",
    "#kftxN = kidsf.get_theta_xi('galaxyStar_shearDensity_xi_t','source2d','dim_stars')\n",
    "#kerrbN = np.array(kidsbN.get_tag('error'))\n",
    "#kerrfN = np.array(kidsfN.get_tag('error'))\n",
    "\n",
    "#kidsbS = sacc.Sacc.load_fits('../../../TXPipe/data/kids/GTStarS/gammat_bright_stars.sacc')\n",
    "#kidsfS = sacc.Sacc.load_fits('../../../TXPipe/data/kids/GTStarS/gammat_dim_stars.sacc')\n",
    "#kbtxS = kidsb.get_theta_xi('galaxyStar_shearDensity_xi_t','source2d','bright_stars')\n",
    "#kftxS = kidsf.get_theta_xi('galaxyStar_shearDensity_xi_t','source2d','dim_stars')\n",
    "#kerrbS = np.array(kidsbS.get_tag('error'))\n",
    "#kerrfS = np.array(kidsfS.get_tag('error'))\n"
   ]
  },
  {
   "cell_type": "code",
   "execution_count": 8,
   "id": "67dd7e7e-aa45-4151-b128-e0e398e53c90",
   "metadata": {
    "tags": []
   },
   "outputs": [],
   "source": [
    "hscy3b = sacc.Sacc.load_fits('../../../TXPipe/data/hsc-y3/outputs/GTStar/gammat_bright_stars.sacc')\n",
    "hscy3f = sacc.Sacc.load_fits('../../../TXPipe/data/hsc-y3/outputs/GTStar/gammat_dim_stars.sacc')\n",
    "hy3btx = hscy3b.get_theta_xi('galaxyStar_shearDensity_xi_t','source2d','bright_stars')\n",
    "hy3ftx = hscy3f.get_theta_xi('galaxyStar_shearDensity_xi_t','source2d','dim_stars')\n",
    "herrb = np.array(hscy3b.get_tag('error'))\n",
    "herrf = np.array(hscy3f.get_tag('error'))\n"
   ]
  },
  {
   "cell_type": "code",
   "execution_count": null,
   "id": "06fbdb15-dc41-4ab1-b592-b059568def65",
   "metadata": {
    "jupyter": {
     "source_hidden": true
    },
    "scrolled": true,
    "tags": []
   },
   "outputs": [],
   "source": [
    "matplotlib.rcParams.update({'font.size': 12})\n",
    "\n",
    "fig = plt.figure(figsize=(5.5,5),dpi=100)\n",
    "\n",
    "gs  = gridspec.GridSpec(2, 1, top=0.98, right=0.96, left=0.16, bottom=0.1,hspace=0.05,wspace=0.15)\n",
    "ax0 = plt.subplot(gs[0])\n",
    "ax1 = plt.subplot(gs[1])\n",
    "\n",
    "ax0.set_ylabel(r'$\\gamma_{\\rm T bright}/10^{-4}$',labelpad=10)\n",
    "ax0.errorbar(10**(np.log10(kbtx[0] [kbtx[1] >0])+0),np.abs(kbtx[1] [kbtx[1] >0]/10**0),kerrb [kbtx[1] >0]/10**0,marker='P',color=kidscol,ms=6,alpha=1,linestyle='None',)\n",
    "ax0.errorbar(10**(np.log10(kbtx[0] [kbtx[1] <0])+0),np.abs(kbtx[1] [kbtx[1] <0]/10**0),kerrb [kbtx[1] <0]/10**0,marker='x',color=kidscol,ms=6,mfc='None',alpha=1,linestyle='None',)\n",
    "\n",
    "ax0.errorbar(10**(np.log10(kbtx[0] [kbtx[1] >0])+0),np.abs(kbtx[1] [kbtx[1] >0]/10**0),\n",
    "             kerrb [kbtx[1] >0]/10**0,marker='o',color=kidscol,ms=6,linestyle='None',label='KiDS-1000',  )\n",
    "ax0.errorbar(10**(np.log10(kbtx[0] [kbtx[1] <0])+0),np.abs(kbtx[1] [kbtx[1] <0]/10**0),\n",
    "             kerrb [kbtx[1] <0]/10**0,marker='s',color=kidscol,ms=6,mfc='None',linestyle='None',  )\n",
    "\n",
    "ax0.errorbar(10**(np.log10(dy3btx[0] [dy3btx[1] >0])-0.05),np.abs(dy3btx[1] [dy3btx[1] >0]/10**0),derrb [dy3btx[1] >0]/10**0,marker='P',color=descol,ms=6,alpha=1,linestyle='None',)\n",
    "ax0.errorbar(10**(np.log10(dy3btx[0] [dy3btx[1] <0])-0.05),np.abs(dy3btx[1] [dy3btx[1] <0]/10**0),derrb [dy3btx[1] <0]/10**0,marker='x',color=descol,ms=6,mfc='None',alpha=1,linestyle='None',)\n",
    "\n",
    "ax0.errorbar(10**(np.log10(dy3btx[0] [dy3btx[1] >0])-0.05),np.abs(dy3btx[1] [dy3btx[1] >0]/10**0),\n",
    "             derrb [dy3btx[1] >0]/10**0,marker='o',color=descol,ms=6,linestyle='None',label='DES-Y3',  )\n",
    "ax0.errorbar(10**(np.log10(dy3btx[0] [dy3btx[1] <0])-0.05),np.abs(dy3btx[1] [dy3btx[1] <0]/10**0),\n",
    "             derrb [dy3btx[1] <0]/10**0,marker='s',color=descol,ms=6,mfc='None',linestyle='None',  )\n",
    "\n",
    "ax0.errorbar(10**(np.log10(hy3btx[0] [hy3btx[1] >0])+0.05),np.abs(hy3btx[1] [hy3btx[1] >0]/10**0),herrb [hy3btx[1] >0]/10**0,marker='P',color=hsccol,ms=6,alpha=1,linestyle='None',)\n",
    "ax0.errorbar(10**(np.log10(hy3btx[0] [hy3btx[1] <0])+0.05),np.abs(hy3btx[1] [hy3btx[1] <0]/10**0),herrb [hy3btx[1] <0]/10**0,marker='x',color=hsccol,ms=6,mfc='None',alpha=1,linestyle='None',)\n",
    "\n",
    "ax0.errorbar(10**(np.log10(hy3btx[0] [hy3btx[1] >0])+0.05),np.abs(hy3btx[1] [hy3btx[1] >0]/10**0),\n",
    "             herrb [hy3btx[1] >0]/10**0,marker='o',color=hsccol,ms=6,linestyle='None',label='HSC-Y3',  )\n",
    "ax0.errorbar(10**(np.log10(hy3btx[0] [hy3btx[1] <0])+0.05),np.abs(hy3btx[1] [hy3btx[1] <0]/10**0),\n",
    "             herrb [hy3btx[1] <0]/10**0,marker='s',color=hsccol,ms=6,mfc='None',linestyle='None',  )\n",
    "\n",
    "\n",
    "ax0.set_yscale('log')\n",
    "ax0.set_xscale('log')\n",
    "ax0.legend(frameon=False,labelspacing=0.05,ncol=3,handletextpad=-0.2,columnspacing=0.2,loc='upper right',borderpad=0)\n",
    "plt.setp(ax0.get_xticklabels(), visible=False)\n",
    "ax0.tick_params(axis=\"both\",which='both',direction=\"in\")\n",
    "\n",
    "\n",
    "#-----------------------------------------------------------------------------------------------\n",
    "ax1.set_ylabel(r'$\\gamma_{\\rm T faint}/10^{-5}$',labelpad=10)\n",
    "ax1.set_xlabel(r'$\\theta [\\rm arcmin]$',labelpad=10)\n",
    "ax1.errorbar(10**(np.log10(kftx[0] [kftx[1] >0])+0),np.abs(kftx[1] [kftx[1] >0]/10**-5),kerrf [kftx[1] >0]/10**-5,marker='P',color=kidscol,ms=6,linestyle='None',alpha=1,)\n",
    "ax1.errorbar(10**(np.log10(kftx[0] [kftx[1] <0])+0),np.abs(kftx[1] [kftx[1] <0]/10**-5),kerrf [kftx[1] <0]/10**-5,marker='x',color=kidscol,ms=6,mfc='None',linestyle='None',alpha=1,)\n",
    "\n",
    "ax1.errorbar(10**(np.log10(kftx[0] [kftx[1] >0])+0),np.abs(kftx[1] [kftx[1] >0]/10**-5),\n",
    "             kerrf [kftx[1] >0]/10**-5,marker='o',color=kidscol,ms=6,linestyle='None',  )\n",
    "ax1.errorbar(10**(np.log10(kftx[0] [kftx[1] <0])+0),np.abs(kftx[1] [kftx[1] <0]/10**-5),\n",
    "             kerrf [kftx[1] <0]/10**-5,marker='s',color=kidscol,ms=6,mfc='None',linestyle='None',  )\n",
    "\n",
    "ax1.errorbar(10**(np.log10(dy3ftx[0] [dy3ftx[1] >0])-0.05),np.abs(dy3ftx[1] [dy3ftx[1] >0]/10**-5),derrf [dy3ftx[1] >0]/10**-5,marker='P',color=descol,ms=6,alpha=1,linestyle='None',)\n",
    "ax1.errorbar(10**(np.log10(dy3ftx[0] [dy3ftx[1] <0])-0.05),np.abs(dy3ftx[1] [dy3ftx[1] <0]/10**-5),derrf [dy3ftx[1] <0]/10**-5,marker='x',color=descol,ms=6,mfc='None',alpha=1,linestyle='None',)\n",
    "\n",
    "ax1.errorbar(10**(np.log10(dy3ftx[0] [dy3ftx[1] >0])-0.05),np.abs(dy3ftx[1] [dy3ftx[1] >0]/10**-5),\n",
    "             derrf [dy3ftx[1] >0]/10**-5,marker='o',color=descol,ms=6,linestyle='None',  )\n",
    "ax1.errorbar(10**(np.log10(dy3ftx[0] [dy3ftx[1] <0])-0.05),np.abs(dy3ftx[1] [dy3ftx[1] <0]/10**-5),\n",
    "             derrf [dy3ftx[1] <0]/10**-5,marker='s',color=descol,ms=6,mfc='None',linestyle='None',  )\n",
    "\n",
    "ax1.errorbar(10**(np.log10(hy3ftx[0] [hy3ftx[1] >0])+0.05),np.abs(hy3ftx[1] [hy3ftx[1] >0]/10**-5),herrf [hy3ftx[1] >0]/10**-5,marker='P',color=hsccol,ms=6,linestyle='None',alpha=1,)\n",
    "ax1.errorbar(10**(np.log10(hy3ftx[0] [hy3ftx[1] <0])+0.05),np.abs(hy3ftx[1] [hy3ftx[1] <0]/10**-5),herrf [hy3ftx[1] <0]/10**-5,marker='x',color=hsccol,ms=6,mfc='None',linestyle='None',alpha=1,)\n",
    "\n",
    "\n",
    "ax1.errorbar(10**(np.log10(hy3ftx[0] [hy3ftx[1] >0])+0.05),np.abs(hy3ftx[1] [hy3ftx[1] >0]/10**-5),\n",
    "             herrf [hy3ftx[1] >0]/10**-5,marker='o',color=hsccol,ms=6,linestyle='None',  )\n",
    "ax1.errorbar(10**(np.log10(hy3ftx[0] [hy3ftx[1] <0])+0.05),np.abs(hy3ftx[1] [hy3ftx[1] <0]/10**-5),\n",
    "             herrf [hy3ftx[1] <0]/10**-5,marker='s',color=hsccol,ms=6,mfc='None',linestyle='None',  )\n",
    "\n",
    "ax1.set_yscale('log')\n",
    "ax1.set_xscale('log')\n",
    "ax1.tick_params(axis=\"both\",which='both',direction=\"in\")\n",
    "\n",
    "\n",
    "from matplotlib.ticker import ScalarFormatter\n",
    "for axis in [ax1.xaxis]:\n",
    "    axis.set_major_formatter(ScalarFormatter())\n",
    "    \n",
    "for axis in ['top','bottom','left','right']:\n",
    "    ax0.spines[axis].set_linewidth(1.2)\n",
    "    ax1.spines[axis].set_linewidth(1.2)\n",
    "    \n",
    "#plt.savefig('GTStars_v3.pdf',dpi=200)"
   ]
  },
  {
   "cell_type": "code",
   "execution_count": null,
   "id": "b0ad7b2e-c438-4455-b339-bb7a75021f8c",
   "metadata": {},
   "outputs": [],
   "source": []
  },
  {
   "cell_type": "code",
   "execution_count": 9,
   "id": "869c9169-b4a7-42f5-becb-a62e90d10ae4",
   "metadata": {},
   "outputs": [
    {
     "data": {
      "text/plain": [
       "<Figure size 640x480 with 0 Axes>"
      ]
     },
     "metadata": {},
     "output_type": "display_data"
    },
    {
     "data": {
      "image/png": "[encoded data removed]",
      "text/plain": [
       "<Figure size 550x500 with 3 Axes>"
      ]
     },
     "metadata": {},
     "output_type": "display_data"
    }
   ],
   "source": [
    "matplotlib.rcParams.update({'font.size': 12})\n",
    "\n",
    "\n",
    "plt.clf()\n",
    "fig = plt.figure(figsize=(5.5,5),dpi=100)\n",
    "\n",
    "gs  = gridspec.GridSpec(3, 1, top=0.98, right=0.96, left=0.16, bottom=0.1,hspace=0.05,wspace=0.15)\n",
    "ax0 = plt.subplot(gs[0])\n",
    "ax1 = plt.subplot(gs[1])\n",
    "ax2 = plt.subplot(gs[2])\n",
    "\n",
    "\n",
    "ax0.set_yscale('log')\n",
    "ax0.set_xscale('log')\n",
    "\n",
    "ax0.fill_between(np.linspace(0,0.5), y1=np.zeros(50), y2=np.ones(50)*500, facecolor='#d5d1d1',alpha=0.3) \n",
    "ax0.fill_between(np.linspace(72.4,500), y1=np.zeros(50), y2=np.ones(50)*500, facecolor='#d5d1d1',alpha=0.3) \n",
    "\n",
    "\n",
    "ax0.errorbar(10**(np.log10(kbtx[0][kbtx[1]>0])-0.05),np.abs(kbtx[1][kbtx[1]>0]/10**0),\n",
    "             kerrb[kbtx[1] >0]/10**0,marker='o',color=kidscol,ms=6,linestyle='None',label='bright',  )\n",
    "\n",
    "ax0.errorbar(10**(np.log10(kbtx[0][kbtx[1]<0])-0.05),np.abs(kbtx[1][kbtx[1]<0]/10**0),\n",
    "             kerrb[kbtx[1] <0]/10**0,marker='o',color=kidscol,ms=6,mfc='None',linestyle='None', )\n",
    "\n",
    "ax0.errorbar(10**(np.log10(kftx[0][kftx[1]>0])+0.05),np.abs(kftx[1][kftx[1]>0]/10**0),\n",
    "             kerrf [kftx[1] >0]/10**0,marker='d',color=kidscol,ms=6,linestyle='None', alpha=0.6,label='faint'  )\n",
    "ax0.errorbar(10**(np.log10(kftx[0][kftx[1]<0])+0.05),np.abs(kftx[1][kftx[1]<0]/10**0),\n",
    "             kerrf[kftx[1]<0]/10**0,marker='d',color=kidscol,ms=6,mfc='None',linestyle='None', alpha=0.5  )\n",
    "\n",
    "\n",
    "ax0.legend(frameon=False,ncol=5, handletextpad=0.3,handlelength=1.2)\n",
    "ax0.text(0.95,0.58,r'${\\rm KiDS}\\textnormal{-}{\\rm 1000}$',ha='right',va='bottom',  transform=ax0.transAxes)\n",
    "ax0.tick_params(axis=\"both\",which='both',direction=\"in\")\n",
    "plt.setp(ax0.get_xticklabels(), visible=False)\n",
    "ax0.set_ylim(top=0.1)\n",
    "ax0.set_xlim(0.08,300)\n",
    "#ax0.set_yticks([0.01,0.1,1,10,100])\n",
    "\n",
    "#----------------------------------------------------------------------------------------------\n",
    "\n",
    "ax1.set_yscale('log')\n",
    "ax1.set_xscale('log')\n",
    "ax1.set_ylabel(r'$\\bf{e}_{\\rm T}$')\n",
    "ax1.fill_between(np.linspace(0,2.475), y1=np.zeros(50)*100, y2=np.ones(50)*100, facecolor='#d5d1d1',alpha=0.3) \n",
    "\n",
    "\n",
    "ax1.errorbar(10**(np.log10(dy3btx[0][dy3btx[1]>0])-0.05),np.abs(dy3btx[1] [dy3btx[1] >0]/10**0),\n",
    "             derrb[dy3btx[1]>0]/10**0,marker='o',color=descol,ms=6,linestyle='None',label='DES-Y3',  )\n",
    "ax1.errorbar(10**(np.log10(dy3btx[0][dy3btx[1]<0])-0.05),np.abs(dy3btx[1] [dy3btx[1] <0]/10**0),\n",
    "             derrb[dy3btx[1]<0]/10**0,marker='o',color=descol,ms=6,mfc='None',linestyle='None',  )\n",
    "\n",
    "\n",
    "ax1.errorbar(10**(np.log10(dy3ftx[0][dy3ftx[1]>0])+0.05),np.abs(dy3ftx[1] [dy3ftx[1] >0]/10**0),\n",
    "             derrf[dy3ftx[1] >0]/10**0,marker='d',color=descol,ms=6,linestyle='None', alpha=0.6  )\n",
    "ax1.errorbar(10**(np.log10(dy3ftx[0][dy3ftx[1]<0])+0.05),np.abs(dy3ftx[1] [dy3ftx[1] <0]/10**0),\n",
    "             derrf[dy3ftx[1]<0]/10**0,marker='d',color=descol,ms=6,mfc='None',linestyle='None', alpha=0.5  )\n",
    "\n",
    "\n",
    "ax1.text(0.95,0.65,r'${\\rm DES}\\textnormal{-}{\\rm Y3}$',ha='right',va='bottom',  transform=ax1.transAxes)\n",
    "ax1.tick_params(axis=\"both\",which='both',direction=\"in\")\n",
    "plt.setp(ax1.get_xticklabels(), visible=False)\n",
    "ax1.set_ylim(top=0.1)\n",
    "ax1.set_xlim(0.08,300)\n",
    "#ax1.set_yticks([0.01,0.1,1,10,100])\n",
    "\n",
    "#-------------------------------------------------------------------------------------------\n",
    "ax2.set_yscale('log')\n",
    "ax2.set_xscale('log')\n",
    "\n",
    "ax2.fill_between(np.linspace(0,7.1), y1=np.zeros(50), y2=np.ones(50)*100, facecolor='#d5d1d1',alpha=0.3) \n",
    "ax2.fill_between(np.linspace(56.6,500), y1=np.zeros(50), y2=np.ones(50)*100, facecolor='#d5d1d1',alpha=0.3) \n",
    "\n",
    "ax2.errorbar(10**(np.log10(hy3btx[0][hy3btx[1] >0])-0.05),np.abs(hy3btx[1] [hy3btx[1] >0]/10**0),\n",
    "             herrb [hy3btx[1]>0]/10**0,marker='o',color=hsccol,ms=6,linestyle='None',label='HSC-Y3',  )\n",
    "ax2.errorbar(10**(np.log10(hy3btx[0][hy3btx[1]<0])-0.05),np.abs(hy3btx[1] [hy3btx[1] <0]/10**0),\n",
    "             herrb [hy3btx[1]<0]/10**0,marker='o',color=hsccol,ms=6,mfc='None',linestyle='None',  )\n",
    "\n",
    "ax2.errorbar(10**(np.log10(hy3ftx[0][hy3ftx[1] >0])+0.05),np.abs(hy3ftx[1] [hy3ftx[1] >0]/10**0),\n",
    "             herrf [hy3ftx[1] >0]/10**0,marker='d',color=hsccol,ms=6,linestyle='None',alpha=0.6 )\n",
    "ax2.errorbar(10**(np.log10(hy3ftx[0][hy3ftx[1] <0])+0.05),np.abs(hy3ftx[1] [hy3ftx[1] <0]/10**0),\n",
    "             herrf [hy3ftx[1] <0]/10**0,marker='d',color=hsccol,ms=6,mfc='None',linestyle='None',alpha=0.5)\n",
    "\n",
    "\n",
    "ax2.text(0.95,0.65,r'${\\rm HSC}\\textnormal{-}{\\rm Y3}$',ha='right',va='bottom',  transform=ax2.transAxes)\n",
    "ax2.tick_params(axis=\"both\",which='both',direction=\"in\")\n",
    "ax2.set_xlabel(r'$\\theta$ [arcmin]')\n",
    "ax2.set_ylim(top=0.1)\n",
    "ax2.set_xlim(0.08,300)\n",
    "#ax2.set_yticks([0.01,0.1,1,10,100])\n",
    "#ax2.set_yticklabels(['$10^-2$'])\n",
    "from matplotlib.ticker import ScalarFormatter\n",
    "for axis in [ax2.xaxis]:\n",
    "    axis.set_major_formatter(ScalarFormatter())\n",
    "\n",
    "for axis in ['top','bottom','left','right']:\n",
    "    ax0.spines[axis].set_linewidth(1.2)\n",
    "    ax1.spines[axis].set_linewidth(1.2)\n",
    "    ax2.spines[axis].set_linewidth(1.2)\n",
    "\n",
    "plt.subplots_adjust()\n",
    "#plt.savefig('GTStars_v4.pdf',dpi=200)"
   ]
  },
  {
   "cell_type": "code",
   "execution_count": null,
   "id": "80961f3c-51d3-4504-850f-26e2840bcc3c",
   "metadata": {
    "tags": []
   },
   "outputs": [],
   "source": [
    "#brights"
   ]
  },
  {
   "cell_type": "code",
   "execution_count": 10,
   "id": "a0ee12fd-8d96-40b8-a03d-dc0a081dd8a0",
   "metadata": {
    "tags": []
   },
   "outputs": [],
   "source": [
    "kbscmask = (kbtx[0] > 0.5) & (kbtx[0] < 72.4)\n",
    "hbscmask = (hy3btx[0] > 7.1) & (hy3btx[0] < 56.6)\n",
    "dbscmask = dy3btx[0] > 2.475"
   ]
  },
  {
   "cell_type": "code",
   "execution_count": null,
   "id": "3dc09da1-3c29-4ac4-a959-013b68204ad5",
   "metadata": {
    "tags": []
   },
   "outputs": [],
   "source": [
    "#faints:"
   ]
  },
  {
   "cell_type": "code",
   "execution_count": 13,
   "id": "88ba372f-96c5-498a-8691-339d80aeca93",
   "metadata": {
    "tags": []
   },
   "outputs": [],
   "source": [
    "kfscmask = (kftx[0] > 0.5) & (kftx[0] < 72.4)\n",
    "dfscmask = dy3ftx[0] > 2.475\n",
    "hfscmask = (hy3ftx[0] > 7.1) & (hy3ftx[0] < 56.6)"
   ]
  },
  {
   "cell_type": "code",
   "execution_count": 17,
   "id": "ee76b0a5-944d-4ece-8db6-b266e1dccf2c",
   "metadata": {},
   "outputs": [
    {
     "name": "stdout",
     "output_type": "stream",
     "text": [
      "KiDS-1000 bright: chi2=117.994/20 -- PTE=0.000000000000000670\n",
      "KiDS-1000 faint: chi2=205.888/20 -- PTE=0.000000000000000000\n",
      "DES-Y3 bright: chi2=794.179/20 -- PTE=0.000000000000000000\n",
      "DES-Y3 faint: chi2=209.083/20 -- PTE=0.000000000000000000\n",
      "HSC-Y3 bright: chi2=14.889/20 -- PTE=0.782738622998834788\n",
      "HSC-Y3 faint: chi2=17.811/20 -- PTE=0.599835026629454093\n",
      "scale cuts: \n",
      "KiDS-1000 bright: chi2=48.344/13 -- PTE=0.000005719688840490\n",
      "KiDS-1000 faint: chi2=185.279/13 -- PTE=0.000000000000000000\n",
      "DES-Y3 bright: chi2=13.396/12 -- PTE=0.340959344763675898\n",
      "DES-Y3 faint: chi2=12.721/12 -- PTE=0.389606139090337866\n",
      "HSC-Y3 bright: chi2=11.086/5 -- PTE=0.049697186071138960\n",
      "HSC-Y3 faint: chi2=1.849/5 -- PTE=0.869576481173062188\n"
     ]
    }
   ],
   "source": [
    "#### p-value\n",
    "\n",
    "import scipy.stats as stats\n",
    "\n",
    "#def get_chi2(obs, exp, error):\n",
    "#    return np.sum((obs - exp) ** 2 / (error ** 2))\n",
    "\n",
    "def get_chi2(dat,err,njk=100):\n",
    "    hartlap = (njk-len(dat)-2)/(njk-1)\n",
    "    cov = np.diag(err**2)/hartlap\n",
    "    icov = np.linalg.pinv(cov)\n",
    "    chi2 = dat@icov@dat\n",
    "    return chi2    \n",
    "\n",
    "chi2 = get_chi2(kbtx[1],kerrb,njk=250)\n",
    "print('KiDS-1000 bright: chi2=%.3f/%d -- PTE=%.18f'%(chi2,len(kbtx[1]),stats.chi2.sf(chi2,len(kbtx[1]))) )\n",
    "chi2 = get_chi2(kftx[1],kerrf,njk=250)\n",
    "print('KiDS-1000 faint: chi2=%.3f/%d -- PTE=%.18f'%(chi2,len(kftx[1]),stats.chi2.sf(chi2,len(kftx[1]))) )\n",
    "\n",
    "chi2 = get_chi2(dy3btx[1],derrb,njk=1000)\n",
    "print('DES-Y3 bright: chi2=%.3f/%d -- PTE=%.18f'%(chi2,len(dy3btx[1]),stats.chi2.sf(chi2,len(dy3btx[1]))) )\n",
    "chi2 = get_chi2(dy3ftx[1],derrf,njk=1000)\n",
    "print('DES-Y3 faint: chi2=%.3f/%d -- PTE=%.18f'%(chi2,len(dy3ftx[1]),stats.chi2.sf(chi2,len(dy3ftx[1]))) )\n",
    "\n",
    "chi2 = get_chi2(hy3btx[1],herrb,njk=150)\n",
    "print('HSC-Y3 bright: chi2=%.3f/%d -- PTE=%.18f'%(chi2,len(hy3btx[1]),stats.chi2.sf(chi2,len(hy3btx[1]))) )\n",
    "chi2 = get_chi2(hy3ftx[1],herrf,njk=150)\n",
    "print('HSC-Y3 faint: chi2=%.3f/%d -- PTE=%.18f'%(chi2,len(hy3ftx[1]),stats.chi2.sf(chi2,len(hy3ftx[1]))) )\n",
    "\n",
    "print(\"scale cuts: \")\n",
    "chi2 = get_chi2(kbtx[1][kbscmask],kerrb[kbscmask],njk=250)\n",
    "print('KiDS-1000 bright: chi2=%.3f/%d -- PTE=%.18f'%(chi2,len(kbtx[1][kbscmask]),stats.chi2.sf(chi2,len(kbtx[1][kbscmask]))) )\n",
    "chi2 = get_chi2(kftx[1][kfscmask],kerrf[kfscmask],njk=250)\n",
    "print('KiDS-1000 faint: chi2=%.3f/%d -- PTE=%.18f'%(chi2,len(kftx[1][kfscmask]),stats.chi2.sf(chi2,len(kftx[1][kfscmask]))) )\n",
    "\n",
    "chi2 = get_chi2(dy3btx[1][dbscmask],derrb[dbscmask],njk=1000)\n",
    "print('DES-Y3 bright: chi2=%.3f/%d -- PTE=%.18f'%(chi2,len(dy3btx[1][dbscmask]),stats.chi2.sf(chi2,len(dy3btx[1][dbscmask]))) )\n",
    "chi2 = get_chi2(dy3ftx[1][dfscmask],derrf[dfscmask],njk=1000)\n",
    "print('DES-Y3 faint: chi2=%.3f/%d -- PTE=%.18f'%(chi2,len(dy3ftx[1][dfscmask]),stats.chi2.sf(chi2,len(dy3ftx[1][dfscmask]))) )\n",
    "\n",
    "chi2 = get_chi2(hy3btx[1][hbscmask],herrb[hbscmask],njk=150)\n",
    "print('HSC-Y3 bright: chi2=%.3f/%d -- PTE=%.18f'%(chi2,len(hy3btx[1][hbscmask]),stats.chi2.sf(chi2,len(hy3btx[1][hbscmask]))) )\n",
    "chi2 = get_chi2(hy3ftx[1][hfscmask],herrf[hfscmask],njk=150)\n",
    "print('HSC-Y3 faint: chi2=%.3f/%d -- PTE=%.18f'%(chi2,len(hy3ftx[1][hfscmask]),stats.chi2.sf(chi2,len(hy3ftx[1][hfscmask]))) )\n"
   ]
  },
  {
   "cell_type": "code",
   "execution_count": 45,
   "id": "5d1dab9c-6433-461b-9b25-298a4a7ce26f",
   "metadata": {},
   "outputs": [
    {
     "data": {
      "text/plain": [
       "2.782186736133093e-21"
      ]
     },
     "execution_count": 45,
     "metadata": {},
     "output_type": "execute_result"
    }
   ],
   "source": [
    "chi2 = get_chi2(kbtx[1],kerrb,njk=250)\n",
    "stats.chi2.sf(chi2,len(kbtx[1]))"
   ]
  },
  {
   "cell_type": "code",
   "execution_count": 46,
   "id": "dcfae3e3-4014-4519-9dd7-efe6886c8de9",
   "metadata": {},
   "outputs": [
    {
     "data": {
      "text/plain": [
       "6.588614809568312e-67"
      ]
     },
     "execution_count": 46,
     "metadata": {},
     "output_type": "execute_result"
    }
   ],
   "source": [
    "chi2 = get_chi2(kftx[1],kerrf,njk=250)\n",
    "stats.chi2.sf(chi2,len(kftx[1]))"
   ]
  }
 ],
 "metadata": {
  "kernelspec": {
   "display_name": "desc-python",
   "language": "python",
   "name": "desc-python"
  },
  "language_info": {
   "codemirror_mode": {
    "name": "ipython",
    "version": 3
   },
   "file_extension": ".py",
   "mimetype": "text/x-python",
   "name": "python",
   "nbconvert_exporter": "python",
   "pygments_lexer": "ipython3",
   "version": "3.10.13"
  }
 },
 "nbformat": 4,
 "nbformat_minor": 5
}

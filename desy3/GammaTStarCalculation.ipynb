{
 "cells": [
  {
   "cell_type": "code",
   "execution_count": 1,
   "id": "8404ebce-8f9a-476d-9292-e3dffa7031d8",
   "metadata": {
    "tags": []
   },
   "outputs": [],
   "source": [
    "import numpy as np\n",
    "import h5py\n",
    "import treecorr"
   ]
  },
  {
   "cell_type": "code",
   "execution_count": 2,
   "id": "38f8b293-f13f-4fb7-a5a8-7635070712eb",
   "metadata": {
    "tags": []
   },
   "outputs": [],
   "source": [
    "path = '/global/cfs/cdirs/lsst/groups/WL/projects/txpipe-sys-tests/des-y3/'\n"
   ]
  },
  {
   "cell_type": "code",
   "execution_count": 3,
   "id": "7a1caec6-b143-4e65-b6ca-090a45de4c3d",
   "metadata": {
    "tags": []
   },
   "outputs": [],
   "source": [
    "with h5py.File(path+\"binned_star_catalog.hdf5\",'r') as f:\n",
    "    b = f['stars/bin_bright/']\n",
    "    cat_sb = treecorr.Catalog(\n",
    "                ra=b[\"ra\"][:],\n",
    "                dec=b[\"dec\"][:],\n",
    "                ra_units=\"degree\",\n",
    "                dec_units=\"degree\",\n",
    "                npatch=40,\n",
    "            )\n",
    "    d = f['stars/bin_dim/']\n",
    "    cat_sd = treecorr.Catalog(\n",
    "                    ra=d[\"ra\"][:],\n",
    "                    dec=d[\"dec\"][:],\n",
    "                    ra_units=\"degree\",\n",
    "                    dec_units=\"degree\",\n",
    "                    patch_centers=cat_sb.patch_centers,\n",
    "            )\n",
    "with h5py.File(path+\"randoms_desy3_RM.hdf5\",'r') as f:\n",
    "    r = f[\"randoms/\"]\n",
    "    rancat = treecorr.Catalog(\n",
    "                ra=r[\"ra\"][:],\n",
    "                dec=r[\"dec\"][:],\n",
    "                ra_units=\"degree\",\n",
    "                dec_units=\"degree\",\n",
    "                patch_centers=cat_sb.patch_centers,\n",
    "            )"
   ]
  },
  {
   "cell_type": "code",
   "execution_count": 4,
   "id": "120dec7c-4e65-4dff-aeab-863fe22fe579",
   "metadata": {},
   "outputs": [],
   "source": [
    "def apply_metacal_response(R, S, g1, g2):\n",
    "    # The values of R are assumed to already\n",
    "    # have had appropriate weights included\n",
    "    from numpy.linalg import pinv\n",
    "    import numpy as np\n",
    "\n",
    "    mcal_g = np.stack([g1, g2], axis=1)\n",
    "\n",
    "    R_total = R + S\n",
    "\n",
    "    # Invert the responsivity matrix\n",
    "    Rinv = pinv(R_total)\n",
    "    mcal_g = Rinv @ mcal_g.T\n",
    "\n",
    "    return mcal_g[0], mcal_g[1]"
   ]
  },
  {
   "cell_type": "code",
   "execution_count": 5,
   "id": "7fb302bd-ddb7-47e3-8dac-13eb5111f658",
   "metadata": {},
   "outputs": [
    {
     "name": "stdout",
     "output_type": "stream",
     "text": [
      "Applying metacal/metadetect response\n"
     ]
    }
   ],
   "source": [
    "path2 = '../../TXPipe/data/desy3/outputs/'\n",
    "with h5py.File(path2+'shear_tomography_catalog.hdf5','r') as f:\n",
    "    source_bin = f['tomography/bin'][:]\n",
    "    mask = source_bin != -1  # Only use the sources that pass the fiducial cuts\n",
    "    R_total_2d = f['response/R_S_2d'][:] + f['response/R_gamma_mean_2d'][:]\n",
    "\n",
    "with h5py.File(path+'shear_catalog_desy3_unmasked_withfakez.hdf5','r') as f:\n",
    "    g = f['shear']\n",
    "    g1      = g['mcal_g1'][:][mask]\n",
    "    g2      = g['mcal_g2'][:][mask]\n",
    "    gw  = g['weight'][:][mask]\n",
    "    gra,gdec = g['ra'][:][mask], g['dec'][:][mask]\n",
    "\n",
    "print('Applying metacal/metadetect response')\n",
    "g1, g2 = apply_metacal_response(R_total_2d, 0.0, g1, g2)\n",
    "\n",
    "\n",
    "gg = np.array((g1, g2))"
   ]
  },
  {
   "cell_type": "code",
   "execution_count": 6,
   "id": "6ad3c3a0-b61f-4b12-a01c-d266fd81038d",
   "metadata": {},
   "outputs": [],
   "source": [
    "catg = treecorr.Catalog(ra=gra,\n",
    "                        dec=gdec,\n",
    "                        g1=gg[0],\n",
    "                        g2=gg[1],\n",
    "                        w=gw,\n",
    "                        ra_units=\"deg\",\n",
    "                        dec_units=\"deg\",\n",
    "                        patch_centers=cat_sb.patch_centers) # galaxy shear\n"
   ]
  },
  {
   "cell_type": "code",
   "execution_count": 7,
   "id": "222dc906-a15c-4968-b2bf-b1c95218ab53",
   "metadata": {},
   "outputs": [],
   "source": [
    "config = {\"min_sep\": 0.5,\n",
    "        \"max_sep\": 300.0,\n",
    "        \"nbins\": 20,\n",
    "        \"bin_slop\": 0.01,\n",
    "        \"sep_units\": \"arcmin\",\n",
    "        \"auto_only\": False,\n",
    "        \"var_method\": \"jackknife\",\n",
    "    }\n",
    "nsbg = treecorr.NGCorrelation(config)\n",
    "nsdg = treecorr.NGCorrelation(config)\n",
    "\n",
    "rg = treecorr.NGCorrelation(config)"
   ]
  },
  {
   "cell_type": "code",
   "execution_count": 8,
   "id": "89f7ee03-0bdf-4bcf-abf5-e7552223cd2b",
   "metadata": {},
   "outputs": [],
   "source": [
    "nsbg.process(cat_sb, catg, low_mem=True)\n",
    "nsdg.process(cat_sd, catg, low_mem=True)\n",
    "rg.process(rancat, catg, low_mem=True)"
   ]
  },
  {
   "cell_type": "code",
   "execution_count": 9,
   "id": "ec28f931-2264-4bf6-8704-3e117ef75a82",
   "metadata": {},
   "outputs": [
    {
     "data": {
      "text/plain": [
       "(array([-2.10790759e-04, -7.06567587e-05, -1.93969168e-05,  5.88657064e-05,\n",
       "         9.27670574e-05,  1.15108057e-04,  9.50110769e-05,  8.37656008e-05,\n",
       "         7.89816210e-05,  6.00209985e-05,  4.98366987e-05,  4.30794829e-05,\n",
       "         3.49655996e-05,  3.07452053e-05,  2.82625051e-05,  2.26658251e-05,\n",
       "         1.81890047e-05,  1.21755245e-05,  9.80266922e-06,  6.92232346e-06]),\n",
       " array([ 7.59326138e-05,  4.46601763e-06, -1.26539664e-05,  4.07181551e-06,\n",
       "        -9.47221491e-06,  2.71464601e-07,  3.53185633e-06, -4.16954083e-06,\n",
       "         5.63798627e-07,  3.09501669e-06, -1.64910240e-06,  2.59516500e-07,\n",
       "        -3.40030595e-06, -4.40328235e-07, -4.60449524e-06, -4.37324537e-06,\n",
       "        -4.63304048e-06, -2.60552291e-06,  8.02632373e-07,  8.50759210e-08]),\n",
       " array([1.67703852e-09, 1.09013447e-09, 6.42484175e-10, 3.34882285e-10,\n",
       "        1.56752484e-10, 8.07547027e-11, 4.32953347e-11, 7.06691952e-11,\n",
       "        3.46804066e-11, 1.78416028e-11, 1.74366561e-11, 7.25140916e-12,\n",
       "        8.00326968e-12, 1.71348466e-11, 2.01554483e-11, 1.77030010e-11,\n",
       "        1.43360832e-11, 1.88106927e-11, 3.30044264e-11, 3.08565198e-11]))"
      ]
     },
     "execution_count": 9,
     "metadata": {},
     "output_type": "execute_result"
    }
   ],
   "source": [
    "nsbg.calculateXi(rg=rg)\n",
    "nsdg.calculateXi(rg=rg)"
   ]
  },
  {
   "cell_type": "code",
   "execution_count": 10,
   "id": "716cb23c-af9f-4225-b5eb-c0bfafaf73cd",
   "metadata": {
    "tags": []
   },
   "outputs": [
    {
     "data": {
      "text/plain": [
       "array([ 6.99043256e-05,  5.40089003e-04,  1.41952371e-04,  2.62623783e-04,\n",
       "        6.10199205e-05,  6.44520281e-05,  1.29057029e-04,  3.15963142e-06,\n",
       "       -8.91847885e-06,  3.47854815e-06,  2.30695404e-05,  1.05216875e-05,\n",
       "        6.84838428e-06, -1.41097123e-05, -5.57501566e-06,  4.33087201e-06,\n",
       "        3.54803276e-06, -5.78509689e-07, -6.53555466e-07,  2.99206807e-06])"
      ]
     },
     "execution_count": 10,
     "metadata": {},
     "output_type": "execute_result"
    }
   ],
   "source": [
    "nsbg.xi\n",
    "#nsbg.meanr\n"
   ]
  },
  {
   "cell_type": "code",
   "execution_count": 16,
   "id": "d19d9e0a-a051-41f5-9388-b73b62bc7e67",
   "metadata": {
    "tags": []
   },
   "outputs": [
    {
     "data": {
      "text/plain": [
       "Text(0.5, 0, '$\\\\theta$ arcmin')"
      ]
     },
     "execution_count": 16,
     "metadata": {},
     "output_type": "execute_result"
    },
    {
     "data": {
      "image/png": "[encoded data removed]",
      "text/plain": [
       "<Figure size 1200x400 with 2 Axes>"
      ]
     },
     "metadata": {},
     "output_type": "display_data"
    }
   ],
   "source": [
    "import matplotlib.pyplot as plt\n",
    "fig, axs  = plt.subplots(1,2, figsize = [12,4])\n",
    "ax1,ax2 = axs.flatten()\n",
    "ax1.errorbar(nsbg.meanr,nsbg.xi,nsbg.varxi**0.5,label='bright')\n",
    "ax1.set_xscale('log')\n",
    "ax1.legend()\n",
    "ax1.set_ylabel(r'$\\xi$')\n",
    "ax1.set_xlabel(r'$\\theta$ arcmin')\n",
    "\n",
    "ax2.errorbar(nsdg.meanr,nsdg.xi,nsdg.varxi**0.5,label='dim')\n",
    "ax2.set_xscale('log')\n",
    "ax2.legend()\n",
    "#ax2.set_ylabel(r'$\\xi$')\n",
    "ax2.set_xlabel(r'$\\theta$ arcmin')"
   ]
  },
  {
   "cell_type": "code",
   "execution_count": null,
   "id": "1746f728-b70c-4ce5-a37e-58be5e148d0f",
   "metadata": {},
   "outputs": [],
   "source": []
  }
 ],
 "metadata": {
  "kernelspec": {
   "display_name": "desc-python",
   "language": "python",
   "name": "desc-python"
  },
  "language_info": {
   "codemirror_mode": {
    "name": "ipython",
    "version": 3
   },
   "file_extension": ".py",
   "mimetype": "text/x-python",
   "name": "python",
   "nbconvert_exporter": "python",
   "pygments_lexer": "ipython3",
   "version": "3.10.10"
  }
 },
 "nbformat": 4,
 "nbformat_minor": 5
}

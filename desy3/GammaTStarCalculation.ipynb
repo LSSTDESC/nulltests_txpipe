{
 "cells": [
  {
   "cell_type": "code",
   "execution_count": 1,
   "id": "8404ebce-8f9a-476d-9292-e3dffa7031d8",
   "metadata": {
    "tags": []
   },
   "outputs": [],
   "source": [
    "import numpy as np\n",
    "import h5py\n",
    "import treecorr"
   ]
  },
  {
   "cell_type": "code",
   "execution_count": 2,
   "id": "38f8b293-f13f-4fb7-a5a8-7635070712eb",
   "metadata": {
    "tags": []
   },
   "outputs": [],
   "source": [
    "path = '/global/cfs/cdirs/lsst/groups/WL/projects/txpipe-sys-tests/des-y3/'\n"
   ]
  },
  {
   "cell_type": "code",
   "execution_count": 3,
   "id": "7a1caec6-b143-4e65-b6ca-090a45de4c3d",
   "metadata": {
    "tags": []
   },
   "outputs": [],
   "source": [
    "with h5py.File(path+\"binned_star_catalog.hdf5\",'r') as f:\n",
    "    b = f['stars/bin_bright/']\n",
    "    cat_sb = treecorr.Catalog(\n",
    "                ra=b[\"ra\"][:],\n",
    "                dec=b[\"dec\"][:],\n",
    "                ra_units=\"degree\",\n",
    "                dec_units=\"degree\",\n",
    "                npatch=40,\n",
    "            )\n",
    "    d = f['stars/bin_dim/']\n",
    "    cat_sd = treecorr.Catalog(\n",
    "                    ra=d[\"ra\"][:],\n",
    "                    dec=d[\"dec\"][:],\n",
    "                    ra_units=\"degree\",\n",
    "                    dec_units=\"degree\",\n",
    "                    patch_centers=cat_sb.patch_centers,\n",
    "            )\n",
    "with h5py.File(path+\"randoms_desy3_RM.hdf5\",'r') as f:\n",
    "    r = f[\"randoms/\"]\n",
    "    rancat = treecorr.Catalog(\n",
    "                ra=r[\"ra\"][:],\n",
    "                dec=r[\"dec\"][:],\n",
    "                ra_units=\"degree\",\n",
    "                dec_units=\"degree\",\n",
    "                patch_centers=cat_sb.patch_centers,\n",
    "            )"
   ]
  },
  {
   "cell_type": "code",
   "execution_count": 4,
   "id": "120dec7c-4e65-4dff-aeab-863fe22fe579",
   "metadata": {},
   "outputs": [],
   "source": [
    "def apply_metacal_response(R, S, g1, g2):\n",
    "    # The values of R are assumed to already\n",
    "    # have had appropriate weights included\n",
    "    from numpy.linalg import pinv\n",
    "    import numpy as np\n",
    "\n",
    "    mcal_g = np.stack([g1, g2], axis=1)\n",
    "\n",
    "    R_total = R + S\n",
    "\n",
    "    # Invert the responsivity matrix\n",
    "    Rinv = pinv(R_total)\n",
    "    mcal_g = Rinv @ mcal_g.T\n",
    "\n",
    "    return mcal_g[0], mcal_g[1]"
   ]
  },
  {
   "cell_type": "code",
   "execution_count": 5,
   "id": "7fb302bd-ddb7-47e3-8dac-13eb5111f658",
   "metadata": {},
   "outputs": [
    {
     "name": "stdout",
     "output_type": "stream",
     "text": [
      "Applying metacal/metadetect response\n"
     ]
    }
   ],
   "source": [
    "path2 = '../../TXPipe/data/desy3/outputs/'\n",
    "with h5py.File(path2+'shear_tomography_catalog.hdf5','r') as f:\n",
    "    source_bin = f['tomography/bin'][:]\n",
    "    mask = source_bin != -1  # Only use the sources that pass the fiducial cuts\n",
    "    R_total_2d = f['response/R_S_2d'][:] + f['response/R_gamma_mean_2d'][:]\n",
    "\n",
    "with h5py.File(path+'shear_catalog_desy3_unmasked_withfakez.hdf5','r') as f:\n",
    "    g = f['shear']\n",
    "    g1      = g['mcal_g1'][:][mask]\n",
    "    g2      = g['mcal_g2'][:][mask]\n",
    "    gw  = g['weight'][:][mask]\n",
    "    gra,gdec = g['ra'][:][mask], g['dec'][:][mask]\n",
    "\n",
    "print('Applying metacal/metadetect response')\n",
    "g1, g2 = apply_metacal_response(R_total_2d, 0.0, g1, g2)\n",
    "\n",
    "\n",
    "gg = np.array((g1, g2))"
   ]
  },
  {
   "cell_type": "code",
   "execution_count": 6,
   "id": "6ad3c3a0-b61f-4b12-a01c-d266fd81038d",
   "metadata": {},
   "outputs": [],
   "source": [
    "catg = treecorr.Catalog(ra=gra,\n",
    "                        dec=gdec,\n",
    "                        g1=gg[0],\n",
    "                        g2=gg[1],\n",
    "                        w=gw,\n",
    "                        ra_units=\"deg\",\n",
    "                        dec_units=\"deg\",\n",
    "                        patch_centers=cat_sb.patch_centers) # galaxy shear\n"
   ]
  },
  {
   "cell_type": "code",
   "execution_count": 7,
   "id": "222dc906-a15c-4968-b2bf-b1c95218ab53",
   "metadata": {},
   "outputs": [],
   "source": [
    "config = {\"min_sep\": 0.5,\n",
    "        \"max_sep\": 300.0,\n",
    "        \"nbins\": 20,\n",
    "        \"bin_slop\": 0.01,\n",
    "        \"sep_units\": \"arcmin\",\n",
    "        \"auto_only\": False,\n",
    "        \"var_method\": \"jackknife\",\n",
    "    }\n",
    "nsbg = treecorr.NGCorrelation(config)\n",
    "nsdg = treecorr.NGCorrelation(config)\n",
    "\n",
    "rg = treecorr.NGCorrelation(config)"
   ]
  },
  {
   "cell_type": "code",
   "execution_count": 8,
   "id": "89f7ee03-0bdf-4bcf-abf5-e7552223cd2b",
   "metadata": {},
   "outputs": [],
   "source": [
    "nsbg.process(cat_sb, catg, low_mem=True)\n",
    "nsdg.process(cat_sd, catg, low_mem=True)\n",
    "rg.process(rancat, catg, low_mem=True)"
   ]
  },
  {
   "cell_type": "code",
   "execution_count": 9,
   "id": "ec28f931-2264-4bf6-8704-3e117ef75a82",
   "metadata": {},
   "outputs": [
    {
     "data": {
      "text/plain": [
       "(array([-2.10526816e-04, -7.15245394e-05, -2.01017834e-05,  5.82081358e-05,\n",
       "         9.29758196e-05,  1.14901011e-04,  9.45573833e-05,  8.41280278e-05,\n",
       "         7.92548498e-05,  5.97909054e-05,  5.00298956e-05,  4.28982516e-05,\n",
       "         3.51316758e-05,  3.09222802e-05,  2.82724926e-05,  2.26665464e-05,\n",
       "         1.81201705e-05,  1.21370610e-05,  9.69521814e-06,  6.91462455e-06]),\n",
       " array([ 7.52529458e-05,  4.45425500e-06, -1.31378905e-05,  4.65813145e-06,\n",
       "        -9.39131313e-06,  4.77015851e-07,  3.03409866e-06, -4.02190231e-06,\n",
       "         2.65650032e-07,  3.01423473e-06, -1.79642399e-06,  3.12629218e-07,\n",
       "        -3.28641329e-06, -4.32158588e-07, -4.56648678e-06, -4.38514743e-06,\n",
       "        -4.59132425e-06, -2.74922957e-06,  7.76775519e-07,  1.93913929e-09]),\n",
       " array([1.27076332e-09, 1.41430244e-09, 6.20500086e-10, 3.05097572e-10,\n",
       "        1.39948825e-10, 9.04617638e-11, 5.12833587e-11, 5.56498238e-11,\n",
       "        2.89313968e-11, 1.80252126e-11, 1.84396074e-11, 8.78577231e-12,\n",
       "        7.60997115e-12, 1.56960352e-11, 1.94543464e-11, 2.05519908e-11,\n",
       "        1.78214435e-11, 2.13726388e-11, 3.24642341e-11, 3.60693277e-11]))"
      ]
     },
     "execution_count": 9,
     "metadata": {},
     "output_type": "execute_result"
    }
   ],
   "source": [
    "nsbg.calculateXi(rg=rg)\n",
    "nsdg.calculateXi(rg=rg)"
   ]
  },
  {
   "cell_type": "code",
   "execution_count": 10,
   "id": "716cb23c-af9f-4225-b5eb-c0bfafaf73cd",
   "metadata": {
    "tags": []
   },
   "outputs": [
    {
     "data": {
      "text/plain": [
       "array([ 7.36718510e-05,  5.45554179e-04,  1.45483324e-04,  2.51413041e-04,\n",
       "        6.26704076e-05,  5.40683274e-05,  1.32813951e-04, -4.37355742e-08,\n",
       "       -6.29189269e-06,  2.12831236e-06,  2.26803214e-05,  1.21967493e-05,\n",
       "        8.77472458e-06, -1.38167383e-05, -6.40971170e-06,  4.60984253e-06,\n",
       "        3.43142941e-06, -2.05814122e-07, -6.67329096e-07,  3.22767794e-06])"
      ]
     },
     "execution_count": 10,
     "metadata": {},
     "output_type": "execute_result"
    }
   ],
   "source": [
    "nsbg.xi\n",
    "#nsbg.meanr\n"
   ]
  },
  {
   "cell_type": "code",
   "execution_count": 11,
   "id": "d19d9e0a-a051-41f5-9388-b73b62bc7e67",
   "metadata": {
    "tags": []
   },
   "outputs": [
    {
     "data": {
      "text/plain": [
       "Text(0.5, 0, '$\\\\theta$ arcmin')"
      ]
     },
     "execution_count": 11,
     "metadata": {},
     "output_type": "execute_result"
    },
    {
     "data": {
      "image/png": "[encoded data removed]",
      "text/plain": [
       "<Figure size 1200x400 with 2 Axes>"
      ]
     },
     "metadata": {},
     "output_type": "display_data"
    }
   ],
   "source": [
    "import matplotlib.pyplot as plt\n",
    "fig, axs  = plt.subplots(1,2, figsize = [12,4])\n",
    "ax1,ax2 = axs.flatten()\n",
    "ax1.errorbar(nsbg.meanr,nsbg.xi,nsbg.varxi**0.5,label='bright')\n",
    "ax1.set_xscale('log')\n",
    "ax1.legend()\n",
    "ax1.set_ylabel(r'$\\xi$')\n",
    "ax1.set_xlabel(r'$\\theta$ arcmin')\n",
    "\n",
    "ax2.errorbar(nsdg.meanr,nsdg.xi,nsdg.varxi**0.5,label='dim')\n",
    "ax2.set_xscale('log')\n",
    "ax2.legend()\n",
    "#ax2.set_ylabel(r'$\\xi$')\n",
    "ax2.set_xlabel(r'$\\theta$ arcmin')"
   ]
  },
  {
   "cell_type": "code",
   "execution_count": 12,
   "id": "1746f728-b70c-4ce5-a37e-58be5e148d0f",
   "metadata": {},
   "outputs": [
    {
     "ename": "NameError",
     "evalue": "name 'sacc' is not defined",
     "output_type": "error",
     "traceback": [
      "\u001b[0;31m---------------------------------------------------------------------------\u001b[0m",
      "\u001b[0;31mNameError\u001b[0m                                 Traceback (most recent call last)",
      "Cell \u001b[0;32mIn[12], line 1\u001b[0m\n\u001b[0;32m----> 1\u001b[0m sb \u001b[38;5;241m=\u001b[39m \u001b[43msacc\u001b[49m\u001b[38;5;241m.\u001b[39mSacc\u001b[38;5;241m.\u001b[39mload_fits(\u001b[38;5;124m'\u001b[39m\u001b[38;5;124m../../TXPipe/data/desy3/outputs/gammat_bright_stars.sacc\u001b[39m\u001b[38;5;124m'\u001b[39m)\n\u001b[1;32m      2\u001b[0m sb_thetaxi \u001b[38;5;241m=\u001b[39m sb\u001b[38;5;241m.\u001b[39mget_theta_xi(\u001b[38;5;124m'\u001b[39m\u001b[38;5;124mgalaxyStar_shearDensity_xi_t\u001b[39m\u001b[38;5;124m'\u001b[39m,\u001b[38;5;124m'\u001b[39m\u001b[38;5;124msource2d\u001b[39m\u001b[38;5;124m'\u001b[39m,\u001b[38;5;124m'\u001b[39m\u001b[38;5;124mbright_stars\u001b[39m\u001b[38;5;124m'\u001b[39m)\n\u001b[1;32m      3\u001b[0m sb_err \u001b[38;5;241m=\u001b[39m sb\u001b[38;5;241m.\u001b[39mget_tag(\u001b[38;5;124m'\u001b[39m\u001b[38;5;124merror\u001b[39m\u001b[38;5;124m'\u001b[39m)\n",
      "\u001b[0;31mNameError\u001b[0m: name 'sacc' is not defined"
     ]
    }
   ],
   "source": [
    "sb = sacc.Sacc.load_fits('../../TXPipe/data/desy3/outputs/gammat_bright_stars.sacc')\n",
    "sb_thetaxi = sb.get_theta_xi('galaxyStar_shearDensity_xi_t','source2d','bright_stars')\n",
    "sb_err = sb.get_tag('error')\n",
    "\n",
    "sd = sacc.Sacc.load_fits('../../TXPipe/data/desy3/outputs/gammat_dim_stars.sacc')\n",
    "sd_thetaxi = sd.get_theta_xi('galaxyStar_shearDensity_xi_t','source2d','dim_stars')\n",
    "sd_err = sd.get_tag('error')\n"
   ]
  },
  {
   "cell_type": "code",
   "execution_count": null,
   "id": "0a3f1b1a-7f42-479f-ad7e-041331021149",
   "metadata": {
    "tags": []
   },
   "outputs": [],
   "source": [
    "import matplotlib.pyplot as plt\n",
    "fig, axs  = plt.subplots(1,2, figsize = [12,4])\n",
    "ax1,ax2 = axs.flatten()\n",
    "ax1.errorbar(nsbg.meanr,nsbg.xi,nsbg.varxi**0.5,label='bright')\n",
    "ax1.errorbar(sb_thetaxi[0],sb_thetaxi[1],sb_err,marker='x',color='blue',linestyle='None',label='TXPipe')\n",
    "ax1.set_xscale('log')\n",
    "ax1.set_ylabel(r'$\\xi$')\n",
    "ax1.set_xlabel(r'$\\theta$ arcmin')\n",
    "ax1.legend()\n",
    "\n",
    "\n",
    "ax2.errorbar(nsdg.meanr,nsdg.xi,nsdg.varxi**0.5,label='dim')\n",
    "ax2.errorbar(sd_thetaxi[0],sd_thetaxi[1],sd_err,marker='_',color='chocolate',linestyle='None',label='TXPipe')\n",
    "ax2.set_xscale('log')\n",
    "#ax2.set_ylabel(r'$\\xi$')\n",
    "ax2.set_xlabel(r'$\\theta$ arcmin')\n",
    "ax2.legend()"
   ]
  }
 ],
 "metadata": {
  "kernelspec": {
   "display_name": "desc-python",
   "language": "python",
   "name": "desc-python"
  },
  "language_info": {
   "codemirror_mode": {
    "name": "ipython",
    "version": 3
   },
   "file_extension": ".py",
   "mimetype": "text/x-python",
   "name": "python",
   "nbconvert_exporter": "python",
   "pygments_lexer": "ipython3",
   "version": "3.10.10"
  }
 },
 "nbformat": 4,
 "nbformat_minor": 5
}

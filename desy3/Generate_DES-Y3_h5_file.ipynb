{
 "cells": [
  {
   "cell_type": "code",
   "execution_count": 9,
   "id": "1f45567d",
   "metadata": {},
   "outputs": [],
   "source": [
    "# These are teh columns present in the DES-Y1 h5 catalog\n",
    "\"\"\"\n",
    "import h5py\n",
    "filename = \"/lcrc/project/SPT3G/users/ac.yomori/scratch/txpipe_systest/shear_catalog_desy1_masked.h5\"\n",
    "f=h5py.File(filename, \"r\")\n",
    "f['shear'].keys()\n",
    "f.close()\n",
    "\"\"\";"
   ]
  },
  {
   "cell_type": "markdown",
   "id": "00efe897",
   "metadata": {},
   "source": [
    "```\n",
    "<KeysViewHDF5 ['dec', 'mcal_T', 'mcal_T_1m', 'mcal_T_1p', 'mcal_T_2m', 'mcal_T_2p', 'mcal_flags', 'mcal_flags_1m', 'mcal_flags_1p', 'mcal_flags_2m', 'mcal_flags_2p', 'mcal_g1', 'mcal_g1_1m', 'mcal_g1_1p', 'mcal_g1_2m', 'mcal_g1_2p', 'mcal_g2', 'mcal_g2_1m', 'mcal_g2_1p', 'mcal_g2_2m', 'mcal_g2_2p', 'mcal_mag_err_i', 'mcal_mag_err_i_1m', 'mcal_mag_err_i_1p', 'mcal_mag_err_i_2m', 'mcal_mag_err_i_2p', 'mcal_mag_err_r', 'mcal_mag_err_r_1m', 'mcal_mag_err_r_1p', 'mcal_mag_err_r_2m', 'mcal_mag_err_r_2p', 'mcal_mag_err_z', 'mcal_mag_err_z_1m', 'mcal_mag_err_z_1p', 'mcal_mag_err_z_2m', 'mcal_mag_err_z_2p', 'mcal_mag_i', 'mcal_mag_i_1m', 'mcal_mag_i_1p', 'mcal_mag_i_2m', 'mcal_mag_i_2p', 'mcal_mag_r', 'mcal_mag_r_1m', 'mcal_mag_r_1p', 'mcal_mag_r_2m', 'mcal_mag_r_2p', 'mcal_mag_z', 'mcal_mag_z_1m', 'mcal_mag_z_1p', 'mcal_mag_z_2m', 'mcal_mag_z_2p', 'mcal_psf_T_mean', 'mcal_psf_g1', 'mcal_psf_g2', 'mcal_s2n', 'mcal_s2n_1m', 'mcal_s2n_1p', 'mcal_s2n_2m', 'mcal_s2n_2p', 'mean_z', 'mean_z_1m', 'mean_z_1p', 'mean_z_2m', 'mean_z_2p', 'objectId', 'ra', 'region', 'snr_i', 'snr_r', 'snr_z', 'tilename', 'weight']>\n",
    "```"
   ]
  },
  {
   "cell_type": "code",
   "execution_count": 106,
   "id": "c33c8ad3",
   "metadata": {},
   "outputs": [
    {
     "name": "stdout",
     "output_type": "stream",
     "text": [
      "<KeysViewHDF5 ['R11', 'R12', 'R21', 'R22', 'T', 'T_err', 'coadd_object_id', 'covmat_0_1', 'covmat_1_1', 'covmat_2_2', 'dec', 'e_1', 'e_2', 'flags', 'flux_err_i', 'flux_err_r', 'flux_err_z', 'flux_i', 'flux_r', 'flux_z', 'mask_frac', 'mcal_psf_T', 'mcal_psf_e1', 'mcal_psf_e2', 'nimage_tot_i', 'nimage_tot_r', 'nimage_tot_z', 'nimage_use_i', 'nimage_use_r', 'nimage_use_z', 'psf_T', 'psf_e1', 'psf_e2', 'ra', 'size_ratio', 'snr', 'weight']>\n"
     ]
    }
   ],
   "source": [
    "# Check which columns are available in metacal cat\n",
    "y3=h5py.File('/lcrc/project/SPT3G/users/ac.yomori/data/des_y3/des_y3kp/y3v02-mcal-004-v3_08_25_20.h5', 'r')\n",
    "print(y3['catalog']['unsheared'].keys())\n",
    "y3.close()"
   ]
  },
  {
   "cell_type": "code",
   "execution_count": 107,
   "id": "d108400f",
   "metadata": {},
   "outputs": [
    {
     "name": "stdout",
     "output_type": "stream",
     "text": [
      "<KeysViewHDF5 ['bhat', 'cell_wide', 'coadd_object_id']>\n"
     ]
    }
   ],
   "source": [
    "# Check which columns are available in master cat\n",
    "y3=h5py.File('/lcrc/project/SPT3G/users/ac.yomori/data/des_y3/des_y3kp/Y3_mastercat_02_05_21.h5', 'r')\n",
    "print(y3['catalog']['sompz']['unsheared'].keys())\n",
    "#print(len(y3['catalog']['metacal']['sheared_1m']['T'][:]))\n",
    "y3.close()"
   ]
  },
  {
   "cell_type": "code",
   "execution_count": 111,
   "id": "aee808f2",
   "metadata": {},
   "outputs": [
    {
     "name": "stdout",
     "output_type": "stream",
     "text": [
      "<KeysViewHDF5 ['region']>\n"
     ]
    }
   ],
   "source": [
    "# Check which columns are available in gold regions cat\n",
    "y3=h5py.File('/lcrc/project/SPT3G/users/ac.yomori/data/des_y3/des_y3kp/Y3_GOLD_2_2_1_regions.h5', 'r')\n",
    "print(y3['regions']['catalog']['gold'].keys())\n",
    "y3.close()"
   ]
  },
  {
   "cell_type": "code",
   "execution_count": 112,
   "id": "f0fcb7a3",
   "metadata": {},
   "outputs": [
    {
     "name": "stdout",
     "output_type": "stream",
     "text": [
      "<KeysViewHDF5 ['a_sed_sfd98_g', 'a_sed_sfd98_i', 'a_sed_sfd98_r', 'a_sed_sfd98_z', 'coadd_object_id', 'dec', 'delta_mag_chrom_g', 'delta_mag_chrom_i', 'delta_mag_chrom_r', 'delta_mag_chrom_z', 'delta_mag_y4_g', 'delta_mag_y4_i', 'delta_mag_y4_r', 'delta_mag_y4_z', 'ebv_sfd98', 'extended_class_mash_sof', 'extended_class_sof', 'flags', 'flags_badregions', 'flags_footprint', 'flags_foreground', 'flags_gold', 'flags_phot', 'flux_auto_g', 'flux_auto_i', 'flux_auto_r', 'flux_auto_z', 'flux_radius_g', 'flux_radius_i', 'flux_radius_r', 'flux_radius_y', 'flux_radius_z', 'fluxerr_auto_g', 'fluxerr_auto_i', 'fluxerr_auto_r', 'fluxerr_auto_z', 'hpix_16384', 'mag_auto_g', 'mag_auto_i', 'mag_auto_r', 'mag_auto_y', 'mag_auto_z', 'magerr_auto_g', 'magerr_auto_i', 'magerr_auto_r', 'magerr_auto_z', 'n_images_g', 'n_images_i', 'n_images_r', 'n_images_z', 'ra', 'sextractor_flags_g', 'sextractor_flags_i', 'sextractor_flags_r', 'sextractor_flags_z', 'sof_cm_flux_corrected_g', 'sof_cm_flux_corrected_i', 'sof_cm_flux_corrected_r', 'sof_cm_flux_corrected_z', 'sof_cm_flux_err_g', 'sof_cm_flux_err_i', 'sof_cm_flux_err_r', 'sof_cm_flux_err_z', 'sof_cm_fracdev', 'sof_cm_mag_corrected_g', 'sof_cm_mag_corrected_i', 'sof_cm_mag_corrected_r', 'sof_cm_mag_corrected_z', 'sof_cm_mag_err_g', 'sof_cm_mag_err_i', 'sof_cm_mag_err_r', 'sof_cm_mag_err_z', 'sof_cm_t', 'sof_flags', 'tilename']>\n"
     ]
    }
   ],
   "source": [
    "# Check which columns are available in gold cat\n",
    "y3=h5py.File('/lcrc/project/SPT3G/users/ac.yomori/data/des_y3/des_y3kp/Y3_GOLD_2_2.1_12_3_19.h5', 'r')\n",
    "print(y3['catalog']['gold'].keys())\n",
    "y3.close()"
   ]
  },
  {
   "cell_type": "code",
   "execution_count": 6,
   "id": "7683f468",
   "metadata": {},
   "outputs": [],
   "source": [
    "import h5py \n",
    "\n",
    "dir_des = '/lcrc/project/SPT3G/users/ac.yomori/data/des_y3/des_y3kp/'\n",
    "dir_out = '/lcrc/project/SPT3G/users/ac.yomori/scratch/txpipe_systest/'\n",
    "\n",
    "f=h5py.File(dir_out+'shear_catalog_desy3_unmasked.h5', 'w')\n",
    "f.create_group(\"shear\")\n",
    "\n",
    "y3=h5py.File(dir_des+'/Y3_GOLD_2_2_1_regions.h5', 'r')\n",
    "f['shear/region']   = y3['regions']['catalog']['gold']['region'][:]     \n",
    "y3.close()\n",
    "\n",
    "y3=h5py.File(dir_des+'/sompz_v0.40_08_04_2020.h5', 'r')\n",
    "f['shear/bhat']    = y3['catalog']['sompz']['unsheared']['bhat'][:]\n",
    "f['shear/bhat_1m'] = y3['catalog']['sompz']['sheared_1m']['bhat'][:]\n",
    "f['shear/bhat_1p'] = y3['catalog']['sompz']['sheared_1p']['bhat'][:]\n",
    "f['shear/bhat_2m'] = y3['catalog']['sompz']['sheared_2m']['bhat'][:]\n",
    "f['shear/bhat_2p'] = y3['catalog']['sompz']['sheared_2p']['bhat'][:]\n",
    "y3.close()\n",
    "\n",
    "y3=h5py.File(dir_des+'/Y3_GOLD_2_2.1_12_3_19.h5', 'r')\n",
    "f['shear/tilename'] = y3['catalog']['gold']['tilename'][:]     \n",
    "y3.close()\n",
    "\n",
    "y3=h5py.File(dir_des+'Y3_mastercat_02_05_21.h5', 'r')\n",
    "f['shear/ra']                = y3['catalog']['metacal']['unsheared']['ra'][:]\n",
    "f['shear/dec']               = y3['catalog']['metacal']['unsheared']['dec'][:]\n",
    "f['shear/mcal_T']            = y3['catalog']['metacal']['unsheared']['T'][:]\n",
    "f['shear/mcal_T_1m']         = y3['catalog']['metacal']['sheared_1m']['T'][:]\n",
    "f['shear/mcal_T_1p']         = y3['catalog']['metacal']['sheared_1p']['T'][:]\n",
    "f['shear/mcal_T_2m']         = y3['catalog']['metacal']['sheared_2m']['T'][:]\n",
    "f['shear/mcal_T_2p']         = y3['catalog']['metacal']['sheared_2p']['T'][:]\n",
    "f['shear/mcal_g1']           = y3['catalog']['metacal']['unsheared']['e_1'][:]\n",
    "f['shear/mcal_g1_1m']        = y3['catalog']['metacal']['sheared_1m']['e_1'][:]\n",
    "f['shear/mcal_g1_1p']        = y3['catalog']['metacal']['sheared_1p']['e_1'][:]\n",
    "f['shear/mcal_g1_2m']        = y3['catalog']['metacal']['sheared_2m']['e_1'][:]\n",
    "f['shear/mcal_g1_2p']        = y3['catalog']['metacal']['sheared_2p']['e_1'][:]\n",
    "f['shear/mcal_g2']           = y3['catalog']['metacal']['unsheared']['e_2'][:]\n",
    "f['shear/mcal_g2_1m']        = y3['catalog']['metacal']['sheared_1m']['e_2'][:]\n",
    "f['shear/mcal_g2_1p']        = y3['catalog']['metacal']['sheared_1p']['e_2'][:]\n",
    "f['shear/mcal_g2_2m']        = y3['catalog']['metacal']['sheared_2m']['e_2'][:]\n",
    "f['shear/mcal_g2_2p']        = y3['catalog']['metacal']['sheared_2p']['e_2'][:]\n",
    "f['shear/mcal_mag_err_i']    = y3['catalog']['metacal']['unsheared']['flux_err_i'][:]\n",
    "f['shear/mcal_mag_err_i_1m'] = y3['catalog']['metacal']['sheared_1m']['flux_err_i'][:]\n",
    "f['shear/mcal_mag_err_i_1p'] = y3['catalog']['metacal']['sheared_1p']['flux_err_i'][:]\n",
    "f['shear/mcal_mag_err_i_2m'] = y3['catalog']['metacal']['sheared_2m']['flux_err_i'][:]\n",
    "f['shear/mcal_mag_err_i_2p'] = y3['catalog']['metacal']['sheared_2p']['flux_err_i'][:]\n",
    "f['shear/mcal_mag_err_r']    = y3['catalog']['metacal']['unsheared']['flux_err_r'][:]\n",
    "f['shear/mcal_mag_err_r_1m'] = y3['catalog']['metacal']['sheared_1m']['flux_err_r'][:]\n",
    "f['shear/mcal_mag_err_r_1p'] = y3['catalog']['metacal']['sheared_1p']['flux_err_r'][:]\n",
    "f['shear/mcal_mag_err_r_2m'] = y3['catalog']['metacal']['sheared_2m']['flux_err_r'][:]\n",
    "f['shear/mcal_mag_err_r_2p'] = y3['catalog']['metacal']['sheared_2p']['flux_err_r'][:]\n",
    "f['shear/mcal_mag_err_z']    = y3['catalog']['metacal']['unsheared']['flux_err_z'][:]\n",
    "f['shear/mcal_mag_err_z_1m'] = y3['catalog']['metacal']['sheared_1m']['flux_err_z'][:]\n",
    "f['shear/mcal_mag_err_z_1p'] = y3['catalog']['metacal']['sheared_1p']['flux_err_z'][:]\n",
    "f['shear/mcal_mag_err_z_2m'] = y3['catalog']['metacal']['sheared_2m']['flux_err_z'][:]\n",
    "f['shear/mcal_mag_err_z_2p'] = y3['catalog']['metacal']['sheared_2p']['flux_err_z'][:]\n",
    "f['shear/mcal_mag_i']        = y3['catalog']['metacal']['unsheared']['flux_i'][:]\n",
    "f['shear/mcal_mag_i_1m']     = y3['catalog']['metacal']['sheared_1m']['flux_i'][:]\n",
    "f['shear/mcal_mag_i_1p']     = y3['catalog']['metacal']['sheared_1p']['flux_i'][:]\n",
    "f['shear/mcal_mag_i_2m']     = y3['catalog']['metacal']['sheared_2m']['flux_i'][:]\n",
    "f['shear/mcal_mag_i_2p']     = y3['catalog']['metacal']['sheared_2p']['flux_i'][:]\n",
    "f['shear/mcal_mag_r']        = y3['catalog']['metacal']['unsheared']['flux_r'][:]\n",
    "f['shear/mcal_mag_r_1m']     = y3['catalog']['metacal']['sheared_1m']['flux_r'][:]\n",
    "f['shear/mcal_mag_r_1p']     = y3['catalog']['metacal']['sheared_1p']['flux_r'][:]\n",
    "f['shear/mcal_mag_r_2m']     = y3['catalog']['metacal']['sheared_2m']['flux_r'][:]\n",
    "f['shear/mcal_mag_r_2p']     = y3['catalog']['metacal']['sheared_2p']['flux_r'][:]\n",
    "f['shear/mcal_mag_z']        = y3['catalog']['metacal']['unsheared']['flux_z'][:]\n",
    "f['shear/mcal_mag_z_1m']     = y3['catalog']['metacal']['sheared_1m']['flux_z'][:]\n",
    "f['shear/mcal_mag_z_1p']     = y3['catalog']['metacal']['sheared_1p']['flux_z'][:]\n",
    "f['shear/mcal_mag_z_2m']     = y3['catalog']['metacal']['sheared_2m']['flux_z'][:]\n",
    "f['shear/mcal_mag_z_2p']     = y3['catalog']['metacal']['sheared_2p']['flux_z'][:]\n",
    "f['shear/mcal_psf_T_mean']   = y3['catalog']['metacal']['unsheared']['mcal_psf_T'][:] \n",
    "f['shear/mcal_psf_g1']       = y3['catalog']['metacal']['unsheared']['mcal_psf_e1'][:]\n",
    "f['shear/mcal_psf_g2']       = y3['catalog']['metacal']['unsheared']['mcal_psf_e2'][:] \n",
    "f['shear/mcal_s2n']          = y3['catalog']['metacal']['unsheared']['snr'][:]       \n",
    "f['shear/mcal_s2n_1m']       = y3['catalog']['metacal']['sheared_1m']['snr'][:]       \n",
    "f['shear/mcal_s2n_1p']       = y3['catalog']['metacal']['sheared_1p']['snr'][:]       \n",
    "f['shear/mcal_s2n_2m']       = y3['catalog']['metacal']['sheared_2m']['snr'][:]       \n",
    "f['shear/mcal_s2n_2p']       = y3['catalog']['metacal']['sheared_2p']['snr'][:]      \n",
    "f['shear/objectId']          = y3['catalog']['metacal']['unsheared']['coadd_object_id'][:]       \n",
    "f['shear/weight']            = y3['catalog']['metacal']['unsheared']['weight'][:]  \n",
    "f['shear/mcal_flags']        = y3['catalog']['metacal']['unsheared']['flags'][:]  \n",
    "#f['shear/mcal_flags_1m']     = y3['catalog']['metacal']['sheared_1m']['flags'][:]  \n",
    "#f['shear/mcal_flags_1p']     = y3['catalog']['metacal']['sheared_1p']['flags'][:]  \n",
    "#f['shear/mcal_flags_2m']     = y3['catalog']['metacal']['sheared_2m']['flags'][:]  \n",
    "#f['shear/mcal_flags_2p']     = y3['catalog']['metacal']['sheared_2p']['flags'][:]  \n",
    "y3.close()\n",
    "\n",
    "f.close()\n",
    "\n",
    "#  There are some columns that are present in Y1 but not Y3 namely:\n",
    "# 'mean_z', 'mean_z_1m', 'mean_z_1p', 'mean_z_2m', 'mean_z_2p',   -> probably unused for Y3 because of SOMPZ\n",
    "# 'snr_i', 'snr_r', 'snr_z'                                       -> snr per band\n",
    "# 'mcal_flags_1m','mcal_flags_1p','mcal_flags_2m','mcal_flags_2p' -> flags for shear. Not sure if these are ever used."
   ]
  }
 ],
 "metadata": {
  "kernelspec": {
   "display_name": "Python 3 (ipykernel)",
   "language": "python",
   "name": "python3"
  },
  "language_info": {
   "codemirror_mode": {
    "name": "ipython",
    "version": 3
   },
   "file_extension": ".py",
   "mimetype": "text/x-python",
   "name": "python",
   "nbconvert_exporter": "python",
   "pygments_lexer": "ipython3",
   "version": "3.11.3"
  },
  "toc": {
   "base_numbering": 1,
   "nav_menu": {},
   "number_sections": true,
   "sideBar": true,
   "skip_h1_title": true,
   "title_cell": "Table of Contents",
   "title_sidebar": "Contents",
   "toc_cell": false,
   "toc_position": {},
   "toc_section_display": true,
   "toc_window_display": false
  }
 },
 "nbformat": 4,
 "nbformat_minor": 5
}

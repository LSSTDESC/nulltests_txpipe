{
 "cells": [
  {
   "cell_type": "code",
   "execution_count": 1,
   "id": "b7d80079",
   "metadata": {},
   "outputs": [],
   "source": [
    "from astropy.io import fits\n",
    "import treecorr\n",
    "\n",
    "# Change these lines\n",
    "dir_psfcat = '/lcrc/project/SPT3G/users/ac.yomori/scratch/psf_y3a1-v29.fits'\n",
    "dir_output = '/lcrc/project/SPT3G/users/ac.yomori/scratch/txpipe_systest/'\n",
    "\n",
    "# Load psf file.\n",
    "# Found here http://desdr-server.ncsa.illinois.edu/despublic/y3a2_files/psf/psf_y3a1-v29.fits\n",
    "d    = fits.open(dir_psfcat)\n",
    "data = d[1].data\n",
    "\n",
    "# Find entries with AB-mag brighter than 20 (M. Jarvis' suggestion)\n",
    "# Combining with Marco's suggestion of selecting in riz\n",
    "idx  = np.where( ((data['band'] =='i') | (data['band'] =='r') | (data['band'] =='z')) & (data['mag']<20) )[0]\n"
   ]
  },
  {
   "cell_type": "code",
   "execution_count": 2,
   "id": "c92dfe63",
   "metadata": {},
   "outputs": [],
   "source": [
    "#rho 1: delta_e - delta_e\n",
    "corr1 = treecorr.GGCorrelation(nbins=20, min_sep=0.1,max_sep=250.0, sep_units=\"arcmin\", bin_slop=0)\n",
    "cat1  = treecorr.Catalog(ra=data['ra'][idx], dec=data['dec'][idx], g1=data['obs_e1'][idx]-data['piff_e1'][idx], g2=data['obs_e2'][idx]-data['piff_e2'][idx], ra_units=\"deg\", dec_units=\"deg\")\n",
    "cat2  = treecorr.Catalog(ra=data['ra'][idx], dec=data['dec'][idx], g1=data['obs_e1'][idx]-data['piff_e1'][idx], g2=data['obs_e2'][idx]-data['piff_e2'][idx], ra_units=\"deg\", dec_units=\"deg\")\n",
    "corr1.process(cat1,cat2)\n",
    "corr1.write(dir_output+'desy3_rho1_withbandcut.fits')"
   ]
  },
  {
   "cell_type": "code",
   "execution_count": 3,
   "id": "65aa628b",
   "metadata": {},
   "outputs": [],
   "source": [
    "#rho 2: e - delta_e\n",
    "corr2 = treecorr.GGCorrelation(nbins=20, min_sep=0.1,max_sep=250.0, sep_units=\"arcmin\", bin_slop=0)\n",
    "cat1  = treecorr.Catalog(ra=data['ra'][idx], dec=data['dec'][idx], g1=data['piff_e1'][idx]                    , g2= data['piff_e2'][idx]                      , ra_units=\"deg\", dec_units=\"deg\")\n",
    "cat2  = treecorr.Catalog(ra=data['ra'][idx], dec=data['dec'][idx], g1=data['obs_e1'][idx]-data['piff_e1'][idx], g2= (data['obs_e2'][idx]-data['piff_e2'][idx]), ra_units=\"deg\", dec_units=\"deg\")\n",
    "corr2.process(cat1,cat2)\n",
    "corr2.write(dir_output+'desy3_rho2_withbandcut.fits')"
   ]
  },
  {
   "cell_type": "code",
   "execution_count": null,
   "id": "4590ea70",
   "metadata": {},
   "outputs": [
    {
     "data": {
      "text/plain": [
       "<Figure size 600x500 with 0 Axes>"
      ]
     },
     "metadata": {},
     "output_type": "display_data"
    }
   ],
   "source": [
    "# Plot and also compare with Marco's plot\n",
    "import pickle\n",
    "\n",
    "def load_obj(name):\n",
    "        try:\n",
    "            with open(name + '.pkl', 'rb') as f:\n",
    "                return pickle.load(f)#, encoding='latin1')\n",
    "        except:\n",
    "            with open(name + '.pkl', 'rb') as f:\n",
    "                return pickle.load(f, encoding='latin1')\n",
    "            \n",
    "plt.clf()\n",
    "fig = plt.figure(figsize=(10,3.6))\n",
    "gs  = gridspec.GridSpec(1, 2,\n",
    "                       #height_ratios=[4,1],\n",
    "                       top=0.97,\n",
    "                       bottom=0.15,\n",
    "                       hspace=0.15,\n",
    "                       wspace=0.3,\n",
    "                       right=0.98,\n",
    "                       left=0.08\n",
    "                       )\n",
    "\n",
    "\n",
    "# Correlations computed in previous cells\n",
    "corr1 = treecorr.GGCorrelation(nbins=20, min_sep=0.1,max_sep=250.0, sep_units=\"arcmin\", bin_slop=0)\n",
    "corr1.read(dir_output+'desy3_rho1.fits')\n",
    "corr2 = treecorr.GGCorrelation(nbins=20, min_sep=0.1,max_sep=250.0, sep_units=\"arcmin\", bin_slop=0)\n",
    "corr2.read(dir_output+'desy3_rho2.fits')\n",
    "\n",
    "corr1bc = treecorr.GGCorrelation(nbins=20, min_sep=0.1,max_sep=250.0, sep_units=\"arcmin\", bin_slop=0)\n",
    "corr1bc.read(dir_output+'desy3_rho1_withbandcut.fits')\n",
    "corr2bc = treecorr.GGCorrelation(nbins=20, min_sep=0.1,max_sep=250.0, sep_units=\"arcmin\", bin_slop=0)\n",
    "corr2bc.read(dir_output+'desy3_rho2_withbandcut.fits')\n",
    "\n",
    "\n",
    "# Correlations computed by Marco \n",
    "dict_save_y3 = load_obj('rhostat_gatti2021/everything_you_need_for_ABE')\n",
    "dict_save_y1 = load_obj('rhostat_gatti2021/everything_you_need_for_ABE_old')\n",
    "\n",
    "#--------------------------------------------------------------------\n",
    "\n",
    "ax0 = plt.subplot(gs[0])\n",
    "# Gatti2021 Y1\n",
    "dv  = dict_save_y1['y1_rho1']\n",
    "ax0.errorbar(10**(np.log10(dv[0])+0.02),np.abs(dv[1]),dv[2],color='chocolate', label = 'dict\\_save\\_y1(y1\\_rho1)' ,ls='None', marker='o',elinewidth=0.9,ms=3.5)\n",
    "#dv  = dict_save_y1['y1_sw_rho1']\n",
    "#ax0.errorbar(10**(np.log10(dv[0])+0.02),np.abs(dv[1]),dv[2],color='chocolate', label = 'dict\\_save\\_y1(y1_sw\\_rho1)' ,ls='None', marker='o',elinewidth=0.9,ms=3.5,mfc='None')\n",
    "\n",
    "# Gatti2021 Y3\n",
    "dv  = dict_save_y3['y3_rho1']\n",
    "ax0.errorbar(dv[0],np.abs(dv[1]),np.abs(dv[2]),color='teal', label = 'dict\\_save\\_y3(y3\\_rho1)' ,ls='None', marker='o',elinewidth=0.9,ms=3.5)\n",
    "#dv  = dict_save_y3['y3_sw_rho1']\n",
    "#ax0.errorbar(dv[0],np.abs(dv[1]),np.abs(dv[2]),color='teal', label = 'dict\\_save\\_y3(y3\\_sw\\_rho1)' ,ls='None', marker='o',elinewidth=0.9,ms=3.5,mfc='None')\n",
    "\n",
    "ax0.loglog(np.exp(corr1.meanlogr), np.abs(corr1.xip), label='TXPipe',ls='--',color='dimgray')\n",
    "ax0.loglog(np.exp(corr1bc.meanlogr), np.abs(corr1bc.xip), label='TXPipe withbandcut',color='dimgray')\n",
    "\n",
    "ax0.set_ylabel(r'$|\\rho(\\theta)|$')\n",
    "ax0.set_xlabel(r'$\\theta\\ [{\\rm arcmin}]$')\n",
    "ax0.set_title(r'DES-Y3\\ \\ \\ $\\rho_{1}$',size=13)\n",
    "ax0.legend()\n",
    "ax0.set_ylim(1e-9,1e-4)\n",
    "#--------------------------------------------------------------------\n",
    "ax1 = plt.subplot(gs[1])\n",
    "\n",
    "# Gatti2021 Y1\n",
    "dv  = dict_save_y1['y1_rho2']\n",
    "ax1.errorbar(10**(np.log10(dv[0])+0.02),np.abs(dv[1]),dv[2],color='chocolate', label = 'dict\\_save\\_y1(y1\\_rho1)' ,ls='None', marker='o',elinewidth=0.9,ms=3.5)\n",
    "# Gatti2021 Y3\n",
    "dv  = dict_save_y3['y3_rho2']\n",
    "ax1.errorbar(dv[0],np.abs(dv[1]),dv[2],color='teal', label = 'dict\\_save\\_y3(y3\\_rho2)' ,ls='None', marker='o',elinewidth=0.9,ms=3.5)\n",
    "#dv  = dict_save_y3['y3_sw_rho2']\n",
    "#ax1.errorbar(dv[0],np.abs(dv[1]),np.abs(dv[2]),color='teal', label = 'dict\\_save\\_y3(y3\\_sw\\_rho1)' ,ls='None', marker='o',elinewidth=0.9,ms=3.5,mfc='None')\n",
    "\n",
    "ax1.loglog(np.exp(corr2.meanlogr)  , np.abs(corr2.xip), label='TXPipe',ls='--',color='dimgray')\n",
    "ax1.loglog(np.exp(corr2bc.meanlogr),np.abs( corr2bc.xip), label='TXPipe withbandcut',color='dimgray')\n",
    "\n",
    "ax1.set_ylabel(r'$|\\rho(\\theta)|$')\n",
    "ax1.set_xlabel(r'$\\theta\\ [{\\rm arcmin}]$')\n",
    "ax1.set_title(r'DES-Y3\\ \\ \\ $\\rho_{2}$',size=13)\n",
    "ax1.legend()\n",
    "ax1.set_ylim(1e-9,1e-4)\n",
    "plt.show()"
   ]
  },
  {
   "cell_type": "code",
   "execution_count": null,
   "id": "58cd31cf",
   "metadata": {},
   "outputs": [],
   "source": []
  }
 ],
 "metadata": {
  "kernelspec": {
   "display_name": "Python 3 (ipykernel)",
   "language": "python",
   "name": "python3"
  },
  "language_info": {
   "codemirror_mode": {
    "name": "ipython",
    "version": 3
   },
   "file_extension": ".py",
   "mimetype": "text/x-python",
   "name": "python",
   "nbconvert_exporter": "python",
   "pygments_lexer": "ipython3",
   "version": "3.8.17"
  },
  "toc": {
   "base_numbering": 1,
   "nav_menu": {},
   "number_sections": true,
   "sideBar": true,
   "skip_h1_title": true,
   "title_cell": "Table of Contents",
   "title_sidebar": "Contents",
   "toc_cell": false,
   "toc_position": {},
   "toc_section_display": true,
   "toc_window_display": false
  }
 },
 "nbformat": 4,
 "nbformat_minor": 5
}

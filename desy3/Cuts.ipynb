{
 "cells": [
  {
   "cell_type": "code",
   "execution_count": 1,
   "id": "3cf9e512-e208-4ab3-b906-0d3ed16e23ce",
   "metadata": {
    "tags": []
   },
   "outputs": [],
   "source": [
    "import h5py\n",
    "import numpy \n",
    "\n",
    "y3 = h5py.File('/global/cfs/cdirs/lsst/groups/WL/projects/txpipe-sys-tests/des-y3/shear_catalog_desy3_unmasked.h5','r')\n",
    "\n",
    "\n",
    "#with h5py.File('/global/cfs/cdirs/lsst/groups/WL/projevts/txpipe-sys-tests/des-y3/shear_catalog_desy3.h5','w') as f:\n",
    "    "
   ]
  },
  {
   "cell_type": "code",
   "execution_count": 2,
   "id": "b86c0985-5368-4fd3-948b-f8d80a8a2213",
   "metadata": {
    "tags": []
   },
   "outputs": [
    {
     "data": {
      "text/plain": [
       "<KeysViewHDF5 ['bhat', 'bhat_1m', 'bhat_1p', 'bhat_2m', 'bhat_2p', 'dec', 'mcal_T', 'mcal_T_1m', 'mcal_T_1p', 'mcal_T_2m', 'mcal_T_2p', 'mcal_flags', 'mcal_flags_1m', 'mcal_flags_1p', 'mcal_flags_2m', 'mcal_flags_2p', 'mcal_g1', 'mcal_g1_1m', 'mcal_g1_1p', 'mcal_g1_2m', 'mcal_g1_2p', 'mcal_g2', 'mcal_g2_1m', 'mcal_g2_1p', 'mcal_g2_2m', 'mcal_g2_2p', 'mcal_mag_err_i', 'mcal_mag_err_i_1m', 'mcal_mag_err_i_1p', 'mcal_mag_err_i_2m', 'mcal_mag_err_i_2p', 'mcal_mag_err_r', 'mcal_mag_err_r_1m', 'mcal_mag_err_r_1p', 'mcal_mag_err_r_2m', 'mcal_mag_err_r_2p', 'mcal_mag_err_z', 'mcal_mag_err_z_1m', 'mcal_mag_err_z_1p', 'mcal_mag_err_z_2m', 'mcal_mag_err_z_2p', 'mcal_mag_i', 'mcal_mag_i_1m', 'mcal_mag_i_1p', 'mcal_mag_i_2m', 'mcal_mag_i_2p', 'mcal_mag_r', 'mcal_mag_r_1m', 'mcal_mag_r_1p', 'mcal_mag_r_2m', 'mcal_mag_r_2p', 'mcal_mag_z', 'mcal_mag_z_1m', 'mcal_mag_z_1p', 'mcal_mag_z_2m', 'mcal_mag_z_2p', 'mcal_psf_T_mean', 'mcal_psf_g1', 'mcal_psf_g2', 'mcal_s2n', 'mcal_s2n_1m', 'mcal_s2n_1p', 'mcal_s2n_2m', 'mcal_s2n_2p', 'objectId', 'ra', 'region', 'tilename', 'weight']>"
      ]
     },
     "execution_count": 2,
     "metadata": {},
     "output_type": "execute_result"
    }
   ],
   "source": [
    "y3['shear'].keys()"
   ]
  },
  {
   "cell_type": "code",
   "execution_count": 3,
   "id": "0f531a7e-2dca-44a2-bb6a-ba42d92c38f5",
   "metadata": {
    "tags": []
   },
   "outputs": [
    {
     "name": "stdout",
     "output_type": "stream",
     "text": [
      "[False False False ... False False False]\n"
     ]
    }
   ],
   "source": [
    "# remove objects where Tgal > 2 and S2N < 30 simultaneously\n",
    "cutTg_s2n = (numpy.asarray(y3['shear/mcal_T'])>2) & (numpy.asarray(y3['shear/mcal_s2n'])<30)\n",
    "print(cutTg_s2n)"
   ]
  },
  {
   "cell_type": "code",
   "execution_count": null,
   "id": "71294007-f1c0-45fd-bb75-9c8c6b227ebd",
   "metadata": {
    "tags": []
   },
   "outputs": [],
   "source": [
    "print(len(y3['shear/mcal_T']))"
   ]
  },
  {
   "cell_type": "code",
   "execution_count": null,
   "id": "68a2ed07-8faf-4605-afe5-46f51e2267f6",
   "metadata": {
    "tags": []
   },
   "outputs": [],
   "source": [
    "print(len(y3['shear/mcal_T'][cutTg_S2n==False]))"
   ]
  },
  {
   "cell_type": "code",
   "execution_count": 4,
   "id": "66712615-0074-4010-bbbf-9f0c007b8ef3",
   "metadata": {
    "tags": []
   },
   "outputs": [],
   "source": [
    "cutTg = numpy.asarray(y3['shear/mcal_T']) < 10"
   ]
  },
  {
   "cell_type": "code",
   "execution_count": null,
   "id": "49edbb5b-def8-4dc9-a9ee-14d8688619dc",
   "metadata": {
    "tags": []
   },
   "outputs": [],
   "source": [
    "print(len(cutT[cutT==True]))"
   ]
  },
  {
   "cell_type": "code",
   "execution_count": 5,
   "id": "7377f47f-65d3-47f5-b54c-92929be485e2",
   "metadata": {
    "tags": []
   },
   "outputs": [
    {
     "name": "stderr",
     "output_type": "stream",
     "text": [
      "/tmp/ipykernel_8465/1681343278.py:1: RuntimeWarning: invalid value encountered in divide\n",
      "  cutTratio = numpy.asarray(y3['shear/mcal_T'])/numpy.asarray(y3['shear/mcal_psf_T_mean']) > 0.5\n"
     ]
    }
   ],
   "source": [
    "#keep objects that pass the size ratio cut\n",
    "cutTratio = numpy.asarray(y3['shear/mcal_T'])/numpy.asarray(y3['shear/mcal_psf_T_mean']) > 0.5"
   ]
  },
  {
   "cell_type": "code",
   "execution_count": null,
   "id": "dfda3d55-1eeb-4526-8660-2caa7e4cadf6",
   "metadata": {
    "tags": []
   },
   "outputs": [],
   "source": [
    "print(len(cutTratio[cutTratio==False]))"
   ]
  },
  {
   "cell_type": "code",
   "execution_count": 6,
   "id": "0e2918b0-b895-471a-a0c8-a503a24b866a",
   "metadata": {
    "tags": []
   },
   "outputs": [],
   "source": [
    "# limit the objects to those with the most reliable photometric redshifts\n",
    "cuti = (18 < numpy.asarray(y3['shear/mcal_mag_i'])) & (numpy.asarray(y3['shear/mcal_mag_i'])  < 23.5) #& (15 < numpy.asarray(y3['shear/mcal_mag_r'])) & (numpy.asarray(y3['shear/mcal_mag_z']) < 26)\n",
    "cutr = (15 < numpy.asarray(y3['shear/mcal_mag_r']))\n",
    "cutz = (20 < numpy.asarray(y3['shear/mcal_mag_z'])) & (numpy.asarray(y3['shear/mcal_mag_z']) < 26)\n",
    "\n",
    "cut_band = cuti | cutr | cutz "
   ]
  },
  {
   "cell_type": "code",
   "execution_count": 7,
   "id": "32dbd845-d6b4-4712-ab06-8930a3e4d48e",
   "metadata": {
    "tags": []
   },
   "outputs": [],
   "source": [
    "# fine tune against outliers\n",
    "cut_bandfine1 = (-1.5 < (numpy.asarray(y3['shear/mcal_mag_r'])-numpy.asarray(y3['shear/mcal_mag_i']))) & ((numpy.asarray(y3['shear/mcal_mag_r'])-numpy.asarray(y3['shear/mcal_mag_i'])) < 4)\n",
    "cut_bandfine2 = (-1.5 < (numpy.asarray(y3['shear/mcal_mag_z'])-numpy.asarray(y3['shear/mcal_mag_i']))) & ((numpy.asarray(y3['shear/mcal_mag_z'])-numpy.asarray(y3['shear/mcal_mag_i'])) < 4)\n",
    "\n",
    "cut_bandfine = cut_bandfine1 | cut_bandfine2"
   ]
  },
  {
   "cell_type": "code",
   "execution_count": null,
   "id": "0d08ba5c-77f8-43fa-8622-553ce8ffb1be",
   "metadata": {
    "tags": []
   },
   "outputs": [],
   "source": [
    "len(cut_bandfine[cut_bandfine==False])"
   ]
  },
  {
   "cell_type": "code",
   "execution_count": 8,
   "id": "b844510d-9bb2-43d7-a8ab-857019b5ebee",
   "metadata": {
    "tags": []
   },
   "outputs": [],
   "source": [
    "# select objects within S2N cut\n",
    "cut_s2n = (10 < numpy.asarray(y3['shear/mcal_s2n'])) & (numpy.asarray(y3['shear/mcal_s2n'])<1000)"
   ]
  },
  {
   "cell_type": "code",
   "execution_count": 9,
   "id": "9ca44ca6-c792-4c55-b903-69c2514e3bc2",
   "metadata": {
    "tags": []
   },
   "outputs": [
    {
     "name": "stderr",
     "output_type": "stream",
     "text": [
      "/tmp/ipykernel_8465/3244364381.py:2: RuntimeWarning: divide by zero encountered in log\n",
      "  cut_binstar = (numpy.abs(numpy.asarray(y3['shear/mcal_g1'])+numpy.asarray(y3['shear/mcal_g2']))>0.8) & (numpy.log(numpy.asarray(y3['shear/mcal_T'])) > ((22.5 - numpy.asarray(y3['shear/mcal_mag_r']))/2.5))\n",
      "/tmp/ipykernel_8465/3244364381.py:2: RuntimeWarning: invalid value encountered in log\n",
      "  cut_binstar = (numpy.abs(numpy.asarray(y3['shear/mcal_g1'])+numpy.asarray(y3['shear/mcal_g2']))>0.8) & (numpy.log(numpy.asarray(y3['shear/mcal_T'])) > ((22.5 - numpy.asarray(y3['shear/mcal_mag_r']))/2.5))\n"
     ]
    }
   ],
   "source": [
    "# limit the binary star contamination\n",
    "cut_binstar = (numpy.abs(numpy.asarray(y3['shear/mcal_g1'])+numpy.asarray(y3['shear/mcal_g2']))>0.8) & (numpy.log(numpy.asarray(y3['shear/mcal_T'])) > ((22.5 - numpy.asarray(y3['shear/mcal_mag_r']))/2.5))\n",
    "\n"
   ]
  },
  {
   "cell_type": "code",
   "execution_count": null,
   "id": "304e5b4c-a6f4-4208-ace6-475637628087",
   "metadata": {
    "tags": []
   },
   "outputs": [],
   "source": [
    "len(cut_binstar[cut_binstar==False])"
   ]
  },
  {
   "cell_type": "code",
   "execution_count": 14,
   "id": "2d228a89-a465-4ad9-bb5d-b7a8813aca28",
   "metadata": {
    "tags": []
   },
   "outputs": [],
   "source": [
    "# combine all the cuts\n",
    "cut_all = (cutTg_s2n==False) & (cutTg==True) & (cutTratio==True) & (cut_band==True) & (cut_bandfine == False) & (cut_s2n==True) & (cut_binstar==False) "
   ]
  },
  {
   "cell_type": "code",
   "execution_count": null,
   "id": "e994aff8-4986-4273-9458-9a12997f776a",
   "metadata": {
    "tags": []
   },
   "outputs": [],
   "source": [
    "len(cut_all[cut_all == True])"
   ]
  },
  {
   "cell_type": "code",
   "execution_count": 12,
   "id": "8d1875fd-42c0-4fcd-b474-b19d74d2b57e",
   "metadata": {
    "tags": []
   },
   "outputs": [
    {
     "name": "stdout",
     "output_type": "stream",
     "text": [
      "[ 45.00143657  44.9961154   44.99728215 ... 316.37848094 316.37351406\n",
      " 316.37604327]\n",
      "399263026\n"
     ]
    }
   ],
   "source": [
    "print(y3['shear/ra'][:])\n",
    "print(len(y3['shear/ra'][:]))"
   ]
  },
  {
   "cell_type": "code",
   "execution_count": 15,
   "id": "2db1974f-cf3d-41bb-8f68-b033effc5343",
   "metadata": {
    "tags": []
   },
   "outputs": [
    {
     "name": "stdout",
     "output_type": "stream",
     "text": [
      "122457290\n"
     ]
    }
   ],
   "source": [
    "print(len(y3['shear/ra'][:][cut_all]))"
   ]
  },
  {
   "cell_type": "code",
   "execution_count": 18,
   "id": "fcd62c50-63a4-4a4d-b249-252ea0a721d0",
   "metadata": {},
   "outputs": [
    {
     "name": "stdout",
     "output_type": "stream",
     "text": [
      "bhat\n",
      "122457290\n",
      "bhat_1m\n",
      "122457290\n",
      "bhat_1p\n",
      "122457290\n",
      "bhat_2m\n",
      "122457290\n",
      "bhat_2p\n",
      "122457290\n",
      "dec\n",
      "122457290\n",
      "mcal_T\n",
      "122457290\n",
      "mcal_T_1m\n",
      "122457290\n",
      "mcal_T_1p\n",
      "122457290\n",
      "mcal_T_2m\n",
      "122457290\n",
      "mcal_T_2p\n",
      "122457290\n",
      "mcal_flags\n",
      "122457290\n",
      "mcal_flags_1m\n",
      "122457290\n",
      "mcal_flags_1p\n",
      "122457290\n",
      "mcal_flags_2m\n",
      "122457290\n",
      "mcal_flags_2p\n",
      "122457290\n",
      "mcal_g1\n",
      "122457290\n",
      "mcal_g1_1m\n",
      "122457290\n",
      "mcal_g1_1p\n",
      "122457290\n",
      "mcal_g1_2m\n",
      "122457290\n",
      "mcal_g1_2p\n",
      "122457290\n",
      "mcal_g2\n",
      "122457290\n",
      "mcal_g2_1m\n",
      "122457290\n",
      "mcal_g2_1p\n",
      "122457290\n",
      "mcal_g2_2m\n",
      "122457290\n",
      "mcal_g2_2p\n",
      "122457290\n",
      "mcal_mag_err_i\n",
      "122457290\n",
      "mcal_mag_err_i_1m\n",
      "122457290\n",
      "mcal_mag_err_i_1p\n",
      "122457290\n",
      "mcal_mag_err_i_2m\n",
      "122457290\n",
      "mcal_mag_err_i_2p\n",
      "122457290\n",
      "mcal_mag_err_r\n",
      "122457290\n",
      "mcal_mag_err_r_1m\n",
      "122457290\n",
      "mcal_mag_err_r_1p\n",
      "122457290\n",
      "mcal_mag_err_r_2m\n",
      "122457290\n",
      "mcal_mag_err_r_2p\n",
      "122457290\n",
      "mcal_mag_err_z\n",
      "122457290\n",
      "mcal_mag_err_z_1m\n",
      "122457290\n",
      "mcal_mag_err_z_1p\n",
      "122457290\n",
      "mcal_mag_err_z_2m\n",
      "122457290\n",
      "mcal_mag_err_z_2p\n",
      "122457290\n",
      "mcal_mag_i\n",
      "122457290\n",
      "mcal_mag_i_1m\n",
      "122457290\n",
      "mcal_mag_i_1p\n",
      "122457290\n",
      "mcal_mag_i_2m\n",
      "122457290\n",
      "mcal_mag_i_2p\n",
      "122457290\n",
      "mcal_mag_r\n",
      "122457290\n",
      "mcal_mag_r_1m\n",
      "122457290\n",
      "mcal_mag_r_1p\n",
      "122457290\n",
      "mcal_mag_r_2m\n",
      "122457290\n",
      "mcal_mag_r_2p\n",
      "122457290\n",
      "mcal_mag_z\n",
      "122457290\n",
      "mcal_mag_z_1m\n",
      "122457290\n",
      "mcal_mag_z_1p\n",
      "122457290\n",
      "mcal_mag_z_2m\n",
      "122457290\n",
      "mcal_mag_z_2p\n",
      "122457290\n",
      "mcal_psf_T_mean\n",
      "122457290\n",
      "mcal_psf_g1\n",
      "122457290\n",
      "mcal_psf_g2\n",
      "122457290\n",
      "mcal_s2n\n",
      "122457290\n",
      "mcal_s2n_1m\n",
      "122457290\n",
      "mcal_s2n_1p\n",
      "122457290\n",
      "mcal_s2n_2m\n",
      "122457290\n",
      "mcal_s2n_2p\n",
      "122457290\n",
      "objectId\n",
      "122457290\n",
      "ra\n",
      "122457290\n",
      "region\n",
      "122457290\n",
      "tilename\n",
      "122457290\n",
      "weight\n",
      "122457290\n"
     ]
    }
   ],
   "source": [
    "with h5py.File('/global/cfs/cdirs/lsst/groups/WL/projects/txpipe-sys-tests/des-y3/shear_catalog_desy3_unmasked_cut.h5','w') as f:\n",
    "    f.create_group('shear')\n",
    "    for key in y3['shear'].keys():\n",
    "        print(key)\n",
    "        f[f'shear/{key}'] = y3[f'shear/{key}'][:][cut_all]\n",
    "        print(len(f[f'shear/{key}'][:]))\n",
    "        \n",
    "    f.close()"
   ]
  },
  {
   "cell_type": "code",
   "execution_count": null,
   "id": "9457c82d-6fc6-4cbf-b496-dddcb14a61bb",
   "metadata": {},
   "outputs": [],
   "source": []
  }
 ],
 "metadata": {
  "kernelspec": {
   "display_name": "desc-python",
   "language": "python",
   "name": "desc-python"
  },
  "language_info": {
   "codemirror_mode": {
    "name": "ipython",
    "version": 3
   },
   "file_extension": ".py",
   "mimetype": "text/x-python",
   "name": "python",
   "nbconvert_exporter": "python",
   "pygments_lexer": "ipython3",
   "version": "3.10.10"
  }
 },
 "nbformat": 4,
 "nbformat_minor": 5
}

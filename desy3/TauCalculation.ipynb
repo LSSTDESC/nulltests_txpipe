{
 "cells": [
  {
   "cell_type": "code",
   "execution_count": 1,
   "id": "77869b32-dba3-4453-9210-62aab5f257de",
   "metadata": {
    "tags": []
   },
   "outputs": [],
   "source": [
    "import numpy as np\n",
    "import h5py\n",
    "import treecorr"
   ]
  },
  {
   "cell_type": "code",
   "execution_count": 2,
   "id": "1161cd3d-5d8a-4d7a-ad36-63ede553246b",
   "metadata": {
    "tags": []
   },
   "outputs": [],
   "source": [
    "def apply_metacal_response(R, S, g1, g2):\n",
    "    # The values of R are assumed to already\n",
    "    # have had appropriate weights included\n",
    "    from numpy.linalg import pinv\n",
    "    import numpy as np\n",
    "\n",
    "    mcal_g = np.stack([g1, g2], axis=1)\n",
    "\n",
    "    R_total = R + S\n",
    "\n",
    "    # Invert the responsivity matrix\n",
    "    Rinv = pinv(R_total)\n",
    "    mcal_g = Rinv @ mcal_g.T\n",
    "\n",
    "    return mcal_g[0], mcal_g[1]"
   ]
  },
  {
   "cell_type": "code",
   "execution_count": 3,
   "id": "2232862d-0e65-4837-b284-0072873b44b8",
   "metadata": {
    "tags": []
   },
   "outputs": [
    {
     "name": "stdout",
     "output_type": "stream",
     "text": [
      "Applying metacal/metadetect response\n"
     ]
    }
   ],
   "source": [
    "# Load tomography data\n",
    "path1 = '/global/cfs/cdirs/lsst/groups/WL/projects/txpipe-sys-tests/des-y3/'\n",
    "path2 = '../../TXPipe/data/desy3/outputs/'\n",
    "with h5py.File(path2+'shear_tomography_catalog.hdf5','r') as f:\n",
    "    source_bin = f['tomography/bin'][:]\n",
    "    mask = source_bin != -1  # Only use the sources that pass the fiducial cuts\n",
    "    R_total_2d = f['response/R_S_2d'][:] + f['response/R_gamma_mean_2d'][:]\n",
    "\n",
    "with h5py.File(path1+'shear_catalog_desy3_unmasked_withfakez.hdf5','r') as f:\n",
    "    g = f['shear']\n",
    "    g1      = g['mcal_g1'][:][mask]\n",
    "    g2      = g['mcal_g2'][:][mask]\n",
    "    gw  = g['weight'][:][mask]\n",
    "    gra,gdec = g['ra'][:][mask], g['dec'][:][mask]\n",
    "\n",
    "print('Applying metacal/metadetect response')\n",
    "g1, g2 = apply_metacal_response(R_total_2d, 0.0, g1, g2)\n",
    "\n",
    "\n",
    "gg = np.array((g1, g2))\n"
   ]
  },
  {
   "cell_type": "code",
   "execution_count": 4,
   "id": "8bb452f8-04d9-4436-877d-a57746782f0a",
   "metadata": {
    "tags": []
   },
   "outputs": [],
   "source": [
    "with h5py.File(path1+\"DES_psf_y3_catalog.hdf5\",'r') as f:\n",
    "    g      = f[\"stars\"]\n",
    "    reserved = g[\"calib_psf_reserved\"][:].astype('int')\n",
    "    sra     = g[\"ra\"][reserved==1][:]\n",
    "    sdec    = g[\"dec\"][reserved==1][:]\n",
    "    e1psf  = g[\"measured_e1\"][reserved==1][:]\n",
    "    e2psf  = g[\"measured_e2\"][reserved==1][:]\n",
    "    e1mod  = g[\"model_e1\"][reserved==1][:]\n",
    "    e2mod  = g[\"model_e2\"][reserved==1][:]\n",
    "    de1    = e1psf - e1mod\n",
    "    de2    = e2psf - e2mod\n",
    "\n",
    "    T_f = (g[\"measured_T\"][reserved==1][:] - g[\"model_T\"][reserved==1][:]) / g[\"measured_T\"][reserved==1][:]\n",
    "\n",
    "    e_psf  = np.array((e1psf, e2psf))\n",
    "    e_mod  = np.array((e1mod,e2mod))\n",
    "    de_psf = np.array((de1, de2))\n"
   ]
  },
  {
   "cell_type": "code",
   "execution_count": 5,
   "id": "fd4acabc-2b30-4e89-aab0-bc2b2edeca36",
   "metadata": {
    "tags": []
   },
   "outputs": [],
   "source": [
    "p = e_mod\n",
    "q = de_psf\n",
    "w = e_psf * T_f"
   ]
  },
  {
   "cell_type": "code",
   "execution_count": 6,
   "id": "e2eea749-5f6f-45f6-8e5e-7effa89c72f1",
   "metadata": {
    "tags": []
   },
   "outputs": [
    {
     "name": "stdout",
     "output_type": "stream",
     "text": [
      "Computing Tau 0,2,5 and the covariance\n"
     ]
    }
   ],
   "source": [
    "print(f\"Computing Tau 0,2,5 and the covariance\")\n",
    "\n",
    "# Load all catalogs\n",
    "catg = treecorr.Catalog(ra=gra, dec=gdec, g1=gg[0], g2=gg[1], w=gw, ra_units=\"deg\", dec_units=\"deg\",npatch=40) # galaxy shear\n",
    "catp = treecorr.Catalog(ra=sra, dec=sdec, g1=p[0], g2=p[1], ra_units=\"deg\", dec_units=\"deg\",patch_centers=catg.patch_centers) # e_model\n",
    "catq = treecorr.Catalog(ra=sra, dec=sdec, g1=q[0], g2=q[1], ra_units=\"deg\", dec_units=\"deg\",patch_centers=catg.patch_centers) # (e_* - e_model)\n",
    "catw = treecorr.Catalog(ra=sra, dec=sdec, g1=w[0], g2=w[1], ra_units=\"deg\", dec_units=\"deg\",patch_centers=catg.patch_centers) # (e_*(T_* - T_model)/T_* )\n",
    "\n",
    "# Compute all corrleations\n",
    "corr0 = treecorr.GGCorrelation(min_sep       = 0.5,\n",
    "                               max_sep       = 250.0,\n",
    "                               nbins         = 20,\n",
    "                               bin_slop      = 0.01,\n",
    "                               sep_units     = \"arcmin\",\n",
    "                               var_method    = 'bootstrap')\n",
    "corr0.process(catg, catp)\n",
    "corr2 = treecorr.GGCorrelation( min_sep       = 0.5,\n",
    "                                max_sep       = 250.0,\n",
    "                                nbins         = 20,\n",
    "                                bin_slop      = 0.01,\n",
    "                                sep_units     = \"arcmin\",\n",
    "                                var_method    = 'bootstrap')\n",
    "corr2.process(catg, catq)\n",
    "corr5 = treecorr.GGCorrelation( min_sep       = 0.5,\n",
    "                                max_sep       = 250.0,\n",
    "                                nbins         = 20,\n",
    "                                bin_slop      = 0.01,\n",
    "                                sep_units     = \"arcmin\",\n",
    "                                var_method    = 'bootstrap')\n",
    "corr5.process(catg, catw)"
   ]
  },
  {
   "cell_type": "code",
   "execution_count": 7,
   "id": "6cfc2f15-ef67-4dd5-9d8a-b0c62537e78b",
   "metadata": {},
   "outputs": [],
   "source": [
    "cov = treecorr.estimate_multi_cov([corr0,corr2,corr5], 'bootstrap')\n",
    "\n",
    "# For our particular purpose, we only care about xip so can remove the xim elements. \n",
    "nbins = 20\n",
    "idx = [i + j for i in range(nbins, 6*nbins, nbins * 2) for j in range(nbins) if i + j < 6*nbins]\n",
    "cov = np.delete(cov,idx,axis=0)\n",
    "cov = np.delete(cov,idx,axis=1)\n",
    "\n",
    "# Get both theta and xip\n",
    "tht0,xip0 = corr0.meanr, corr0.xip\n",
    "tht2,xip2 = corr2.meanr, corr2.xip\n",
    "tht5,xip5 = corr5.meanr, corr5.xip"
   ]
  },
  {
   "cell_type": "code",
   "execution_count": 9,
   "id": "122c24ec-4e4b-4640-8abf-18e92aafea6e",
   "metadata": {
    "tags": []
   },
   "outputs": [],
   "source": [
    "nb    = len(tht0)\n",
    "\n",
    "errs  = {0: np.diag(cov[int(0*nb):int(1*nb),int(0*nb):int(1*nb)])**0.5,\n",
    "                     2: np.diag(cov[int(1*nb):int(2*nb),int(1*nb):int(2*nb)])**0.5,\n",
    "                     5: np.diag(cov[int(2*nb):int(3*nb),int(2*nb):int(3*nb)])**0.5\n",
    "                    }"
   ]
  },
  {
   "cell_type": "code",
   "execution_count": 14,
   "id": "90edfce6-ca61-4bd7-bcc0-a62c1c0b71d4",
   "metadata": {
    "tags": []
   },
   "outputs": [
    {
     "data": {
      "text/plain": [
       "Text(0, 0.5, '$\\\\theta \\\\times \\\\tau_{5}$')"
      ]
     },
     "execution_count": 14,
     "metadata": {},
     "output_type": "execute_result"
    },
    {
     "data": {
      "image/png": "[encoded data removed]",
      "text/plain": [
       "<Figure size 1000x300 with 3 Axes>"
      ]
     },
     "metadata": {},
     "output_type": "display_data"
    }
   ],
   "source": [
    "import matplotlib.pyplot as plt\n",
    "\n",
    "fig, axs = plt.subplots(1,3,figsize=[10,3])\n",
    "ax1,ax2,ax3 = axs.flatten()\n",
    "ax1.errorbar(tht0,xip0,np.diag(cov[int(0*nb):int(1*nb),int(0*nb):int(1*nb)])**0.5)\n",
    "ax1.set_xscale('log')\n",
    "ax1.set_ylabel(r'$\\tau_{0}$')\n",
    "\n",
    "ax2.errorbar(tht2,tht2*xip2,tht2*np.diag(cov[int(1*nb):int(2*nb),int(1*nb):int(2*nb)])**0.5)\n",
    "ax2.set_xscale('log')\n",
    "ax2.set_ylabel(r'$\\theta \\times \\tau_{2}$')\n",
    "\n",
    "ax3.errorbar(tht5,tht5*xip5,tht5*np.diag(cov[int(2*nb):int(3*nb),int(2*nb):int(3*nb)])**0.5)\n",
    "ax3.set_xscale('log')\n",
    "ax3.set_ylabel(r'$\\theta \\times \\tau_{5}$')\n",
    "\n"
   ]
  },
  {
   "cell_type": "code",
   "execution_count": null,
   "id": "a62b7467-6a0d-4c16-b047-bc2173cd00ae",
   "metadata": {},
   "outputs": [],
   "source": []
  }
 ],
 "metadata": {
  "kernelspec": {
   "display_name": "desc-python",
   "language": "python",
   "name": "desc-python"
  },
  "language_info": {
   "codemirror_mode": {
    "name": "ipython",
    "version": 3
   },
   "file_extension": ".py",
   "mimetype": "text/x-python",
   "name": "python",
   "nbconvert_exporter": "python",
   "pygments_lexer": "ipython3",
   "version": "3.10.10"
  }
 },
 "nbformat": 4,
 "nbformat_minor": 5
}

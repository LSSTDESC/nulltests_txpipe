{
 "cells": [
  {
   "cell_type": "code",
   "execution_count": 1,
   "id": "816ffad9-7082-47ec-8d79-316ca922cb10",
   "metadata": {},
   "outputs": [],
   "source": [
    "import h5py\n",
    "import astropy.io.fits as fits\n",
    "import numpy as np"
   ]
  },
  {
   "cell_type": "code",
   "execution_count": 2,
   "id": "ff2dbc4a-ccf9-4512-8364-7f133d0dae02",
   "metadata": {},
   "outputs": [],
   "source": [
    "f = fits.open('hsc_y3_real.fits')"
   ]
  },
  {
   "cell_type": "code",
   "execution_count": 3,
   "id": "80b24a9d-77db-41d9-8f78-06d3bace3e32",
   "metadata": {},
   "outputs": [],
   "source": [
    "f1 = fits.open('summary_statistics_hsc_real_published.fits')"
   ]
  },
  {
   "cell_type": "code",
   "execution_count": null,
   "id": "41cd6a34-222e-431f-820c-b5ac284f5e77",
   "metadata": {
    "jupyter": {
     "source_hidden": true
    },
    "tags": []
   },
   "outputs": [],
   "source": [
    "oldheaders =  [f1[1].header,f1[2].header, f1[3].header]\n"
   ]
  },
  {
   "cell_type": "code",
   "execution_count": null,
   "id": "9b047eb9-b60b-4347-944c-76a93b197c39",
   "metadata": {
    "jupyter": {
     "source_hidden": true
    },
    "tags": []
   },
   "outputs": [],
   "source": [
    "f1[4].header"
   ]
  },
  {
   "cell_type": "code",
   "execution_count": 4,
   "id": "be9ce72f-dd0f-4346-8511-89d04877fc78",
   "metadata": {},
   "outputs": [],
   "source": [
    "f.insert(4,f1[4])"
   ]
  },
  {
   "cell_type": "code",
   "execution_count": null,
   "id": "6f61563d-bd60-4bb1-8b66-7a48c1d1638e",
   "metadata": {},
   "outputs": [],
   "source": [
    "f[4].header"
   ]
  },
  {
   "cell_type": "code",
   "execution_count": 5,
   "id": "7b869c78-a252-4ace-87f9-a87a53d15521",
   "metadata": {},
   "outputs": [
    {
     "data": {
      "text/plain": [
       "XTENSION= 'IMAGE   '           / Image extension                                \n",
       "BITPIX  =                  -64 / array data type                                \n",
       "NAXIS   =                    2 / number of array dimensions                     \n",
       "NAXIS1  =                  230                                                  \n",
       "NAXIS2  =                  230                                                  \n",
       "PCOUNT  =                    0 / number of parameters                           \n",
       "GCOUNT  =                    1 / number of groups                               \n",
       "EXTNAME = 'COVMAT  '                                                            \n",
       "NAME_0  = 'xi_plus '                                                            \n",
       "STRT_0  =                    0                                                  \n",
       "NAME_1  = 'xi_minus'                                                            \n",
       "STRT_1  =                  130                                                  "
      ]
     },
     "execution_count": 5,
     "metadata": {},
     "output_type": "execute_result"
    }
   ],
   "source": [
    "f[1].header"
   ]
  },
  {
   "cell_type": "code",
   "execution_count": 6,
   "id": "1530ce1d-6d3d-4482-bea4-ea837d09f215",
   "metadata": {},
   "outputs": [
    {
     "data": {
      "text/plain": [
       "XTENSION= 'IMAGE   '           / Image extension                                \n",
       "BITPIX  =                  -64 / array data type                                \n",
       "NAXIS   =                    2 / number of array dimensions                     \n",
       "NAXIS1  =                  170                                                  \n",
       "NAXIS2  =                  170                                                  \n",
       "PCOUNT  =                    0 / number of parameters                           \n",
       "GCOUNT  =                    1 / number of groups                               \n",
       "COVDATA =                    T                                                  \n",
       "EXTNAME = 'COVMAT  '                                                            \n",
       "STRT_0  =                    0                                                  \n",
       "NAME_0  = 'xim     '                                                            \n",
       "STRT_1  =                   80                                                  \n",
       "NAME_1  = 'xip     '                                                            "
      ]
     },
     "execution_count": 6,
     "metadata": {},
     "output_type": "execute_result"
    }
   ],
   "source": [
    "f1[1].header"
   ]
  },
  {
   "cell_type": "code",
   "execution_count": 7,
   "id": "c01a4d5d-dc9d-4c7b-a4ad-edfb0d8a70f2",
   "metadata": {},
   "outputs": [],
   "source": [
    "f[1].header['NAME_0'] = f1[1].header['NAME_1']\n",
    "f[1].header['NAME_1'] = f1[1].header['NAME_0']\n"
   ]
  },
  {
   "cell_type": "code",
   "execution_count": 8,
   "id": "d792058b-ef62-4b64-b503-dc14b0e2f72e",
   "metadata": {},
   "outputs": [
    {
     "data": {
      "text/plain": [
       "XTENSION= 'IMAGE   '           / Image extension                                \n",
       "BITPIX  =                  -64 / array data type                                \n",
       "NAXIS   =                    2 / number of array dimensions                     \n",
       "NAXIS1  =                  230                                                  \n",
       "NAXIS2  =                  230                                                  \n",
       "PCOUNT  =                    0 / number of parameters                           \n",
       "GCOUNT  =                    1 / number of groups                               \n",
       "EXTNAME = 'COVMAT  '                                                            \n",
       "NAME_0  = 'xip     '                                                            \n",
       "STRT_0  =                    0                                                  \n",
       "NAME_1  = 'xim     '                                                            \n",
       "STRT_1  =                  130                                                  "
      ]
     },
     "execution_count": 8,
     "metadata": {},
     "output_type": "execute_result"
    }
   ],
   "source": [
    "f[1].header"
   ]
  },
  {
   "cell_type": "code",
   "execution_count": 9,
   "id": "0a8de7a9-b098-4078-b4ef-3722a6bd35e2",
   "metadata": {},
   "outputs": [
    {
     "data": {
      "text/plain": [
       "XTENSION= 'BINTABLE'           / binary table extension                         \n",
       "BITPIX  =                    8 / array data type                                \n",
       "NAXIS   =                    2 / number of array dimensions                     \n",
       "NAXIS1  =                   40 / length of dimension 1                          \n",
       "NAXIS2  =                  130 / length of dimension 2                          \n",
       "PCOUNT  =                    0 / number of group parameters                     \n",
       "GCOUNT  =                    1 / number of groups                               \n",
       "TFIELDS =                    5 / number of table fields                         \n",
       "2PTDATA = 'T       '                                                            \n",
       "WINDOWS = 'SAMPLE  '                                                            \n",
       "KERNEL_1= 'NZ_SAMPLE'                                                           \n",
       "KERNEL_2= 'NZ_SAMPLE'                                                           \n",
       "EXTNAME = 'xi_plus '                                                            \n",
       "QUANT1  = 'G+R     '                                                            \n",
       "QUANT2  = 'G+R     '                                                            \n",
       "TTYPE1  = 'BIN1    '                                                            \n",
       "TFORM1  = 'K       '                                                            \n",
       "TTYPE2  = 'BIN2    '                                                            \n",
       "TFORM2  = 'K       '                                                            \n",
       "TTYPE3  = 'ANGBIN  '                                                            \n",
       "TFORM3  = 'K       '                                                            \n",
       "TTYPE4  = 'VALUE   '                                                            \n",
       "TFORM4  = 'D       '                                                            \n",
       "TTYPE5  = 'ANG     '                                                            \n",
       "TFORM5  = 'D       '                                                            \n",
       "TUNIT5  = 'arcmin  '                                                            "
      ]
     },
     "execution_count": 9,
     "metadata": {},
     "output_type": "execute_result"
    }
   ],
   "source": [
    "f[2].header"
   ]
  },
  {
   "cell_type": "code",
   "execution_count": 11,
   "id": "bcf7c3ce-eab3-4b36-85b6-4a062ee8bcba",
   "metadata": {},
   "outputs": [
    {
     "data": {
      "text/plain": [
       "XTENSION= 'BINTABLE'           / binary table extension                         \n",
       "BITPIX  =                    8 / array data type                                \n",
       "NAXIS   =                    2 / number of array dimensions                     \n",
       "NAXIS1  =                   40 / length of dimension 1                          \n",
       "NAXIS2  =                   90 / length of dimension 2                          \n",
       "PCOUNT  =                    0 / number of group parameters                     \n",
       "GCOUNT  =                    1 / number of groups                               \n",
       "TFIELDS =                    5 / number of table fields                         \n",
       "2PTDATA =                    T                                                  \n",
       "EXTNAME = 'xip     '                                                            \n",
       "QUANT1  = 'G+R     '                                                            \n",
       "QUANT2  = 'G+R     '                                                            \n",
       "KERNEL_1= 'NZ_SOURCE'                                                           \n",
       "KERNEL_2= 'NZ_SOURCE'                                                           \n",
       "WINDOWS = 'SAMPLE  '                                                            \n",
       "N_ZBIN_1=                    4                                                  \n",
       "N_ZBIN_2=                    4                                                  \n",
       "N_ANG   =                    9                                                  \n",
       "TTYPE1  = 'BIN1    '                                                            \n",
       "TFORM1  = 'K       '                                                            \n",
       "TTYPE2  = 'BIN2    '                                                            \n",
       "TFORM2  = 'K       '                                                            \n",
       "TTYPE3  = 'ANGBIN  '                                                            \n",
       "TFORM3  = 'K       '                                                            \n",
       "TTYPE4  = 'VALUE   '                                                            \n",
       "TFORM4  = 'D       '                                                            \n",
       "TTYPE5  = 'ANG     '                                                            \n",
       "TFORM5  = 'D       '                                                            \n",
       "TUNIT5  = 'arcmin  '                                                            "
      ]
     },
     "execution_count": 11,
     "metadata": {},
     "output_type": "execute_result"
    }
   ],
   "source": [
    "f1[3].header"
   ]
  },
  {
   "cell_type": "code",
   "execution_count": 12,
   "id": "36bd2c5d-e46a-463e-8fcc-548a4bed15e5",
   "metadata": {},
   "outputs": [],
   "source": [
    "f[2].header['EXTNAME'] = f1[3].header['EXTNAME']"
   ]
  },
  {
   "cell_type": "code",
   "execution_count": 13,
   "id": "4b499f00-21f8-44cd-b71f-4df6c3c82546",
   "metadata": {},
   "outputs": [
    {
     "data": {
      "text/plain": [
       "XTENSION= 'BINTABLE'           / binary table extension                         \n",
       "BITPIX  =                    8 / array data type                                \n",
       "NAXIS   =                    2 / number of array dimensions                     \n",
       "NAXIS1  =                   40 / length of dimension 1                          \n",
       "NAXIS2  =                  130 / length of dimension 2                          \n",
       "PCOUNT  =                    0 / number of group parameters                     \n",
       "GCOUNT  =                    1 / number of groups                               \n",
       "TFIELDS =                    5 / number of table fields                         \n",
       "2PTDATA = 'T       '                                                            \n",
       "WINDOWS = 'SAMPLE  '                                                            \n",
       "KERNEL_1= 'NZ_SAMPLE'                                                           \n",
       "KERNEL_2= 'NZ_SAMPLE'                                                           \n",
       "EXTNAME = 'xip     '                                                            \n",
       "QUANT1  = 'G+R     '                                                            \n",
       "QUANT2  = 'G+R     '                                                            \n",
       "TTYPE1  = 'BIN1    '                                                            \n",
       "TFORM1  = 'K       '                                                            \n",
       "TTYPE2  = 'BIN2    '                                                            \n",
       "TFORM2  = 'K       '                                                            \n",
       "TTYPE3  = 'ANGBIN  '                                                            \n",
       "TFORM3  = 'K       '                                                            \n",
       "TTYPE4  = 'VALUE   '                                                            \n",
       "TFORM4  = 'D       '                                                            \n",
       "TTYPE5  = 'ANG     '                                                            \n",
       "TFORM5  = 'D       '                                                            \n",
       "TUNIT5  = 'arcmin  '                                                            "
      ]
     },
     "execution_count": 13,
     "metadata": {},
     "output_type": "execute_result"
    }
   ],
   "source": [
    "f[2].header"
   ]
  },
  {
   "cell_type": "code",
   "execution_count": 14,
   "id": "ae7385db-64f0-4c97-a19a-e9d3f38c47a1",
   "metadata": {},
   "outputs": [
    {
     "data": {
      "text/plain": [
       "XTENSION= 'BINTABLE'           / binary table extension                         \n",
       "BITPIX  =                    8 / array data type                                \n",
       "NAXIS   =                    2 / number of array dimensions                     \n",
       "NAXIS1  =                   40 / length of dimension 1                          \n",
       "NAXIS2  =                  100 / length of dimension 2                          \n",
       "PCOUNT  =                    0 / number of group parameters                     \n",
       "GCOUNT  =                    1 / number of groups                               \n",
       "TFIELDS =                    5 / number of table fields                         \n",
       "2PTDATA = 'T       '                                                            \n",
       "WINDOWS = 'SAMPLE  '                                                            \n",
       "KERNEL_1= 'NZ_SAMPLE'                                                           \n",
       "KERNEL_2= 'NZ_SAMPLE'                                                           \n",
       "EXTNAME = 'xi_minus'                                                            \n",
       "QUANT1  = 'G-R     '                                                            \n",
       "QUANT2  = 'G-R     '                                                            \n",
       "TTYPE1  = 'BIN1    '                                                            \n",
       "TFORM1  = 'K       '                                                            \n",
       "TTYPE2  = 'BIN2    '                                                            \n",
       "TFORM2  = 'K       '                                                            \n",
       "TTYPE3  = 'ANGBIN  '                                                            \n",
       "TFORM3  = 'K       '                                                            \n",
       "TTYPE4  = 'VALUE   '                                                            \n",
       "TFORM4  = 'D       '                                                            \n",
       "TTYPE5  = 'ANG     '                                                            \n",
       "TFORM5  = 'D       '                                                            \n",
       "TUNIT5  = 'arcmin  '                                                            "
      ]
     },
     "execution_count": 14,
     "metadata": {},
     "output_type": "execute_result"
    }
   ],
   "source": [
    "f[3].header"
   ]
  },
  {
   "cell_type": "code",
   "execution_count": 15,
   "id": "2bf22834-b0eb-498c-96e1-ef671c834bb8",
   "metadata": {},
   "outputs": [
    {
     "data": {
      "text/plain": [
       "XTENSION= 'BINTABLE'           / binary table extension                         \n",
       "BITPIX  =                    8 / array data type                                \n",
       "NAXIS   =                    2 / number of array dimensions                     \n",
       "NAXIS1  =                   40 / length of dimension 1                          \n",
       "NAXIS2  =                   80 / length of dimension 2                          \n",
       "PCOUNT  =                    0 / number of group parameters                     \n",
       "GCOUNT  =                    1 / number of groups                               \n",
       "TFIELDS =                    5 / number of table fields                         \n",
       "2PTDATA =                    T                                                  \n",
       "EXTNAME = 'xim     '                                                            \n",
       "QUANT1  = 'G-R     '                                                            \n",
       "QUANT2  = 'G-R     '                                                            \n",
       "KERNEL_1= 'NZ_SOURCE'                                                           \n",
       "KERNEL_2= 'NZ_SOURCE'                                                           \n",
       "WINDOWS = 'SAMPLE  '                                                            \n",
       "N_ZBIN_1=                    4                                                  \n",
       "N_ZBIN_2=                    4                                                  \n",
       "N_ANG   =                    8                                                  \n",
       "TTYPE1  = 'BIN1    '                                                            \n",
       "TFORM1  = 'K       '                                                            \n",
       "TTYPE2  = 'BIN2    '                                                            \n",
       "TFORM2  = 'K       '                                                            \n",
       "TTYPE3  = 'ANGBIN  '                                                            \n",
       "TFORM3  = 'K       '                                                            \n",
       "TTYPE4  = 'VALUE   '                                                            \n",
       "TFORM4  = 'D       '                                                            \n",
       "TTYPE5  = 'ANG     '                                                            \n",
       "TFORM5  = 'D       '                                                            \n",
       "TUNIT5  = 'arcmin  '                                                            "
      ]
     },
     "execution_count": 15,
     "metadata": {},
     "output_type": "execute_result"
    }
   ],
   "source": [
    "f1[2].header"
   ]
  },
  {
   "cell_type": "code",
   "execution_count": 16,
   "id": "cfca84c9-ff6b-42c4-ac30-8affeb8e842f",
   "metadata": {},
   "outputs": [],
   "source": [
    "f[3].header['EXTNAME'] = f1[2].header['EXTNAME']"
   ]
  },
  {
   "cell_type": "code",
   "execution_count": 17,
   "id": "00dd5ac3-0b6c-4b63-93b6-f8147965caf4",
   "metadata": {},
   "outputs": [
    {
     "data": {
      "text/plain": [
       "XTENSION= 'BINTABLE'           / binary table extension                         \n",
       "BITPIX  =                    8 / array data type                                \n",
       "NAXIS   =                    2 / number of array dimensions                     \n",
       "NAXIS1  =                   40 / length of dimension 1                          \n",
       "NAXIS2  =                  100 / length of dimension 2                          \n",
       "PCOUNT  =                    0 / number of group parameters                     \n",
       "GCOUNT  =                    1 / number of groups                               \n",
       "TFIELDS =                    5 / number of table fields                         \n",
       "2PTDATA = 'T       '                                                            \n",
       "WINDOWS = 'SAMPLE  '                                                            \n",
       "KERNEL_1= 'NZ_SAMPLE'                                                           \n",
       "KERNEL_2= 'NZ_SAMPLE'                                                           \n",
       "EXTNAME = 'xim     '                                                            \n",
       "QUANT1  = 'G-R     '                                                            \n",
       "QUANT2  = 'G-R     '                                                            \n",
       "TTYPE1  = 'BIN1    '                                                            \n",
       "TFORM1  = 'K       '                                                            \n",
       "TTYPE2  = 'BIN2    '                                                            \n",
       "TFORM2  = 'K       '                                                            \n",
       "TTYPE3  = 'ANGBIN  '                                                            \n",
       "TFORM3  = 'K       '                                                            \n",
       "TTYPE4  = 'VALUE   '                                                            \n",
       "TFORM4  = 'D       '                                                            \n",
       "TTYPE5  = 'ANG     '                                                            \n",
       "TFORM5  = 'D       '                                                            \n",
       "TUNIT5  = 'arcmin  '                                                            "
      ]
     },
     "execution_count": 17,
     "metadata": {},
     "output_type": "execute_result"
    }
   ],
   "source": [
    "f[3].header"
   ]
  },
  {
   "cell_type": "code",
   "execution_count": 18,
   "id": "1c14983a-9e9e-4941-abad-20ef33729f81",
   "metadata": {},
   "outputs": [
    {
     "data": {
      "text/plain": [
       "XTENSION= 'BINTABLE'           / binary table extension                         \n",
       "BITPIX  =                    8 / array data type                                \n",
       "NAXIS   =                    2 / number of array dimensions                     \n",
       "NAXIS1  =                   56 / length of dimension 1                          \n",
       "NAXIS2  =                  299 / length of dimension 2                          \n",
       "PCOUNT  =                    0 / number of group parameters                     \n",
       "GCOUNT  =                    1 / number of groups                               \n",
       "TFIELDS =                    7 / number of table fields                         \n",
       "NZDATA  =                    T                                                  \n",
       "EXTNAME = 'NZ_SOURCE'                                                           \n",
       "TTYPE1  = 'Z_LOW   '                                                            \n",
       "TFORM1  = 'D       '                                                            \n",
       "TTYPE2  = 'Z_MID   '                                                            \n",
       "TFORM2  = 'D       '                                                            \n",
       "TTYPE3  = 'Z_HIGH  '                                                            \n",
       "TFORM3  = 'D       '                                                            \n",
       "TTYPE4  = 'BIN1    '                                                            \n",
       "TFORM4  = 'D       '                                                            \n",
       "TTYPE5  = 'BIN2    '                                                            \n",
       "TFORM5  = 'D       '                                                            \n",
       "TTYPE6  = 'BIN3    '                                                            \n",
       "TFORM6  = 'D       '                                                            \n",
       "TTYPE7  = 'BIN4    '                                                            \n",
       "TFORM7  = 'D       '                                                            "
      ]
     },
     "execution_count": 18,
     "metadata": {},
     "output_type": "execute_result"
    }
   ],
   "source": [
    "f[4].header"
   ]
  },
  {
   "cell_type": "code",
   "execution_count": 19,
   "id": "8fc77577-cc8a-4e38-9bc8-833e37dd7c74",
   "metadata": {},
   "outputs": [],
   "source": [
    "f[4].header['EXTNAME']='NZ_SAMPLE'"
   ]
  },
  {
   "cell_type": "code",
   "execution_count": 20,
   "id": "1540bb6c-915b-4748-aed7-ea34a648b437",
   "metadata": {},
   "outputs": [
    {
     "data": {
      "text/plain": [
       "XTENSION= 'BINTABLE'           / binary table extension                         \n",
       "BITPIX  =                    8 / array data type                                \n",
       "NAXIS   =                    2 / number of array dimensions                     \n",
       "NAXIS1  =                   56 / length of dimension 1                          \n",
       "NAXIS2  =                  299 / length of dimension 2                          \n",
       "PCOUNT  =                    0 / number of group parameters                     \n",
       "GCOUNT  =                    1 / number of groups                               \n",
       "TFIELDS =                    7 / number of table fields                         \n",
       "NZDATA  =                    T                                                  \n",
       "EXTNAME = 'NZ_SAMPLE'                                                           \n",
       "TTYPE1  = 'Z_LOW   '                                                            \n",
       "TFORM1  = 'D       '                                                            \n",
       "TTYPE2  = 'Z_MID   '                                                            \n",
       "TFORM2  = 'D       '                                                            \n",
       "TTYPE3  = 'Z_HIGH  '                                                            \n",
       "TFORM3  = 'D       '                                                            \n",
       "TTYPE4  = 'BIN1    '                                                            \n",
       "TFORM4  = 'D       '                                                            \n",
       "TTYPE5  = 'BIN2    '                                                            \n",
       "TFORM5  = 'D       '                                                            \n",
       "TTYPE6  = 'BIN3    '                                                            \n",
       "TFORM6  = 'D       '                                                            \n",
       "TTYPE7  = 'BIN4    '                                                            \n",
       "TFORM7  = 'D       '                                                            "
      ]
     },
     "execution_count": 20,
     "metadata": {},
     "output_type": "execute_result"
    }
   ],
   "source": [
    "f[4].header"
   ]
  },
  {
   "cell_type": "code",
   "execution_count": 21,
   "id": "5361e9a4-7e1e-44f1-b618-269e1b2cea89",
   "metadata": {},
   "outputs": [],
   "source": [
    "f.writeto('hsc_y3_real_withnz.fits')"
   ]
  },
  {
   "cell_type": "code",
   "execution_count": 22,
   "id": "c420321f-390a-431c-94fa-1535b772a7eb",
   "metadata": {},
   "outputs": [],
   "source": [
    "f.close()"
   ]
  },
  {
   "cell_type": "code",
   "execution_count": 23,
   "id": "cc79b9e5-ccf3-447f-be3f-4ed1a00b9bac",
   "metadata": {},
   "outputs": [],
   "source": [
    "f = fits.open('hsc_y3_real_withnz.fits')"
   ]
  },
  {
   "cell_type": "code",
   "execution_count": 24,
   "id": "9278ceb0-056d-49aa-9249-53a2fffc1da9",
   "metadata": {},
   "outputs": [
    {
     "data": {
      "text/plain": [
       "XTENSION= 'IMAGE   '           / Image extension                                \n",
       "BITPIX  =                  -64 / array data type                                \n",
       "NAXIS   =                    2 / number of array dimensions                     \n",
       "NAXIS1  =                  230                                                  \n",
       "NAXIS2  =                  230                                                  \n",
       "PCOUNT  =                    0 / number of parameters                           \n",
       "GCOUNT  =                    1 / number of groups                               \n",
       "EXTNAME = 'COVMAT  '                                                            \n",
       "NAME_0  = 'xip     '                                                            \n",
       "STRT_0  =                    0                                                  \n",
       "NAME_1  = 'xim     '                                                            \n",
       "STRT_1  =                  130                                                  "
      ]
     },
     "execution_count": 24,
     "metadata": {},
     "output_type": "execute_result"
    }
   ],
   "source": [
    "f[1].header"
   ]
  },
  {
   "cell_type": "code",
   "execution_count": 25,
   "id": "e24fc902-1a76-4baa-8e2c-ca259f5054d9",
   "metadata": {},
   "outputs": [
    {
     "data": {
      "text/plain": [
       "XTENSION= 'BINTABLE'           / binary table extension                         \n",
       "BITPIX  =                    8 / array data type                                \n",
       "NAXIS   =                    2 / number of array dimensions                     \n",
       "NAXIS1  =                   40 / length of dimension 1                          \n",
       "NAXIS2  =                  130 / length of dimension 2                          \n",
       "PCOUNT  =                    0 / number of group parameters                     \n",
       "GCOUNT  =                    1 / number of groups                               \n",
       "TFIELDS =                    5 / number of table fields                         \n",
       "2PTDATA = 'T       '                                                            \n",
       "WINDOWS = 'SAMPLE  '                                                            \n",
       "KERNEL_1= 'NZ_SAMPLE'                                                           \n",
       "KERNEL_2= 'NZ_SAMPLE'                                                           \n",
       "EXTNAME = 'xip     '                                                            \n",
       "QUANT1  = 'G+R     '                                                            \n",
       "QUANT2  = 'G+R     '                                                            \n",
       "TTYPE1  = 'BIN1    '                                                            \n",
       "TFORM1  = 'K       '                                                            \n",
       "TTYPE2  = 'BIN2    '                                                            \n",
       "TFORM2  = 'K       '                                                            \n",
       "TTYPE3  = 'ANGBIN  '                                                            \n",
       "TFORM3  = 'K       '                                                            \n",
       "TTYPE4  = 'VALUE   '                                                            \n",
       "TFORM4  = 'D       '                                                            \n",
       "TTYPE5  = 'ANG     '                                                            \n",
       "TFORM5  = 'D       '                                                            \n",
       "TUNIT5  = 'arcmin  '                                                            "
      ]
     },
     "execution_count": 25,
     "metadata": {},
     "output_type": "execute_result"
    }
   ],
   "source": [
    "f[2].header"
   ]
  },
  {
   "cell_type": "code",
   "execution_count": 26,
   "id": "f2b0b218-870f-4f83-a762-a9fea087f311",
   "metadata": {},
   "outputs": [],
   "source": [
    "f[2].header['KERNEL_1'] = 'NZ_SOURCE'\n",
    "f[2].header['KERNEL_2'] = 'NZ_SOURCE'"
   ]
  },
  {
   "cell_type": "code",
   "execution_count": 27,
   "id": "057e4324-3cb5-4509-9db8-642c045d9bb9",
   "metadata": {},
   "outputs": [
    {
     "data": {
      "text/plain": [
       "XTENSION= 'BINTABLE'           / binary table extension                         \n",
       "BITPIX  =                    8 / array data type                                \n",
       "NAXIS   =                    2 / number of array dimensions                     \n",
       "NAXIS1  =                   40 / length of dimension 1                          \n",
       "NAXIS2  =                  100 / length of dimension 2                          \n",
       "PCOUNT  =                    0 / number of group parameters                     \n",
       "GCOUNT  =                    1 / number of groups                               \n",
       "TFIELDS =                    5 / number of table fields                         \n",
       "2PTDATA = 'T       '                                                            \n",
       "WINDOWS = 'SAMPLE  '                                                            \n",
       "KERNEL_1= 'NZ_SAMPLE'                                                           \n",
       "KERNEL_2= 'NZ_SAMPLE'                                                           \n",
       "EXTNAME = 'xim     '                                                            \n",
       "QUANT1  = 'G-R     '                                                            \n",
       "QUANT2  = 'G-R     '                                                            \n",
       "TTYPE1  = 'BIN1    '                                                            \n",
       "TFORM1  = 'K       '                                                            \n",
       "TTYPE2  = 'BIN2    '                                                            \n",
       "TFORM2  = 'K       '                                                            \n",
       "TTYPE3  = 'ANGBIN  '                                                            \n",
       "TFORM3  = 'K       '                                                            \n",
       "TTYPE4  = 'VALUE   '                                                            \n",
       "TFORM4  = 'D       '                                                            \n",
       "TTYPE5  = 'ANG     '                                                            \n",
       "TFORM5  = 'D       '                                                            \n",
       "TUNIT5  = 'arcmin  '                                                            "
      ]
     },
     "execution_count": 27,
     "metadata": {},
     "output_type": "execute_result"
    }
   ],
   "source": [
    "f[3].header"
   ]
  },
  {
   "cell_type": "code",
   "execution_count": 28,
   "id": "d6a46f4b-4940-4aa0-a970-48bc6ce0bce2",
   "metadata": {},
   "outputs": [],
   "source": [
    "f[3].header['KERNEL_1'] = 'NZ_SOURCE'\n",
    "f[3].header['KERNEL_2'] = 'NZ_SOURCE'"
   ]
  },
  {
   "cell_type": "code",
   "execution_count": 29,
   "id": "05062475-9c95-4129-9f6d-4c2a06f9e308",
   "metadata": {},
   "outputs": [
    {
     "data": {
      "text/plain": [
       "XTENSION= 'BINTABLE'           / binary table extension                         \n",
       "BITPIX  =                    8 / array data type                                \n",
       "NAXIS   =                    2 / number of array dimensions                     \n",
       "NAXIS1  =                   56 / length of dimension 1                          \n",
       "NAXIS2  =                  299 / length of dimension 2                          \n",
       "PCOUNT  =                    0 / number of group parameters                     \n",
       "GCOUNT  =                    1 / number of groups                               \n",
       "TFIELDS =                    7 / number of table fields                         \n",
       "NZDATA  =                    T                                                  \n",
       "EXTNAME = 'NZ_SAMPLE'                                                           \n",
       "TTYPE1  = 'Z_LOW   '                                                            \n",
       "TFORM1  = 'D       '                                                            \n",
       "TTYPE2  = 'Z_MID   '                                                            \n",
       "TFORM2  = 'D       '                                                            \n",
       "TTYPE3  = 'Z_HIGH  '                                                            \n",
       "TFORM3  = 'D       '                                                            \n",
       "TTYPE4  = 'BIN1    '                                                            \n",
       "TFORM4  = 'D       '                                                            \n",
       "TTYPE5  = 'BIN2    '                                                            \n",
       "TFORM5  = 'D       '                                                            \n",
       "TTYPE6  = 'BIN3    '                                                            \n",
       "TFORM6  = 'D       '                                                            \n",
       "TTYPE7  = 'BIN4    '                                                            \n",
       "TFORM7  = 'D       '                                                            "
      ]
     },
     "execution_count": 29,
     "metadata": {},
     "output_type": "execute_result"
    }
   ],
   "source": [
    "f[4].header"
   ]
  },
  {
   "cell_type": "code",
   "execution_count": 30,
   "id": "e87a880c-b5d8-46fc-9827-8e5a8d00b680",
   "metadata": {},
   "outputs": [],
   "source": [
    "f[4].header['EXTNAME'] = 'NZ_SOURCE'"
   ]
  },
  {
   "cell_type": "code",
   "execution_count": 31,
   "id": "52160dd6-7362-46b8-b5a7-21fe38709fc5",
   "metadata": {},
   "outputs": [],
   "source": [
    "f.writeto('hsc_y3_real_withnz.fits',overwrite=True)"
   ]
  },
  {
   "cell_type": "code",
   "execution_count": null,
   "id": "76280e98-347a-49cb-ba11-983132568b9c",
   "metadata": {},
   "outputs": [],
   "source": []
  }
 ],
 "metadata": {
  "kernelspec": {
   "display_name": "ntenv",
   "language": "python",
   "name": "ntenv"
  },
  "language_info": {
   "codemirror_mode": {
    "name": "ipython",
    "version": 3
   },
   "file_extension": ".py",
   "mimetype": "text/x-python",
   "name": "python",
   "nbconvert_exporter": "python",
   "pygments_lexer": "ipython3",
   "version": "3.9.20"
  }
 },
 "nbformat": 4,
 "nbformat_minor": 5
}

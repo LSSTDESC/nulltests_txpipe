{
 "cells": [
  {
   "cell_type": "code",
   "execution_count": 2,
   "id": "79c57ba1-5251-43d0-a774-992c9ad73f52",
   "metadata": {
    "tags": []
   },
   "outputs": [],
   "source": [
    "# we're checking to see if we compute GTStar separately for the n and s fields if we still get that large 'bump' at intermediate scales\n",
    "# to do this, we need a N/S binned star catalog. \n",
    "\n",
    "# note that the stars in the binned star catalog are weighted according to uniformity across both fields\n",
    "# however this may still show a discrepancy if for ex. one field is much more affected than the other\n",
    "# perhaps the most correct thing to do in this case is weighting stars by the density in each field.\n",
    "# we will make that decision after this inquiry. "
   ]
  },
  {
   "cell_type": "code",
   "execution_count": 1,
   "id": "2e4a45ec-f183-4aa1-9aac-4b71f17995e3",
   "metadata": {
    "tags": []
   },
   "outputs": [],
   "source": [
    "import h5py\n",
    "import numpy as np\n",
    "path = '/global/cfs/cdirs/lsst/groups/WL/projects/txpipe-sys-tests/kids/'\n"
   ]
  },
  {
   "cell_type": "code",
   "execution_count": 5,
   "id": "25c4351b-8d2f-4962-ac5e-c6c3e0dc85ce",
   "metadata": {
    "tags": []
   },
   "outputs": [],
   "source": [
    "with h5py.File(path+'binned_star_catalog.hdf5','r') as f:\n",
    "    g = f['stars/bin_bright']\n",
    "    h = f['stars/bin_dim']\n",
    "    with h5py.File(path+'binned_star_catalogN.hdf5','a') as i:\n",
    "        i['stars/bin_bright/ra'] = g['ra'][:][g['dec'][:]>-25.0]\n",
    "        i['stars/bin_bright/dec'] = g['dec'][:][g['dec'][:]>-25.0]\n",
    "        i['stars/bin_bright/weight'] = g['weight'][:][g['dec'][:]>-25.0]\n",
    "        i['stars/bin_dim/ra'] = h['ra'][:][h['dec'][:]>-25.0]\n",
    "        i['stars/bin_dim/dec'] = h['dec'][:][h['dec'][:]>-25.0]\n",
    "        i['stars/bin_dim/weight'] = h['weight'][:][h['dec'][:]>-25.0]\n",
    "    with h5py.File(path+'binned_star_catalogS.hdf5','a') as i:\n",
    "        i['stars/bin_bright/ra'] = g['ra'][:][g['dec'][:]<=-25.0]\n",
    "        i['stars/bin_bright/dec'] = g['dec'][:][g['dec'][:]<=-25.0]\n",
    "        i['stars/bin_bright/weight'] = g['weight'][:][g['dec'][:]<=-25.0]\n",
    "        i['stars/bin_dim/ra'] = h['ra'][:][h['dec'][:]<=-25.0]\n",
    "        i['stars/bin_dim/dec'] = h['dec'][:][h['dec'][:]<=-25.0]\n",
    "        i['stars/bin_dim/weight'] = h['weight'][:][h['dec'][:]<=-25.0]"
   ]
  },
  {
   "cell_type": "code",
   "execution_count": 2,
   "id": "2ae77b37-5b73-4105-b84b-a45bf2814300",
   "metadata": {},
   "outputs": [],
   "source": [
    "# we also have to split the randoms\n",
    "\n",
    "with h5py.File(path+'kids_randoms_v2.hdf5','r') as f:\n",
    "    g = f['randoms']\n",
    "    with h5py.File(path+'kids_randomsN.hdf5','a') as i:\n",
    "        i['randoms/ra'] = g['ra'][:][g['dec'][:]>-25.0]\n",
    "        i['randoms/dec'] = g['dec'][:][g['dec'][:]>-25.0]\n",
    "        #i['randoms/weight'] = g['weight'][:][g['dec'][:]>-25.0]\n",
    "\n",
    "    with h5py.File(path+'kids_randomsS.hdf5','a') as i:\n",
    "        i['randoms/ra'] = g['ra'][:][g['dec'][:]<=-25.0]\n",
    "        i['randoms/dec'] = g['dec'][:][g['dec'][:]<=-25.0]\n",
    "        #i['randoms/weight'] = g['weight'][:][g['dec'][:]<=-25.0]\n"
   ]
  },
  {
   "cell_type": "code",
   "execution_count": 2,
   "id": "5cc47bd0-e80d-45e9-b462-d9690ce80d1d",
   "metadata": {
    "tags": []
   },
   "outputs": [],
   "source": [
    "#and the shear catalog (confirmed correct units for size)\n",
    "\n",
    "with h5py.File(path+'shear_catalog_kids1000_v2.hdf5','r') as f:\n",
    "    with h5py.File(path+'shear_catalog_kids1000_v2N.hdf5','a') as g:\n",
    "        for key in f['shear'].keys():\n",
    "            g[f'shear/{key}'] = f[f'shear/{key}'][:][f['shear/dec'][:] > -25.0]\n",
    "        \n",
    "    with h5py.File(path+'shear_catalog_kids1000_v2S.hdf5','a') as h:\n",
    "        for key in f['shear'].keys():\n",
    "            h[f'shear/{key}'] = f[f'shear/{key}'][:][f['shear/dec'][:] <= -25.0] \n",
    "            \n",
    "        \n",
    "    "
   ]
  },
  {
   "cell_type": "code",
   "execution_count": 3,
   "id": "0ca842ab-3663-4755-af23-af66945c5ef0",
   "metadata": {},
   "outputs": [],
   "source": [
    "with h5py.File(path+'shear_catalog_kids1000_v2N.hdf5','a') as g:\n",
    "    g['shear'].attrs['catalog_type'] = \"lensfit\""
   ]
  },
  {
   "cell_type": "code",
   "execution_count": 4,
   "id": "27e51b15-8743-4905-a5d5-f3b38ce19177",
   "metadata": {
    "tags": []
   },
   "outputs": [],
   "source": [
    "with h5py.File(path+'shear_catalog_kids1000_v2S.hdf5','a') as g:\n",
    "    g['shear'].attrs['catalog_type'] = \"lensfit\""
   ]
  },
  {
   "cell_type": "code",
   "execution_count": null,
   "id": "601b08e2-b57f-473f-86e6-91ea6707600c",
   "metadata": {},
   "outputs": [],
   "source": []
  }
 ],
 "metadata": {
  "kernelspec": {
   "display_name": "desc-python",
   "language": "python",
   "name": "desc-python"
  },
  "language_info": {
   "codemirror_mode": {
    "name": "ipython",
    "version": 3
   },
   "file_extension": ".py",
   "mimetype": "text/x-python",
   "name": "python",
   "nbconvert_exporter": "python",
   "pygments_lexer": "ipython3",
   "version": "3.10.13"
  }
 },
 "nbformat": 4,
 "nbformat_minor": 5
}

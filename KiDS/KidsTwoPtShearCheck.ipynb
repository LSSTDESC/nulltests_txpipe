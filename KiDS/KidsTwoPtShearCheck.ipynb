{
 "cells": [
  {
   "cell_type": "code",
   "execution_count": 2,
   "metadata": {},
   "outputs": [],
   "source": [
    "import treecorr\n",
    "import numpy as np\n",
    "import h5py"
   ]
  },
  {
   "cell_type": "code",
   "execution_count": 3,
   "metadata": {},
   "outputs": [],
   "source": [
    "cat = treecorr.Catalog('KiDS_DR4.1_ugriZYJHKs_SOM_gold_WL_cat.fits',ra_col = 'RAJ2000',dec_col='DECJ2000',g1_col='e1',g2_col='e2',ra_units='deg',dec_units='deg')\n",
    "gg = treecorr.GGCorrelation(nbins=15,min_sep=0.1,max_sep=150,sep_units='arcmin')\n",
    "gg.process(cat)\n"
   ]
  },
  {
   "cell_type": "code",
   "execution_count": 5,
   "metadata": {},
   "outputs": [
    {
     "data": {
      "image/png": "[encoded data removed]",
      "text/plain": [
       "<Figure size 432x288 with 1 Axes>"
      ]
     },
     "metadata": {
      "needs_background": "light"
     },
     "output_type": "display_data"
    }
   ],
   "source": [
    "import matplotlib.pyplot as plt\n",
    "r = np.exp(gg.meanlogr)\n",
    "sig = np.sqrt(gg.varxip)\n",
    "plt.plot(r, gg.xip,'b:',label=r'$gg$')\n",
    "plt.errorbar(r[gg.xip>0], gg.xip[gg.xip>0], yerr=sig[gg.xip>0], color='blue', lw=0.5, ls='')\n",
    "plt.legend()\n",
    "plt.xscale('log')\n",
    "plt.yscale('log', nonpositive='clip')\n",
    "plt.ylabel(r'$\\xi_+$')\n",
    "plt.xlabel(r'$\\theta$')\n",
    "plt.title('KiDS-1000')\n",
    "plt.show()"
   ]
  },
  {
   "cell_type": "code",
   "execution_count": null,
   "metadata": {},
   "outputs": [],
   "source": []
  }
 ],
 "metadata": {
  "kernelspec": {
   "display_name": "Python 3",
   "language": "python",
   "name": "python3"
  },
  "language_info": {
   "codemirror_mode": {
    "name": "ipython",
    "version": 3
   },
   "file_extension": ".py",
   "mimetype": "text/x-python",
   "name": "python",
   "nbconvert_exporter": "python",
   "pygments_lexer": "ipython3",
   "version": "3.7.5"
  }
 },
 "nbformat": 4,
 "nbformat_minor": 2
}

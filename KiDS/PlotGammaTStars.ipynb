{
 "cells": [
  {
   "cell_type": "code",
   "execution_count": 1,
   "id": "7e1c84fb-b1a4-425a-b7af-6ed22eda0ef8",
   "metadata": {
    "tags": []
   },
   "outputs": [],
   "source": [
    "import numpy as np\n",
    "import sacc"
   ]
  },
  {
   "cell_type": "code",
   "execution_count": 2,
   "id": "b5a8ec25-90d7-437f-9bad-c47028138255",
   "metadata": {
    "tags": []
   },
   "outputs": [
    {
     "name": "stderr",
     "output_type": "stream",
     "text": [
      "/opt/conda/lib/python3.10/site-packages/sacc/data_types.py:304: UserWarning: Unknown data_type value galaxyStar_shearDensity_xi_t. If possible use a pre-defined type, or add to the list.\n",
      "  warnings.warn(f\"Unknown data_type value {data_type}. \"\n"
     ]
    }
   ],
   "source": [
    "sb = sacc.Sacc.load_fits('../../TXPipe/data/kids/outputs/gammat_bright_stars.sacc')\n",
    "sd = sacc.Sacc.load_fits('../../TXPipe/data/kids/outputs/gammat_dim_stars.sacc')"
   ]
  },
  {
   "cell_type": "code",
   "execution_count": 3,
   "id": "4a7c18f2-2c8b-4fa0-81ba-3611f8134d5f",
   "metadata": {
    "tags": []
   },
   "outputs": [
    {
     "data": {
      "text/plain": [
       "['galaxyStar_shearDensity_xi_t']"
      ]
     },
     "execution_count": 3,
     "metadata": {},
     "output_type": "execute_result"
    }
   ],
   "source": [
    "sb.get_data_types()"
   ]
  },
  {
   "cell_type": "code",
   "execution_count": 4,
   "id": "49cdf4b4-d17b-486a-9267-09e46a62ee39",
   "metadata": {
    "tags": []
   },
   "outputs": [],
   "source": [
    "sb_thetaxi = sb.get_theta_xi('galaxyStar_shearDensity_xi_t','source2d','bright_stars')"
   ]
  },
  {
   "cell_type": "code",
   "execution_count": 5,
   "id": "10085fe4-20f1-44d6-a0ff-3dcf717152e3",
   "metadata": {
    "tags": []
   },
   "outputs": [
    {
     "data": {
      "text/plain": [
       "[('source2d', 'dim_stars')]"
      ]
     },
     "execution_count": 5,
     "metadata": {},
     "output_type": "execute_result"
    }
   ],
   "source": [
    "sd.get_tracer_combinations('galaxyStar_shearDensity_xi_t')"
   ]
  },
  {
   "cell_type": "code",
   "execution_count": 6,
   "id": "31c61d51-b103-4bcf-9b71-e23d0169dc22",
   "metadata": {
    "tags": []
   },
   "outputs": [
    {
     "data": {
      "text/plain": [
       "[2.757336532419459,\n",
       " 3.315826555393208,\n",
       " 3.987490019144054,\n",
       " 4.795045654558684,\n",
       " 5.766126349201191,\n",
       " 6.933693180269443,\n",
       " 8.33792366746525,\n",
       " 10.02646263570814,\n",
       " 12.05697868691403,\n",
       " 14.4984871037266,\n",
       " 17.43642767888597,\n",
       " 20.967131288731913,\n",
       " 25.2135024338818,\n",
       " 30.317641902974717,\n",
       " 36.45775783617831,\n",
       " 43.83575737415815,\n",
       " 52.71999066901092,\n",
       " 63.38782953137029,\n",
       " 76.22789047201864,\n",
       " 91.65916102139008]"
      ]
     },
     "execution_count": 6,
     "metadata": {},
     "output_type": "execute_result"
    }
   ],
   "source": [
    "sb.get_tag('theta')"
   ]
  },
  {
   "cell_type": "code",
   "execution_count": 7,
   "id": "0b33c149-1e5c-4899-95da-d7c14426c353",
   "metadata": {
    "tags": []
   },
   "outputs": [],
   "source": [
    "sd_thetaxi = sd.get_theta_xi('galaxyStar_shearDensity_xi_t','source2d','dim_stars')"
   ]
  },
  {
   "cell_type": "code",
   "execution_count": 8,
   "id": "cdfeb07e-a95f-4de7-bbb7-df282fe4754a",
   "metadata": {
    "tags": []
   },
   "outputs": [
    {
     "data": {
      "text/plain": [
       "(array([ 2.75733653,  3.31582656,  3.98749002,  4.79504565,  5.76612635,\n",
       "         6.93369318,  8.33792367, 10.02646264, 12.05697869, 14.4984871 ,\n",
       "        17.43642768, 20.96713129, 25.21350243, 30.3176419 , 36.45775784,\n",
       "        43.83575737, 52.71999067, 63.38782953, 76.22789047, 91.65916102]),\n",
       " array([ 7.39822729e-04, -1.42380485e-04, -1.96411815e-04, -2.80704642e-04,\n",
       "         4.17208200e-04,  5.52374417e-04, -3.31127091e-05,  3.99131345e-04,\n",
       "         5.37222474e-04,  8.34745245e-05, -1.27944126e-04, -2.70659018e-04,\n",
       "        -1.54098449e-04, -1.99243276e-05, -8.89234467e-05, -1.15706902e-04,\n",
       "         7.27571493e-05,  1.64372685e-04,  4.07475697e-07, -1.82399543e-04]))"
      ]
     },
     "execution_count": 8,
     "metadata": {},
     "output_type": "execute_result"
    }
   ],
   "source": [
    "sb_thetaxi"
   ]
  },
  {
   "cell_type": "code",
   "execution_count": 9,
   "id": "b22f6dad-8993-4b48-a762-43ab0b9afefc",
   "metadata": {
    "tags": []
   },
   "outputs": [],
   "source": [
    "sb_err = sb.get_tag('error')"
   ]
  },
  {
   "cell_type": "code",
   "execution_count": 10,
   "id": "d0eebebd-2f2a-4090-b16f-0ebceb3965bc",
   "metadata": {
    "tags": []
   },
   "outputs": [],
   "source": [
    "sb_err=np.array(sb_err)"
   ]
  },
  {
   "cell_type": "code",
   "execution_count": 11,
   "id": "178968fe-a10a-4892-a261-5cda8b5b71fa",
   "metadata": {
    "tags": []
   },
   "outputs": [
    {
     "data": {
      "text/plain": [
       "array([7.39880405e-06, 6.13392638e-06, 5.08426834e-06, 4.21487215e-06,\n",
       "       3.49722236e-06, 2.90551496e-06, 2.41741495e-06, 2.01239541e-06,\n",
       "       1.67661979e-06, 1.39903637e-06, 1.16605970e-06, 9.71619657e-07,\n",
       "       8.11534334e-07, 6.78801421e-07, 5.67922692e-07, 4.76396801e-07,\n",
       "       4.00391844e-07, 3.37977306e-07, 2.85152448e-07, 2.40679108e-07])"
      ]
     },
     "execution_count": 11,
     "metadata": {},
     "output_type": "execute_result"
    }
   ],
   "source": [
    "sb_err"
   ]
  },
  {
   "cell_type": "code",
   "execution_count": 12,
   "id": "d536bbfd-ab9a-4c50-92e2-6b726b6d5a4a",
   "metadata": {
    "tags": []
   },
   "outputs": [],
   "source": [
    "sd_err = np.array(sd.get_tag('error'))"
   ]
  },
  {
   "cell_type": "code",
   "execution_count": 13,
   "id": "be8e105e-b0ca-4bc2-902a-2b3bda7209ec",
   "metadata": {
    "tags": []
   },
   "outputs": [],
   "source": [
    "import matplotlib\n",
    "font = {}\n",
    "font = {'family': 'Serif',\n",
    "        'size'   : '12'}\n",
    "\n",
    "matplotlib.rc('font', **font)"
   ]
  },
  {
   "cell_type": "code",
   "execution_count": 21,
   "id": "d7f6069d-014e-4467-8724-7b1dadfc7b88",
   "metadata": {
    "tags": []
   },
   "outputs": [
    {
     "data": {
      "image/png": "[encoded data removed]",
      "text/plain": [
       "<Figure size 640x480 with 1 Axes>"
      ]
     },
     "metadata": {},
     "output_type": "display_data"
    }
   ],
   "source": [
    "import matplotlib.pyplot as plt\n",
    "plt.errorbar(sb_thetaxi[0],sb_thetaxi[1],sb_err,marker='x',color='blue',linestyle='None',label='bright',capsize=3)\n",
    "plt.errorbar(sd_thetaxi[0],sd_thetaxi[1],sd_err,marker='_',color='chocolate',linestyle='None',label='faint',capsize=3)\n",
    "plt.plot(sd_thetaxi[0],np.zeros(len(sd_thetaxi[0])),color='black')\n",
    "plt.xscale('log')\n",
    "plt.legend()\n",
    "plt.ticklabel_format(style='sci', axis='y', scilimits=(-2e-4,2e-4))\n",
    "#plt.ylim([-2e-4,2e-4])\n",
    "#plt.xlim([0.000,2.1e2])\n",
    "plt.xlabel(r'$\\theta$ [arcmin]')\n",
    "plt.ylabel(r'$\\gamma_t$')\n",
    "plt.title('TXPipe GammaTStars results, KiDS-1000')\n",
    "plt.savefig('../plots/KiDS/kids_gammaTstars.pdf')"
   ]
  },
  {
   "cell_type": "code",
   "execution_count": null,
   "id": "59ad4944-b066-4961-8d42-e1d4160fd84e",
   "metadata": {},
   "outputs": [],
   "source": []
  }
 ],
 "metadata": {
  "kernelspec": {
   "display_name": "TXPipe",
   "language": "python",
   "name": "txpipe"
  },
  "language_info": {
   "codemirror_mode": {
    "name": "ipython",
    "version": 3
   },
   "file_extension": ".py",
   "mimetype": "text/x-python",
   "name": "python",
   "nbconvert_exporter": "python",
   "pygments_lexer": "ipython3",
   "version": "3.10.12"
  }
 },
 "nbformat": 4,
 "nbformat_minor": 5
}

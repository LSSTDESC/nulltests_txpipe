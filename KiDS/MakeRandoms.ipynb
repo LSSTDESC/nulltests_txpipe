{
 "cells": [
  {
   "cell_type": "code",
   "execution_count": 1,
   "id": "92849b46-aea2-49ce-b882-964251722a2e",
   "metadata": {
    "tags": []
   },
   "outputs": [],
   "source": [
    "import numpy as np\n",
    "import healpy as hp\n",
    "import h5py"
   ]
  },
  {
   "cell_type": "code",
   "execution_count": 2,
   "id": "363b332d-44e9-4074-9593-2bdaf951d3ee",
   "metadata": {
    "tags": []
   },
   "outputs": [],
   "source": [
    "gal = h5py.File('/global/cfs/cdirs/lsst/groups/WL/projects/txpipe-sys-tests/kids/shear_catalog_kids1000.hdf5','r')\n"
   ]
  },
  {
   "cell_type": "code",
   "execution_count": 3,
   "id": "9d6d0ef0-3602-424e-bda6-7792591b2416",
   "metadata": {
    "tags": []
   },
   "outputs": [],
   "source": [
    "def rd2tp(ra,dec):\n",
    "        #convert to radian\n",
    "        phi     = ra/180.0*np.pi\n",
    "        tht     = (-dec+90)/180.0*np.pi\n",
    "        return tht,phi\n",
    "\n",
    "gtht,gphi = rd2tp(gal['shear/ra'][:],gal['shear/dec'][:])\n",
    "pix     = hp.ang2pix(4096,gtht,gphi)\n",
    "cc = np.bincount(pix,minlength=hp.nside2npix(4096))\n",
    "cc[cc>1]=1\n",
    "\n",
    "del gtht, gphi,pix, \n"
   ]
  },
  {
   "cell_type": "code",
   "execution_count": null,
   "id": "6d97fba6-b1e0-4497-a189-74403a576387",
   "metadata": {
    "jupyter": {
     "source_hidden": true
    },
    "tags": []
   },
   "outputs": [],
   "source": [
    "def make_random(mask, ramin, ramax, decmin, decmax, N=(2*10**10), nside=4096, seed=100):\n",
    "    \"\"\"\n",
    "    Create N random points within a given mask.\n",
    "    \"\"\"\n",
    "\n",
    "    #print 'Building the random catalog...'\n",
    "    #set the seed for reproducibility\n",
    "    np.random.seed(seed)\n",
    "    \n",
    "    #phi = ra\n",
    "    #theta = pi/2 - dec\n",
    "    \n",
    "    ra_rand = (np.random.random(N)* (ramax - ramin))+ramin\n",
    "    print(\"ra_rand: \",ra_rand)\n",
    "    '''\n",
    "    v = np.random.random(N)\n",
    "    print(len(v))\n",
    "    vmin = np.cos((90.0+decmin)/180.*np.pi)\n",
    "    vmax = np.cos((90.0+decmax)/180.*np.pi)\n",
    "    v *= (vmax-vmin)\n",
    "    v += vmin\n",
    "    dec_rand = np.arccos(v)\n",
    "    np.rad2deg(dec_rand,dec_rand)\n",
    "    dec_rand -= 90.0\n",
    "    print(\"dec_rand: \", dec_rand)\n",
    "\n",
    "    \n",
    "    #Converting degrees into radians\n",
    "    #theta_rand = (90.0 - dec_rand)*np.pi/180.\n",
    "    phi_rand = ra_rand*np.pi/180.\n",
    "    pix_rand = hp.ang2pix(nside, theta_rand, phi_rand, nest=False)\n",
    "    #print(pix_rand)\n",
    "    \n",
    "    goodm, = np.where(mask[pix_rand]==1)\n",
    "    ra_rand = ra_rand[goodm]\n",
    "    #dec_rand = dec_rand[goodm]\n",
    "    #print len(ra_rand)\n",
    "    dec_rand=0\n",
    "    return ra_rand, dec_rand"
   ]
  },
  {
   "cell_type": "code",
   "execution_count": null,
   "id": "6566ab15-2bcd-4401-817e-402c236c4ac0",
   "metadata": {
    "jupyter": {
     "source_hidden": true
    },
    "tags": []
   },
   "outputs": [],
   "source": [
    "randra,randec = make_random(cc,np.min(gal['shear/ra'][:]),np.max(gal['shear/ra'][:]),\n",
    "                            np.min(gal['shear/dec'][:]),np.min(gal['shear/dec'][:]))"
   ]
  },
  {
   "cell_type": "code",
   "execution_count": null,
   "id": "0f3f8c5d-b4ab-4322-ae17-e6b62f1861cd",
   "metadata": {
    "jupyter": {
     "source_hidden": true
    },
    "tags": []
   },
   "outputs": [],
   "source": []
  },
  {
   "cell_type": "code",
   "execution_count": 6,
   "id": "e9795fe2-afe7-419b-9195-e115e6a395ae",
   "metadata": {},
   "outputs": [],
   "source": [
    "N=(6*10**9)\n",
    "ramin = np.min(gal['shear/ra'][:])\n",
    "ramax = np.max(gal['shear/ra'][:])\n",
    "decmin = np.min(gal['shear/dec'][:])\n",
    "decmax = np.min(gal['shear/dec'][:])\n",
    "\n",
    "np.random.seed(100)\n",
    "\n",
    "\n",
    "ra_rand = (np.random.random(N)* (ramax - ramin))+ramin\n",
    "\n",
    "v = np.random.random(N)\n",
    "vmin = np.cos((90.0+decmin)/180.*np.pi)\n",
    "vmax = np.cos((90.0+decmax)/180.*np.pi)\n",
    "v *= (vmax-vmin)\n",
    "v += vmin\n",
    "dec_rand = np.arccos(v)\n",
    "\n",
    "del v, vmax, vmin\n",
    "\n",
    "np.rad2deg(dec_rand,dec_rand)\n",
    "dec_rand -= 90.0\n",
    "\n",
    "\n",
    "#Converting degrees into radians\n",
    "#theta_rand = (90.0 - dec_rand)*np.pi/180.\n",
    "#phi_rand = ra_rand*np.pi/180.\n",
    "pix_rand = hp.ang2pix(4096, (90.0 - dec_rand)*np.pi/180., ra_rand*np.pi/180., nest=False)\n",
    "#del theta_rand, phi_rand\n",
    "#print(pix_rand)\n",
    "\n",
    "#goodm, = np.where(cc[pix_rand]==1)\n",
    "#del pix_rand\n",
    "#ra_rand = ra_rand[goodm]\n",
    "#dec_rand = dec_rand[goodm]\n",
    "with h5py.File('/global/cfs/cdirs/lsst/groups/WL/projects/txpipe-sys-tests/kids/randoms.hdf5','w') as f:\n",
    "    f['randoms/ra'] = ra_rand[np.where(cc[pix_rand]==1)]\n",
    "    f['randoms/dec'] = dec_rand[np.where(cc[pix_rand]==1)]"
   ]
  },
  {
   "cell_type": "code",
   "execution_count": 7,
   "id": "0ea49cc1-e341-4aad-827a-f6f83054d68c",
   "metadata": {},
   "outputs": [
    {
     "name": "stdout",
     "output_type": "stream",
     "text": [
      "404805330\n"
     ]
    }
   ],
   "source": [
    "with h5py.File('/global/cfs/cdirs/lsst/groups/WL/projects/txpipe-sys-tests/kids/randoms.hdf5','r') as f:\n",
    "    print(len(f['randoms/ra'][:]))"
   ]
  },
  {
   "cell_type": "code",
   "execution_count": null,
   "id": "3d95e215-8791-4a9b-960e-11affaae97af",
   "metadata": {},
   "outputs": [],
   "source": [
    "# make binned randoms:\n",
    "# I broke down the percentage of objects per bin in binned shear catalog \n",
    "# bin0: 7.8%, bin1: 16.9%, bin2: 28.8%, bin3: 21.7%, bin4: 24.7%\n",
    "# we match that distribution here for the randoms (approx 20x denser than the shear catalog):"
   ]
  },
  {
   "cell_type": "code",
   "execution_count": 5,
   "id": "b88ef866-362d-4b58-9177-6cc1c548d6d4",
   "metadata": {
    "tags": []
   },
   "outputs": [],
   "source": [
    "with h5py.File('/global/cfs/cdirs/lsst/groups/WL/projects/txpipe-sys-tests/kids/randoms.hdf5','r') as f:\n",
    "    with h5py.File('/global/cfs/cdirs/lsst/groups/WL/projects/txpipe-sys-tests/kids/binned_randoms.hdf5','w') as g:\n",
    "        g['randoms/bin_0/ra'] = f['randoms/ra'][:31574815]\n",
    "        g['randoms/bin_0/dec'] = f['randoms/dec'][:31574815]\n",
    "        g['randoms/bin_1/ra'] = f['randoms/ra'][31574815:99986915]\n",
    "        g['randoms/bin_1/dec'] = f['randoms/dec'][31574815:99986915]\n",
    "        g['randoms/bin_2/ra'] = f['randoms/ra'][99986915:216570850]\n",
    "        g['randoms/bin_2/dec'] = f['randoms/dec'][99986915:216570850]\n",
    "        g['randoms/bin_3/ra'] = f['randoms/ra'][216570850:304413606]\n",
    "        g['randoms/bin_3/dec'] = f['randoms/dec'][216570850:304413606]\n",
    "        g['randoms/bin_4/ra'] = f['randoms/ra'][304413606:404400522]\n",
    "        g['randoms/bin_4/dec'] = f['randoms/dec'][304413606:404400522]\n",
    "        # i'm about 1% short of the full randoms size but i think this is fine"
   ]
  }
 ],
 "metadata": {
  "kernelspec": {
   "display_name": "desc-python",
   "language": "python",
   "name": "desc-python"
  },
  "language_info": {
   "codemirror_mode": {
    "name": "ipython",
    "version": 3
   },
   "file_extension": ".py",
   "mimetype": "text/x-python",
   "name": "python",
   "nbconvert_exporter": "python",
   "pygments_lexer": "ipython3",
   "version": "3.10.13"
  }
 },
 "nbformat": 4,
 "nbformat_minor": 5
}

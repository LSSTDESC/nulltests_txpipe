{
 "cells": [
  {
   "cell_type": "code",
   "execution_count": 1,
   "id": "ee9cf828-aa21-43f4-80f6-ec55851127e5",
   "metadata": {},
   "outputs": [],
   "source": [
    "import h5py \n",
    "import numpy as np"
   ]
  },
  {
   "cell_type": "code",
   "execution_count": 6,
   "id": "a19cb68f-f19d-4939-85e5-e56c72cd082d",
   "metadata": {},
   "outputs": [
    {
     "name": "stdout",
     "output_type": "stream",
     "text": [
      "<KeysViewHDF5 ['T', 'c1', 'c2', 'dec', 'extendedness', 'flags', 'g1', 'g2', 'm', 'mag_err_i', 'mag_err_r', 'mag_i', 'mag_r', 'mean_z', 'objectId', 'psf_T_mean', 'psf_g1', 'psf_g2', 'ra', 'region', 's2n', 'sigma_e', 'snr_i', 'snr_r', 'tilename', 'weight']>\n"
     ]
    }
   ],
   "source": [
    "with h5py.File('/global/cfs/cdirs/lsst/groups/WL/projects/txpipe-reanalysis/KiDS-1000/shear_catalog_kids1000.h5', 'r') as f:\n",
    "    print(f['shear'].keys())"
   ]
  },
  {
   "cell_type": "code",
   "execution_count": null,
   "id": "9d9f54c7-7560-474f-bf58-476e09005fbc",
   "metadata": {},
   "outputs": [],
   "source": []
  }
 ],
 "metadata": {
  "kernelspec": {
   "display_name": "TXPipe",
   "language": "python",
   "name": "txpipe"
  },
  "language_info": {
   "codemirror_mode": {
    "name": "ipython",
    "version": 3
   },
   "file_extension": ".py",
   "mimetype": "text/x-python",
   "name": "python",
   "nbconvert_exporter": "python",
   "pygments_lexer": "ipython3",
   "version": "3.9.15"
  }
 },
 "nbformat": 4,
 "nbformat_minor": 5
}

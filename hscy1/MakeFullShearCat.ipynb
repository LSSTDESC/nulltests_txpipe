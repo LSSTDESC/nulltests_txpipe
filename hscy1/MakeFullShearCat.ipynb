{
 "cells": [
  {
   "cell_type": "code",
   "execution_count": 1,
   "id": "3386be0c-3dd4-45dd-acfe-ccd3a06e64aa",
   "metadata": {
    "tags": []
   },
   "outputs": [],
   "source": [
    "import h5py \n",
    "import numpy as np"
   ]
  },
  {
   "cell_type": "code",
   "execution_count": 2,
   "id": "1ed4c25a-63ce-4030-a1e9-78ced02658cc",
   "metadata": {
    "tags": []
   },
   "outputs": [],
   "source": [
    "GAMA09H = h5py.File('/global/cfs/projectdirs/lsst/groups/LSS/HSC_reanalysis/data_javi/2023_reanalysis/shear_sourcecatalog_hsc_GAMA09H_nonmetacal_05_22.h5','r')\n",
    "GAMA15H = h5py.File('/global/cfs/projectdirs/lsst/groups/LSS/HSC_reanalysis/data_javi/2023_reanalysis/shear_sourcecatalog_hsc_GAMA15H_nonmetacal_05_22.h5','r')\n",
    "HECTOMAP = h5py.File('/global/cfs/projectdirs/lsst/groups/LSS/HSC_reanalysis/data_javi/2023_reanalysis/shear_sourcecatalog_hsc_HECTOMAP_nonmetacal_05_22.h5','r')\n",
    "WIDE12H = h5py.File('/global/cfs/projectdirs/lsst/groups/LSS/HSC_reanalysis/data_javi/2023_reanalysis/shear_sourcecatalog_hsc_WIDE12H_nonmetacal_05_22.h5','r')\n",
    "XMM = h5py.File('/global/cfs/projectdirs/lsst/groups/LSS/HSC_reanalysis/data_javi/2023_reanalysis/shear_sourcecatalog_hsc_XMM_nonmetacal_05_22.h5','r')\n",
    "VVDS = h5py.File('/global/cfs/projectdirs/lsst/groups/LSS/HSC_reanalysis/data_javi/2023_reanalysis/shear_sourcecatalog_hsc_VVDS_nonmetacal_05_22.h5','r')\n",
    "\n",
    "ALL = [GAMA09H,GAMA15H,HECTOMAP,WIDE12H,XMM,VVDS]"
   ]
  },
  {
   "cell_type": "code",
   "execution_count": 3,
   "id": "04af38a2-bbc5-4584-850c-8fc868bb7d9e",
   "metadata": {
    "tags": []
   },
   "outputs": [
    {
     "data": {
      "text/plain": [
       "<KeysViewHDF5 ['T', 'c1', 'c2', 'dec', 'flags', 'g1', 'g2', 'lensfit_weight', 'm', 'mag_err_i', 'mag_err_r', 'mag_i', 'mag_r', 'mean_z', 'objectId', 'psf_T_mean', 'psf_g1', 'psf_g2', 'ra', 'redshift_true', 's2n', 'sigma_e', 'snr_i', 'snr_r', 'weight', 'wl_fulldepth_fullcolor']>"
      ]
     },
     "execution_count": 3,
     "metadata": {},
     "output_type": "execute_result"
    }
   ],
   "source": [
    "ALL[5]['shear'].keys()"
   ]
  },
  {
   "cell_type": "code",
   "execution_count": 4,
   "id": "f7a3a68f-2e74-4642-a53a-06261baa5cfb",
   "metadata": {
    "tags": []
   },
   "outputs": [
    {
     "name": "stdout",
     "output_type": "stream",
     "text": [
      "1722524\n"
     ]
    }
   ],
   "source": [
    "print(len(ALL[5]['shear/T'][:]))"
   ]
  },
  {
   "cell_type": "code",
   "execution_count": 5,
   "id": "f6c5e81d-c548-4195-831c-f3ef4995f6f6",
   "metadata": {
    "tags": []
   },
   "outputs": [
    {
     "name": "stdout",
     "output_type": "stream",
     "text": [
      "<KeysViewHDF5 ['T', 'c1', 'c2', 'dec', 'flags', 'g1', 'g2', 'lensfit_weight', 'm', 'mag_err_i', 'mag_err_r', 'mag_i', 'mag_r', 'mean_z', 'objectId', 'psf_T_mean', 'psf_g1', 'psf_g2', 'ra', 'redshift_true', 's2n', 'sigma_e', 'snr_i', 'snr_r', 'weight', 'wl_fulldepth_fullcolor']>\n",
      "<KeysViewHDF5 ['T', 'c1', 'c2', 'dec', 'flags', 'g1', 'g2', 'lensfit_weight', 'm', 'mag_err_i', 'mag_err_r', 'mag_i', 'mag_r', 'mean_z', 'objectId', 'psf_T_mean', 'psf_g1', 'psf_g2', 'ra', 'redshift_true', 's2n', 'sigma_e', 'snr_i', 'snr_r', 'weight', 'wl_fulldepth_fullcolor']>\n",
      "<KeysViewHDF5 ['T', 'c1', 'c2', 'dec', 'flags', 'g1', 'g2', 'lensfit_weight', 'm', 'mag_err_i', 'mag_err_r', 'mag_i', 'mag_r', 'mean_z', 'objectId', 'psf_T_mean', 'psf_g1', 'psf_g2', 'ra', 'redshift_true', 's2n', 'sigma_e', 'snr_i', 'snr_r', 'weight', 'wl_fulldepth_fullcolor']>\n",
      "<KeysViewHDF5 ['T', 'c1', 'c2', 'dec', 'flags', 'g1', 'g2', 'lensfit_weight', 'm', 'mag_err_i', 'mag_err_r', 'mag_i', 'mag_r', 'mean_z', 'objectId', 'psf_T_mean', 'psf_g1', 'psf_g2', 'ra', 'redshift_true', 's2n', 'sigma_e', 'snr_i', 'snr_r', 'weight', 'wl_fulldepth_fullcolor']>\n",
      "<KeysViewHDF5 ['T', 'c1', 'c2', 'dec', 'flags', 'g1', 'g2', 'lensfit_weight', 'm', 'mag_err_i', 'mag_err_r', 'mag_i', 'mag_r', 'mean_z', 'objectId', 'psf_T_mean', 'psf_g1', 'psf_g2', 'ra', 'redshift_true', 's2n', 'sigma_e', 'snr_i', 'snr_r', 'weight', 'wl_fulldepth_fullcolor']>\n",
      "<KeysViewHDF5 ['T', 'c1', 'c2', 'dec', 'flags', 'g1', 'g2', 'lensfit_weight', 'm', 'mag_err_i', 'mag_err_r', 'mag_i', 'mag_r', 'mean_z', 'objectId', 'psf_T_mean', 'psf_g1', 'psf_g2', 'ra', 'redshift_true', 's2n', 'sigma_e', 'snr_i', 'snr_r', 'weight', 'wl_fulldepth_fullcolor']>\n"
     ]
    }
   ],
   "source": [
    "for cat in ALL:\n",
    "    print(cat['shear'].keys())"
   ]
  },
  {
   "cell_type": "code",
   "execution_count": 6,
   "id": "0af3f2db-256d-4e10-8381-f667de39e661",
   "metadata": {
    "tags": []
   },
   "outputs": [
    {
     "name": "stdout",
     "output_type": "stream",
     "text": [
      "11942756\n",
      "11942756\n",
      "11942756\n",
      "11942756\n",
      "11942756\n",
      "11942756\n",
      "11942756\n",
      "11942756\n",
      "11942756\n",
      "11942756\n",
      "11942756\n",
      "11942756\n",
      "11942756\n",
      "11942756\n",
      "11942756\n",
      "11942756\n",
      "11942756\n",
      "11942756\n",
      "11942756\n",
      "11942756\n",
      "11942756\n",
      "11942756\n",
      "11942756\n",
      "11942756\n",
      "11942756\n",
      "11942756\n",
      "<KeysViewHDF5 ['T', 'c1', 'c2', 'dec', 'flags', 'g1', 'g2', 'lensfit_weight', 'm', 'mag_err_i', 'mag_err_r', 'mag_i', 'mag_r', 'mean_z', 'objectId', 'psf_T_mean', 'psf_g1', 'psf_g2', 'ra', 'redshift_true', 's2n', 'sigma_e', 'snr_i', 'snr_r', 'weight', 'wl_fulldepth_fullcolor']>\n"
     ]
    }
   ],
   "source": [
    "with h5py.File('/global/cfs/cdirs/lsst/groups/WL/projects/txpipe-sys-tests/hscy1/shear_cat_FULLCAT.hdf5','w') as f:\n",
    "    f.create_group('shear')\n",
    "    for key in GAMA09H['shear'].keys():\n",
    "        f[f'shear/{key}'] = np.concatenate((ALL[0][f'shear/{key}'][:],\n",
    "                                            ALL[1][f'shear/{key}'][:],\n",
    "                                            ALL[2][f'shear/{key}'][:],\n",
    "                                            ALL[3][f'shear/{key}'][:],\n",
    "                                            ALL[4][f'shear/{key}'][:],\n",
    "                                            ALL[5][f'shear/{key}'][:],\n",
    "                                           ), axis=0)\n",
    "        print(len(f[f'shear/{key}'][:]))\n",
    "    print(f['shear'].keys())\n",
    "    f.close()"
   ]
  },
  {
   "cell_type": "code",
   "execution_count": 7,
   "id": "778e5d03-5eb8-4ce4-a419-0567cc0b8773",
   "metadata": {
    "tags": []
   },
   "outputs": [],
   "source": [
    "fullcat = h5py.File('/global/cfs/cdirs/lsst/groups/WL/projects/txpipe-sys-tests/hscy1/shear_cat_FULLCAT.h5','r')"
   ]
  },
  {
   "cell_type": "code",
   "execution_count": 8,
   "id": "4fa5e608-2744-4e03-8d52-348ef4a08a06",
   "metadata": {
    "tags": []
   },
   "outputs": [
    {
     "data": {
      "text/plain": [
       "array([-1.58701645, -1.58335473, -1.58181571, ...,  1.8998569 ,\n",
       "        1.90338186,  1.90578485])"
      ]
     },
     "execution_count": 8,
     "metadata": {},
     "output_type": "execute_result"
    }
   ],
   "source": [
    "fullcat['shear/dec'][:]"
   ]
  },
  {
   "cell_type": "code",
   "execution_count": null,
   "id": "aa19f0c3-b44a-47ee-9496-12a29dd4085c",
   "metadata": {},
   "outputs": [],
   "source": []
  }
 ],
 "metadata": {
  "kernelspec": {
   "display_name": "desc-python",
   "language": "python",
   "name": "desc-python"
  },
  "language_info": {
   "codemirror_mode": {
    "name": "ipython",
    "version": 3
   },
   "file_extension": ".py",
   "mimetype": "text/x-python",
   "name": "python",
   "nbconvert_exporter": "python",
   "pygments_lexer": "ipython3",
   "version": "3.10.13"
  }
 },
 "nbformat": 4,
 "nbformat_minor": 5
}

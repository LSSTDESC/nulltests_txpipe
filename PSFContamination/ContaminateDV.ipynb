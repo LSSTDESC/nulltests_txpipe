{
 "cells": [
  {
   "cell_type": "markdown",
   "id": "9208e67e-b5d7-4e18-bff8-a2752687bd8a",
   "metadata": {},
   "source": [
    "making psf bias DV and contaminate simulated theory datavector <br>\n",
    "based on code from here:  https://github.com/des-science/Y3_shearcat_tests/blob/212c03bfc239c9cff5419efbe70bdfdba28639ec/alpha-beta-eta-test/code/produce_2pcfpsfbias.py\n",
    " <br> and here: https://github.com/des-science/Y3_shearcat_tests/blob/master/alpha-beta-eta-test/forecast/contaminate.py"
   ]
  },
  {
   "cell_type": "code",
   "execution_count": 1,
   "id": "f0907aae-bd26-4bab-9c0a-f3693b7c9a14",
   "metadata": {
    "tags": []
   },
   "outputs": [],
   "source": [
    "import h5py\n",
    "import getdist\n",
    "from getdist import plots, MCSamples\n",
    "from astropy.io import fits\n",
    "import itertools\n",
    "\n",
    "import numpy as np"
   ]
  },
  {
   "cell_type": "markdown",
   "id": "c1195c7f-478c-40b9-8bbe-28b42bde41dd",
   "metadata": {},
   "source": [
    "# Make Contaminant"
   ]
  },
  {
   "cell_type": "code",
   "execution_count": 2,
   "id": "e99d4c93-5306-4d3d-a8bd-a88607240ab8",
   "metadata": {},
   "outputs": [],
   "source": [
    "#the relevant files will all be in the TXdata folders:\n",
    "# des: '../desy3/TXdata/'\n",
    "# hsc: '../hscy3/TXdata/'\n",
    "# kids: '../KiDS/TXdata/'\n",
    "\n",
    "#copy and paste the path you want here:\n",
    "path= '../desy3/TXdata/'\n",
    "\n",
    "#DES and HSC have 4 bins, KiDS has 5.\n",
    "nbins=5"
   ]
  },
  {
   "cell_type": "code",
   "execution_count": 3,
   "id": "646077a9-9927-4ac9-bee6-a8ea04289ed5",
   "metadata": {
    "jupyter": {
     "source_hidden": true
    },
    "tags": []
   },
   "outputs": [],
   "source": [
    "#load rowes\n",
    "with h5py.File(path+'rowe_stats.hdf5') as f:\n",
    "    meanr = f['rowe_statistics/rowe_0_PSF-reserved/theta'][:]\n",
    "    rho0p = f['rowe_statistics/rowe_0_PSF-reserved/xi_plus'][:]\n",
    "    rho0m = f['rowe_statistics/rowe_0_PSF-reserved/xi_minus'][:]\n",
    "    rho1p = f['rowe_statistics/rowe_1_PSF-reserved/xi_plus'][:]\n",
    "    rho1m = f['rowe_statistics/rowe_1_PSF-reserved/xi_minus'][:]\n",
    "    rho2p = f['rowe_statistics/rowe_2_PSF-reserved/xi_plus'][:]\n",
    "    rho2m = f['rowe_statistics/rowe_2_PSF-reserved/xi_minus'][:]\n",
    "    rho3p = f['rowe_statistics/rowe_3_PSF-reserved/xi_plus'][:]\n",
    "    rho3m = f['rowe_statistics/rowe_3_PSF-reserved/xi_minus'][:]\n",
    "    rho4p = f['rowe_statistics/rowe_4_PSF-reserved/xi_plus'][:]\n",
    "    rho4m = f['rowe_statistics/rowe_4_PSF-reserved/xi_minus'][:]\n",
    "    rho5p = f['rowe_statistics/rowe_5_PSF-reserved/xi_plus'][:]\n",
    "    rho5m = f['rowe_statistics/rowe_5_PSF-reserved/xi_minus'][:]"
   ]
  },
  {
   "cell_type": "code",
   "execution_count": 4,
   "id": "f8358394-200a-4ce0-a804-1dc2d733d8b8",
   "metadata": {
    "collapsed": true,
    "jupyter": {
     "outputs_hidden": true,
     "source_hidden": true
    },
    "tags": []
   },
   "outputs": [
    {
     "ename": "KeyError",
     "evalue": "'Unable to open object (component not found)'",
     "output_type": "error",
     "traceback": [
      "\u001b[0;31m---------------------------------------------------------------------------\u001b[0m",
      "\u001b[0;31mKeyError\u001b[0m                                  Traceback (most recent call last)",
      "Cell \u001b[0;32mIn[4], line 7\u001b[0m\n\u001b[1;32m      5\u001b[0m \u001b[38;5;28;01mwith\u001b[39;00m h5py\u001b[38;5;241m.\u001b[39mFile(path\u001b[38;5;241m+\u001b[39m\u001b[38;5;124m'\u001b[39m\u001b[38;5;124mtau_chain.hdf5\u001b[39m\u001b[38;5;124m'\u001b[39m) \u001b[38;5;28;01mas\u001b[39;00m f:\n\u001b[1;32m      6\u001b[0m     \u001b[38;5;28;01mfor\u001b[39;00m n \u001b[38;5;129;01min\u001b[39;00m \u001b[38;5;28mrange\u001b[39m(nbins):\n\u001b[0;32m----> 7\u001b[0m         alist\u001b[38;5;241m.\u001b[39mappend(\u001b[43mf\u001b[49m\u001b[43m[\u001b[49m\u001b[38;5;124;43mf\u001b[39;49m\u001b[38;5;124;43m'\u001b[39;49m\u001b[38;5;124;43mchain/bin_\u001b[39;49m\u001b[38;5;132;43;01m{\u001b[39;49;00m\u001b[43mn\u001b[49m\u001b[38;5;132;43;01m}\u001b[39;49;00m\u001b[38;5;124;43m/alpha\u001b[39;49m\u001b[38;5;124;43m'\u001b[39;49m\u001b[43m]\u001b[49m[:])\n\u001b[1;32m      8\u001b[0m         blist\u001b[38;5;241m.\u001b[39mappend(f[\u001b[38;5;124mf\u001b[39m\u001b[38;5;124m'\u001b[39m\u001b[38;5;124mchain/bin_\u001b[39m\u001b[38;5;132;01m{\u001b[39;00mn\u001b[38;5;132;01m}\u001b[39;00m\u001b[38;5;124m/beta\u001b[39m\u001b[38;5;124m'\u001b[39m][:])\n\u001b[1;32m      9\u001b[0m         elist\u001b[38;5;241m.\u001b[39mappend(f[\u001b[38;5;124mf\u001b[39m\u001b[38;5;124m'\u001b[39m\u001b[38;5;124mchain/bin_\u001b[39m\u001b[38;5;132;01m{\u001b[39;00mn\u001b[38;5;132;01m}\u001b[39;00m\u001b[38;5;124m/eta\u001b[39m\u001b[38;5;124m'\u001b[39m][:])\n",
      "File \u001b[0;32mh5py/_objects.pyx:54\u001b[0m, in \u001b[0;36mh5py._objects.with_phil.wrapper\u001b[0;34m()\u001b[0m\n",
      "File \u001b[0;32mh5py/_objects.pyx:55\u001b[0m, in \u001b[0;36mh5py._objects.with_phil.wrapper\u001b[0;34m()\u001b[0m\n",
      "File \u001b[0;32m~/.conda/envs/ntenv/lib/python3.9/site-packages/h5py/_hl/group.py:357\u001b[0m, in \u001b[0;36mGroup.__getitem__\u001b[0;34m(self, name)\u001b[0m\n\u001b[1;32m    355\u001b[0m         \u001b[38;5;28;01mraise\u001b[39;00m \u001b[38;5;167;01mValueError\u001b[39;00m(\u001b[38;5;124m\"\u001b[39m\u001b[38;5;124mInvalid HDF5 object reference\u001b[39m\u001b[38;5;124m\"\u001b[39m)\n\u001b[1;32m    356\u001b[0m \u001b[38;5;28;01melif\u001b[39;00m \u001b[38;5;28misinstance\u001b[39m(name, (\u001b[38;5;28mbytes\u001b[39m, \u001b[38;5;28mstr\u001b[39m)):\n\u001b[0;32m--> 357\u001b[0m     oid \u001b[38;5;241m=\u001b[39m \u001b[43mh5o\u001b[49m\u001b[38;5;241;43m.\u001b[39;49m\u001b[43mopen\u001b[49m\u001b[43m(\u001b[49m\u001b[38;5;28;43mself\u001b[39;49m\u001b[38;5;241;43m.\u001b[39;49m\u001b[43mid\u001b[49m\u001b[43m,\u001b[49m\u001b[43m \u001b[49m\u001b[38;5;28;43mself\u001b[39;49m\u001b[38;5;241;43m.\u001b[39;49m\u001b[43m_e\u001b[49m\u001b[43m(\u001b[49m\u001b[43mname\u001b[49m\u001b[43m)\u001b[49m\u001b[43m,\u001b[49m\u001b[43m \u001b[49m\u001b[43mlapl\u001b[49m\u001b[38;5;241;43m=\u001b[39;49m\u001b[38;5;28;43mself\u001b[39;49m\u001b[38;5;241;43m.\u001b[39;49m\u001b[43m_lapl\u001b[49m\u001b[43m)\u001b[49m\n\u001b[1;32m    358\u001b[0m \u001b[38;5;28;01melse\u001b[39;00m:\n\u001b[1;32m    359\u001b[0m     \u001b[38;5;28;01mraise\u001b[39;00m \u001b[38;5;167;01mTypeError\u001b[39;00m(\u001b[38;5;124m\"\u001b[39m\u001b[38;5;124mAccessing a group is done with bytes or str, \u001b[39m\u001b[38;5;124m\"\u001b[39m\n\u001b[1;32m    360\u001b[0m                     \u001b[38;5;124m\"\u001b[39m\u001b[38;5;124mnot \u001b[39m\u001b[38;5;132;01m{}\u001b[39;00m\u001b[38;5;124m\"\u001b[39m\u001b[38;5;241m.\u001b[39mformat(\u001b[38;5;28mtype\u001b[39m(name)))\n",
      "File \u001b[0;32mh5py/_objects.pyx:54\u001b[0m, in \u001b[0;36mh5py._objects.with_phil.wrapper\u001b[0;34m()\u001b[0m\n",
      "File \u001b[0;32mh5py/_objects.pyx:55\u001b[0m, in \u001b[0;36mh5py._objects.with_phil.wrapper\u001b[0;34m()\u001b[0m\n",
      "File \u001b[0;32mh5py/h5o.pyx:257\u001b[0m, in \u001b[0;36mh5py.h5o.open\u001b[0;34m()\u001b[0m\n",
      "\u001b[0;31mKeyError\u001b[0m: 'Unable to open object (component not found)'"
     ]
    }
   ],
   "source": [
    "#load tau fitting chains\n",
    "alist = []\n",
    "blist = []\n",
    "elist = []\n",
    "with h5py.File(path+'tau_chain.hdf5') as f:\n",
    "    for n in range(nbins):\n",
    "        alist.append(f[f'chain/bin_{n}/alpha'][:])\n",
    "        blist.append(f[f'chain/bin_{n}/beta'][:])\n",
    "        elist.append(f[f'chain/bin_{n}/eta'][:])"
   ]
  },
  {
   "cell_type": "code",
   "execution_count": null,
   "id": "6e12af61-57f8-4283-ae3c-574ab1118f53",
   "metadata": {
    "tags": []
   },
   "outputs": [],
   "source": [
    "a=[i for i in range(nbins)]\n",
    "bin_pairs=[]\n",
    "for p in itertools.combinations_with_replacement(a, 2): bin_pairs.append(p)\n",
    "veclist = []\n",
    "for i,j in bin_pairs:\n",
    "    for z in range(len(alist[0])):\n",
    "        dxip = [alist[i][z]*alist[i][z]*rho0p + blist[i][z]*blist[j][z]*rho1p + elist[i][z]*elist[j][z]*rho3p + (blist[i][z]*alist[j][z] + blist[j][z]*alist[i][z])*rho2p + (blist[i][z]*elist[j][z] + blist[j][z]*elist[i][z])*rho4p + (elist[i][z]*alist[j][z] +elist[j][z]*alist[i][z])*rho5p for i,j in bin_pairs]\n",
    "        dxim = [alist[i][z]*alist[j][z]*rho0m + blist[i][z]*blist[j][z]*rho1m + elist[i][z]*elist[j][z]*rho3m + (blist[i][z]*alist[j][z] + blist[j][z]*alist[i][z])*rho2m + (blist[i][z]*elist[j][z] + blist[j][z]*elist[i][z])*rho4m + (elist[i][z]*alist[j][z] +elist[j][z]*alist[i][z])*rho5m for i,j in bin_pairs]\n",
    "        dxi = dxip + dxim\n",
    "        veclist.append(np.concatenate(np.c_[dxi]))\n",
    "    covmat = np.cov(np.c_[veclist].T)\n",
    "\n"
   ]
  },
  {
   "cell_type": "code",
   "execution_count": null,
   "id": "afbe29e0-8333-4aec-8614-5de49a7e457b",
   "metadata": {
    "tags": []
   },
   "outputs": [],
   "source": [
    "al = []\n",
    "bl = []\n",
    "el = []\n",
    "with h5py.File(path+'tau_stats.hdf5') as f:\n",
    "    for n in range(nbins):\n",
    "        al.append(np.asarray(f[f'tau_statistics/bestfits_PSF-reserved/bin_{n}/alpha']))\n",
    "        bl.append(np.asarray(f[f'tau_statistics/bestfits_PSF-reserved/bin_{n}/beta']))\n",
    "        el.append(np.asarray(f[f'tau_statistics/bestfits_PSF-reserved/bin_{n}/eta']))"
   ]
  },
  {
   "cell_type": "code",
   "execution_count": null,
   "id": "75e9ca04-6311-4b82-a3c7-3268b45717a0",
   "metadata": {
    "tags": []
   },
   "outputs": [],
   "source": [
    "#Writting final contamination\n",
    "hdu = fits.PrimaryHDU()\n",
    "hdul = fits.HDUList([hdu])\n",
    "\n",
    "dxip_list = []; dxim_list = []; bin1_list = []; bin2_list = []; angbin_list = []; ang_list = []\n",
    "covxip_list = []; covxim_list = []\n",
    "\n",
    "\n",
    "for i,j in bin_pairs:\n",
    "    dxip = al[i]*al[j]*rho0p + bl[i]*bl[j]*rho1p + (bl[i]*al[j] + bl[j]*al[i])*rho2p + el[i]*el[j]*rho3p + (bl[i]*el[j] + bl[j]*el[i])*rho4p + (el[i]*al[j] +el[j]*al[i])*rho5p\n",
    "    #(el[i]*al[j] +el[j]*al[i])*rho4p + (bl[i]*el[j] + bl[j]*el[i])*rho5p \n",
    "    dxim = al[i]*al[j]*rho0m + bl[i]*bl[j]*rho1m + (bl[i]*al[j] + bl[j]*al[i])*rho2m + el[i]*el[j]*rho3m + (bl[i]*el[j] + bl[j]*el[i])*rho4m + (el[i]*al[j] +el[j]*al[i])*rho5m\n",
    "    #(el[i]*al[j] +el[j]*al[i])*rho4m + (bl[i]*el[j] + bl[j]*el[i])*rho5m\n",
    "\n",
    "\n",
    "    ang_list.append(meanr)\n",
    "    bin1_list.append(np.array( [i + 1]*len(meanr)))\n",
    "    bin2_list.append(np.array( [j + 1]*len(meanr)))\n",
    "    angbin_list.append(np.arange(len(meanr)))\n",
    "    dxip_list.append(dxip)\n",
    "    dxim_list.append(dxim)\n",
    "\n",
    "hdul.insert(1, fits.ImageHDU(covmat, name='COVMAT'))\n",
    "bin1array = np.concatenate(bin1_list)\n",
    "bin2array = np.concatenate(bin2_list)\n",
    "angbinarray = np.concatenate(angbin_list)\n",
    "valuearray = np.concatenate(dxip_list)\n",
    "angarray = np.concatenate(ang_list)\n",
    "\n",
    "##Format of the fit file output\n",
    "names=['BIN1', 'BIN2','ANGBIN', 'VALUE', 'ANG']\n",
    "forms = ['i4', 'i4', 'i4',  'f4',  'f4']\n",
    "dtype = dict(names = names, formats=forms)\n",
    "nrows = len(angarray)\n",
    "outdata = np.recarray((nrows, ), dtype=dtype)\n",
    "array_list = [bin1array, bin2array, angbinarray, valuearray, angarray ]\n",
    "for array, name in zip(array_list, names): outdata[name] = array \n",
    "corrhdu = fits.BinTableHDU(outdata, name='delta_xip')\n",
    "hdul.insert(2, corrhdu)\n",
    "valuearray = np.concatenate(dxim_list)\n",
    "array_list = [bin1_array, bin2_array, angbin_array, valuearray, angarray ]\n",
    "for array, name in zip(array_list, names): outdata[name] = array \n",
    "corrhdu = fits.BinTableHDU(outdata, name='delta_xim')\n",
    "hdul.insert(3, corrhdu)\n",
    "hdul.writeto('DES_contaminant.fits', overwrite=True)\n",
    "print('Written!')"
   ]
  },
  {
   "cell_type": "markdown",
   "id": "1975faff-a0da-4226-87ea-29741e6cf2f7",
   "metadata": {
    "tags": []
   },
   "source": [
    "# Contaminate DV"
   ]
  },
  {
   "cell_type": "code",
   "execution_count": 2,
   "id": "2d57603e-c21a-431b-97a8-305b8e081d0a",
   "metadata": {},
   "outputs": [],
   "source": [
    "#the theory data vector files will all be in the cosmosis output folders:\n",
    "# des: '../cosmosis-files/datavec/theory/DESsimulated_theoryDV.fits'\n",
    "# hsc: ''\n",
    "# kids: '../cosmosis_files/datavec/theory/KiDSsimulated_theoryDV.fits'\n",
    "\n",
    "#copy and paste the path you want here:\n",
    "dv= '../cosmosis_files/datavec/theory/KiDSsimulated_theoryDV.fits'\n",
    "\n",
    "#DES and HSC have 4 bins, KiDS has 5.\n",
    "nbins=5"
   ]
  },
  {
   "cell_type": "code",
   "execution_count": null,
   "id": "b2838e7e-1d6d-4994-b4b2-6358fa67fe94",
   "metadata": {},
   "outputs": [],
   "source": []
  },
  {
   "cell_type": "code",
   "execution_count": 4,
   "id": "06a66c46-9223-441a-a351-d462bc0fe090",
   "metadata": {},
   "outputs": [
    {
     "name": "stdout",
     "output_type": "stream",
     "text": [
      "check:  [2.17119600e-06 1.35729726e-06 5.71545143e-07 2.79795815e-07\n",
      " 2.08204443e-07 1.09307051e-07 4.60080523e-08 1.85153258e-08\n",
      " 1.65836097e-08 1.70903659e-06 1.83042280e-06 1.95721113e-06\n",
      " 1.74673302e-06 1.20150061e-06 6.40298617e-07 2.44743063e-07\n",
      " 9.03422942e-08 8.19570054e-08 1.71683585e-06 1.65478802e-06\n",
      " 1.57518332e-06 1.34729672e-06 9.28914941e-07 4.94495774e-07\n",
      " 1.90437797e-07 7.08567822e-08 6.42266003e-08 1.54149614e-06\n",
      " 1.57319859e-06 1.62982685e-06 1.44330538e-06 1.00100753e-06\n",
      " 5.32332143e-07 2.04114275e-07 7.55028796e-08 6.83450059e-08\n",
      " 2.05075064e-06 2.10115497e-06 2.11140826e-06 1.83245552e-06\n",
      " 1.25263992e-06 6.67202456e-07 2.55387887e-07 9.47151634e-08\n",
      " 8.59867968e-08 1.37160732e-06 8.33505452e-07 2.94252817e-07\n",
      " 8.60391458e-08 4.54449780e-08 2.36830560e-08 1.11352886e-08\n",
      " 5.54344400e-09 5.13735936e-09 8.62395938e-07 7.84937393e-07\n",
      " 7.29146934e-07 6.20634024e-07 4.23675280e-07 2.25542413e-07\n",
      " 8.64114809e-08 3.21151349e-08 2.91586285e-08 1.23358887e-06\n",
      " 9.87787977e-07 7.67178808e-07 6.12205729e-07 4.10236810e-07\n",
      " 2.19022236e-07 8.43062209e-08 3.16467836e-08 2.88450951e-08\n",
      " 6.82884907e-07 4.69143405e-07 3.67497959e-07 3.29864743e-07\n",
      " 2.29194297e-07 1.22292074e-07 4.66684149e-08 1.71286607e-08\n",
      " 1.55242321e-08 2.75074321e-07 2.18567261e-07 1.70739815e-07\n",
      " 1.18742174e-07 8.22835872e-08 4.39267760e-08 1.71880526e-08\n",
      " 6.40043138e-09 5.82162076e-09 4.12063137e-07 3.47827464e-07\n",
      " 3.25548135e-07 2.83442160e-07 1.95574563e-07 1.03971445e-07\n",
      " 3.96573287e-08 1.46111538e-08 1.32387808e-08 4.79992355e-07\n",
      " 5.35479151e-07 5.84103531e-07 5.16694288e-07 3.50110871e-07\n",
      " 1.86699443e-07 7.09174928e-08 2.61470016e-08 2.37793197e-08\n",
      " 1.03062187e-06 7.08643225e-07 4.14627283e-07 2.94688665e-07\n",
      " 1.91509346e-07 1.02199004e-07 3.90490386e-08 1.47419468e-08\n",
      " 1.34800520e-08 7.01803958e-07 6.66807917e-07 6.70956058e-07\n",
      " 5.90744595e-07 3.99744738e-07 2.13321207e-07 8.10308399e-08\n",
      " 2.98787412e-08 2.72002054e-08 8.79155925e-07 5.94456540e-07\n",
      " 3.40213407e-07 2.37379292e-07 1.73973708e-07 9.18583898e-08\n",
      " 3.70475940e-08 1.42427250e-08 1.27855189e-08]\n",
      "(135,)\n",
      "(135,)\n",
      "written\n"
     ]
    }
   ],
   "source": [
    "def get_error(covmatrix, lengths, name):\n",
    "    import numpy as np\n",
    "    if name is not None:\n",
    "        if (name=='xip'):\n",
    "            start = 0\n",
    "            end =start + lengths[0]\n",
    "        elif (name=='xim'):\n",
    "            start = lengths[0]\n",
    "            end =start + lengths[1]\n",
    "        elif (name=='gammat'):\n",
    "            start = lengths[0] + lengths[1]\n",
    "            end =start + lengths[2]\n",
    "        elif (name=='wtheta'):\n",
    "            start = lengths[0] + lengths[1]+ lengths[2]\n",
    "            end =start + lengths[3]\n",
    "        return np.diagonal(covmatrix)[start:end]**0.5\n",
    "    else:\n",
    "        print(\"Correlation function not defined\")\n",
    "        return None\n",
    "\n",
    "import fitsio\n",
    "covmatrixfit_ori=fitsio.read(dv,ext=1)\n",
    "xipfit_ori=fitsio.read(dv,ext=2)\n",
    "ximfit_ori=fitsio.read(dv,ext=3)\n",
    "\n",
    "#read contaminant\n",
    "covmatrixfit_cont=fitsio.read('KiDS_contaminant-newbin.fits',ext=1)\n",
    "xipfit_cont=fitsio.read('KiDS_contaminant-newbin.fits',ext=2)\n",
    "ximfit_cont=fitsio.read('KiDS_contaminant-newbin.fits',ext=3)\n",
    "dxipbin = xipfit_cont['VALUE']\n",
    "dximbin = ximfit_cont['VALUE']\n",
    "\n",
    "nsig = 2\n",
    "lengths = [len(xipfit_cont), len(ximfit_cont)]\n",
    "# run both, uncomment which one you need \n",
    "#upper bound:\n",
    "#dxipbin += nsig*get_error(covmatrixfit_cont, lengths, 'xip')\n",
    "#dximbin += nsig*get_error(covmatrixfit_cont, lengths, 'xim')\n",
    "#lower bound:\n",
    "dxipbin -= nsig*get_error(covmatrixfit_cont, lengths, 'xip')\n",
    "dximbin -= nsig*get_error(covmatrixfit_cont, lengths, 'xim')\n",
    "\n",
    "print(\"check: \", get_error(covmatrixfit_cont, lengths, 'xip'))\n",
    "print(np.shape(dxipbin))\n",
    "print(np.shape(dximbin))\n",
    "\n",
    "a=[i for i in range(1,nbins+1)]\n",
    "b=[j for j in range(1,nbins+1)]\n",
    "bin_pairs=[]\n",
    "for p in itertools.product(a, b):\n",
    "    bin_pairs.append(p)\n",
    "for i,j in bin_pairs:\n",
    "    binp = (xipfit_ori['BIN1']==i)&(xipfit_ori['BIN2']==j)\n",
    "    binm = (ximfit_ori['BIN1']==i)&(ximfit_ori['BIN2']==j)\n",
    "    idxbinsp =  list(itertools.compress(range(len(binp)),  binp))\n",
    "    idxbinsm =  list(itertools.compress(range(len(binm)),  binm))\n",
    "    if (len(idxbinsp)!=0): xipfit_ori['VALUE'][binp] -=dxipbin[binp]\n",
    "    if (len(idxbinsm)!=0): ximfit_ori['VALUE'][binm] -=dximbin[binm]\n",
    "\n",
    "hdulist = fits.open(dv)\n",
    "#delete all xip, xim but keep header\n",
    "oldheaders =  [hdulist[2].header, hdulist[3].header]\n",
    "hdulist.pop(index=2);\n",
    "hdulist.pop(index=2);\n",
    "\n",
    "xiphdu = fits.BinTableHDU(xipfit_ori)\n",
    "ximhdu = fits.BinTableHDU(ximfit_ori)\n",
    "hdulist.insert(2, xiphdu)\n",
    "hdulist.insert(3, ximhdu)\n",
    "hdulist[2].header = oldheaders[0]\n",
    "hdulist[3].header = oldheaders[1]\n",
    "hdulist.writeto('../cosmosis_files/datavec/contaminated/KiDS-1000_contaminated_2sig_inf.fits', overwrite=True)\n",
    "print('written')\n"
   ]
  },
  {
   "cell_type": "code",
   "execution_count": null,
   "id": "5c8f439e-545e-4617-9135-a86ebb0a7ee3",
   "metadata": {},
   "outputs": [],
   "source": []
  }
 ],
 "metadata": {
  "kernelspec": {
   "display_name": "ntenv",
   "language": "python",
   "name": "ntenv"
  },
  "language_info": {
   "codemirror_mode": {
    "name": "ipython",
    "version": 3
   },
   "file_extension": ".py",
   "mimetype": "text/x-python",
   "name": "python",
   "nbconvert_exporter": "python",
   "pygments_lexer": "ipython3",
   "version": "3.9.20"
  }
 },
 "nbformat": 4,
 "nbformat_minor": 5
}
